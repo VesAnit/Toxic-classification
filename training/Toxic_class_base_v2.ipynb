{
 "cells": [
  {
   "cell_type": "code",
   "execution_count": null,
   "id": "eb57b6cd",
   "metadata": {},
   "outputs": [],
   "source": [
    "# === Lightning Module для обучения ===\n",
    "import pytorch_lightning as pl\n",
    "from pytorch_lightning.callbacks import EarlyStopping, ModelCheckpoint\n",
    "from pytorch_lightning.loggers import TensorBoardLogger\n",
    "\n",
    "class ToxicClassifierModule(pl.LightningModule):\n",
    "    def __init__(self, model, num_classes=3, lr=1e-3):\n",
    "        super().__init__()\n",
    "        self.model = model\n",
    "        self.num_classes = num_classes\n",
    "        self.lr = lr\n",
    "        self.criterion = nn.CrossEntropyLoss()\n",
    "        \n",
    "        # Для метрик\n",
    "        self.train_preds = []\n",
    "        self.train_labels = []\n",
    "        self.val_preds = []\n",
    "        self.val_labels = []\n",
    "    \n",
    "    def forward(self, x):\n",
    "        return self.model(x)\n",
    "    \n",
    "    def training_step(self, batch, batch_idx):\n",
    "        x, y = batch\n",
    "        logits = self(x)\n",
    "        loss = self.criterion(logits, y)\n",
    "        \n",
    "        # Сохраняем предсказания для метрик\n",
    "        preds = torch.argmax(logits, dim=1)\n",
    "        self.train_preds.extend(preds.cpu().numpy())\n",
    "        self.train_labels.extend(y.cpu().numpy())\n",
    "        \n",
    "        self.log('train_loss', loss, on_step=True, on_epoch=True, prog_bar=True)\n",
    "        return loss\n",
    "    \n",
    "    def validation_step(self, batch, batch_idx):\n",
    "        x, y = batch\n",
    "        logits = self(x)\n",
    "        loss = self.criterion(logits, y)\n",
    "        \n",
    "        # Сохраняем предсказания для метрик\n",
    "        preds = torch.argmax(logits, dim=1)\n",
    "        self.val_preds.extend(preds.cpu().numpy())\n",
    "        self.val_labels.extend(y.cpu().numpy())\n",
    "        \n",
    "        self.log('val_loss', loss, on_step=False, on_epoch=True, prog_bar=True)\n",
    "        return loss\n",
    "    \n",
    "    def on_validation_epoch_end(self):\n",
    "        # Вычисляем метрики\n",
    "        if self.val_preds:\n",
    "            acc = accuracy_score(self.val_labels, self.val_preds)\n",
    "            f1 = f1_score(self.val_labels, self.val_preds, average='macro')\n",
    "            \n",
    "            self.log('val_accuracy', acc, prog_bar=True)\n",
    "            self.log('val_f1', f1, prog_bar=True)\n",
    "            \n",
    "            # Очищаем списки для следующей эпохи\n",
    "            self.val_preds.clear()\n",
    "            self.val_labels.clear()\n",
    "    \n",
    "    def configure_optimizers(self):\n",
    "        return torch.optim.Adam(self.parameters(), lr=self.lr)\n",
    "\n",
    "# === Функция обучения с Lightning ===\n",
    "def train_model_lightning(model, train_loader, test_loader, epochs=5, lr=1e-3):\n",
    "    # Создаем Lightning модуль\n",
    "    lightning_model = ToxicClassifierModule(model, lr=lr)\n",
    "    \n",
    "    # Callbacks\n",
    "    early_stop = EarlyStopping(\n",
    "        monitor='val_accuracy',\n",
    "        patience=3,\n",
    "        mode='max',\n",
    "        verbose=True\n",
    "    )\n",
    "    \n",
    "    checkpoint = ModelCheckpoint(\n",
    "        monitor='val_accuracy',\n",
    "        mode='max',\n",
    "        save_top_k=1,\n",
    "        filename='best-model-{epoch:02d}-{val_accuracy:.2f}'\n",
    "    )\n",
    "    \n",
    "    # Logger\n",
    "    logger = TensorBoardLogger(\"lightning_logs\", name=\"toxic_classifier\")\n",
    "    \n",
    "    # Trainer\n",
    "    trainer = pl.Trainer(\n",
    "        max_epochs=epochs,\n",
    "        callbacks=[early_stop, checkpoint],\n",
    "        logger=logger,\n",
    "        accelerator='auto',\n",
    "        devices=1,\n",
    "        precision=16 if torch.cuda.is_available() else 32\n",
    "    )\n",
    "    \n",
    "    # Обучение\n",
    "    trainer.fit(lightning_model, train_loader, test_loader)\n",
    "    \n",
    "    # Тестирование\n",
    "    test_results = trainer.test(lightning_model, test_loader)\n",
    "    \n",
    "    # Получаем финальные метрики\n",
    "    final_accuracy = test_results[0]['test_val_accuracy']\n",
    "    final_f1 = test_results[0]['test_val_f1']\n",
    "    \n",
    "    print(f\"\\nFinal Results:\")\n",
    "    print(f\"Accuracy: {final_accuracy:.4f}\")\n",
    "    print(f\"Macro-F1: {final_f1:.4f}\")\n",
    "    \n",
    "    return final_accuracy, final_f1, None\n"
   ]
  },
  {
   "cell_type": "code",
   "execution_count": 7,
   "id": "dd7d6e3c-436a-43be-95ce-1bd51e15bf32",
   "metadata": {},
   "outputs": [],
   "source": [
    "import random\n",
    "import numpy as np\n",
    "from sklearn.feature_extraction.text import CountVectorizer, TfidfVectorizer\n",
    "from sklearn.model_selection import train_test_split\n",
    "from sklearn.metrics import accuracy_score, confusion_matrix\n",
    "from sklearn.linear_model import LogisticRegression\n",
    "import fasttext.util\n",
    "from tqdm import tqdm\n",
    "import matplotlib.pyplot as plt\n",
    "from sklearn.metrics import accuracy_score, confusion_matrix, ConfusionMatrixDisplay\n",
    "import torch\n",
    "import torch.nn as nn\n",
    "from torch.utils.data import Dataset, DataLoader\n",
    "import torch.nn.functional as F\n",
    "import pandas as pd\n",
    "import re\n",
    "from sklearn.metrics import f1_score, classification_report"
   ]
  },
  {
   "cell_type": "code",
   "execution_count": null,
   "id": "347ccbac-1cc2-4938-9ca4-13445c36a694",
   "metadata": {},
   "outputs": [],
   "source": []
  },
  {
   "cell_type": "code",
   "execution_count": 8,
   "id": "10e0e5ec-df1a-4bae-97c0-77e04c3d814c",
   "metadata": {},
   "outputs": [
    {
     "data": {
      "text/html": [
       "<div>\n",
       "<style scoped>\n",
       "    .dataframe tbody tr th:only-of-type {\n",
       "        vertical-align: middle;\n",
       "    }\n",
       "\n",
       "    .dataframe tbody tr th {\n",
       "        vertical-align: top;\n",
       "    }\n",
       "\n",
       "    .dataframe thead th {\n",
       "        text-align: right;\n",
       "    }\n",
       "</style>\n",
       "<table border=\"1\" class=\"dataframe\">\n",
       "  <thead>\n",
       "    <tr style=\"text-align: right;\">\n",
       "      <th></th>\n",
       "      <th>comment_text</th>\n",
       "      <th>neutral</th>\n",
       "      <th>toxic_not_threat</th>\n",
       "      <th>toxic_threat</th>\n",
       "    </tr>\n",
       "  </thead>\n",
       "  <tbody>\n",
       "    <tr>\n",
       "      <th>0</th>\n",
       "      <td>Explanation\\nWhy the edits made under my usern...</td>\n",
       "      <td>1</td>\n",
       "      <td>0</td>\n",
       "      <td>0</td>\n",
       "    </tr>\n",
       "    <tr>\n",
       "      <th>1</th>\n",
       "      <td>D'aww! He matches this background colour I'm s...</td>\n",
       "      <td>1</td>\n",
       "      <td>0</td>\n",
       "      <td>0</td>\n",
       "    </tr>\n",
       "    <tr>\n",
       "      <th>2</th>\n",
       "      <td>Hey man, I'm really not trying to edit war. It...</td>\n",
       "      <td>1</td>\n",
       "      <td>0</td>\n",
       "      <td>0</td>\n",
       "    </tr>\n",
       "    <tr>\n",
       "      <th>3</th>\n",
       "      <td>\"\\nMore\\nI can't make any real suggestions on ...</td>\n",
       "      <td>1</td>\n",
       "      <td>0</td>\n",
       "      <td>0</td>\n",
       "    </tr>\n",
       "    <tr>\n",
       "      <th>4</th>\n",
       "      <td>You, sir, are my hero. Any chance you remember...</td>\n",
       "      <td>1</td>\n",
       "      <td>0</td>\n",
       "      <td>0</td>\n",
       "    </tr>\n",
       "    <tr>\n",
       "      <th>...</th>\n",
       "      <td>...</td>\n",
       "      <td>...</td>\n",
       "      <td>...</td>\n",
       "      <td>...</td>\n",
       "    </tr>\n",
       "    <tr>\n",
       "      <th>159566</th>\n",
       "      <td>\":::::And for the second time of asking, when ...</td>\n",
       "      <td>1</td>\n",
       "      <td>0</td>\n",
       "      <td>0</td>\n",
       "    </tr>\n",
       "    <tr>\n",
       "      <th>159567</th>\n",
       "      <td>You should be ashamed of yourself \\n\\nThat is ...</td>\n",
       "      <td>1</td>\n",
       "      <td>0</td>\n",
       "      <td>0</td>\n",
       "    </tr>\n",
       "    <tr>\n",
       "      <th>159568</th>\n",
       "      <td>Spitzer \\n\\nUmm, theres no actual article for ...</td>\n",
       "      <td>1</td>\n",
       "      <td>0</td>\n",
       "      <td>0</td>\n",
       "    </tr>\n",
       "    <tr>\n",
       "      <th>159569</th>\n",
       "      <td>And it looks like it was actually you who put ...</td>\n",
       "      <td>1</td>\n",
       "      <td>0</td>\n",
       "      <td>0</td>\n",
       "    </tr>\n",
       "    <tr>\n",
       "      <th>159570</th>\n",
       "      <td>\"\\nAnd ... I really don't think you understand...</td>\n",
       "      <td>1</td>\n",
       "      <td>0</td>\n",
       "      <td>0</td>\n",
       "    </tr>\n",
       "  </tbody>\n",
       "</table>\n",
       "<p>159571 rows × 4 columns</p>\n",
       "</div>"
      ],
      "text/plain": [
       "                                             comment_text  neutral  \\\n",
       "0       Explanation\\nWhy the edits made under my usern...        1   \n",
       "1       D'aww! He matches this background colour I'm s...        1   \n",
       "2       Hey man, I'm really not trying to edit war. It...        1   \n",
       "3       \"\\nMore\\nI can't make any real suggestions on ...        1   \n",
       "4       You, sir, are my hero. Any chance you remember...        1   \n",
       "...                                                   ...      ...   \n",
       "159566  \":::::And for the second time of asking, when ...        1   \n",
       "159567  You should be ashamed of yourself \\n\\nThat is ...        1   \n",
       "159568  Spitzer \\n\\nUmm, theres no actual article for ...        1   \n",
       "159569  And it looks like it was actually you who put ...        1   \n",
       "159570  \"\\nAnd ... I really don't think you understand...        1   \n",
       "\n",
       "        toxic_not_threat  toxic_threat  \n",
       "0                      0             0  \n",
       "1                      0             0  \n",
       "2                      0             0  \n",
       "3                      0             0  \n",
       "4                      0             0  \n",
       "...                  ...           ...  \n",
       "159566                 0             0  \n",
       "159567                 0             0  \n",
       "159568                 0             0  \n",
       "159569                 0             0  \n",
       "159570                 0             0  \n",
       "\n",
       "[159571 rows x 4 columns]"
      ]
     },
     "execution_count": 8,
     "metadata": {},
     "output_type": "execute_result"
    }
   ],
   "source": [
    "dataset = pd.read_csv('eng_toxic_full_df.csv')\n",
    "columns = ['comment_text', 'neutral', 'toxic_not_threat', 'toxic_threat']\n",
    "dataset = dataset[columns]\n",
    "dataset\n"
   ]
  },
  {
   "cell_type": "markdown",
   "id": "b7fc08d3",
   "metadata": {},
   "source": [
    "**Лингвистический анализ датасета**"
   ]
  },
  {
   "cell_type": "code",
   "execution_count": 6,
   "id": "9bde4009-8bfa-4acf-9bdd-80cc43ecc784",
   "metadata": {},
   "outputs": [
    {
     "name": "stdout",
     "output_type": "stream",
     "text": [
      "=== АНАЛИЗ ДАТАСЕТА ===\n",
      "Всего записей: 159571\n",
      "\n",
      "1. Полнота данных: 100.00%\n",
      "2. Среднее лексическое разнообразие: 0.843\n",
      "3. Средний уровень читаемости: 61.50\n",
      "4. Средняя структурная целостность: 0.963\n",
      "5. Средний уровень отсутствия шума: 0.964\n",
      "6. Средняя лингвистическая корректность: 0.500\n",
      "\n",
      "=== ДОПОЛНИТЕЛЬНАЯ СТАТИСТИКА ===\n",
      "Средняя длина комментария: 394.1 символов\n",
      "Среднее количество слов: 67.3\n",
      "\n",
      "=== ИТОГОВАЯ ОЦЕНКА КАЧЕСТВА ДАННЫХ ===\n",
      "\n",
      "Нормализованные показатели (0-100):\n",
      "  Полнота данных: 100.0\n",
      "  Лексическое разнообразие: 84.3\n",
      "  Уровень читаемости: 61.5\n",
      "  Структурная целостность: 96.3\n",
      "  Отсутствие шума: 96.4\n",
      "  Лингвистическая корректность: 50.0\n",
      "\n",
      " ОБЩАЯ ОЦЕНКА КАЧЕСТВА ДАННЫХ - 78.9 из 100 баллов, что соответствует средний уровню.\n"
     ]
    }
   ],
   "source": [
    "from textstat import flesch_reading_ease\n",
    "import nltk\n",
    "from nltk.tokenize import word_tokenize\n",
    "from nltk.corpus import words\n",
    "\n",
    "\n",
    "# 1. Полнота данных\n",
    "def data_completeness(df):\n",
    "    total_cells = df.size\n",
    "    missing_cells = df.isnull().sum().sum()\n",
    "    completeness = ((total_cells - missing_cells) / total_cells) * 100\n",
    "    return completeness\n",
    "\n",
    "# 2. Лексическое разнообразие\n",
    "def lexical_diversity(text):\n",
    "    if pd.isna(text) or text == '':\n",
    "        return 0\n",
    "    words = text.lower().split()\n",
    "    if len(words) == 0:\n",
    "        return 0\n",
    "    return len(set(words)) / len(words)\n",
    "\n",
    "# 3. Уровень читаемости\n",
    "def readability_score(text):\n",
    "    if pd.isna(text) or text == '':\n",
    "        return 0\n",
    "    try:\n",
    "        return flesch_reading_ease(text)\n",
    "    except:\n",
    "        return 0\n",
    "\n",
    "# 4. Структурная целостность\n",
    "def structural_integrity(text):\n",
    "    if pd.isna(text) or text == '':\n",
    "        return 0\n",
    "    \n",
    "    # Проверяем наличие пунктуации и структуры\n",
    "    has_punctuation = any(char in text for char in ['.', '!', '?'])\n",
    "    has_capitalization = any(char.isupper() for char in text)\n",
    "    word_count = len(text.split())\n",
    "    \n",
    "    score = 0\n",
    "    if has_punctuation: score += 0.3\n",
    "    if has_capitalization: score += 0.3\n",
    "    if word_count >= 3: score += 0.4\n",
    "    \n",
    "    return score\n",
    "\n",
    "# 5. Отсутствие шума\n",
    "def noise_level(text):\n",
    "    if pd.isna(text) or text == '':\n",
    "        return 1  # Пустой текст считается чистым\n",
    "    \n",
    "    # Ищем признаки шума: повторяющиеся символы, капс и т.д.\n",
    "    noise_indicators = 0\n",
    "    \n",
    "    # Повторяющиеся символы (более 3 подряд)\n",
    "    if re.search(r'(.)\\1{3,}', text):\n",
    "        noise_indicators += 1\n",
    "    \n",
    "    # Чрезмерное использование заглавных букв\n",
    "    if len(text) > 10:\n",
    "        upper_ratio = sum(1 for char in text if char.isupper()) / len(text)\n",
    "        if upper_ratio > 0.5:\n",
    "            noise_indicators += 1\n",
    "    \n",
    "    # Слишком короткие или длинные слова\n",
    "    words = text.split()\n",
    "    if words:\n",
    "        unusual_words = sum(1 for word in words if len(word) > 20 or len(word) == 1)\n",
    "        if unusual_words / len(words) > 0.3:\n",
    "            noise_indicators += 1\n",
    "    \n",
    "    return 1 - (noise_indicators / 3)\n",
    "\n",
    "# 6. Лингвистическая корректность (упрощенная версия)\n",
    "def linguistic_correctness(text):\n",
    "    if pd.isna(text) or text == '':\n",
    "        return 0\n",
    "    \n",
    "    try:\n",
    "        # Простая проверка на английские слова\n",
    "        english_words = set(words.words())\n",
    "        text_words = re.findall(r'\\b[a-zA-Z]+\\b', text.lower())\n",
    "        \n",
    "        if not text_words:\n",
    "            return 0\n",
    "        \n",
    "        # Процент слов, которые есть в английском словаре\n",
    "        valid_words = sum(1 for word in text_words if word in english_words)\n",
    "        return valid_words / len(text_words)\n",
    "    except:\n",
    "        return 0.5  # Среднее значение при ошибке\n",
    "\n",
    "# Функция для определения уровня качества\n",
    "def get_quality_level(score):\n",
    "    if score >= 90:\n",
    "        return \"отличный\"\n",
    "    elif score >= 80:\n",
    "        return \"хороший\"\n",
    "    elif score >= 70:\n",
    "        return \"средний\"\n",
    "    elif score >= 60:\n",
    "        return \"удовлетворительный\"\n",
    "    else:\n",
    "        return \"низкий\"\n",
    "\n",
    "# Вычисление метрик для всего датасета\n",
    "print(\"=== АНАЛИЗ ДАТАСЕТА ===\")\n",
    "print(f\"Всего записей: {len(dataset)}\")\n",
    "\n",
    "# Полнота данных\n",
    "completeness = data_completeness(dataset)\n",
    "print(f\"\\n1. Полнота данных: {completeness:.2f}%\")\n",
    "\n",
    "# Лексическое разнообразие (только для текстовых колонок)\n",
    "lex_div = dataset['comment_text'].apply(lexical_diversity).mean()\n",
    "print(f\"2. Среднее лексическое разнообразие: {lex_div:.3f}\")\n",
    "\n",
    "# Уровень читаемости\n",
    "readability = dataset['comment_text'].apply(readability_score).mean()\n",
    "print(f\"3. Средний уровень читаемости: {readability:.2f}\")\n",
    "\n",
    "# Структурная целостность\n",
    "structure = dataset['comment_text'].apply(structural_integrity).mean()\n",
    "print(f\"4. Средняя структурная целостность: {structure:.3f}\")\n",
    "\n",
    "# Отсутствие шума\n",
    "noise_free = dataset['comment_text'].apply(noise_level).mean()\n",
    "print(f\"5. Средний уровень отсутствия шума: {noise_free:.3f}\")\n",
    "\n",
    "# Лингвистическая корректность\n",
    "linguistic = dataset['comment_text'].apply(linguistic_correctness).mean()\n",
    "print(f\"6. Средняя лингвистическая корректность: {linguistic:.3f}\")\n",
    "\n",
    "# Дополнительная статистика\n",
    "print(f\"\\n=== ДОПОЛНИТЕЛЬНАЯ СТАТИСТИКА ===\")\n",
    "print(f\"Средняя длина комментария: {dataset['comment_text'].str.len().mean():.1f} символов\")\n",
    "print(f\"Среднее количество слов: {dataset['comment_text'].str.split().str.len().mean():.1f}\")\n",
    "\n",
    "# Расчет итоговой оценки качества данных\n",
    "print(f\"\\n=== ИТОГОВАЯ ОЦЕНКА КАЧЕСТВА ДАННЫХ ===\")\n",
    "\n",
    "# Нормализуем показатели к шкале 0-100\n",
    "metrics = {\n",
    "    \"Полнота данных\": completeness,  # уже в процентах\n",
    "    \"Лексическое разнообразие\": lex_div * 100,  # из 0-1 в 0-100\n",
    "    \"Уровень читаемости\": min(readability, 100),  # ограничиваем максимум 100\n",
    "    \"Структурная целостность\": structure * 100,  # из 0-1 в 0-100\n",
    "    \"Отсутствие шума\": noise_free * 100,  # из 0-1 в 0-100\n",
    "    \"Лингвистическая корректность\": linguistic * 100  # из 0-1 в 0-100\n",
    "}\n",
    "\n",
    "# Выводим нормализованные показатели\n",
    "print(\"\\nНормализованные показатели (0-100):\")\n",
    "for metric, value in metrics.items():\n",
    "    print(f\"  {metric}: {value:.1f}\")\n",
    "\n",
    "# Взвешенная итоговая оценка (можно настроить веса)\n",
    "weights = {\n",
    "    \"Полнота данных\": 0.15,  # самый важный показатель\n",
    "    \"Лексическое разнообразие\": 0.15,\n",
    "    \"Уровень читаемости\": 0.20,\n",
    "    \"Структурная целостность\": 0.15,\n",
    "    \"Отсутствие шума\": 0.15,\n",
    "    \"Лингвистическая корректность\": 0.20\n",
    "}\n",
    "\n",
    "# Расчет итоговой оценки\n",
    "total_score = sum(metrics[metric] * weight for metric, weight in weights.items())\n",
    "quality_level = get_quality_level(total_score)\n",
    "\n",
    "print(f\"\\n ОБЩАЯ ОЦЕНКА КАЧЕСТВА ДАННЫХ - {total_score:.1f} из 100 баллов, \"\n",
    "      f\"что соответствует {quality_level} уровню.\")\n",
    "\n"
   ]
  },
  {
   "cell_type": "markdown",
   "id": "f08099fb-bab7-41ce-8f91-2a28da84edde",
   "metadata": {},
   "source": [
    "**Посмотрим на распределение классов в датасете**"
   ]
  },
  {
   "cell_type": "code",
   "execution_count": null,
   "id": "0a7e066f-8845-44d6-b518-2c9e503a3226",
   "metadata": {},
   "outputs": [],
   "source": []
  },
  {
   "cell_type": "code",
   "execution_count": 9,
   "id": "77a48097-055b-4057-b43d-a9fb0ce67105",
   "metadata": {},
   "outputs": [
    {
     "name": "stdout",
     "output_type": "stream",
     "text": [
      "neutral\n",
      "1    143346\n",
      "0     16225\n",
      "Name: count, dtype: int64\n",
      "toxic_not_threat\n",
      "0    143824\n",
      "1     15747\n",
      "Name: count, dtype: int64\n",
      "toxic_threat\n",
      "0    159093\n",
      "1       478\n",
      "Name: count, dtype: int64\n"
     ]
    }
   ],
   "source": [
    "x = dataset['comment_text']\n",
    "y = dataset[['neutral', 'toxic_not_threat', 'toxic_threat']]\n",
    "print(y['neutral'].value_counts())\n",
    "print(y['toxic_not_threat'].value_counts())\n",
    "print(y['toxic_threat'].value_counts())"
   ]
  },
  {
   "cell_type": "code",
   "execution_count": 10,
   "id": "ea496559-35a6-466f-b028-0c85a42451db",
   "metadata": {},
   "outputs": [
    {
     "data": {
      "text/html": [
       "<div>\n",
       "<style scoped>\n",
       "    .dataframe tbody tr th:only-of-type {\n",
       "        vertical-align: middle;\n",
       "    }\n",
       "\n",
       "    .dataframe tbody tr th {\n",
       "        vertical-align: top;\n",
       "    }\n",
       "\n",
       "    .dataframe thead th {\n",
       "        text-align: right;\n",
       "    }\n",
       "</style>\n",
       "<table border=\"1\" class=\"dataframe\">\n",
       "  <thead>\n",
       "    <tr style=\"text-align: right;\">\n",
       "      <th></th>\n",
       "      <th>comment_text</th>\n",
       "      <th>neutral</th>\n",
       "      <th>toxic_not_threat</th>\n",
       "      <th>toxic_threat</th>\n",
       "    </tr>\n",
       "  </thead>\n",
       "  <tbody>\n",
       "    <tr>\n",
       "      <th>0</th>\n",
       "      <td>Dear Piotrus,\\n\\nhe's a stupid illiterate from...</td>\n",
       "      <td>0</td>\n",
       "      <td>1</td>\n",
       "      <td>0</td>\n",
       "    </tr>\n",
       "    <tr>\n",
       "      <th>1</th>\n",
       "      <td>I HATE YOU NOOB \\n\\nYOU OLD PILE OF !@#$ING @^...</td>\n",
       "      <td>0</td>\n",
       "      <td>1</td>\n",
       "      <td>0</td>\n",
       "    </tr>\n",
       "    <tr>\n",
       "      <th>2</th>\n",
       "      <td>I definitely must disagree ... in particular, ...</td>\n",
       "      <td>1</td>\n",
       "      <td>0</td>\n",
       "      <td>0</td>\n",
       "    </tr>\n",
       "    <tr>\n",
       "      <th>3</th>\n",
       "      <td>AH HAAHHAHAHAH YAAA BITCH YAAAA!@!!!!!!AH HAAH...</td>\n",
       "      <td>0</td>\n",
       "      <td>1</td>\n",
       "      <td>0</td>\n",
       "    </tr>\n",
       "    <tr>\n",
       "      <th>4</th>\n",
       "      <td>\"\\n\\n Relevance of \"\"Academics fear speaking f...</td>\n",
       "      <td>1</td>\n",
       "      <td>0</td>\n",
       "      <td>0</td>\n",
       "    </tr>\n",
       "    <tr>\n",
       "      <th>...</th>\n",
       "      <td>...</td>\n",
       "      <td>...</td>\n",
       "      <td>...</td>\n",
       "      <td>...</td>\n",
       "    </tr>\n",
       "    <tr>\n",
       "      <th>30473</th>\n",
       "      <td>Who the hell said I was experimenting? You too...</td>\n",
       "      <td>0</td>\n",
       "      <td>1</td>\n",
       "      <td>0</td>\n",
       "    </tr>\n",
       "    <tr>\n",
       "      <th>30474</th>\n",
       "      <td>\", 10 August 2010 (UTC)\\nIndeed, I believe  wi...</td>\n",
       "      <td>1</td>\n",
       "      <td>0</td>\n",
       "      <td>0</td>\n",
       "    </tr>\n",
       "    <tr>\n",
       "      <th>30475</th>\n",
       "      <td>Julian Green \\n\\nhttp://de.wikipedia.org/wiki/...</td>\n",
       "      <td>1</td>\n",
       "      <td>0</td>\n",
       "      <td>0</td>\n",
       "    </tr>\n",
       "    <tr>\n",
       "      <th>30476</th>\n",
       "      <td>Yes \\nAny third party would be able to tell yo...</td>\n",
       "      <td>0</td>\n",
       "      <td>1</td>\n",
       "      <td>0</td>\n",
       "    </tr>\n",
       "    <tr>\n",
       "      <th>30477</th>\n",
       "      <td>Fuck with me again (an invitation) \\n\\nI recko...</td>\n",
       "      <td>0</td>\n",
       "      <td>1</td>\n",
       "      <td>0</td>\n",
       "    </tr>\n",
       "  </tbody>\n",
       "</table>\n",
       "<p>30478 rows × 4 columns</p>\n",
       "</div>"
      ],
      "text/plain": [
       "                                            comment_text  neutral  \\\n",
       "0      Dear Piotrus,\\n\\nhe's a stupid illiterate from...        0   \n",
       "1      I HATE YOU NOOB \\n\\nYOU OLD PILE OF !@#$ING @^...        0   \n",
       "2      I definitely must disagree ... in particular, ...        1   \n",
       "3      AH HAAHHAHAHAH YAAA BITCH YAAAA!@!!!!!!AH HAAH...        0   \n",
       "4      \"\\n\\n Relevance of \"\"Academics fear speaking f...        1   \n",
       "...                                                  ...      ...   \n",
       "30473  Who the hell said I was experimenting? You too...        0   \n",
       "30474  \", 10 August 2010 (UTC)\\nIndeed, I believe  wi...        1   \n",
       "30475  Julian Green \\n\\nhttp://de.wikipedia.org/wiki/...        1   \n",
       "30476  Yes \\nAny third party would be able to tell yo...        0   \n",
       "30477  Fuck with me again (an invitation) \\n\\nI recko...        0   \n",
       "\n",
       "       toxic_not_threat  toxic_threat  \n",
       "0                     1             0  \n",
       "1                     1             0  \n",
       "2                     0             0  \n",
       "3                     1             0  \n",
       "4                     0             0  \n",
       "...                 ...           ...  \n",
       "30473                 1             0  \n",
       "30474                 0             0  \n",
       "30475                 0             0  \n",
       "30476                 1             0  \n",
       "30477                 1             0  \n",
       "\n",
       "[30478 rows x 4 columns]"
      ]
     },
     "execution_count": 10,
     "metadata": {},
     "output_type": "execute_result"
    }
   ],
   "source": [
    "neutral_df = dataset[dataset['neutral'] == 1].sample(n=15000)\n",
    "toxic_not_threat_df = dataset[dataset['toxic_not_threat'] == 1].sample(n=15000)\n",
    "toxic_threat_df = dataset[dataset['toxic_threat'] == 1]\n",
    "balanced_dataset = pd.concat([neutral_df, toxic_not_threat_df, toxic_threat_df], axis=0)\n",
    "balanced_dataset = balanced_dataset.sample(frac=1, random_state=42).reset_index(drop=True)\n",
    "balanced_dataset"
   ]
  },
  {
   "cell_type": "code",
   "execution_count": null,
   "id": "59eb3f6d-4747-484c-aed7-c6815492dbd3",
   "metadata": {},
   "outputs": [],
   "source": []
  },
  {
   "cell_type": "code",
   "execution_count": 11,
   "id": "7fe926d3-8ccc-4c34-80c6-44ea6595527c",
   "metadata": {},
   "outputs": [
    {
     "name": "stdout",
     "output_type": "stream",
     "text": [
      "neutral\n",
      "0    15478\n",
      "1    15000\n",
      "Name: count, dtype: int64\n",
      "toxic_not_threat\n",
      "0    15478\n",
      "1    15000\n",
      "Name: count, dtype: int64\n",
      "toxic_threat\n",
      "0    30000\n",
      "1      478\n",
      "Name: count, dtype: int64\n"
     ]
    }
   ],
   "source": [
    "x = balanced_dataset['comment_text']\n",
    "y = balanced_dataset[['neutral', 'toxic_not_threat', 'toxic_threat']]\n",
    "print(y['neutral'].value_counts())\n",
    "print(y['toxic_not_threat'].value_counts())\n",
    "print(y['toxic_threat'].value_counts())"
   ]
  },
  {
   "cell_type": "code",
   "execution_count": null,
   "id": "ffc2ff15-990f-4e81-8005-4f09ab6abbfe",
   "metadata": {},
   "outputs": [],
   "source": []
  },
  {
   "cell_type": "markdown",
   "id": "19ed208d-96ca-4564-8f36-c03acaf7bc86",
   "metadata": {},
   "source": [
    "**Датасет несбалансированный, только 478 примеров на 3 класс. В то же время формирование датасета объемом в 1500-2000 демонстрирует менее удовлетворительные метрики качества, чем несбалансированный датасет, но большего объема**"
   ]
  },
  {
   "cell_type": "code",
   "execution_count": null,
   "id": "b13ccb4a-0f4b-4559-b589-1de9c8e04c4d",
   "metadata": {},
   "outputs": [],
   "source": []
  },
  {
   "cell_type": "code",
   "execution_count": 12,
   "id": "6b0f09cb-85a7-4536-8a9b-29326ac97290",
   "metadata": {},
   "outputs": [
    {
     "name": "stdout",
     "output_type": "stream",
     "text": [
      "labels shape: (30478,)\n",
      "Пример меток: [1 1 0 1 0]\n"
     ]
    }
   ],
   "source": [
    "y = y.idxmax(axis=1).map({'neutral': 0, 'toxic_not_threat': 1, 'toxic_threat': 2}).values\n",
    "print(\"labels shape:\", y.shape)\n",
    "print(\"Пример меток:\", y[:5])"
   ]
  },
  {
   "cell_type": "code",
   "execution_count": null,
   "id": "1b66b5d7-105b-4a58-9e52-42f29539d24b",
   "metadata": {},
   "outputs": [],
   "source": []
  },
  {
   "cell_type": "code",
   "execution_count": null,
   "id": "1e9b7f95-619d-44e9-a8e6-c5841d03b238",
   "metadata": {},
   "outputs": [],
   "source": []
  },
  {
   "cell_type": "code",
   "execution_count": 13,
   "id": "250c00dc-9e5c-4dfc-9126-f0acf9ec1afd",
   "metadata": {},
   "outputs": [],
   "source": [
    "x_train, x_test, y_train, y_test = train_test_split(x, y, test_size=0.2, shuffle=True)\n"
   ]
  },
  {
   "cell_type": "code",
   "execution_count": 14,
   "id": "8deebfea-4426-4f6d-92ff-e13cb9f69f97",
   "metadata": {},
   "outputs": [
    {
     "data": {
      "text/plain": [
       "(6096,)"
      ]
     },
     "execution_count": 14,
     "metadata": {},
     "output_type": "execute_result"
    }
   ],
   "source": [
    "y_test.shape"
   ]
  },
  {
   "cell_type": "code",
   "execution_count": 15,
   "id": "a8ca569e-cf58-4bfc-bd92-5304bdafcbf2",
   "metadata": {},
   "outputs": [
    {
     "data": {
      "text/plain": [
       "(6096,)"
      ]
     },
     "execution_count": 15,
     "metadata": {},
     "output_type": "execute_result"
    }
   ],
   "source": [
    "x_test.shape"
   ]
  },
  {
   "cell_type": "code",
   "execution_count": null,
   "id": "ee942705-71d7-41a7-8113-5068fbec0c40",
   "metadata": {},
   "outputs": [],
   "source": []
  },
  {
   "cell_type": "markdown",
   "id": "90fc5b7c-6eb3-47f8-89ef-04ca06ce134b",
   "metadata": {},
   "source": [
    "**Здесь мы вынуждены разбивать на чанки без из подачи в итеративную функцию, т.к. любой итератор зависает. Таким образом, будем трансформировать каждый чанк в эбеддинги через отдельный запуск**"
   ]
  },
  {
   "cell_type": "code",
   "execution_count": 16,
   "id": "316082e0-0445-4bf7-aa82-dc2348c523d9",
   "metadata": {},
   "outputs": [
    {
     "data": {
      "text/plain": [
       "11762         wtf? this aint me! who the fuck used ma ip?!\n",
       "609      Lots of Mormons in the edit crowd, I think, th...\n",
       "22758    \"\\n\\n Uh I hate to break it to you but Jusdafa...\n",
       "17486                             Bongwarrior is a faggot.\n",
       "2963     \"\\n\\n My Statement \\n\\nOh wow, I take a little...\n",
       "                               ...                        \n",
       "18419    LMAO so you reported me ahahahahahahahahahahah...\n",
       "602      Sir \\n\\nThank for your reply. But I thought I ...\n",
       "4403      FUCK YOU DIRTY INDIAN... \\n\\nSHYT HEAD INDIAN!!!\n",
       "3206             Oh... I.. yeah i feel like an ass now....\n",
       "22506    \"\\n I would appreciate that, although I can't ...\n",
       "Name: comment_text, Length: 24382, dtype: object"
      ]
     },
     "execution_count": 16,
     "metadata": {},
     "output_type": "execute_result"
    }
   ],
   "source": [
    "x_train"
   ]
  },
  {
   "cell_type": "markdown",
   "id": "fd597d72-25c5-4f97-8c85-ec07d6c605a5",
   "metadata": {},
   "source": [
    "<!-- # === FastText ===\n",
    "print(\"\\n=== FastText ===\")\n",
    "fasttext.util.download_model('en', if_exists='ignore')\n",
    "ft = fasttext.load_model('cc.en.300.bin')\n",
    "\n",
    "def get_text_embedding(text, model, max_len=500):\n",
    "    words = text.strip().split()[:max_len]  # Обрезаем до max_len слов\n",
    "    word_vectors = [model.get_word_vector(w) for w in words if w]\n",
    "    if len(word_vectors) == 0:\n",
    "        return np.zeros((max_len, model.get_dimension()))  # [max_len, 300]\n",
    "    word_vectors = np.array(word_vectors)  # [len(words), 300]\n",
    "    pad_len = max_len - len(word_vectors)\n",
    "    word_vectors = np.pad(word_vectors, ((0, pad_len), (0, 0)), mode='constant')  # [max_len, 300]\n",
    "    return word_vectors\n",
    "\n",
    "X_train_ft = np.array([get_text_embedding(s, ft) for s in x_train])  # [N, max_len, 300] -->\n"
   ]
  },
  {
   "cell_type": "code",
   "execution_count": 17,
   "id": "d85097b1-087d-4d01-9ca5-c0ad09e5f06a",
   "metadata": {},
   "outputs": [],
   "source": [
    "x_1 = x_train[:2000]\n",
    "x_2 = x_train[2000:4000]\n",
    "x_3 = x_train[4000:6000]\n",
    "x_4 = x_train[6000:8000]\n",
    "x_5 = x_train[8000:10000]\n",
    "x_6 = x_train[10000:12000]\n",
    "x_7 = x_train[12000:14000]\n",
    "x_8 = x_train[14000:16000]\n",
    "x_9 = x_train[16000:18000]\n",
    "x_10 = x_train[18000:20000]\n",
    "x_11 = x_train[20000:22000]\n",
    "x_12 = x_train[22000:24000]"
   ]
  },
  {
   "cell_type": "markdown",
   "id": "018ed5bf-b195-4873-8882-2476b16eb276",
   "metadata": {},
   "source": []
  },
  {
   "cell_type": "markdown",
   "id": "ad22b210-4d1a-4748-8bf1-f8df68975232",
   "metadata": {},
   "source": [
    "**Далее проводим предобработку датасета и преобразование чанков в эмбеддинги**"
   ]
  },
  {
   "cell_type": "code",
   "execution_count": null,
   "id": "b81c2e74-18de-4cd4-915d-86b1084e4950",
   "metadata": {},
   "outputs": [],
   "source": []
  },
  {
   "cell_type": "code",
   "execution_count": 18,
   "id": "c09c0605-9f5b-4a5f-8268-2dd1088c35aa",
   "metadata": {},
   "outputs": [
    {
     "name": "stdout",
     "output_type": "stream",
     "text": [
      "\n",
      "=== FastText ===\n"
     ]
    }
   ],
   "source": [
    "# === FastText ===\n",
    "print(\"\\n=== FastText ===\")\n",
    "fasttext.util.download_model('en', if_exists='ignore')\n",
    "ft = fasttext.load_model('cc.en.300.bin')\n",
    "\n",
    "def get_text_embedding(text, model, max_len=50):\n",
    "    text = text.lower()\n",
    "    text = re.sub(r\"[^а-яёa-z0-9\\s]\", \" \", text)\n",
    "    text = re.sub(r\"\\s+\", \" \", text).strip()\n",
    "    words = text.strip().split()[:max_len]  # Обрезаем до max_len слов\n",
    "    word_vectors = [model.get_word_vector(w) for w in words if w]\n",
    "    if len(word_vectors) == 0:\n",
    "        return np.zeros((max_len, model.get_dimension()))  # [max_len, 300]\n",
    "    word_vectors = np.array(word_vectors)  # [len(words), 300]\n",
    "    pad_len = max_len - len(word_vectors)\n",
    "    word_vectors = np.pad(word_vectors, ((0, pad_len), (0, 0)), mode='constant')  # [max_len, 300]\n",
    "    return word_vectors"
   ]
  },
  {
   "cell_type": "code",
   "execution_count": 19,
   "id": "3189e8fb-28df-4d06-81f3-9b54e77674b4",
   "metadata": {
    "scrolled": true
   },
   "outputs": [],
   "source": [
    "X_train_ft_1 = np.array([get_text_embedding(s, ft) for s in x_1])"
   ]
  },
  {
   "cell_type": "code",
   "execution_count": 20,
   "id": "f11d9838-2950-4d9b-bdc8-c07d99f308a6",
   "metadata": {},
   "outputs": [],
   "source": [
    "X_train_ft_2 = np.array([get_text_embedding(s, ft) for s in x_2])"
   ]
  },
  {
   "cell_type": "code",
   "execution_count": 21,
   "id": "c412a28f-30cf-4143-8b40-34d559d7b341",
   "metadata": {},
   "outputs": [],
   "source": [
    "X_train_ft_3 = np.array([get_text_embedding(s, ft) for s in x_3])"
   ]
  },
  {
   "cell_type": "code",
   "execution_count": 22,
   "id": "03f722b1-4937-47e9-8332-b0178efafcda",
   "metadata": {},
   "outputs": [],
   "source": [
    "X_train_ft_4 = np.array([get_text_embedding(s, ft) for s in x_4])"
   ]
  },
  {
   "cell_type": "code",
   "execution_count": 23,
   "id": "cb89b769-98f8-498a-8f13-f1716b074424",
   "metadata": {},
   "outputs": [],
   "source": [
    "X_train_ft_5 = np.array([get_text_embedding(s, ft) for s in x_5])"
   ]
  },
  {
   "cell_type": "code",
   "execution_count": 24,
   "id": "2df5a21c-1e28-4d68-bc54-266b29992aae",
   "metadata": {},
   "outputs": [],
   "source": [
    "X_train_ft_6 = np.array([get_text_embedding(s, ft) for s in x_6])"
   ]
  },
  {
   "cell_type": "code",
   "execution_count": 25,
   "id": "74b03cd2-e2d2-4d28-955b-e94208642175",
   "metadata": {},
   "outputs": [],
   "source": [
    "X_train_ft_7 = np.array([get_text_embedding(s, ft) for s in x_7])"
   ]
  },
  {
   "cell_type": "code",
   "execution_count": 26,
   "id": "59a64732-b8f1-4a9f-b03e-86f8890e9813",
   "metadata": {},
   "outputs": [],
   "source": [
    "X_train_ft_8 = np.array([get_text_embedding(s, ft) for s in x_8])"
   ]
  },
  {
   "cell_type": "code",
   "execution_count": 27,
   "id": "41e49f28-e8fb-454b-a7d9-4f2b33295044",
   "metadata": {},
   "outputs": [],
   "source": [
    "X_train_ft_9 = np.array([get_text_embedding(s, ft) for s in x_9])"
   ]
  },
  {
   "cell_type": "code",
   "execution_count": 28,
   "id": "c89ba643-7d1c-4439-ab32-e1cb2772ca86",
   "metadata": {},
   "outputs": [],
   "source": [
    "X_train_ft_10 = np.array([get_text_embedding(s, ft) for s in x_10])"
   ]
  },
  {
   "cell_type": "code",
   "execution_count": 29,
   "id": "9720ee2b-8c58-4b0e-b1f0-7202909624be",
   "metadata": {},
   "outputs": [],
   "source": [
    "X_train_ft_11 = np.array([get_text_embedding(s, ft) for s in x_11])"
   ]
  },
  {
   "cell_type": "code",
   "execution_count": 30,
   "id": "7c2a9b93-90c8-40e5-a5b8-93d6d2da9dba",
   "metadata": {},
   "outputs": [],
   "source": [
    "X_train_ft_12 = np.array([get_text_embedding(s, ft) for s in x_12])"
   ]
  },
  {
   "cell_type": "code",
   "execution_count": 31,
   "id": "9bf74152-97ea-40bd-8b6b-f6393d123502",
   "metadata": {},
   "outputs": [
    {
     "name": "stdout",
     "output_type": "stream",
     "text": [
      "[(50, 300), (50, 300), (50, 300), (50, 300), (50, 300)]\n"
     ]
    }
   ],
   "source": [
    "print([get_text_embedding(s, ft).shape for s in x_12[:5]])\n"
   ]
  },
  {
   "cell_type": "code",
   "execution_count": null,
   "id": "1f4c89ec-49fd-4baa-a06a-ef037b03a393",
   "metadata": {},
   "outputs": [],
   "source": []
  },
  {
   "cell_type": "code",
   "execution_count": 32,
   "id": "16b1ad5a-e1f8-47f9-a91a-e10d487f65e8",
   "metadata": {},
   "outputs": [],
   "source": [
    "X_train_ft = np.concatenate(\n",
    "    [X_train_ft_1, X_train_ft_2, X_train_ft_3, X_train_ft_4, \n",
    "     X_train_ft_5, X_train_ft_6, X_train_ft_7, X_train_ft_8, \n",
    "     X_train_ft_9, X_train_ft_10, X_train_ft_11, X_train_ft_12],\n",
    "    axis=0\n",
    ")"
   ]
  },
  {
   "cell_type": "code",
   "execution_count": 33,
   "id": "f837552d-3ef9-4773-ada9-cea21751ff88",
   "metadata": {
    "scrolled": true
   },
   "outputs": [
    {
     "data": {
      "text/plain": [
       "array([[[ 6.4190134e-02, -4.9647424e-02,  1.6147101e-01, ...,\n",
       "          1.1307117e-01, -1.4400050e-02, -1.2397154e-01],\n",
       "        [-2.2414971e-02,  9.3033433e-02,  5.8219831e-02, ...,\n",
       "          2.1794516e-01, -3.0214470e-02,  2.8005324e-02],\n",
       "        [ 4.2054784e-03, -7.9664446e-02,  1.8153455e-02, ...,\n",
       "         -9.1123566e-02, -1.1427512e-01, -1.8130140e-01],\n",
       "        ...,\n",
       "        [ 0.0000000e+00,  0.0000000e+00,  0.0000000e+00, ...,\n",
       "          0.0000000e+00,  0.0000000e+00,  0.0000000e+00],\n",
       "        [ 0.0000000e+00,  0.0000000e+00,  0.0000000e+00, ...,\n",
       "          0.0000000e+00,  0.0000000e+00,  0.0000000e+00],\n",
       "        [ 0.0000000e+00,  0.0000000e+00,  0.0000000e+00, ...,\n",
       "          0.0000000e+00,  0.0000000e+00,  0.0000000e+00]],\n",
       "\n",
       "       [[-6.2790564e-03, -6.0419291e-02, -1.6817195e-02, ...,\n",
       "          2.0341855e-01, -1.2589312e-01, -1.6867779e-02],\n",
       "        [-7.3038238e-05, -1.8774074e-01, -7.1051158e-02, ...,\n",
       "          2.8464055e-02, -1.3843335e-01,  1.8053975e-02],\n",
       "        [-4.8637979e-02, -5.4646414e-02, -5.4061003e-02, ...,\n",
       "          1.0548809e-01,  2.4704561e-02,  5.1866766e-02],\n",
       "        ...,\n",
       "        [ 0.0000000e+00,  0.0000000e+00,  0.0000000e+00, ...,\n",
       "          0.0000000e+00,  0.0000000e+00,  0.0000000e+00],\n",
       "        [ 0.0000000e+00,  0.0000000e+00,  0.0000000e+00, ...,\n",
       "          0.0000000e+00,  0.0000000e+00,  0.0000000e+00],\n",
       "        [ 0.0000000e+00,  0.0000000e+00,  0.0000000e+00, ...,\n",
       "          0.0000000e+00,  0.0000000e+00,  0.0000000e+00]],\n",
       "\n",
       "       [[ 1.8388058e-01, -4.1036189e-01, -2.1847960e-01, ...,\n",
       "          4.9999952e-01,  2.6602507e-01, -3.8411927e-01],\n",
       "        [ 3.0313858e-03, -1.4369249e-01, -1.6985153e-01, ...,\n",
       "          5.6368893e-01, -4.4560635e-01, -2.6057786e-01],\n",
       "        [-2.2889819e-02,  5.0774924e-02,  8.7793902e-02, ...,\n",
       "          9.1075357e-03, -6.2113695e-02, -3.4630053e-02],\n",
       "        ...,\n",
       "        [-1.7235346e-02,  7.1306579e-02,  2.9114103e-02, ...,\n",
       "          1.6726431e-01, -7.7245489e-02,  3.3454495e-03],\n",
       "        [ 4.5358200e-02,  4.5763627e-02,  2.4728283e-01, ...,\n",
       "          5.0758131e-02, -1.4052751e-02, -1.9454834e-01],\n",
       "        [ 0.0000000e+00,  0.0000000e+00,  0.0000000e+00, ...,\n",
       "          0.0000000e+00,  0.0000000e+00,  0.0000000e+00]],\n",
       "\n",
       "       ...,\n",
       "\n",
       "       [[-4.8286304e-02, -2.0859506e-02, -2.1146186e-02, ...,\n",
       "          2.3376897e-01,  1.8913809e-02,  9.1473557e-02],\n",
       "        [-5.1744193e-02,  7.3963955e-02, -1.3056880e-02, ...,\n",
       "          2.3702517e-01,  4.4751912e-04, -4.1930666e-03],\n",
       "        [-3.8964987e-02, -1.6336817e-01,  4.7059052e-02, ...,\n",
       "          1.5173161e-01,  2.7099153e-02, -6.4182878e-02],\n",
       "        ...,\n",
       "        [ 0.0000000e+00,  0.0000000e+00,  0.0000000e+00, ...,\n",
       "          0.0000000e+00,  0.0000000e+00,  0.0000000e+00],\n",
       "        [ 0.0000000e+00,  0.0000000e+00,  0.0000000e+00, ...,\n",
       "          0.0000000e+00,  0.0000000e+00,  0.0000000e+00],\n",
       "        [ 0.0000000e+00,  0.0000000e+00,  0.0000000e+00, ...,\n",
       "          0.0000000e+00,  0.0000000e+00,  0.0000000e+00]],\n",
       "\n",
       "       [[-5.1744193e-02,  7.3963955e-02, -1.3056880e-02, ...,\n",
       "          2.3702517e-01,  4.4751912e-04, -4.1930666e-03],\n",
       "        [ 9.3644653e-03, -5.5175447e-03,  2.7733159e-03, ...,\n",
       "          3.2749187e-02, -4.5924652e-03, -2.6682436e-02],\n",
       "        [-9.7760521e-02, -2.0827363e-01, -1.0372388e-01, ...,\n",
       "         -2.2816789e-01, -2.2443864e-01,  8.8974647e-02],\n",
       "        ...,\n",
       "        [ 0.0000000e+00,  0.0000000e+00,  0.0000000e+00, ...,\n",
       "          0.0000000e+00,  0.0000000e+00,  0.0000000e+00],\n",
       "        [ 0.0000000e+00,  0.0000000e+00,  0.0000000e+00, ...,\n",
       "          0.0000000e+00,  0.0000000e+00,  0.0000000e+00],\n",
       "        [ 0.0000000e+00,  0.0000000e+00,  0.0000000e+00, ...,\n",
       "          0.0000000e+00,  0.0000000e+00,  0.0000000e+00]],\n",
       "\n",
       "       [[ 1.0789153e-01, -4.4123162e-02,  1.3406183e-01, ...,\n",
       "          3.6439934e-01, -6.3567981e-02, -1.6363572e-01],\n",
       "        [ 3.6150496e-02, -5.9087444e-02, -1.3174603e-02, ...,\n",
       "          1.0259237e-01, -3.9265033e-02,  5.6717720e-02],\n",
       "        [ 3.0313858e-03, -1.4369249e-01, -1.6985153e-01, ...,\n",
       "          5.6368893e-01, -4.4560635e-01, -2.6057786e-01],\n",
       "        ...,\n",
       "        [ 0.0000000e+00,  0.0000000e+00,  0.0000000e+00, ...,\n",
       "          0.0000000e+00,  0.0000000e+00,  0.0000000e+00],\n",
       "        [ 0.0000000e+00,  0.0000000e+00,  0.0000000e+00, ...,\n",
       "          0.0000000e+00,  0.0000000e+00,  0.0000000e+00],\n",
       "        [ 0.0000000e+00,  0.0000000e+00,  0.0000000e+00, ...,\n",
       "          0.0000000e+00,  0.0000000e+00,  0.0000000e+00]]], dtype=float32)"
      ]
     },
     "execution_count": 33,
     "metadata": {},
     "output_type": "execute_result"
    }
   ],
   "source": [
    "X_train_ft"
   ]
  },
  {
   "cell_type": "code",
   "execution_count": null,
   "id": "21d0b110-cd28-41f5-b9ac-293bf8a0f0d1",
   "metadata": {},
   "outputs": [],
   "source": []
  },
  {
   "cell_type": "code",
   "execution_count": 34,
   "id": "171a7a7b-7c39-4e03-9d4f-42b21ba789c1",
   "metadata": {
    "scrolled": true
   },
   "outputs": [],
   "source": [
    "X_test_ft = np.array([get_text_embedding(s, ft) for s in x_test])    # [M, 500, 300]\n"
   ]
  },
  {
   "cell_type": "code",
   "execution_count": 35,
   "id": "2f7825c6-3499-457c-ae71-91721a0c03cf",
   "metadata": {},
   "outputs": [
    {
     "name": "stdout",
     "output_type": "stream",
     "text": [
      "[[ 0.06419013 -0.04964742  0.16147101  0.12415031 -0.06653842 -0.27386272\n",
      "  -0.03499464 -0.14051698  0.04458542  0.12559581]\n",
      " [-0.02241497  0.09303343  0.05821983  0.15150629 -0.00908858 -0.01511977\n",
      "  -0.04232655 -0.03560359  0.00720556  0.01466874]\n",
      " [ 0.00420548 -0.07966445  0.01815346  0.14050502 -0.23633605 -0.04419517\n",
      "   0.16264741  0.02035538 -0.04073482  0.0323429 ]\n",
      " [ 0.18209949 -0.41729486  0.17974643 -0.07757198 -0.05542169 -0.10498718\n",
      "  -0.22686273 -0.01686647 -0.04318026  0.03244121]\n",
      " [-0.0482863  -0.02085951 -0.02114619  0.19326274 -0.16013867 -0.07034816\n",
      "   0.05852782  0.00307909 -0.00312298  0.0072584 ]\n",
      " [-0.05174419  0.07396396 -0.01305688  0.04472656 -0.03432037  0.02121688\n",
      "   0.00691149 -0.01632785 -0.01807486 -0.00199652]\n",
      " [ 0.11961754 -0.17471974  0.11348052  0.13196352 -0.12616706 -0.24028414\n",
      "  -0.07035875 -0.01981846  0.06133699  0.08418962]\n",
      " [-0.00999342  0.07801163 -0.02827924  0.07844038 -0.00318213  0.03527929\n",
      "  -0.0420055  -0.00827155  0.11588334  0.00607674]\n",
      " [ 0.29478723 -0.40470833 -0.029028    0.00937818 -0.01290515  0.01386229\n",
      "  -0.33765697  0.00895743 -0.07592593  0.05910032]\n",
      " [-0.35764188 -0.3076456  -0.27249172  0.1345279  -0.25107366  0.65774906\n",
      "  -0.6062869   0.09826011  0.30206642  0.35405418]]\n"
     ]
    }
   ],
   "source": [
    "print(X_train_ft[0][:10, :10])"
   ]
  },
  {
   "cell_type": "code",
   "execution_count": null,
   "id": "2aa66518-216b-4052-882c-c10205af93b4",
   "metadata": {},
   "outputs": [],
   "source": []
  },
  {
   "cell_type": "code",
   "execution_count": 36,
   "id": "516573fe-7b02-413e-9da9-41222a213b50",
   "metadata": {},
   "outputs": [],
   "source": [
    "# === TextDataset ===\n",
    "class TextDataset(Dataset):\n",
    "    def __init__(self, X, y):\n",
    "        self.X = torch.tensor(X, dtype=torch.float32)  # [N, max_len, 300]\n",
    "        self.y = torch.tensor(y, dtype=torch.long)\n",
    "    def __len__(self):\n",
    "        return len(self.X)\n",
    "    def __getitem__(self, idx):\n",
    "        return self.X[idx], self.y[idx]\n",
    "\n",
    "batch_size = 32\n",
    "train_dataset = TextDataset(X_train_ft, y_train)"
   ]
  },
  {
   "cell_type": "code",
   "execution_count": 37,
   "id": "edd0ed54-da1d-4cc4-91a5-e36727800eec",
   "metadata": {},
   "outputs": [],
   "source": [
    "test_dataset = TextDataset(X_test_ft, y_test)"
   ]
  },
  {
   "cell_type": "code",
   "execution_count": 38,
   "id": "3ebf2b61-1be2-48b6-931d-a3b71ab61469",
   "metadata": {},
   "outputs": [],
   "source": [
    "train_loader = DataLoader(train_dataset, batch_size=batch_size, shuffle=True)\n"
   ]
  },
  {
   "cell_type": "code",
   "execution_count": 39,
   "id": "6faae3b7-c51c-46d4-be38-e0ea9b111e5f",
   "metadata": {},
   "outputs": [],
   "source": [
    "test_loader = DataLoader(test_dataset, batch_size=batch_size)"
   ]
  },
  {
   "cell_type": "code",
   "execution_count": null,
   "id": "e0f68b71-3941-4bef-9f22-08a70ffe97f1",
   "metadata": {},
   "outputs": [],
   "source": []
  },
  {
   "cell_type": "code",
   "execution_count": null,
   "id": "e700bc03-34e8-41c4-85e4-ddf235cf6500",
   "metadata": {},
   "outputs": [],
   "source": []
  },
  {
   "cell_type": "markdown",
   "id": "0a27c17c-73c5-4664-b8b3-5803f5e2b1df",
   "metadata": {},
   "source": [
    "**Возьмем CNN модель. Будем использовать два вида пуллинга, которые потенциально извлекут значимые признаки из контекста на разных уровнях. Заметим здесь, что такая связка с пуллингами улучшает базовую свертку в части accuracy почти на 30%. Это объясняется высокой значимостью контекста для данного типа задач**"
   ]
  },
  {
   "cell_type": "code",
   "execution_count": 40,
   "id": "8840766d-ee4c-42ec-bea7-c0bd6b58b822",
   "metadata": {},
   "outputs": [],
   "source": [
    "# === TextCNN_FT ===\n",
    "class TextCNN_FT(nn.Module):\n",
    "    def __init__(self, embed_dim=300, num_classes=3, kernel_sizes=[3,4,5], num_filters=100, dropout=0.5):\n",
    "        super().__init__()\n",
    "        self.convs = nn.ModuleList([nn.Conv1d(embed_dim, num_filters, k) for k in kernel_sizes])\n",
    "        self.dropout = nn.Dropout(dropout)\n",
    "        self.bn = nn.BatchNorm1d(num_filters * len(kernel_sizes) * 2)  # *2 для max+avg pooling\n",
    "        self.fc = nn.Linear(num_filters * len(kernel_sizes) * 2, num_classes)\n",
    "\n",
    "    def forward(self, x):\n",
    "        # x: [B, L, E]\n",
    "        x = x.permute(0, 2, 1)  # [B, E, L]\n",
    "        convs = [F.relu(conv(x)) for conv in self.convs]  # [B, F, L-k+1]\n",
    "        pools_max = [F.max_pool1d(c, c.size(2)).squeeze(2) for c in convs]  # [B, F]\n",
    "        pools_avg = [F.avg_pool1d(c, c.size(2)).squeeze(2) for c in convs]  # [B, F]\n",
    "        pools = [torch.cat([pm, pa], dim=1) for pm, pa in zip(pools_max, pools_avg)]  # [B, 2F]\n",
    "        x = torch.cat(pools, dim=1)  # [B, 2F * len(kernel_sizes)]\n",
    "        x = self.dropout(self.bn(x))\n",
    "        return self.fc(x)"
   ]
  },
  {
   "cell_type": "code",
   "execution_count": 41,
   "id": "1c113e71-3222-4f32-9aae-abdf1dd8d019",
   "metadata": {},
   "outputs": [
    {
     "name": "stdout",
     "output_type": "stream",
     "text": [
      "TextCNN_FT(\n",
      "  (convs): ModuleList(\n",
      "    (0): Conv1d(300, 100, kernel_size=(3,), stride=(1,))\n",
      "    (1): Conv1d(300, 100, kernel_size=(4,), stride=(1,))\n",
      "    (2): Conv1d(300, 100, kernel_size=(5,), stride=(1,))\n",
      "  )\n",
      "  (dropout): Dropout(p=0.5, inplace=False)\n",
      "  (bn): BatchNorm1d(600, eps=1e-05, momentum=0.1, affine=True, track_running_stats=True)\n",
      "  (fc): Linear(in_features=600, out_features=3, bias=True)\n",
      ")\n"
     ]
    }
   ],
   "source": [
    "model = TextCNN_FT(embed_dim=300, num_classes=3)\n",
    "print(model)"
   ]
  },
  {
   "cell_type": "code",
   "execution_count": null,
   "id": "94f70182-d62d-4b8f-b838-ca61e4e326f3",
   "metadata": {},
   "outputs": [],
   "source": []
  },
  {
   "cell_type": "markdown",
   "id": "d5572612-c30a-49e7-85a1-3b6d158afa26",
   "metadata": {},
   "source": [
    "**v2 (расширенная версия с Residual connections, задействованная на других проектах в прошлом году), можно запустить на втором проходе, может дать небольшой прирост, но несущественный**"
   ]
  },
  {
   "cell_type": "code",
   "execution_count": 43,
   "id": "40a1e40b-2953-4dc6-9dd4-074e6c61de84",
   "metadata": {},
   "outputs": [],
   "source": [
    "class TextCNN_FT(nn.Module):\n",
    "    def __init__(self, embed_dim=300, num_classes=3, kernel_sizes=[3, 4, 5], num_filters=128, dropout=0.3):\n",
    "        super().__init__()\n",
    "        # Первый набор свёрточных слоёв\n",
    "        self.convs1 = nn.ModuleList([nn.Conv1d(embed_dim, num_filters, k) for k in kernel_sizes])\n",
    "        self.bn1 = nn.ModuleList([nn.BatchNorm1d(num_filters) for _ in kernel_sizes])\n",
    "        # Второй набор свёрточных слоёв\n",
    "        self.convs2 = nn.ModuleList([nn.Conv1d(num_filters, num_filters, k) for k in kernel_sizes])\n",
    "        self.bn2 = nn.ModuleList([nn.BatchNorm1d(num_filters) for _ in kernel_sizes])\n",
    "        # Dropout и BatchNorm для полносвязных слоёв\n",
    "        self.dropout = nn.Dropout(dropout)\n",
    "        self.bn_fc = nn.BatchNorm1d(num_filters * len(kernel_sizes) * 2)  # *2 для max+avg pooling\n",
    "        # Полносвязные слои\n",
    "        self.fc1 = nn.Linear(num_filters * len(kernel_sizes) * 2, 256)\n",
    "        self.fc2 = nn.Linear(256, num_classes)\n",
    "\n",
    "    def forward(self, x):\n",
    "        # x: [B, L, E]\n",
    "        x = x.permute(0, 2, 1)  # [B, E, L]\n",
    "        # Первый свёрточный слой\n",
    "        convs1 = [F.relu(self.bn1[i](conv(x))) for i, conv in enumerate(self.convs1)]  # [B, F, L-k+1]\n",
    "        # Второй свёрточный слой с остаточными связями\n",
    "        convs2 = []\n",
    "        for i, (c, conv) in enumerate(zip(convs1, self.convs2)):\n",
    "            c2 = F.relu(self.bn2[i](conv(c)))\n",
    "            # Остаточная связь (если размеры совпадают)\n",
    "            if c2.size(2) == c.size(2):\n",
    "                c2 = c2 + c  # Residual connection\n",
    "            convs2.append(c2)\n",
    "        # Max и Avg пулинг\n",
    "        pools_max = [F.max_pool1d(c, c.size(2)).squeeze(2) for c in convs2]  # [B, F]\n",
    "        pools_avg = [F.avg_pool1d(c, c.size(2)).squeeze(2) for c in convs2]  # [B, F]\n",
    "        pools = [torch.cat([pm, pa], dim=1) for pm, pa in zip(pools_max, pools_avg)]  # [B, 2F]\n",
    "        x = torch.cat(pools, dim=1)  # [B, 2F * len(kernel_sizes)]\n",
    "        # Полносвязные слои\n",
    "        x = self.dropout(self.bn_fc(x))\n",
    "        x = F.relu(self.fc1(x))\n",
    "        x = self.dropout(x)\n",
    "        x = self.fc2(x)\n",
    "        return x"
   ]
  },
  {
   "cell_type": "code",
   "execution_count": 44,
   "id": "e102370d-6c5b-46ff-98d0-7fcf82ed3a32",
   "metadata": {},
   "outputs": [
    {
     "name": "stdout",
     "output_type": "stream",
     "text": [
      "TextCNN_FT(\n",
      "  (convs1): ModuleList(\n",
      "    (0): Conv1d(300, 128, kernel_size=(3,), stride=(1,))\n",
      "    (1): Conv1d(300, 128, kernel_size=(4,), stride=(1,))\n",
      "    (2): Conv1d(300, 128, kernel_size=(5,), stride=(1,))\n",
      "  )\n",
      "  (bn1): ModuleList(\n",
      "    (0-2): 3 x BatchNorm1d(128, eps=1e-05, momentum=0.1, affine=True, track_running_stats=True)\n",
      "  )\n",
      "  (convs2): ModuleList(\n",
      "    (0): Conv1d(128, 128, kernel_size=(3,), stride=(1,))\n",
      "    (1): Conv1d(128, 128, kernel_size=(4,), stride=(1,))\n",
      "    (2): Conv1d(128, 128, kernel_size=(5,), stride=(1,))\n",
      "  )\n",
      "  (bn2): ModuleList(\n",
      "    (0-2): 3 x BatchNorm1d(128, eps=1e-05, momentum=0.1, affine=True, track_running_stats=True)\n",
      "  )\n",
      "  (dropout): Dropout(p=0.3, inplace=False)\n",
      "  (bn_fc): BatchNorm1d(768, eps=1e-05, momentum=0.1, affine=True, track_running_stats=True)\n",
      "  (fc1): Linear(in_features=768, out_features=256, bias=True)\n",
      "  (fc2): Linear(in_features=256, out_features=3, bias=True)\n",
      ")\n"
     ]
    }
   ],
   "source": [
    "model = TextCNN_FT(embed_dim=300, num_classes=3)\n",
    "print(model)"
   ]
  },
  {
   "cell_type": "code",
   "execution_count": 42,
   "id": "03f543c8-cf4b-4cb2-9375-026004849e28",
   "metadata": {},
   "outputs": [],
   "source": [
    "# === Функция обучения ===\n",
    "def train_model(model, train_loader, test_loader, epochs=5, lr=1e-3):\n",
    "    device = torch.device(\"cuda\" if torch.cuda.is_available() else \"cpu\")\n",
    "    model = model.to(device)\n",
    "    \n",
    "    optimizer = torch.optim.Adam(model.parameters(), lr=lr)\n",
    "    criterion = nn.CrossEntropyLoss()\n",
    "    \n",
    "    train_losses = []\n",
    "    test_accuracies = []\n",
    "    test_f1_scores = []  # Добавляем список для F1-score\n",
    "    \n",
    "    for epoch in range(1, epochs+1):\n",
    "        model.train()\n",
    "        running_loss = 0\n",
    "        pbar = tqdm(train_loader, desc=f\"Epoch {epoch}/{epochs}\")\n",
    "        \n",
    "        for X_batch, y_batch in pbar:\n",
    "            X_batch, y_batch = X_batch.to(device), y_batch.to(device)  # [B, max_len, 300], [B]\n",
    "            optimizer.zero_grad()\n",
    "            logits = model(X_batch)  # [B, num_classes]\n",
    "            loss = criterion(logits, y_batch)\n",
    "            loss.backward()\n",
    "            optimizer.step()\n",
    "            \n",
    "            running_loss += loss.item() * X_batch.size(0)\n",
    "            pbar.set_postfix({\"loss\": loss.item()})\n",
    "        \n",
    "        epoch_loss = running_loss / len(train_loader.dataset)\n",
    "        train_losses.append(epoch_loss)\n",
    "        \n",
    "        model.eval()\n",
    "        all_preds = []\n",
    "        all_labels = []\n",
    "        with torch.no_grad():\n",
    "            for X_batch, y_batch in test_loader:\n",
    "                X_batch, y_batch = X_batch.to(device), y_batch.to(device)\n",
    "                logits = model(X_batch)\n",
    "                preds = torch.argmax(logits, dim=1)\n",
    "                all_preds.extend(preds.cpu().numpy())\n",
    "                all_labels.extend(y_batch.cpu().numpy())\n",
    "        \n",
    "        acc = accuracy_score(all_labels, all_preds)\n",
    "        test_accuracies.append(acc)\n",
    "        \n",
    "        # Добавляем подсчет Macro-F1\n",
    "        f1 = f1_score(all_labels, all_preds, average='macro')\n",
    "        test_f1_scores.append(f1)\n",
    "        \n",
    "        print(f\"Epoch {epoch}: Train Loss = {epoch_loss:.4f}, Test Accuracy = {acc:.4f}, Test F1 = {f1:.4f}\")\n",
    "    \n",
    "    # График Loss, Accuracy и F1-score\n",
    "    fig, ax1 = plt.subplots(figsize=(10,5))\n",
    "    ax1.set_xlabel('Epoch')\n",
    "    ax1.set_ylabel('Train Loss', color='tab:red')\n",
    "    ax1.plot(range(1, epochs+1), train_losses, color='tab:red', marker='o', label='Train Loss')\n",
    "    ax1.tick_params(axis='y', labelcolor='tab:red')\n",
    "    \n",
    "    ax2 = ax1.twinx()\n",
    "    ax2.set_ylabel('Metrics', color='tab:blue')\n",
    "    ax2.plot(range(1, epochs+1), test_accuracies, color='tab:blue', marker='x', label='Test Accuracy')\n",
    "    ax2.plot(range(1, epochs+1), test_f1_scores, color='tab:green', marker='s', label='Test F1-score')\n",
    "    ax2.tick_params(axis='y', labelcolor='tab:blue')\n",
    "    \n",
    "    # Добавляем легенду\n",
    "    lines1, labels1 = ax1.get_legend_handles_labels()\n",
    "    lines2, labels2 = ax2.get_legend_handles_labels()\n",
    "    ax2.legend(lines1 + lines2, labels1 + labels2, loc='best')\n",
    "    \n",
    "    fig.tight_layout()\n",
    "    plt.title('Training Progress')\n",
    "    plt.show()\n",
    "    \n",
    "    # Confusion Matrix\n",
    "    final_cm = confusion_matrix(all_labels, all_preds)\n",
    "    ConfusionMatrixDisplay(final_cm).plot(cmap=\"Blues\")\n",
    "    plt.show()\n",
    "    \n",
    "    # Выводим финальные метрики\n",
    "    final_accuracy = test_accuracies[-1]\n",
    "    final_f1 = test_f1_scores[-1]\n",
    "    print(f\"\\nFinal Results:\")\n",
    "    print(f\"Accuracy: {final_accuracy:.4f}\")\n",
    "    print(f\"Macro-F1: {final_f1:.4f}\")\n",
    "    \n",
    "    return test_accuracies[-1], test_f1_scores[-1], final_cm"
   ]
  },
  {
   "cell_type": "code",
   "execution_count": 43,
   "id": "e6749b30-5485-46ff-b027-1b1be4066433",
   "metadata": {},
   "outputs": [],
   "source": [
    "def evaluate(model, test_loader):\n",
    "    device = torch.device(\"cuda\" if torch.cuda.is_available() else \"cpu\")\n",
    "    model = model.to(device)\n",
    "    model.eval()\n",
    "    \n",
    "    all_preds = []\n",
    "    all_labels = []\n",
    "    running_loss = 0\n",
    "    criterion = nn.CrossEntropyLoss()\n",
    "    \n",
    "    with torch.no_grad():\n",
    "        for X_batch, y_batch in tqdm(test_loader, desc=\"Evaluating\"):\n",
    "            X_batch, y_batch = X_batch.to(device), y_batch.to(device)  # [B, max_len, 300], [B]\n",
    "            logits = model(X_batch)  # [B, num_classes]\n",
    "            loss = criterion(logits, y_batch)\n",
    "            running_loss += loss.item() * X_batch.size(0)\n",
    "            preds = torch.argmax(logits, dim=1)\n",
    "            all_preds.extend(preds.cpu().numpy())\n",
    "            all_labels.extend(y_batch.cpu().numpy())\n",
    "    \n",
    "    test_loss = running_loss / len(test_loader.dataset)\n",
    "    test_accuracy = accuracy_score(all_labels, all_preds)\n",
    "    \n",
    "    # Добавляем подсчет Macro-F1\n",
    "    test_f1 = f1_score(all_labels, all_preds, average='macro')\n",
    "    \n",
    "    print(f\"Test Loss = {test_loss:.4f}, Test Accuracy = {test_accuracy:.4f}, Test F1 = {test_f1:.4f}\")\n",
    "    \n",
    "    # Confusion Matrix\n",
    "    cm = confusion_matrix(all_labels, all_preds)\n",
    "    ConfusionMatrixDisplay(cm).plot(cmap=\"Blues\")\n",
    "    plt.show()\n",
    "    \n",
    "    return test_accuracy, test_f1, cm"
   ]
  },
  {
   "cell_type": "code",
   "execution_count": 44,
   "id": "cf70f1c7-b8de-48ed-9894-6d0f1116ff65",
   "metadata": {
    "scrolled": true
   },
   "outputs": [
    {
     "name": "stderr",
     "output_type": "stream",
     "text": [
      "Epoch 1/10: 100%|████████████████| 750/750 [00:03<00:00, 199.53it/s, loss=0.106]\n"
     ]
    },
    {
     "name": "stdout",
     "output_type": "stream",
     "text": [
      "Epoch 1: Train Loss = 0.4201, Test Accuracy = 0.8814, Test F1 = 0.6926\n"
     ]
    },
    {
     "name": "stderr",
     "output_type": "stream",
     "text": [
      "Epoch 2/10: 100%|████████████████| 750/750 [00:02<00:00, 349.93it/s, loss=0.311]\n"
     ]
    },
    {
     "name": "stdout",
     "output_type": "stream",
     "text": [
      "Epoch 2: Train Loss = 0.3315, Test Accuracy = 0.8840, Test F1 = 0.6998\n"
     ]
    },
    {
     "name": "stderr",
     "output_type": "stream",
     "text": [
      "Epoch 3/10: 100%|████████████████| 750/750 [00:02<00:00, 356.98it/s, loss=0.383]\n"
     ]
    },
    {
     "name": "stdout",
     "output_type": "stream",
     "text": [
      "Epoch 3: Train Loss = 0.3041, Test Accuracy = 0.8875, Test F1 = 0.7415\n"
     ]
    },
    {
     "name": "stderr",
     "output_type": "stream",
     "text": [
      "Epoch 4/10: 100%|████████████████| 750/750 [00:02<00:00, 342.30it/s, loss=0.332]\n"
     ]
    },
    {
     "name": "stdout",
     "output_type": "stream",
     "text": [
      "Epoch 4: Train Loss = 0.2887, Test Accuracy = 0.8903, Test F1 = 0.7324\n"
     ]
    },
    {
     "name": "stderr",
     "output_type": "stream",
     "text": [
      "Epoch 5/10: 100%|████████████████| 750/750 [00:02<00:00, 358.15it/s, loss=0.185]\n"
     ]
    },
    {
     "name": "stdout",
     "output_type": "stream",
     "text": [
      "Epoch 5: Train Loss = 0.2706, Test Accuracy = 0.8934, Test F1 = 0.7040\n"
     ]
    },
    {
     "name": "stderr",
     "output_type": "stream",
     "text": [
      "Epoch 6/10: 100%|████████████████| 750/750 [00:02<00:00, 358.76it/s, loss=0.224]\n"
     ]
    },
    {
     "name": "stdout",
     "output_type": "stream",
     "text": [
      "Epoch 6: Train Loss = 0.2602, Test Accuracy = 0.8963, Test F1 = 0.7507\n"
     ]
    },
    {
     "name": "stderr",
     "output_type": "stream",
     "text": [
      "Epoch 7/10: 100%|████████████████| 750/750 [00:02<00:00, 331.12it/s, loss=0.176]\n"
     ]
    },
    {
     "name": "stdout",
     "output_type": "stream",
     "text": [
      "Epoch 7: Train Loss = 0.2437, Test Accuracy = 0.8916, Test F1 = 0.7420\n"
     ]
    },
    {
     "name": "stderr",
     "output_type": "stream",
     "text": [
      "Epoch 8/10: 100%|████████████████| 750/750 [00:02<00:00, 310.21it/s, loss=0.181]\n"
     ]
    },
    {
     "name": "stdout",
     "output_type": "stream",
     "text": [
      "Epoch 8: Train Loss = 0.2337, Test Accuracy = 0.8960, Test F1 = 0.7683\n"
     ]
    },
    {
     "name": "stderr",
     "output_type": "stream",
     "text": [
      "Epoch 9/10: 100%|████████████████| 750/750 [00:02<00:00, 327.83it/s, loss=0.173]\n"
     ]
    },
    {
     "name": "stdout",
     "output_type": "stream",
     "text": [
      "Epoch 9: Train Loss = 0.2188, Test Accuracy = 0.8975, Test F1 = 0.7551\n"
     ]
    },
    {
     "name": "stderr",
     "output_type": "stream",
     "text": [
      "Epoch 10/10: 100%|███████████████| 750/750 [00:02<00:00, 331.92it/s, loss=0.214]\n"
     ]
    },
    {
     "name": "stdout",
     "output_type": "stream",
     "text": [
      "Epoch 10: Train Loss = 0.2029, Test Accuracy = 0.8927, Test F1 = 0.7542\n"
     ]
    },
    {
     "data": {
      "image/png": "[encoded data removed]",
      "text/plain": [
       "<Figure size 1000x500 with 2 Axes>"
      ]
     },
     "metadata": {},
     "output_type": "display_data"
    },
    {
     "data": {
      "image/png": "[encoded data removed]",
      "text/plain": [
       "<Figure size 640x480 with 2 Axes>"
      ]
     },
     "metadata": {},
     "output_type": "display_data"
    },
    {
     "name": "stdout",
     "output_type": "stream",
     "text": [
      "\n",
      "Final Results:\n",
      "Accuracy: 0.8927\n",
      "Macro-F1: 0.7542\n",
      "CNN Train Accuracy: 0.8927165354330708\n",
      "CNN Train Macro-F1: 0.7541540020263424\n"
     ]
    }
   ],
   "source": [
    "cnn_acc, cnn_f1, cnn_cm = train_model(model, train_loader, test_loader, epochs=10, lr=1e-3)\n",
    "print(\"CNN Train Accuracy:\", cnn_acc)\n",
    "print(\"CNN Train Macro-F1:\", cnn_f1)"
   ]
  },
  {
   "cell_type": "code",
   "execution_count": 45,
   "id": "55dccc52-cc93-47fa-92ff-03562f8a0b5b",
   "metadata": {},
   "outputs": [
    {
     "name": "stderr",
     "output_type": "stream",
     "text": [
      "Evaluating: 100%|████████████████████████████| 191/191 [00:00<00:00, 621.07it/s]"
     ]
    },
    {
     "name": "stdout",
     "output_type": "stream",
     "text": [
      "Test Loss = 0.3123, Test Accuracy = 0.8927, Test F1 = 0.7542\n"
     ]
    },
    {
     "name": "stderr",
     "output_type": "stream",
     "text": [
      "\n"
     ]
    },
    {
     "data": {
      "image/png": "[encoded data removed]",
      "text/plain": [
       "<Figure size 640x480 with 2 Axes>"
      ]
     },
     "metadata": {},
     "output_type": "display_data"
    },
    {
     "name": "stdout",
     "output_type": "stream",
     "text": [
      "CNN Test Accuracy: 0.8927165354330708\n",
      "CNN Test Macro-F1: 0.7541540020263424\n"
     ]
    }
   ],
   "source": [
    "test_acc, test_f1, test_cm = evaluate(model, test_loader)\n",
    "print(\"CNN Test Accuracy:\", test_acc)\n",
    "print(\"CNN Test Macro-F1:\", test_f1)"
   ]
  },
  {
   "cell_type": "code",
   "execution_count": null,
   "id": "5690fe5c-c689-47e6-bdfb-b912798186ba",
   "metadata": {},
   "outputs": [],
   "source": []
  },
  {
   "cell_type": "markdown",
   "id": "0eac8165-b2de-4cc0-9db8-f893ca02ce9d",
   "metadata": {},
   "source": [
    "**Метрики очень близки к 90%, но возможно для контекстуальных задач RNN с hidden слоями продемонстрируют себя лучшим образом**"
   ]
  },
  {
   "cell_type": "code",
   "execution_count": null,
   "id": "d8735e0a-0314-44c5-942f-ec613d6f6d36",
   "metadata": {},
   "outputs": [],
   "source": []
  },
  {
   "cell_type": "markdown",
   "id": "0f3f4c3b-d67f-441a-a252-ccc5bb2d254c",
   "metadata": {},
   "source": [
    "**Попробуем двунаправленную RNN, чтобы лучше схватывать контекст. Здесь предварительно заметим, чтобы для лучшей перфомативности мы взяли не только выход последнего hidden слоя, поскольку в таком случае метрики были неудовлетворительными, а выходы со всех hidden слоев и затем пропускаем их через пуллинг. Так удалось качественно повысить метрики.**"
   ]
  },
  {
   "cell_type": "code",
   "execution_count": null,
   "id": "83deb6d9-9708-42f4-b290-f6764b05c084",
   "metadata": {},
   "outputs": [],
   "source": []
  },
  {
   "cell_type": "markdown",
   "id": "83abd142-1318-48c0-ab8e-51fb4a579ea9",
   "metadata": {},
   "source": [
    "**Сначала попробуем LSTM слои**"
   ]
  },
  {
   "cell_type": "code",
   "execution_count": null,
   "id": "3040622b-c76a-4d7a-8941-68ea3723dfbd",
   "metadata": {},
   "outputs": [],
   "source": []
  },
  {
   "cell_type": "code",
   "execution_count": 48,
   "id": "6b5181f0-da59-4880-b9c0-418040ad0688",
   "metadata": {},
   "outputs": [
    {
     "name": "stdout",
     "output_type": "stream",
     "text": [
      "BiLSTM_FT(\n",
      "  (lstm): LSTM(300, 128, num_layers=2, batch_first=True, dropout=0.5, bidirectional=True)\n",
      "  (dropout): Dropout(p=0.5, inplace=False)\n",
      "  (fc): Linear(in_features=256, out_features=3, bias=True)\n",
      ")\n"
     ]
    }
   ],
   "source": [
    "class BiLSTM_FT(nn.Module):\n",
    "    def __init__(self, embed_dim=300, hidden_size=128, num_layers=2, num_classes=3, dropout=0.5):\n",
    "        super().__init__()\n",
    "        self.lstm = nn.LSTM(embed_dim, hidden_size, num_layers=num_layers, \n",
    "                            bidirectional=True, batch_first=True, dropout=dropout if num_layers > 1 else 0)\n",
    "        self.dropout = nn.Dropout(dropout)\n",
    "        self.fc = nn.Linear(hidden_size * 2, num_classes)\n",
    "\n",
    "    def forward(self, x):\n",
    "        out, (h, c) = self.lstm(x)  # out: [B, L, hidden_size*2]\n",
    "        x = torch.max(out, dim=1)[0]  # Max pooling по длине: [B, hidden_size*2]\n",
    "        x = self.dropout(x)\n",
    "        return self.fc(x)\n",
    "\n",
    "model_lstm = BiLSTM_FT(embed_dim=300, hidden_size=128, num_layers=2, num_classes=len(set(y_train)))\n",
    "print(model_lstm)"
   ]
  },
  {
   "cell_type": "code",
   "execution_count": null,
   "id": "208bd9cf-504b-4ab6-9faf-9528259c5b92",
   "metadata": {},
   "outputs": [],
   "source": []
  },
  {
   "cell_type": "code",
   "execution_count": null,
   "id": "d19d4372-fc69-4153-a9c5-9b4b96d51cdc",
   "metadata": {
    "scrolled": true
   },
   "outputs": [],
   "source": [
    "lstm_acc, lstm_f1, lstm_cm = train_model(model_lstm, train_loader, test_loader, epochs=10, lr=1e-3)\n",
    "print(\"BiLSTM Train Accuracy:\", lstm_acc)\n",
    "print(\"BiLSTM Train Macro-F1:\", lstm_f1)"
   ]
  },
  {
   "cell_type": "markdown",
   "id": "1e5bf0a4-17df-4c67-bf5f-d77f5a92109a",
   "metadata": {},
   "source": [
    "test_acc, test_cm = evaluate(model_lstm, test_loader)\n",
    "print(\"BiLSTM Test Accuracy:\", test_acc)"
   ]
  },
  {
   "cell_type": "code",
   "execution_count": null,
   "id": "7387fdaf-7a14-4fca-989e-92e64e3bf3fd",
   "metadata": {},
   "outputs": [],
   "source": []
  },
  {
   "cell_type": "markdown",
   "id": "bd9646d9-ee0d-4222-aede-6d52f566b5ba",
   "metadata": {},
   "source": [
    "**Как видно, LSTM отрабатывает несколько лучше, чем CNN. Получили метрику > 90%**"
   ]
  },
  {
   "cell_type": "markdown",
   "id": "e3c1eb1d-ac2b-4b4a-85b2-66867b22a4b3",
   "metadata": {},
   "source": [
    "**Попробуем использовать GRU слои. Они \"проще\", но часто GRU отрабатывают лучше LSTM, вероятно, поскольку меньше запоминают шумовых данных, они более оптимизированные**"
   ]
  },
  {
   "cell_type": "code",
   "execution_count": null,
   "id": "c5807f3a-53be-46fc-a35f-ad14fe813b68",
   "metadata": {},
   "outputs": [],
   "source": []
  },
  {
   "cell_type": "code",
   "execution_count": 50,
   "id": "83eeda98-3407-47c5-8053-2b97b7e388a2",
   "metadata": {},
   "outputs": [
    {
     "name": "stdout",
     "output_type": "stream",
     "text": [
      "BiGRU_FT(\n",
      "  (gru): GRU(300, 128, num_layers=2, batch_first=True, dropout=0.5, bidirectional=True)\n",
      "  (attention): Linear(in_features=256, out_features=1, bias=True)\n",
      "  (dropout): Dropout(p=0.5, inplace=False)\n",
      "  (fc): Linear(in_features=256, out_features=3, bias=True)\n",
      ")\n"
     ]
    }
   ],
   "source": [
    "class BiGRU_FT(nn.Module):\n",
    "    def __init__(self, embed_dim=300, hidden_size=128, num_layers=2, num_classes=3, dropout=0.5):\n",
    "        super().__init__()\n",
    "        self.gru = nn.GRU(embed_dim, hidden_size, num_layers=num_layers, \n",
    "                          bidirectional=True, batch_first=True, dropout=dropout if num_layers > 1 else 0)\n",
    "        self.attention = nn.Linear(hidden_size * 2, 1)\n",
    "        self.dropout = nn.Dropout(dropout)\n",
    "        self.fc = nn.Linear(hidden_size * 2, num_classes)\n",
    "\n",
    "    def forward(self, x):\n",
    "        out, h = self.gru(x)  # out: [B, L, hidden_size*2]\n",
    "        attn_weights = F.softmax(self.attention(out), dim=1)  # [B, L, 1]\n",
    "        x = torch.sum(out * attn_weights, dim=1)  # [B, hidden_size*2]\n",
    "        x = self.dropout(x)\n",
    "        return self.fc(x)\n",
    "        \n",
    "model_gru = BiGRU_FT(embed_dim=300, hidden_size=128, num_layers=2, num_classes=len(set(y_train)))\n",
    "print(model_gru)"
   ]
  },
  {
   "cell_type": "code",
   "execution_count": 51,
   "id": "70735638-78b0-46e6-8bfc-b51ef0c62082",
   "metadata": {},
   "outputs": [
    {
     "name": "stderr",
     "output_type": "stream",
     "text": [
      "Epoch 1/10: 100%|█████████████████| 750/750 [00:03<00:00, 212.62it/s, loss=0.18]\n"
     ]
    },
    {
     "name": "stdout",
     "output_type": "stream",
     "text": [
      "Epoch 1: Train Loss = 0.3548, Test Accuracy = 0.9003\n"
     ]
    },
    {
     "name": "stderr",
     "output_type": "stream",
     "text": [
      "Epoch 2/10: 100%|█████████████████| 750/750 [00:03<00:00, 216.08it/s, loss=0.35]\n"
     ]
    },
    {
     "name": "stdout",
     "output_type": "stream",
     "text": [
      "Epoch 2: Train Loss = 0.2640, Test Accuracy = 0.9017\n"
     ]
    },
    {
     "name": "stderr",
     "output_type": "stream",
     "text": [
      "Epoch 3/10: 100%|████████████████| 750/750 [00:03<00:00, 220.08it/s, loss=0.294]\n"
     ]
    },
    {
     "name": "stdout",
     "output_type": "stream",
     "text": [
      "Epoch 3: Train Loss = 0.2435, Test Accuracy = 0.9067\n"
     ]
    },
    {
     "name": "stderr",
     "output_type": "stream",
     "text": [
      "Epoch 4/10: 100%|████████████████| 750/750 [00:03<00:00, 217.92it/s, loss=0.218]\n"
     ]
    },
    {
     "name": "stdout",
     "output_type": "stream",
     "text": [
      "Epoch 4: Train Loss = 0.2287, Test Accuracy = 0.8991\n"
     ]
    },
    {
     "name": "stderr",
     "output_type": "stream",
     "text": [
      "Epoch 5/10: 100%|████████████████| 750/750 [00:03<00:00, 218.72it/s, loss=0.174]\n"
     ]
    },
    {
     "name": "stdout",
     "output_type": "stream",
     "text": [
      "Epoch 5: Train Loss = 0.2179, Test Accuracy = 0.9094\n"
     ]
    },
    {
     "name": "stderr",
     "output_type": "stream",
     "text": [
      "Epoch 6/10: 100%|████████████████| 750/750 [00:03<00:00, 221.51it/s, loss=0.264]\n"
     ]
    },
    {
     "name": "stdout",
     "output_type": "stream",
     "text": [
      "Epoch 6: Train Loss = 0.2059, Test Accuracy = 0.9042\n"
     ]
    },
    {
     "name": "stderr",
     "output_type": "stream",
     "text": [
      "Epoch 7/10: 100%|████████████████| 750/750 [00:03<00:00, 220.09it/s, loss=0.121]\n"
     ]
    },
    {
     "name": "stdout",
     "output_type": "stream",
     "text": [
      "Epoch 7: Train Loss = 0.1927, Test Accuracy = 0.9055\n"
     ]
    },
    {
     "name": "stderr",
     "output_type": "stream",
     "text": [
      "Epoch 8/10: 100%|████████████████| 750/750 [00:03<00:00, 218.88it/s, loss=0.258]\n"
     ]
    },
    {
     "name": "stdout",
     "output_type": "stream",
     "text": [
      "Epoch 8: Train Loss = 0.1776, Test Accuracy = 0.8980\n"
     ]
    },
    {
     "name": "stderr",
     "output_type": "stream",
     "text": [
      "Epoch 9/10: 100%|████████████████| 750/750 [00:03<00:00, 220.36it/s, loss=0.137]\n"
     ]
    },
    {
     "name": "stdout",
     "output_type": "stream",
     "text": [
      "Epoch 9: Train Loss = 0.1635, Test Accuracy = 0.9011\n"
     ]
    },
    {
     "name": "stderr",
     "output_type": "stream",
     "text": [
      "Epoch 10/10: 100%|███████████████| 750/750 [00:03<00:00, 220.94it/s, loss=0.388]\n"
     ]
    },
    {
     "name": "stdout",
     "output_type": "stream",
     "text": [
      "Epoch 10: Train Loss = 0.1445, Test Accuracy = 0.9029\n"
     ]
    },
    {
     "data": {
      "image/png": "[encoded data removed]",
      "text/plain": [
       "<Figure size 800x400 with 2 Axes>"
      ]
     },
     "metadata": {},
     "output_type": "display_data"
    },
    {
     "data": {
      "image/png": "[encoded data removed]",
      "text/plain": [
       "<Figure size 640x480 with 2 Axes>"
      ]
     },
     "metadata": {},
     "output_type": "display_data"
    },
    {
     "name": "stdout",
     "output_type": "stream",
     "text": [
      "BiGRU Train Accuracy: 0.9028871391076115\n"
     ]
    }
   ],
   "source": [
    "# === Запуск обучения и оценки для GRU ===\n",
    "gru_acc, gru_f1, gru_cm = train_model(model_gru, train_loader, test_loader, epochs=10, lr=1e-3)\n",
    "print(\"BiGRU Train Accuracy:\", gru_acc)\n",
    "print(\"BiGRU Train Macro-F1:\", gru_f1)"
   ]
  },
  {
   "cell_type": "code",
   "execution_count": 52,
   "id": "0e2fbff4-3698-44a8-a5ad-875b18f51ac7",
   "metadata": {},
   "outputs": [
    {
     "name": "stderr",
     "output_type": "stream",
     "text": [
      "Evaluating: 100%|████████████████████████████| 191/191 [00:00<00:00, 505.25it/s]\n"
     ]
    },
    {
     "name": "stdout",
     "output_type": "stream",
     "text": [
      "Test Loss = 0.2792, Test Accuracy = 0.9029\n"
     ]
    },
    {
     "data": {
      "image/png": "[encoded data removed]",
      "text/plain": [
       "<Figure size 640x480 with 2 Axes>"
      ]
     },
     "metadata": {},
     "output_type": "display_data"
    },
    {
     "name": "stdout",
     "output_type": "stream",
     "text": [
      "BiGRU Test Accuracy: 0.9028871391076115\n"
     ]
    }
   ],
   "source": [
    "test_acc, test_f1, test_cm = evaluate(model_gru, test_loader)\n",
    "print(\"BiGRU Test Accuracy:\", test_acc)\n",
    "print(\"BiGRU Test Macro-F1:\", test_f1)"
   ]
  },
  {
   "cell_type": "code",
   "execution_count": null,
   "id": "aae647c9-4fb3-4389-8905-ab0241eba5ab",
   "metadata": {},
   "outputs": [],
   "source": []
  },
  {
   "cell_type": "code",
   "execution_count": null,
   "id": "c6c10324-7331-46f1-8b02-88ad7b79456f",
   "metadata": {},
   "outputs": [],
   "source": []
  },
  {
   "cell_type": "markdown",
   "id": "baacdc37-614b-43d8-a4b9-5f5114c790a1",
   "metadata": {},
   "source": [
    "**Метрики, как минимум, не хуже, и также превышают 90%**"
   ]
  },
  {
   "cell_type": "code",
   "execution_count": null,
   "id": "3ccfc022-1da3-49e9-8db4-69abb2b438b5",
   "metadata": {},
   "outputs": [],
   "source": []
  },
  {
   "cell_type": "code",
   "execution_count": null,
   "id": "ff150f29-047e-4f10-809f-6199fa7760df",
   "metadata": {},
   "outputs": [],
   "source": []
  },
  {
   "cell_type": "markdown",
   "id": "2018ed74-43bf-40f6-ac5f-f47470ce5f22",
   "metadata": {},
   "source": [
    "**Russian language models**"
   ]
  },
  {
   "cell_type": "code",
   "execution_count": null,
   "id": "8169e6d5-b3d3-47b8-978c-65d93831c0f9",
   "metadata": {},
   "outputs": [],
   "source": []
  },
  {
   "cell_type": "markdown",
   "id": "dd5ce524-98a9-481f-8158-c430d2b005c4",
   "metadata": {},
   "source": [
    "**Попробуем натренировать модели на русскоязычных датасетах и посмотреть метрики**"
   ]
  },
  {
   "cell_type": "markdown",
   "id": "185f2b6a-d440-4d20-9948-2fc4e3405e55",
   "metadata": {},
   "source": [
    "**Далее будут использоваться те же функции и те же архитектуры, поэтому мотивировка использования тех или иных методов идентична и не дублируется**"
   ]
  },
  {
   "cell_type": "code",
   "execution_count": 8,
   "id": "89c30b6f-8b25-4b24-9efd-8248ed97aef5",
   "metadata": {},
   "outputs": [],
   "source": [
    "import random\n",
    "import numpy as np\n",
    "from sklearn.feature_extraction.text import CountVectorizer, TfidfVectorizer\n",
    "from sklearn.model_selection import train_test_split\n",
    "from sklearn.metrics import accuracy_score, confusion_matrix\n",
    "from sklearn.linear_model import LogisticRegression\n",
    "import fasttext.util\n",
    "from tqdm import tqdm\n",
    "import matplotlib.pyplot as plt\n",
    "from sklearn.metrics import accuracy_score, confusion_matrix, ConfusionMatrixDisplay\n",
    "import torch\n",
    "import torch.nn as nn\n",
    "from torch.utils.data import Dataset, DataLoader\n",
    "import torch.nn.functional as F\n",
    "import pandas as pd\n",
    "import re"
   ]
  },
  {
   "cell_type": "code",
   "execution_count": 14,
   "id": "3c5c83cb-de09-435e-aa3b-cc2e56cfc913",
   "metadata": {},
   "outputs": [
    {
     "data": {
      "text/html": [
       "<div>\n",
       "<style scoped>\n",
       "    .dataframe tbody tr th:only-of-type {\n",
       "        vertical-align: middle;\n",
       "    }\n",
       "\n",
       "    .dataframe tbody tr th {\n",
       "        vertical-align: top;\n",
       "    }\n",
       "\n",
       "    .dataframe thead th {\n",
       "        text-align: right;\n",
       "    }\n",
       "</style>\n",
       "<table border=\"1\" class=\"dataframe\">\n",
       "  <thead>\n",
       "    <tr style=\"text-align: right;\">\n",
       "      <th></th>\n",
       "      <th>text</th>\n",
       "      <th>neutral</th>\n",
       "      <th>toxic_threat</th>\n",
       "      <th>toxic_not_threat</th>\n",
       "    </tr>\n",
       "  </thead>\n",
       "  <tbody>\n",
       "    <tr>\n",
       "      <th>0</th>\n",
       "      <td>скотина! что сказать</td>\n",
       "      <td>0</td>\n",
       "      <td>0</td>\n",
       "      <td>1</td>\n",
       "    </tr>\n",
       "    <tr>\n",
       "      <th>1</th>\n",
       "      <td>я сегодня проезжала по рабочей и между домами ...</td>\n",
       "      <td>1</td>\n",
       "      <td>0</td>\n",
       "      <td>0</td>\n",
       "    </tr>\n",
       "    <tr>\n",
       "      <th>2</th>\n",
       "      <td>очередной лохотрон. зачем придумывать очередно...</td>\n",
       "      <td>1</td>\n",
       "      <td>0</td>\n",
       "      <td>0</td>\n",
       "    </tr>\n",
       "    <tr>\n",
       "      <th>3</th>\n",
       "      <td>ретро дежавю ... сложно понять чужое сердце , ...</td>\n",
       "      <td>1</td>\n",
       "      <td>0</td>\n",
       "      <td>0</td>\n",
       "    </tr>\n",
       "    <tr>\n",
       "      <th>4</th>\n",
       "      <td>а когда мы статус агрогородка получили?</td>\n",
       "      <td>1</td>\n",
       "      <td>0</td>\n",
       "      <td>0</td>\n",
       "    </tr>\n",
       "    <tr>\n",
       "      <th>...</th>\n",
       "      <td>...</td>\n",
       "      <td>...</td>\n",
       "      <td>...</td>\n",
       "      <td>...</td>\n",
       "    </tr>\n",
       "    <tr>\n",
       "      <th>248285</th>\n",
       "      <td>правильно всё по пять (5)...</td>\n",
       "      <td>1</td>\n",
       "      <td>0</td>\n",
       "      <td>0</td>\n",
       "    </tr>\n",
       "    <tr>\n",
       "      <th>248286</th>\n",
       "      <td>ёбанные нубы заходите на сервер мой ник _creep...</td>\n",
       "      <td>0</td>\n",
       "      <td>0</td>\n",
       "      <td>1</td>\n",
       "    </tr>\n",
       "    <tr>\n",
       "      <th>248287</th>\n",
       "      <td>а у меня наверное рекорд в 1962 году в училище...</td>\n",
       "      <td>1</td>\n",
       "      <td>0</td>\n",
       "      <td>0</td>\n",
       "    </tr>\n",
       "    <tr>\n",
       "      <th>248288</th>\n",
       "      <td>спасибо всем большое)</td>\n",
       "      <td>1</td>\n",
       "      <td>0</td>\n",
       "      <td>0</td>\n",
       "    </tr>\n",
       "    <tr>\n",
       "      <th>248289</th>\n",
       "      <td>нельзя ли увеличить хотя бы в два раза некотор...</td>\n",
       "      <td>1</td>\n",
       "      <td>0</td>\n",
       "      <td>0</td>\n",
       "    </tr>\n",
       "  </tbody>\n",
       "</table>\n",
       "<p>248290 rows × 4 columns</p>\n",
       "</div>"
      ],
      "text/plain": [
       "                                                     text  neutral  \\\n",
       "0                                    скотина! что сказать        0   \n",
       "1       я сегодня проезжала по рабочей и между домами ...        1   \n",
       "2       очередной лохотрон. зачем придумывать очередно...        1   \n",
       "3       ретро дежавю ... сложно понять чужое сердце , ...        1   \n",
       "4                 а когда мы статус агрогородка получили?        1   \n",
       "...                                                   ...      ...   \n",
       "248285                       правильно всё по пять (5)...        1   \n",
       "248286  ёбанные нубы заходите на сервер мой ник _creep...        0   \n",
       "248287  а у меня наверное рекорд в 1962 году в училище...        1   \n",
       "248288                              спасибо всем большое)        1   \n",
       "248289  нельзя ли увеличить хотя бы в два раза некотор...        1   \n",
       "\n",
       "        toxic_threat  toxic_not_threat  \n",
       "0                  0                 1  \n",
       "1                  0                 0  \n",
       "2                  0                 0  \n",
       "3                  0                 0  \n",
       "4                  0                 0  \n",
       "...              ...               ...  \n",
       "248285             0                 0  \n",
       "248286             0                 1  \n",
       "248287             0                 0  \n",
       "248288             0                 0  \n",
       "248289             0                 0  \n",
       "\n",
       "[248290 rows x 4 columns]"
      ]
     },
     "execution_count": 14,
     "metadata": {},
     "output_type": "execute_result"
    }
   ],
   "source": [
    "dataset = pd.read_csv('rus_toxic_full_df.csv')\n",
    "dataset\n"
   ]
  },
  {
   "cell_type": "code",
   "execution_count": 16,
   "id": "71dc8342-eac8-4ddc-9e39-08e80297cfbd",
   "metadata": {},
   "outputs": [
    {
     "name": "stdout",
     "output_type": "stream",
     "text": [
      "neutral\n",
      "1    203685\n",
      "0     44605\n",
      "Name: count, dtype: int64\n",
      "toxic_not_threat\n",
      "0    215712\n",
      "1     32578\n",
      "Name: count, dtype: int64\n",
      "toxic_threat\n",
      "0    236263\n",
      "1     12027\n",
      "Name: count, dtype: int64\n"
     ]
    }
   ],
   "source": [
    "x = dataset['text']\n",
    "y = dataset[['neutral', 'toxic_not_threat', 'toxic_threat']]\n",
    "\n",
    "print(y['neutral'].value_counts())\n",
    "print(y['toxic_not_threat'].value_counts())\n",
    "print(y['toxic_threat'].value_counts())\n"
   ]
  },
  {
   "cell_type": "code",
   "execution_count": 18,
   "id": "ba4c07e6-4a6c-4248-b867-283500b63387",
   "metadata": {},
   "outputs": [
    {
     "name": "stdout",
     "output_type": "stream",
     "text": [
      "=== АНАЛИЗ ДАТАСЕТА ===\n",
      "Всего записей: 248290\n",
      "\n",
      "1. Полнота данных: 100.00%\n",
      "2. Среднее лексическое разнообразие: 0.971\n",
      "3. Средний уровень читаемости: 113.80\n",
      "4. Средняя структурная целостность: 0.563\n",
      "5. Средний уровень отсутствия шума: 0.950\n",
      "6. Средняя лингвистическая корректность: 0.500\n",
      "\n",
      "=== ДОПОЛНИТЕЛЬНАЯ СТАТИСТИКА ===\n",
      "Средняя длина комментария: 78.1 символов\n",
      "Среднее количество слов: 12.5\n",
      "\n",
      "=== ИТОГОВАЯ ОЦЕНКА КАЧЕСТВА ДАННЫХ ===\n",
      "\n",
      "Нормализованные показатели (0-100):\n",
      "  Полнота данных: 100.0\n",
      "  Лексическое разнообразие: 97.1\n",
      "  Уровень читаемости: 100.0\n",
      "  Структурная целостность: 56.3\n",
      "  Отсутствие шума: 95.0\n",
      "  Лингвистическая корректность: 50.0\n",
      "\n",
      " ОБЩАЯ ОЦЕНКА КАЧЕСТВА ДАННЫХ - 82.3 из 100 баллов, что соответствует хороший уровню.\n"
     ]
    }
   ],
   "source": [
    "\n",
    "# 1. Полнота данных\n",
    "def data_completeness(df):\n",
    "    total_cells = df.size\n",
    "    missing_cells = df.isnull().sum().sum()\n",
    "    completeness = ((total_cells - missing_cells) / total_cells) * 100\n",
    "    return completeness\n",
    "\n",
    "# 2. Лексическое разнообразие\n",
    "def lexical_diversity(text):\n",
    "    if pd.isna(text) or text == '':\n",
    "        return 0\n",
    "    words = text.lower().split()\n",
    "    if len(words) == 0:\n",
    "        return 0\n",
    "    return len(set(words)) / len(words)\n",
    "\n",
    "# 3. Уровень читаемости\n",
    "def readability_score(text):\n",
    "    if pd.isna(text) or text == '':\n",
    "        return 0\n",
    "    try:\n",
    "        return flesch_reading_ease(text)\n",
    "    except:\n",
    "        return 0\n",
    "\n",
    "# 4. Структурная целостность\n",
    "def structural_integrity(text):\n",
    "    if pd.isna(text) or text == '':\n",
    "        return 0\n",
    "    \n",
    "    # Проверяем наличие пунктуации и структуры\n",
    "    has_punctuation = any(char in text for char in ['.', '!', '?'])\n",
    "    has_capitalization = any(char.isupper() for char in text)\n",
    "    word_count = len(text.split())\n",
    "    \n",
    "    score = 0\n",
    "    if has_punctuation: score += 0.3\n",
    "    if has_capitalization: score += 0.3\n",
    "    if word_count >= 3: score += 0.4\n",
    "    \n",
    "    return score\n",
    "\n",
    "# 5. Отсутствие шума\n",
    "def noise_level(text):\n",
    "    if pd.isna(text) or text == '':\n",
    "        return 1  # Пустой текст считается чистым\n",
    "    \n",
    "    # Ищем признаки шума: повторяющиеся символы, капс и т.д.\n",
    "    noise_indicators = 0\n",
    "    \n",
    "    # Повторяющиеся символы (более 3 подряд)\n",
    "    if re.search(r'(.)\\1{3,}', text):\n",
    "        noise_indicators += 1\n",
    "    \n",
    "    # Чрезмерное использование заглавных букв\n",
    "    if len(text) > 10:\n",
    "        upper_ratio = sum(1 for char in text if char.isupper()) / len(text)\n",
    "        if upper_ratio > 0.5:\n",
    "            noise_indicators += 1\n",
    "    \n",
    "    # Слишком короткие или длинные слова\n",
    "    words = text.split()\n",
    "    if words:\n",
    "        unusual_words = sum(1 for word in words if len(word) > 20 or len(word) == 1)\n",
    "        if unusual_words / len(words) > 0.3:\n",
    "            noise_indicators += 1\n",
    "    \n",
    "    return 1 - (noise_indicators / 3)\n",
    "\n",
    "# 6. Лингвистическая корректность (упрощенная версия)\n",
    "def linguistic_correctness(text):\n",
    "    if pd.isna(text) or text == '':\n",
    "        return 0\n",
    "    \n",
    "    try:\n",
    "        # Простая проверка на английские слова\n",
    "        english_words = set(words.words())\n",
    "        text_words = re.findall(r'\\b[a-zA-Z]+\\b', text.lower())\n",
    "        \n",
    "        if not text_words:\n",
    "            return 0\n",
    "        \n",
    "        # Процент слов, которые есть в английском словаре\n",
    "        valid_words = sum(1 for word in text_words if word in english_words)\n",
    "        return valid_words / len(text_words)\n",
    "    except:\n",
    "        return 0.5  # Среднее значение при ошибке\n",
    "\n",
    "# Функция для определения уровня качества\n",
    "def get_quality_level(score):\n",
    "    if score >= 90:\n",
    "        return \"отличный\"\n",
    "    elif score >= 80:\n",
    "        return \"хороший\"\n",
    "    elif score >= 70:\n",
    "        return \"средний\"\n",
    "    elif score >= 60:\n",
    "        return \"удовлетворительный\"\n",
    "    else:\n",
    "        return \"низкий\"\n",
    "\n",
    "# Вычисление метрик для всего датасета\n",
    "print(\"=== АНАЛИЗ ДАТАСЕТА ===\")\n",
    "print(f\"Всего записей: {len(dataset)}\")\n",
    "\n",
    "# Полнота данных\n",
    "completeness = data_completeness(dataset)\n",
    "print(f\"\\n1. Полнота данных: {completeness:.2f}%\")\n",
    "\n",
    "# Лексическое разнообразие (только для текстовых колонок)\n",
    "lex_div = dataset['text'].apply(lexical_diversity).mean()\n",
    "print(f\"2. Среднее лексическое разнообразие: {lex_div:.3f}\")\n",
    "\n",
    "# Уровень читаемости\n",
    "readability = dataset['text'].apply(readability_score).mean()\n",
    "print(f\"3. Средний уровень читаемости: {readability:.2f}\")\n",
    "\n",
    "# Структурная целостность\n",
    "structure = dataset['text'].apply(structural_integrity).mean()\n",
    "print(f\"4. Средняя структурная целостность: {structure:.3f}\")\n",
    "\n",
    "# Отсутствие шума\n",
    "noise_free = dataset['text'].apply(noise_level).mean()\n",
    "print(f\"5. Средний уровень отсутствия шума: {noise_free:.3f}\")\n",
    "\n",
    "# Лингвистическая корректность\n",
    "linguistic = dataset['text'].apply(linguistic_correctness).mean()\n",
    "print(f\"6. Средняя лингвистическая корректность: {linguistic:.3f}\")\n",
    "\n",
    "# Дополнительная статистика\n",
    "print(f\"\\n=== ДОПОЛНИТЕЛЬНАЯ СТАТИСТИКА ===\")\n",
    "print(f\"Средняя длина комментария: {dataset['text'].str.len().mean():.1f} символов\")\n",
    "print(f\"Среднее количество слов: {dataset['text'].str.split().str.len().mean():.1f}\")\n",
    "\n",
    "# Расчет итоговой оценки качества данных\n",
    "print(f\"\\n=== ИТОГОВАЯ ОЦЕНКА КАЧЕСТВА ДАННЫХ ===\")\n",
    "\n",
    "# Нормализуем показатели к шкале 0-100\n",
    "metrics = {\n",
    "    \"Полнота данных\": completeness,  # уже в процентах\n",
    "    \"Лексическое разнообразие\": lex_div * 100,  # из 0-1 в 0-100\n",
    "    \"Уровень читаемости\": min(readability, 100),  # ограничиваем максимум 100\n",
    "    \"Структурная целостность\": structure * 100,  # из 0-1 в 0-100\n",
    "    \"Отсутствие шума\": noise_free * 100,  # из 0-1 в 0-100\n",
    "    \"Лингвистическая корректность\": linguistic * 100  # из 0-1 в 0-100\n",
    "}\n",
    "\n",
    "# Выводим нормализованные показатели\n",
    "print(\"\\nНормализованные показатели (0-100):\")\n",
    "for metric, value in metrics.items():\n",
    "    print(f\"  {metric}: {value:.1f}\")\n",
    "\n",
    "# Взвешенная итоговая оценка (можно настроить веса)\n",
    "weights = {\n",
    "    \"Полнота данных\": 0.15,  # самый важный показатель\n",
    "    \"Лексическое разнообразие\": 0.15,\n",
    "    \"Уровень читаемости\": 0.20,\n",
    "    \"Структурная целостность\": 0.15,\n",
    "    \"Отсутствие шума\": 0.15,\n",
    "    \"Лингвистическая корректность\": 0.20\n",
    "}\n",
    "\n",
    "# Расчет итоговой оценки\n",
    "total_score = sum(metrics[metric] * weight for metric, weight in weights.items())\n",
    "quality_level = get_quality_level(total_score)\n",
    "\n",
    "print(f\"\\n ОБЩАЯ ОЦЕНКА КАЧЕСТВА ДАННЫХ - {total_score:.1f} из 100 баллов, \"\n",
    "      f\"что соответствует {quality_level} уровню.\")\n",
    "\n"
   ]
  },
  {
   "cell_type": "code",
   "execution_count": null,
   "id": "f3998023-f049-405b-aee7-909d0fa758f4",
   "metadata": {},
   "outputs": [],
   "source": []
  },
  {
   "cell_type": "code",
   "execution_count": null,
   "id": "9a83f85b-d6c2-4792-baef-f8086954c571",
   "metadata": {},
   "outputs": [],
   "source": []
  },
  {
   "cell_type": "markdown",
   "id": "007104c7-da9d-44dd-b8b7-153a2927e3ef",
   "metadata": {},
   "source": [
    "**Здесь датасет довольно сбалансированный, можно взять по 12 000 примеров на каждый класс**"
   ]
  },
  {
   "cell_type": "code",
   "execution_count": null,
   "id": "f4557985-7275-4539-869a-4fb941b891be",
   "metadata": {},
   "outputs": [],
   "source": []
  },
  {
   "cell_type": "code",
   "execution_count": 124,
   "id": "ee59d9e4-c65d-48b9-99a6-7ab970176952",
   "metadata": {},
   "outputs": [
    {
     "data": {
      "text/html": [
       "<div>\n",
       "<style scoped>\n",
       "    .dataframe tbody tr th:only-of-type {\n",
       "        vertical-align: middle;\n",
       "    }\n",
       "\n",
       "    .dataframe tbody tr th {\n",
       "        vertical-align: top;\n",
       "    }\n",
       "\n",
       "    .dataframe thead th {\n",
       "        text-align: right;\n",
       "    }\n",
       "</style>\n",
       "<table border=\"1\" class=\"dataframe\">\n",
       "  <thead>\n",
       "    <tr style=\"text-align: right;\">\n",
       "      <th></th>\n",
       "      <th>text</th>\n",
       "      <th>neutral</th>\n",
       "      <th>toxic_threat</th>\n",
       "      <th>toxic_not_threat</th>\n",
       "    </tr>\n",
       "  </thead>\n",
       "  <tbody>\n",
       "    <tr>\n",
       "      <th>0</th>\n",
       "      <td>такую резонансную точку и я могу поставить на ...</td>\n",
       "      <td>0</td>\n",
       "      <td>0</td>\n",
       "      <td>1</td>\n",
       "    </tr>\n",
       "    <tr>\n",
       "      <th>1</th>\n",
       "      <td>тварина натравливает чурбан белорусских мусоро...</td>\n",
       "      <td>0</td>\n",
       "      <td>0</td>\n",
       "      <td>1</td>\n",
       "    </tr>\n",
       "    <tr>\n",
       "      <th>2</th>\n",
       "      <td>идиоты,полные,привязать самих , и оставить,про...</td>\n",
       "      <td>0</td>\n",
       "      <td>0</td>\n",
       "      <td>1</td>\n",
       "    </tr>\n",
       "    <tr>\n",
       "      <th>3</th>\n",
       "      <td>этого козла самого бы за яйца привезать верёвк...</td>\n",
       "      <td>0</td>\n",
       "      <td>1</td>\n",
       "      <td>0</td>\n",
       "    </tr>\n",
       "    <tr>\n",
       "      <th>4</th>\n",
       "      <td>когда уже откроется новая полянка? я в этот кв...</td>\n",
       "      <td>1</td>\n",
       "      <td>0</td>\n",
       "      <td>0</td>\n",
       "    </tr>\n",
       "    <tr>\n",
       "      <th>...</th>\n",
       "      <td>...</td>\n",
       "      <td>...</td>\n",
       "      <td>...</td>\n",
       "      <td>...</td>\n",
       "    </tr>\n",
       "    <tr>\n",
       "      <th>35995</th>\n",
       "      <td>да их хоть ебать можно, а с обезьянами что делать</td>\n",
       "      <td>0</td>\n",
       "      <td>0</td>\n",
       "      <td>1</td>\n",
       "    </tr>\n",
       "    <tr>\n",
       "      <th>35996</th>\n",
       "      <td>коты они и у людей перенимают манеру поведения...</td>\n",
       "      <td>1</td>\n",
       "      <td>0</td>\n",
       "      <td>0</td>\n",
       "    </tr>\n",
       "    <tr>\n",
       "      <th>35997</th>\n",
       "      <td>шикарный бант на ободке. можно использовать не...</td>\n",
       "      <td>1</td>\n",
       "      <td>0</td>\n",
       "      <td>0</td>\n",
       "    </tr>\n",
       "    <tr>\n",
       "      <th>35998</th>\n",
       "      <td>это не ручная работа. очередной фэйк.</td>\n",
       "      <td>1</td>\n",
       "      <td>0</td>\n",
       "      <td>0</td>\n",
       "    </tr>\n",
       "    <tr>\n",
       "      <th>35999</th>\n",
       "      <td>мммм клиторочек супер</td>\n",
       "      <td>0</td>\n",
       "      <td>0</td>\n",
       "      <td>1</td>\n",
       "    </tr>\n",
       "  </tbody>\n",
       "</table>\n",
       "<p>36000 rows × 4 columns</p>\n",
       "</div>"
      ],
      "text/plain": [
       "                                                    text  neutral  \\\n",
       "0      такую резонансную точку и я могу поставить на ...        0   \n",
       "1      тварина натравливает чурбан белорусских мусоро...        0   \n",
       "2      идиоты,полные,привязать самих , и оставить,про...        0   \n",
       "3      этого козла самого бы за яйца привезать верёвк...        0   \n",
       "4      когда уже откроется новая полянка? я в этот кв...        1   \n",
       "...                                                  ...      ...   \n",
       "35995  да их хоть ебать можно, а с обезьянами что делать        0   \n",
       "35996  коты они и у людей перенимают манеру поведения...        1   \n",
       "35997  шикарный бант на ободке. можно использовать не...        1   \n",
       "35998              это не ручная работа. очередной фэйк.        1   \n",
       "35999                              мммм клиторочек супер        0   \n",
       "\n",
       "       toxic_threat  toxic_not_threat  \n",
       "0                 0                 1  \n",
       "1                 0                 1  \n",
       "2                 0                 1  \n",
       "3                 1                 0  \n",
       "4                 0                 0  \n",
       "...             ...               ...  \n",
       "35995             0                 1  \n",
       "35996             0                 0  \n",
       "35997             0                 0  \n",
       "35998             0                 0  \n",
       "35999             0                 1  \n",
       "\n",
       "[36000 rows x 4 columns]"
      ]
     },
     "execution_count": 124,
     "metadata": {},
     "output_type": "execute_result"
    }
   ],
   "source": [
    "neutral_df = dataset[dataset['neutral'] == 1].sample(n=12000)\n",
    "toxic_not_threat_df = dataset[dataset['toxic_not_threat'] == 1].sample(n=12000)\n",
    "toxic_threat_df = dataset[dataset['toxic_threat'] == 1].sample(n=12000)\n",
    "balanced_dataset = pd.concat([neutral_df, toxic_not_threat_df, toxic_threat_df], axis=0)\n",
    "balanced_dataset = balanced_dataset.sample(frac=1, random_state=42).reset_index(drop=True)\n",
    "balanced_dataset"
   ]
  },
  {
   "cell_type": "code",
   "execution_count": 126,
   "id": "8dd98467-9827-4696-a6c7-94d0fa1544e8",
   "metadata": {},
   "outputs": [
    {
     "name": "stdout",
     "output_type": "stream",
     "text": [
      "neutral\n",
      "0    24000\n",
      "1    12000\n",
      "Name: count, dtype: int64\n",
      "toxic_not_threat\n",
      "0    24000\n",
      "1    12000\n",
      "Name: count, dtype: int64\n",
      "toxic_threat\n",
      "0    24000\n",
      "1    12000\n",
      "Name: count, dtype: int64\n"
     ]
    }
   ],
   "source": [
    "x = balanced_dataset['text']\n",
    "y = balanced_dataset[['neutral', 'toxic_not_threat', 'toxic_threat']]\n",
    "print(y['neutral'].value_counts())\n",
    "print(y['toxic_not_threat'].value_counts())\n",
    "print(y['toxic_threat'].value_counts())"
   ]
  },
  {
   "cell_type": "code",
   "execution_count": 128,
   "id": "157553e7-bb94-4bfb-8739-bf75b2c429b5",
   "metadata": {},
   "outputs": [
    {
     "data": {
      "text/html": [
       "<div>\n",
       "<style scoped>\n",
       "    .dataframe tbody tr th:only-of-type {\n",
       "        vertical-align: middle;\n",
       "    }\n",
       "\n",
       "    .dataframe tbody tr th {\n",
       "        vertical-align: top;\n",
       "    }\n",
       "\n",
       "    .dataframe thead th {\n",
       "        text-align: right;\n",
       "    }\n",
       "</style>\n",
       "<table border=\"1\" class=\"dataframe\">\n",
       "  <thead>\n",
       "    <tr style=\"text-align: right;\">\n",
       "      <th></th>\n",
       "      <th>neutral</th>\n",
       "      <th>toxic_not_threat</th>\n",
       "      <th>toxic_threat</th>\n",
       "    </tr>\n",
       "  </thead>\n",
       "  <tbody>\n",
       "    <tr>\n",
       "      <th>0</th>\n",
       "      <td>0</td>\n",
       "      <td>1</td>\n",
       "      <td>0</td>\n",
       "    </tr>\n",
       "    <tr>\n",
       "      <th>1</th>\n",
       "      <td>0</td>\n",
       "      <td>1</td>\n",
       "      <td>0</td>\n",
       "    </tr>\n",
       "    <tr>\n",
       "      <th>2</th>\n",
       "      <td>0</td>\n",
       "      <td>1</td>\n",
       "      <td>0</td>\n",
       "    </tr>\n",
       "    <tr>\n",
       "      <th>3</th>\n",
       "      <td>0</td>\n",
       "      <td>0</td>\n",
       "      <td>1</td>\n",
       "    </tr>\n",
       "    <tr>\n",
       "      <th>4</th>\n",
       "      <td>1</td>\n",
       "      <td>0</td>\n",
       "      <td>0</td>\n",
       "    </tr>\n",
       "    <tr>\n",
       "      <th>...</th>\n",
       "      <td>...</td>\n",
       "      <td>...</td>\n",
       "      <td>...</td>\n",
       "    </tr>\n",
       "    <tr>\n",
       "      <th>35995</th>\n",
       "      <td>0</td>\n",
       "      <td>1</td>\n",
       "      <td>0</td>\n",
       "    </tr>\n",
       "    <tr>\n",
       "      <th>35996</th>\n",
       "      <td>1</td>\n",
       "      <td>0</td>\n",
       "      <td>0</td>\n",
       "    </tr>\n",
       "    <tr>\n",
       "      <th>35997</th>\n",
       "      <td>1</td>\n",
       "      <td>0</td>\n",
       "      <td>0</td>\n",
       "    </tr>\n",
       "    <tr>\n",
       "      <th>35998</th>\n",
       "      <td>1</td>\n",
       "      <td>0</td>\n",
       "      <td>0</td>\n",
       "    </tr>\n",
       "    <tr>\n",
       "      <th>35999</th>\n",
       "      <td>0</td>\n",
       "      <td>1</td>\n",
       "      <td>0</td>\n",
       "    </tr>\n",
       "  </tbody>\n",
       "</table>\n",
       "<p>36000 rows × 3 columns</p>\n",
       "</div>"
      ],
      "text/plain": [
       "       neutral  toxic_not_threat  toxic_threat\n",
       "0            0                 1             0\n",
       "1            0                 1             0\n",
       "2            0                 1             0\n",
       "3            0                 0             1\n",
       "4            1                 0             0\n",
       "...        ...               ...           ...\n",
       "35995        0                 1             0\n",
       "35996        1                 0             0\n",
       "35997        1                 0             0\n",
       "35998        1                 0             0\n",
       "35999        0                 1             0\n",
       "\n",
       "[36000 rows x 3 columns]"
      ]
     },
     "execution_count": 128,
     "metadata": {},
     "output_type": "execute_result"
    }
   ],
   "source": [
    "y"
   ]
  },
  {
   "cell_type": "code",
   "execution_count": 130,
   "id": "1d329ad1-39f5-429d-8135-211f155df5f5",
   "metadata": {},
   "outputs": [
    {
     "name": "stdout",
     "output_type": "stream",
     "text": [
      "labels shape: (36000,)\n",
      "Пример меток: [1 1 1 2 0]\n"
     ]
    }
   ],
   "source": [
    "y = y.idxmax(axis=1).map({'neutral': 0, 'toxic_not_threat': 1, 'toxic_threat': 2}).values\n",
    "print(\"labels shape:\", y.shape)\n",
    "print(\"Пример меток:\", y[:5])"
   ]
  },
  {
   "cell_type": "code",
   "execution_count": null,
   "id": "90895a0e-ac69-4efe-8945-08f04ab9f7c8",
   "metadata": {},
   "outputs": [],
   "source": []
  },
  {
   "cell_type": "markdown",
   "id": "7f9dcbbc-634e-4955-97cd-c9f4c76991ae",
   "metadata": {},
   "source": [
    "**Делим трейн и тест пополам, чтобы тестовая выборка была репрезентативной, в данном случае это 18000 примеров на тест**"
   ]
  },
  {
   "cell_type": "code",
   "execution_count": null,
   "id": "2bbb39ff-5468-4c18-bdc8-9a51488e3306",
   "metadata": {},
   "outputs": [],
   "source": []
  },
  {
   "cell_type": "code",
   "execution_count": 135,
   "id": "b3e42980-7ee3-4f01-a7d2-ce830b5e8d13",
   "metadata": {},
   "outputs": [],
   "source": [
    "x_train, x_test, y_train, y_test = train_test_split(x, y, test_size=0.5, shuffle=True)\n"
   ]
  },
  {
   "cell_type": "code",
   "execution_count": 137,
   "id": "9d2d94a0-0f6c-483d-9a1c-4fb9364a3c89",
   "metadata": {},
   "outputs": [
    {
     "data": {
      "text/plain": [
       "30546                       вот сука,ноги надо ей поломать\n",
       "13092    госдума предлагает лишать гражданства тех выбо...\n",
       "27898    бейте их при попытке к бегству. они знают на ч...\n",
       "5521     ну правильно где вы видели,что бы в концлагеря...\n",
       "703                           есть кто в люберцах кто едит\n",
       "                               ...                        \n",
       "9515                  а я выращиваю сама ну очень вкусные!\n",
       "3452                                     а почём помидоры?\n",
       "4611     зачем сожать ищё в терме надо их кормить , сра...\n",
       "6163                                 пидороси кто нописоль\n",
       "34490                                  ты тоже бляд нацист\n",
       "Name: text, Length: 18000, dtype: object"
      ]
     },
     "execution_count": 137,
     "metadata": {},
     "output_type": "execute_result"
    }
   ],
   "source": [
    "x_train"
   ]
  },
  {
   "cell_type": "code",
   "execution_count": null,
   "id": "6a953494-d823-4d5a-9876-5c03d0ccd403",
   "metadata": {},
   "outputs": [],
   "source": []
  },
  {
   "cell_type": "markdown",
   "id": "8d510f9d-80c7-494a-836e-293670fe67d9",
   "metadata": {},
   "source": [
    "**Здесь мы вынуждены разбивать на чанки без из подачи в итеративную функцию, т.к. любой итератор зависает. Таким образом, будем трансформировать каждый чанк в эбеддинги через отдельный запуск**"
   ]
  },
  {
   "cell_type": "code",
   "execution_count": 139,
   "id": "19f17a41-a735-4aa0-abcb-c14ee1a0340a",
   "metadata": {},
   "outputs": [],
   "source": [
    "x_1 = x_train[:2000]\n",
    "x_2 = x_train[2000:4000]\n",
    "x_3 = x_train[4000:6000]\n",
    "x_4 = x_train[6000:8000]\n",
    "x_5 = x_train[8000:10000]\n",
    "x_6 = x_train[10000:12000]\n",
    "x_7 = x_train[12000:14000]\n",
    "x_8 = x_train[14000:16000]\n",
    "x_9 = x_train[16000:18000]"
   ]
  },
  {
   "cell_type": "code",
   "execution_count": 141,
   "id": "bdd23a50-3002-4ae8-a743-70e257a1035f",
   "metadata": {},
   "outputs": [
    {
     "data": {
      "text/plain": [
       "11356    в тюряге там его кончают. я предлогаю сразу рс...\n",
       "9720     аще! охуе... ю! народы украины и белоруссии, к...\n",
       "14189    я тебе тогда прочитаю дедушка с бабушкой очень...\n",
       "25359    так она как блоха скачит с хрена на хрен и все...\n",
       "20312     навральный чмо лпущенное. ему россияне не верят.\n",
       "                               ...                        \n",
       "9515                  а я выращиваю сама ну очень вкусные!\n",
       "3452                                     а почём помидоры?\n",
       "4611     зачем сожать ищё в терме надо их кормить , сра...\n",
       "6163                                 пидороси кто нописоль\n",
       "34490                                  ты тоже бляд нацист\n",
       "Name: text, Length: 2000, dtype: object"
      ]
     },
     "execution_count": 141,
     "metadata": {},
     "output_type": "execute_result"
    }
   ],
   "source": [
    "x_9"
   ]
  },
  {
   "cell_type": "code",
   "execution_count": null,
   "id": "3e1961dc-2218-4401-aded-00e2b71dcbfe",
   "metadata": {},
   "outputs": [],
   "source": []
  },
  {
   "cell_type": "markdown",
   "id": "96ebaded-7026-438d-b4dc-fdbb6fc19453",
   "metadata": {},
   "source": [
    "**Далее проводим предобработку данных и преобразуем наши данные в эмбеддинги**"
   ]
  },
  {
   "cell_type": "code",
   "execution_count": null,
   "id": "b8b05fbb-4870-4f67-8aac-d0887142a66d",
   "metadata": {},
   "outputs": [],
   "source": []
  },
  {
   "cell_type": "code",
   "execution_count": 146,
   "id": "9a054a5f-c6e8-41dc-9436-7618e0f3a5a0",
   "metadata": {},
   "outputs": [
    {
     "name": "stdout",
     "output_type": "stream",
     "text": [
      "\n",
      "=== FastText ===\n",
      "Downloading https://dl.fbaipublicfiles.com/fasttext/vectors-crawl/cc.ru.300.bin.gz\n",
      " (16.97%) [========>                                          ]                                                  ]>                                                  ]>                                                  ]>                                                  ]>                                                  ]>                                                  ]>                                                  ]>                                                  ]>                                                  ]>                                                  ]>                                                  ]>                                                  ]>                                                  ]>                                                  ]>                                                  ]>                                                  ]>                                                  ]>                                                  ]>                                                  ]>                                                  ]>                                                  ]>                                                  ]>                                                  ]>                                                  ]>                                                  ]>                                                  ]>                                                  ]>                                                  ]>                                                  ]>                                                  ]>                                                  ]>                                                  ]>                                                  ]>                                                  ]>                                                  ]>                                                  ]>                                                  ]>                                                  ]>                                                  ]>                                                  ]>                                                  ]>                                                  ]>                                                  ]>                                                  ]>                                                  ]>                                                  ]>                                                  ]>                                                  ]>                                                  ]>                                                  ]>                                                  ]>                                                  ]>                                                  ]>                                                  ]>                                                  ]>                                                  ]>                                                  ]>                                                  ]>                                                  ]>                                                  ]>                                                  ]>                                                  ]>                                                  ]>                                                  ]>                                                  ]>                                                  ]>                                                  ]>                                                  ]>                                                  ]>                                                  ]>                                                  ]>                                                  ]>                                                  ]>                                                  ]>                                                  ]>                                                  ]>                                                  ]>                                                  ]>                                                  ]>                                                  ]>                                                  ]>                                                  ]>                                                  ]>                                                  ]>                                                  ]>                                                  ]>                                                  ]>                                                  ]>                                                  ]>                                                  ]>                                                  ]>                                                  ]>                                                  ]>                                                  ]>                                                  ]>                                                  ]>                                                  ]>                                                  ]>                                                  ]>                                                  ]>                                                  ]>                                                  ]>                                                  ]>                                                  ]>                                                  ]>                                                  ]>                                                  ]>                                                  ]>                                                  ]>                                                  ]>                                                  ]>                                                  ]>                                                  ]>                                                  ]>                                                  ]>                                                  ]>                                                  ]>                                                  ]>                                                  ]>                                                  ]>                                                  ]>                                                  ]>                                                  ]>                                                  ]>                                                  ]>                                                  ]>                                                  ]>                                                  ]>                                                  ]>                                                  ]>                                                  ]>                                                  ]>                                                  ]>                                                  ]>                                                  ]>                                                  ]>                                                  ]>                                                  ]>                                                  ]>                                                  ]>                                                  ]>                                                  ]>                                                  ]>                                                  ]>                                                  ]>                                                  ]>                                                  ]>                                                  ]>                                                  ]>                                                  ]>                                                  ]>                                                  ]>                                                  ]>                                                  ]>                                                  ]>                                                  ]>                                                  ]>                                                  ]>                                                  ]>                                                  ]>                                                  ]>                                                  ]>                                                  ]>                                                  ]>                                                  ]>                                                  ]>                                                  ]>                                                  ]>                                                  ]>                                                  ]>                                                  ]>                                                  ]>                                                  ]>                                                  ]>                                                  ]>                                                  ]>                                                  ]>                                                  ]>                                                  ]>                                                  ]>                                                  ]>                                                  ]>                                                  ]>                                                  ]>                                                  ]>                                                  ]>                                                  ]>                                                  ]>                                                  ]>                                                  ]>                                                  ]>                                                  ]>                                                  ]>                                                  ]>                                                  ]>                                                  ]>                                                  ]>                                                  ]>                                                  ]>                                                  ]>                                                  ]>                                                  ]>                                                  ]>                                                  ]>                                                  ]>                                                  ]>                                                  ]>                                                  ]>                                                  ]>                                                  ]>                                                  ]>                                                  ]>                                                  ]>                                                  ]>                                                  ]>                                                  ]>                                                  ]>                                                  ]>                                                  ]>                                                  ]>                                                  ]>                                                  ]>                                                  ]>                                                  ]>                                                  ]>                                                  ]>                                                  ]>                                                  ]>                                                  ]>                                                  ]>                                                  ]>                                                  ]>                                                  ]>                                                  ]>                                                  ]>                                                  ]>                                                  ]>                                                  ]>                                                  ]>                                                  ]>                                                  ]>                                                  ]>                                                  ]>                                                  ]>                                                  ]>                                                  ]>                                                  ]>                                                  ]>                                                  ]>                                                  ]>                                                  ]>                                                  ]>                                                  ]>                                                  ]>                                                  ]>                                                  ]>                                                  ]>                                                  ]>                                                  ]>                                                  ]>                                                  ]>                                                  ]>                                                  ]>                                                  ]>                                                  ]>                                                  ]=>                                                 ]=>                                                 ]=>                                                 ]=>                                                 ]=>                                                 ]=>                                                 ]=>                                                 ]=>                                                 ]=>                                                 ]=>                                                 ]=>                                                 ]=>                                                 ]=>                                                 ]=>                                                 ]=>                                                 ]=>                                                 ]=>                                                 ]=>                                                 ]=>                                                 ]=>                                                 ]=>                                                 ]=>                                                 ]=>                                                 ]=>                                                 ]=>                                                 ]=>                                                 ]=>                                                 ]=>                                                 ]=>                                                 ]=>                                                 ]=>                                                 ]=>                                                 ]=>                                                 ]=>                                                 ]=>                                                 ]=>                                                 ]=>                                                 ]=>                                                 ]=>                                                 ]=>                                                 ]=>                                                 ]=>                                                 ]=>                                                 ]=>                                                 ]=>                                                 ]=>                                                 ]=>                                                 ]=>                                                 ]=>                                                 ]=>                                                 ]=>                                                 ]=>                                                 ]=>                                                 ]=>                                                 ]=>                                                 ]=>                                                 ]=>                                                 ]=>                                                 ]=>                                                 ]=>                                                 ]=>                                                 ]=>                                                 ]=>                                                 ]=>                                                 ]=>                                                 ]=>                                                 ]=>                                                 ]=>                                                 ]=>                                                 ]=>                                                 ]=>                                                 ]=>                                                 ]=>                                                 ]=>                                                 ]=>                                                 ]=>                                                 ]=>                                                 ]=>                                                 ]=>                                                 ]=>                                                 ]=>                                                 ]=>                                                 ]=>                                                 ]=>                                                 ]=>                                                 ]=>                                                 ]=>                                                 ]=>                                                 ]=>                                                 ]=>                                                 ]=>                                                 ]=>                                                 ]=>                                                 ]=>                                                 ]=>                                                 ]=>                                                 ]=>                                                 ]=>                                                 ]=>                                                 ]=>                                                 ]=>                                                 ]=>                                                 ]=>                                                 ]=>                                                 ]=>                                                 ]=>                                                 ]=>                                                 ]=>                                                 ]=>                                                 ]=>                                                 ]=>                                                 ]=>                                                 ]=>                                                 ]=>                                                 ]=>                                                 ]=>                                                 ]=>                                                 ]=>                                                 ]=>                                                 ]=>                                                 ]=>                                                 ]=>                                                 ]=>                                                 ]=>                                                 ]=>                                                 ]=>                                                 ]=>                                                 ]=>                                                 ]=>                                                 ]=>                                                 ]=>                                                 ]=>                                                 ]=>                                                 ]=>                                                 ]=>                                                 ]=>                                                 ]=>                                                 ]=>                                                 ]=>                                                 ]=>                                                 ]=>                                                 ]=>                                                 ]=>                                                 ]=>                                                 ]=>                                                 ]=>                                                 ]=>                                                 ]=>                                                 ]=>                                                 ]=>                                                 ]=>                                                 ]=>                                                 ]=>                                                 ]=>                                                 ]=>                                                 ]=>                                                 ]=>                                                 ]=>                                                 ]=>                                                 ]=>                                                 ]=>                                                 ]=>                                                 ]=>                                                 ]=>                                                 ]=>                                                 ]=>                                                 ]=>                                                 ]=>                                                 ]=>                                                 ]=>                                                 ]=>                                                 ]=>                                                 ]=>                                                 ]=>                                                 ]=>                                                 ]=>                                                 ]=>                                                 ]=>                                                 ]=>                                                 ]=>                                                 ]=>                                                 ]=>                                                 ]=>                                                 ]=>                                                 ]=>                                                 ]=>                                                 ]=>                                                 ]=>                                                 ]=>                                                 ]=>                                                 ]=>                                                 ]=>                                                 ]=>                                                 ]=>                                                 ]=>                                                 ]=>                                                 ]=>                                                 ]=>                                                 ]=>                                                 ]=>                                                 ]========>                                          ]========>                                          ]========>                                          ]========>                                          ]========>                                          ]========>                                          ]========>                                          ]========>                                          ]========>                                          ]========>                                          ]========>                                          ]========>                                          ]========>                                          ]========>                                          ]========>                                          ]========>                                          ]========>                                          ]========>                                          ]========>                                          ]========>                                          ]========>                                          ]========>                                          ]========>                                          ]========>                                          ]========>                                          ]========>                                          ]========>                                          ]========>                                          ]========>                                          ]========>                                          ]========>                                          ]========>                                          ]\r"
     ]
    },
    {
     "name": "stderr",
     "output_type": "stream",
     "text": [
      "IOPub message rate exceeded.\n",
      "The Jupyter server will temporarily stop sending output\n",
      "to the client in order to avoid crashing it.\n",
      "To change this limit, set the config variable\n",
      "`--ServerApp.iopub_msg_rate_limit`.\n",
      "\n",
      "Current values:\n",
      "ServerApp.iopub_msg_rate_limit=1000.0 (msgs/sec)\n",
      "ServerApp.rate_limit_window=3.0 (secs)\n",
      "\n"
     ]
    },
    {
     "name": "stdout",
     "output_type": "stream",
     "text": [
      " (27.36%) [=============>                                     ]=============>                                     ]=============>                                     ]=============>                                     ]=============>                                     ]=============>                                     ]=============>                                     ]=============>                                     ]=============>                                     ]=============>                                     ]=============>                                     ]=============>                                     ]=============>                                     ]=============>                                     ]=============>                                     ]=============>                                     ]=============>                                     ]=============>                                     ]=============>                                     ]=============>                                     ]=============>                                     ]=============>                                     ]=============>                                     ]=============>                                     ]=============>                                     ]=============>                                     ]=============>                                     ]=============>                                     ]=============>                                     ]=============>                                     ]=============>                                     ]=============>                                     ]=============>                                     ]=============>                                     ]=============>                                     ]=============>                                     ]=============>                                     ]=============>                                     ]=============>                                     ]=============>                                     ]=============>                                     ]=============>                                     ]=============>                                     ]=============>                                     ]=============>                                     ]=============>                                     ]=============>                                     ]=============>                                     ]=============>                                     ]=============>                                     ]\r"
     ]
    },
    {
     "name": "stderr",
     "output_type": "stream",
     "text": [
      "IOPub message rate exceeded.\n",
      "The Jupyter server will temporarily stop sending output\n",
      "to the client in order to avoid crashing it.\n",
      "To change this limit, set the config variable\n",
      "`--ServerApp.iopub_msg_rate_limit`.\n",
      "\n",
      "Current values:\n",
      "ServerApp.iopub_msg_rate_limit=1000.0 (msgs/sec)\n",
      "ServerApp.rate_limit_window=3.0 (secs)\n",
      "\n"
     ]
    },
    {
     "name": "stdout",
     "output_type": "stream",
     "text": [
      " (29.54%) [==============>                                    ]==============>                                    ]==============>                                    ]==============>                                    ]==============>                                    ]==============>                                    ]==============>                                    ]==============>                                    ]==============>                                    ]==============>                                    ]==============>                                    ]==============>                                    ]==============>                                    ]==============>                                    ]==============>                                    ]==============>                                    ]==============>                                    ]==============>                                    ]==============>                                    ]==============>                                    ]==============>                                    ]==============>                                    ]==============>                                    ]==============>                                    ]==============>                                    ]==============>                                    ]==============>                                    ]==============>                                    ]==============>                                    ]==============>                                    ]==============>                                    ]==============>                                    ]==============>                                    ]==============>                                    ]==============>                                    ]==============>                                    ]==============>                                    ]==============>                                    ]==============>                                    ]==============>                                    ]==============>                                    ]==============>                                    ]==============>                                    ]==============>                                    ]==============>                                    ]==============>                                    ]==============>                                    ]==============>                                    ]==============>                                    ]==============>                                    ]==============>                                    ]==============>                                    ]==============>                                    ]==============>                                    ]==============>                                    ]==============>                                    ]==============>                                    ]==============>                                    ]==============>                                    ]==============>                                    ]==============>                                    ]==============>                                    ]==============>                                    ]==============>                                    ]==============>                                    ]==============>                                    ]==============>                                    ]==============>                                    ]==============>                                    ]==============>                                    ]\r"
     ]
    },
    {
     "name": "stderr",
     "output_type": "stream",
     "text": [
      "IOPub message rate exceeded.\n",
      "The Jupyter server will temporarily stop sending output\n",
      "to the client in order to avoid crashing it.\n",
      "To change this limit, set the config variable\n",
      "`--ServerApp.iopub_msg_rate_limit`.\n",
      "\n",
      "Current values:\n",
      "ServerApp.iopub_msg_rate_limit=1000.0 (msgs/sec)\n",
      "ServerApp.rate_limit_window=3.0 (secs)\n",
      "\n"
     ]
    },
    {
     "name": "stdout",
     "output_type": "stream",
     "text": [
      " (40.97%) [====================>                              ]==============>                                    ]==============>                                    ]==============>                                    ]===============>                                   ]===============>                                   ]===============>                                   ]===============>                                   ]===============>                                   ]===============>                                   ]===============>                                   ]===============>                                   ]===============>                                   ]===============>                                   ]===============>                                   ]===============>                                   ]===============>                                   ]===============>                                   ]===============>                                   ]===============>                                   ]===============>                                   ]===============>                                   ]===============>                                   ]===============>                                   ]===============>                                   ]===============>                                   ]===============>                                   ]===============>                                   ]===============>                                   ]===============>                                   ]===============>                                   ]===============>                                   ]===============>                                   ]====================>                              ]====================>                              ]====================>                              ]====================>                              ]====================>                              ]====================>                              ]====================>                              ]====================>                              ]====================>                              ]====================>                              ]====================>                              ]====================>                              ]====================>                              ]====================>                              ]====================>                              ]====================>                              ]====================>                              ]====================>                              ]====================>                              ]====================>                              ]====================>                              ]====================>                              ]====================>                              ]====================>                              ]====================>                              ]====================>                              ]====================>                              ]====================>                              ]====================>                              ]====================>                              ]====================>                              ]====================>                              ]====================>                              ]====================>                              ]====================>                              ]====================>                              ]====================>                              ]====================>                              ]====================>                              ]====================>                              ]====================>                              ]====================>                              ]====================>                              ]====================>                              ]====================>                              ]====================>                              ]====================>                              ]====================>                              ]====================>                              ]====================>                              ]====================>                              ]====================>                              ]====================>                              ]====================>                              ]====================>                              ]\r"
     ]
    },
    {
     "name": "stderr",
     "output_type": "stream",
     "text": [
      "IOPub message rate exceeded.\n",
      "The Jupyter server will temporarily stop sending output\n",
      "to the client in order to avoid crashing it.\n",
      "To change this limit, set the config variable\n",
      "`--ServerApp.iopub_msg_rate_limit`.\n",
      "\n",
      "Current values:\n",
      "ServerApp.iopub_msg_rate_limit=1000.0 (msgs/sec)\n",
      "ServerApp.rate_limit_window=3.0 (secs)\n",
      "\n"
     ]
    },
    {
     "name": "stdout",
     "output_type": "stream",
     "text": [
      " (42.93%) [=====================>                             ]=====================>                             ]=====================>                             ]=====================>                             ]=====================>                             ]=====================>                             ]=====================>                             ]=====================>                             ]=====================>                             ]=====================>                             ]=====================>                             ]=====================>                             ]=====================>                             ]=====================>                             ]=====================>                             ]=====================>                             ]=====================>                             ]=====================>                             ]=====================>                             ]=====================>                             ]=====================>                             ]=====================>                             ]=====================>                             ]=====================>                             ]=====================>                             ]=====================>                             ]=====================>                             ]=====================>                             ]=====================>                             ]=====================>                             ]=====================>                             ]=====================>                             ]=====================>                             ]=====================>                             ]=====================>                             ]=====================>                             ]=====================>                             ]=====================>                             ]=====================>                             ]=====================>                             ]=====================>                             ]=====================>                             ]=====================>                             ]=====================>                             ]=====================>                             ]=====================>                             ]=====================>                             ]=====================>                             ]=====================>                             ]=====================>                             ]=====================>                             ]=====================>                             ]=====================>                             ]=====================>                             ]=====================>                             ]=====================>                             ]=====================>                             ]=====================>                             ]=====================>                             ]=====================>                             ]=====================>                             ]=====================>                             ]=====================>                             ]=====================>                             ]=====================>                             ]=====================>                             ]=====================>                             ]=====================>                             ]=====================>                             ]=====================>                             ]=====================>                             ]=====================>                             ]=====================>                             ]=====================>                             ]=====================>                             ]=====================>                             ]=====================>                             ]=====================>                             ]=====================>                             ]=====================>                             ]=====================>                             ]=====================>                             ]=====================>                             ]=====================>                             ]=====================>                             ]=====================>                             ]=====================>                             ]\r"
     ]
    },
    {
     "name": "stderr",
     "output_type": "stream",
     "text": [
      "IOPub message rate exceeded.\n",
      "The Jupyter server will temporarily stop sending output\n",
      "to the client in order to avoid crashing it.\n",
      "To change this limit, set the config variable\n",
      "`--ServerApp.iopub_msg_rate_limit`.\n",
      "\n",
      "Current values:\n",
      "ServerApp.iopub_msg_rate_limit=1000.0 (msgs/sec)\n",
      "ServerApp.rate_limit_window=3.0 (secs)\n",
      "\n"
     ]
    },
    {
     "name": "stdout",
     "output_type": "stream",
     "text": [
      " (63.70%) [===============================>                   ]=========================>                         ]=========================>                         ]=========================>                         ]=========================>                         ]=========================>                         ]=========================>                         ]=========================>                         ]=========================>                         ]=========================>                         ]=========================>                         ]=========================>                         ]=========================>                         ]=========================>                         ]=========================>                         ]=========================>                         ]=========================>                         ]=========================>                         ]=========================>                         ]=========================>                         ]=========================>                         ]=========================>                         ]=========================>                         ]=========================>                         ]=========================>                         ]=========================>                         ]=========================>                         ]=========================>                         ]=========================>                         ]=========================>                         ]=========================>                         ]=========================>                         ]=========================>                         ]=========================>                         ]=========================>                         ]=========================>                         ]=========================>                         ]=========================>                         ]=========================>                         ]=========================>                         ]=========================>                         ]=========================>                         ]=========================>                         ]=========================>                         ]=========================>                         ]=========================>                         ]=========================>                         ]=========================>                         ]=========================>                         ]=========================>                         ]=========================>                         ]=========================>                         ]=========================>                         ]=========================>                         ]=========================>                         ]=========================>                         ]=========================>                         ]=========================>                         ]=========================>                         ]=========================>                         ]=========================>                         ]=========================>                         ]=========================>                         ]=========================>                         ]=========================>                         ]=========================>                         ]=========================>                         ]=========================>                         ]=========================>                         ]=========================>                         ]=========================>                         ]=========================>                         ]=========================>                         ]=========================>                         ]=========================>                         ]=========================>                         ]=========================>                         ]=========================>                         ]=========================>                         ]=========================>                         ]=========================>                         ]=========================>                         ]=========================>                         ]=========================>                         ]=========================>                         ]=========================>                         ]=========================>                         ]=========================>                         ]=========================>                         ]=========================>                         ]=========================>                         ]=========================>                         ]=========================>                         ]=========================>                         ]=========================>                         ]=========================>                         ]=========================>                         ]=========================>                         ]=========================>                         ]=========================>                         ]=========================>                         ]=========================>                         ]=========================>                         ]=========================>                         ]=========================>                         ]=========================>                         ]=========================>                         ]=========================>                         ]=========================>                         ]=========================>                         ]=========================>                         ]=========================>                         ]=========================>                         ]=========================>                         ]=========================>                         ]=========================>                         ]=========================>                         ]=========================>                         ]=========================>                         ]=========================>                         ]=========================>                         ]=========================>                         ]=========================>                         ]=========================>                         ]=========================>                         ]=========================>                         ]=========================>                         ]=========================>                         ]=========================>                         ]=========================>                         ]=========================>                         ]=========================>                         ]=========================>                         ]=========================>                         ]=========================>                         ]=========================>                         ]=========================>                         ]=========================>                         ]=========================>                         ]=========================>                         ]==========================>                        ]==========================>                        ]==========================>                        ]==========================>                        ]==========================>                        ]==========================>                        ]==========================>                        ]==========================>                        ]===============================>                   ]===============================>                   ]===============================>                   ]===============================>                   ]===============================>                   ]===============================>                   ]===============================>                   ]===============================>                   ]===============================>                   ]===============================>                   ]===============================>                   ]===============================>                   ]===============================>                   ]===============================>                   ]===============================>                   ]===============================>                   ]===============================>                   ]===============================>                   ]===============================>                   ]===============================>                   ]===============================>                   ]===============================>                   ]===============================>                   ]===============================>                   ]===============================>                   ]===============================>                   ]===============================>                   ]===============================>                   ]===============================>                   ]===============================>                   ]===============================>                   ]===============================>                   ]===============================>                   ]===============================>                   ]===============================>                   ]===============================>                   ]===============================>                   ]===============================>                   ]===============================>                   ]===============================>                   ]===============================>                   ]===============================>                   ]===============================>                   ]===============================>                   ]===============================>                   ]===============================>                   ]===============================>                   ]===============================>                   ]===============================>                   ]===============================>                   ]===============================>                   ]\r"
     ]
    },
    {
     "name": "stderr",
     "output_type": "stream",
     "text": [
      "IOPub message rate exceeded.\n",
      "The Jupyter server will temporarily stop sending output\n",
      "to the client in order to avoid crashing it.\n",
      "To change this limit, set the config variable\n",
      "`--ServerApp.iopub_msg_rate_limit`.\n",
      "\n",
      "Current values:\n",
      "ServerApp.iopub_msg_rate_limit=1000.0 (msgs/sec)\n",
      "ServerApp.rate_limit_window=3.0 (secs)\n",
      "\n"
     ]
    },
    {
     "name": "stdout",
     "output_type": "stream",
     "text": [
      " (65.08%) [================================>                  ]================================>                  ]================================>                  ]================================>                  ]================================>                  ]================================>                  ]================================>                  ]================================>                  ]================================>                  ]================================>                  ]================================>                  ]================================>                  ]================================>                  ]================================>                  ]================================>                  ]================================>                  ]================================>                  ]================================>                  ]================================>                  ]================================>                  ]================================>                  ]================================>                  ]================================>                  ]================================>                  ]================================>                  ]================================>                  ]================================>                  ]================================>                  ]================================>                  ]================================>                  ]================================>                  ]================================>                  ]================================>                  ]================================>                  ]================================>                  ]================================>                  ]================================>                  ]================================>                  ]================================>                  ]================================>                  ]================================>                  ]================================>                  ]================================>                  ]================================>                  ]================================>                  ]================================>                  ]================================>                  ]================================>                  ]================================>                  ]================================>                  ]================================>                  ]================================>                  ]================================>                  ]================================>                  ]================================>                  ]================================>                  ]================================>                  ]================================>                  ]================================>                  ]================================>                  ]================================>                  ]================================>                  ]================================>                  ]================================>                  ]================================>                  ]================================>                  ]================================>                  ]================================>                  ]================================>                  ]================================>                  ]================================>                  ]================================>                  ]================================>                  ]================================>                  ]================================>                  ]================================>                  ]================================>                  ]================================>                  ]\r"
     ]
    },
    {
     "name": "stderr",
     "output_type": "stream",
     "text": [
      "IOPub message rate exceeded.\n",
      "The Jupyter server will temporarily stop sending output\n",
      "to the client in order to avoid crashing it.\n",
      "To change this limit, set the config variable\n",
      "`--ServerApp.iopub_msg_rate_limit`.\n",
      "\n",
      "Current values:\n",
      "ServerApp.iopub_msg_rate_limit=1000.0 (msgs/sec)\n",
      "ServerApp.rate_limit_window=3.0 (secs)\n",
      "\n"
     ]
    },
    {
     "name": "stdout",
     "output_type": "stream",
     "text": [
      " (73.00%) [====================================>              ]====================================>              ]====================================>              ]====================================>              ]====================================>              ]====================================>              ]====================================>              ]====================================>              ]====================================>              ]====================================>              ]====================================>              ]====================================>              ]====================================>              ]====================================>              ]====================================>              ]====================================>              ]====================================>              ]====================================>              ]====================================>              ]====================================>              ]====================================>              ]====================================>              ]====================================>              ]====================================>              ]====================================>              ]====================================>              ]====================================>              ]====================================>              ]====================================>              ]====================================>              ]====================================>              ]====================================>              ]====================================>              ]====================================>              ]====================================>              ]====================================>              ]====================================>              ]====================================>              ]====================================>              ]====================================>              ]====================================>              ]====================================>              ]====================================>              ]====================================>              ]====================================>              ]====================================>              ]====================================>              ]====================================>              ]====================================>              ]====================================>              ]====================================>              ]====================================>              ]====================================>              ]====================================>              ]====================================>              ]====================================>              ]====================================>              ]====================================>              ]====================================>              ]====================================>              ]====================================>              ]====================================>              ]\r"
     ]
    },
    {
     "name": "stderr",
     "output_type": "stream",
     "text": [
      "IOPub message rate exceeded.\n",
      "The Jupyter server will temporarily stop sending output\n",
      "to the client in order to avoid crashing it.\n",
      "To change this limit, set the config variable\n",
      "`--ServerApp.iopub_msg_rate_limit`.\n",
      "\n",
      "Current values:\n",
      "ServerApp.iopub_msg_rate_limit=1000.0 (msgs/sec)\n",
      "ServerApp.rate_limit_window=3.0 (secs)\n",
      "\n"
     ]
    },
    {
     "name": "stdout",
     "output_type": "stream",
     "text": [
      " (92.11%) [==============================================>    ]=====================================>             ]=====================================>             ]=====================================>             ]=====================================>             ]=====================================>             ]=====================================>             ]=====================================>             ]=====================================>             ]=====================================>             ]=====================================>             ]=====================================>             ]=============================================>     ]=============================================>     ]=============================================>     ]=============================================>     ]=============================================>     ]=============================================>     ]=============================================>     ]=============================================>     ]=============================================>     ]=============================================>     ]=============================================>     ]=============================================>     ]=============================================>     ]=============================================>     ]=============================================>     ]=============================================>     ]=============================================>     ]=============================================>     ]=============================================>     ]=============================================>     ]=============================================>     ]=============================================>     ]=============================================>     ]=============================================>     ]=============================================>     ]=============================================>     ]=============================================>     ]=============================================>     ]=============================================>     ]=============================================>     ]=============================================>     ]=============================================>     ]=============================================>     ]=============================================>     ]=============================================>     ]=============================================>     ]=============================================>     ]=============================================>     ]=============================================>     ]=============================================>     ]=============================================>     ]==============================================>    ]==============================================>    ]==============================================>    ]==============================================>    ]==============================================>    ]==============================================>    ]==============================================>    ]==============================================>    ]==============================================>    ]==============================================>    ]==============================================>    ]==============================================>    ]==============================================>    ]==============================================>    ]==============================================>    ]==============================================>    ]==============================================>    ]==============================================>    ]==============================================>    ]\r"
     ]
    },
    {
     "name": "stderr",
     "output_type": "stream",
     "text": [
      "IOPub message rate exceeded.\n",
      "The Jupyter server will temporarily stop sending output\n",
      "to the client in order to avoid crashing it.\n",
      "To change this limit, set the config variable\n",
      "`--ServerApp.iopub_msg_rate_limit`.\n",
      "\n",
      "Current values:\n",
      "ServerApp.iopub_msg_rate_limit=1000.0 (msgs/sec)\n",
      "ServerApp.rate_limit_window=3.0 (secs)\n",
      "\n"
     ]
    }
   ],
   "source": [
    "# === FastText ===\n",
    "print(\"\\n=== FastText ===\")\n",
    "fasttext.util.download_model('ru', if_exists='ignore')\n",
    "ft = fasttext.load_model('cc.ru.300.bin')\n",
    "\n",
    "def get_text_embedding(text, model, max_len=50):\n",
    "    text = text.lower()\n",
    "    text = re.sub(r\"[^а-яёa-z0-9\\s]\", \" \", text)\n",
    "    text = re.sub(r\"\\s+\", \" \", text).strip()\n",
    "    words = text.strip().split()[:max_len]\n",
    "    word_vectors = [model.get_word_vector(w) for w in words if w]\n",
    "    if len(word_vectors) == 0:\n",
    "        return np.zeros((max_len, model.get_dimension()))  # [max_len, 300]\n",
    "    word_vectors = np.array(word_vectors)  # [len(words), 300]\n",
    "    pad_len = max_len - len(word_vectors)\n",
    "    word_vectors = np.pad(word_vectors, ((0, pad_len), (0, 0)), mode='constant')  # [max_len, 300]\n",
    "    return word_vectors"
   ]
  },
  {
   "cell_type": "code",
   "execution_count": null,
   "id": "7fb643b9-db17-48bd-a9e4-e975e0e5c358",
   "metadata": {},
   "outputs": [],
   "source": []
  },
  {
   "cell_type": "code",
   "execution_count": null,
   "id": "5db15b7f-30d4-42aa-bd35-8326b43f4a9c",
   "metadata": {},
   "outputs": [],
   "source": []
  },
  {
   "cell_type": "code",
   "execution_count": 13,
   "id": "464c9574-9e0c-4690-b7d4-c15937cd4ba8",
   "metadata": {},
   "outputs": [],
   "source": [
    "X_train_ft_1 = np.array([get_text_embedding(s, ft) for s in x_1])"
   ]
  },
  {
   "cell_type": "code",
   "execution_count": 14,
   "id": "90adf517-3ed8-4120-a024-4d83ffc3a74b",
   "metadata": {},
   "outputs": [],
   "source": [
    "X_train_ft_2 = np.array([get_text_embedding(s, ft) for s in x_2])"
   ]
  },
  {
   "cell_type": "code",
   "execution_count": 15,
   "id": "c1f2a2d4-8885-48b6-a0e5-e37b4cf7dced",
   "metadata": {},
   "outputs": [],
   "source": [
    "X_train_ft_3 = np.array([get_text_embedding(s, ft) for s in x_3])"
   ]
  },
  {
   "cell_type": "code",
   "execution_count": 16,
   "id": "1b1adabd-e8a8-46c7-acee-94a6d752636a",
   "metadata": {},
   "outputs": [],
   "source": [
    "X_train_ft_4 = np.array([get_text_embedding(s, ft) for s in x_4])"
   ]
  },
  {
   "cell_type": "code",
   "execution_count": 17,
   "id": "53da0dd1-7d76-4045-b24c-462485e255bd",
   "metadata": {},
   "outputs": [],
   "source": [
    "X_train_ft_5 = np.array([get_text_embedding(s, ft) for s in x_5])"
   ]
  },
  {
   "cell_type": "code",
   "execution_count": 18,
   "id": "53e6d91e-19fb-4a1f-9d5e-5df9b9d15b53",
   "metadata": {},
   "outputs": [],
   "source": [
    "X_train_ft_6 = np.array([get_text_embedding(s, ft) for s in x_6])"
   ]
  },
  {
   "cell_type": "code",
   "execution_count": 19,
   "id": "2b78459f-0406-407b-b4ee-3566907dad0f",
   "metadata": {},
   "outputs": [],
   "source": [
    "X_train_ft_7 = np.array([get_text_embedding(s, ft) for s in x_7])"
   ]
  },
  {
   "cell_type": "code",
   "execution_count": 20,
   "id": "bfd53f03-f9fc-424b-afbc-de0045a6b98e",
   "metadata": {},
   "outputs": [],
   "source": [
    "X_train_ft_8 = np.array([get_text_embedding(s, ft) for s in x_8])"
   ]
  },
  {
   "cell_type": "code",
   "execution_count": 21,
   "id": "bf87700e-4fe9-40d4-972e-2ef65a674aef",
   "metadata": {},
   "outputs": [],
   "source": [
    "X_train_ft_9 = np.array([get_text_embedding(s, ft) for s in x_9])"
   ]
  },
  {
   "cell_type": "code",
   "execution_count": null,
   "id": "4ec07bd0-8224-4ea5-b22e-0d8e035a72f5",
   "metadata": {},
   "outputs": [],
   "source": []
  },
  {
   "cell_type": "code",
   "execution_count": 22,
   "id": "81bcad97-9406-47ce-84ff-3b9ea5def1c3",
   "metadata": {},
   "outputs": [
    {
     "name": "stdout",
     "output_type": "stream",
     "text": [
      "[(50, 300), (50, 300), (50, 300), (50, 300), (50, 300)]\n"
     ]
    }
   ],
   "source": [
    "print([get_text_embedding(s, ft).shape for s in x_9[:5]])"
   ]
  },
  {
   "cell_type": "code",
   "execution_count": 23,
   "id": "a11c05ad-dc22-4497-96ce-5f598ccf8ca4",
   "metadata": {},
   "outputs": [],
   "source": [
    "X_train_ft = np.concatenate(\n",
    "    [X_train_ft_1, X_train_ft_2, X_train_ft_3, X_train_ft_4, \n",
    "     X_train_ft_5, X_train_ft_6, X_train_ft_7, X_train_ft_8, \n",
    "     X_train_ft_9],\n",
    "    axis=0\n",
    ")"
   ]
  },
  {
   "cell_type": "code",
   "execution_count": 24,
   "id": "a127c2e6-b29d-45c1-95bd-351f0c82dc4b",
   "metadata": {
    "scrolled": true
   },
   "outputs": [
    {
     "data": {
      "text/plain": [
       "array([[[ 2.13465490e-03, -3.14592011e-03, -9.29429103e-03, ...,\n",
       "         -1.94670446e-02,  3.40633057e-02, -3.30008939e-03],\n",
       "        [ 5.17563708e-02,  9.47899558e-03,  2.02253647e-02, ...,\n",
       "          2.75836121e-02, -5.26788048e-02, -3.58344205e-02],\n",
       "        [ 1.53560471e-02, -4.27011475e-02, -1.04131699e-02, ...,\n",
       "         -4.96229902e-02, -6.60395771e-02, -1.99417874e-01],\n",
       "        ...,\n",
       "        [ 0.00000000e+00,  0.00000000e+00,  0.00000000e+00, ...,\n",
       "          0.00000000e+00,  0.00000000e+00,  0.00000000e+00],\n",
       "        [ 0.00000000e+00,  0.00000000e+00,  0.00000000e+00, ...,\n",
       "          0.00000000e+00,  0.00000000e+00,  0.00000000e+00],\n",
       "        [ 0.00000000e+00,  0.00000000e+00,  0.00000000e+00, ...,\n",
       "          0.00000000e+00,  0.00000000e+00,  0.00000000e+00]],\n",
       "\n",
       "       [[ 1.29841775e-01, -6.50196522e-03, -7.11609945e-02, ...,\n",
       "         -4.42091897e-02, -2.45059550e-01, -8.00090730e-02],\n",
       "        [ 2.05443315e-02, -1.71633363e-01, -7.19676018e-02, ...,\n",
       "          2.53604688e-02, -6.78354502e-02, -1.38706654e-01],\n",
       "        [ 7.63590634e-02, -1.27222240e-01, -1.07774511e-03, ...,\n",
       "          3.06202061e-02,  6.86461255e-02, -6.72911406e-02],\n",
       "        ...,\n",
       "        [ 0.00000000e+00,  0.00000000e+00,  0.00000000e+00, ...,\n",
       "          0.00000000e+00,  0.00000000e+00,  0.00000000e+00],\n",
       "        [ 0.00000000e+00,  0.00000000e+00,  0.00000000e+00, ...,\n",
       "          0.00000000e+00,  0.00000000e+00,  0.00000000e+00],\n",
       "        [ 0.00000000e+00,  0.00000000e+00,  0.00000000e+00, ...,\n",
       "          0.00000000e+00,  0.00000000e+00,  0.00000000e+00]],\n",
       "\n",
       "       [[-2.38207802e-02,  1.74449701e-02, -4.31189947e-02, ...,\n",
       "          1.37528598e-01, -1.22328535e-01, -2.80585736e-01],\n",
       "        [-9.90317538e-02,  6.66214824e-02, -9.98375416e-02, ...,\n",
       "          1.27144143e-01, -1.51716014e-02,  3.74435008e-01],\n",
       "        [ 2.94233896e-02,  4.44219261e-03,  4.92438935e-02, ...,\n",
       "          1.60918869e-02, -6.95679933e-02, -4.96939607e-02],\n",
       "        ...,\n",
       "        [ 0.00000000e+00,  0.00000000e+00,  0.00000000e+00, ...,\n",
       "          0.00000000e+00,  0.00000000e+00,  0.00000000e+00],\n",
       "        [ 0.00000000e+00,  0.00000000e+00,  0.00000000e+00, ...,\n",
       "          0.00000000e+00,  0.00000000e+00,  0.00000000e+00],\n",
       "        [ 0.00000000e+00,  0.00000000e+00,  0.00000000e+00, ...,\n",
       "          0.00000000e+00,  0.00000000e+00,  0.00000000e+00]],\n",
       "\n",
       "       ...,\n",
       "\n",
       "       [[ 1.58554001e-03, -1.43794507e-01,  1.15492363e-02, ...,\n",
       "         -9.53549147e-02, -1.16467670e-01, -2.47388646e-01],\n",
       "        [-2.99645215e-03,  2.83834301e-02, -6.33016741e-03, ...,\n",
       "          2.66209990e-02,  3.38747948e-02, -4.55161631e-02],\n",
       "        [ 1.19832382e-01, -7.37264799e-03, -1.01117097e-01, ...,\n",
       "         -4.18679453e-02,  2.22750530e-02, -7.32475705e-03],\n",
       "        ...,\n",
       "        [ 0.00000000e+00,  0.00000000e+00,  0.00000000e+00, ...,\n",
       "          0.00000000e+00,  0.00000000e+00,  0.00000000e+00],\n",
       "        [ 0.00000000e+00,  0.00000000e+00,  0.00000000e+00, ...,\n",
       "          0.00000000e+00,  0.00000000e+00,  0.00000000e+00],\n",
       "        [ 0.00000000e+00,  0.00000000e+00,  0.00000000e+00, ...,\n",
       "          0.00000000e+00,  0.00000000e+00,  0.00000000e+00]],\n",
       "\n",
       "       [[-1.84422056e-03,  1.30088359e-01,  1.01291612e-01, ...,\n",
       "         -1.32377684e-01,  5.49560152e-02, -5.28947730e-03],\n",
       "        [ 7.76699791e-03,  1.06122503e-02,  1.47768864e-02, ...,\n",
       "         -6.32758588e-02, -3.89207527e-02, -2.61392687e-02],\n",
       "        [ 2.05117501e-02,  4.38224226e-02,  2.53709089e-02, ...,\n",
       "          1.73747744e-02,  3.09441000e-01,  3.46320689e-01],\n",
       "        ...,\n",
       "        [ 0.00000000e+00,  0.00000000e+00,  0.00000000e+00, ...,\n",
       "          0.00000000e+00,  0.00000000e+00,  0.00000000e+00],\n",
       "        [ 0.00000000e+00,  0.00000000e+00,  0.00000000e+00, ...,\n",
       "          0.00000000e+00,  0.00000000e+00,  0.00000000e+00],\n",
       "        [ 0.00000000e+00,  0.00000000e+00,  0.00000000e+00, ...,\n",
       "          0.00000000e+00,  0.00000000e+00,  0.00000000e+00]],\n",
       "\n",
       "       [[-8.11691768e-03,  2.08312161e-02,  1.94884092e-03, ...,\n",
       "          2.77161337e-02, -8.38835724e-03,  7.66246999e-03],\n",
       "        [ 2.73065507e-01, -5.22605419e-01, -7.23806322e-02, ...,\n",
       "          9.30663422e-02,  3.21239948e-01,  4.38167542e-01],\n",
       "        [ 3.19648832e-02, -3.99825796e-02, -5.05753309e-02, ...,\n",
       "         -2.65125505e-04,  1.13423206e-02, -4.37794030e-02],\n",
       "        ...,\n",
       "        [ 0.00000000e+00,  0.00000000e+00,  0.00000000e+00, ...,\n",
       "          0.00000000e+00,  0.00000000e+00,  0.00000000e+00],\n",
       "        [ 0.00000000e+00,  0.00000000e+00,  0.00000000e+00, ...,\n",
       "          0.00000000e+00,  0.00000000e+00,  0.00000000e+00],\n",
       "        [ 0.00000000e+00,  0.00000000e+00,  0.00000000e+00, ...,\n",
       "          0.00000000e+00,  0.00000000e+00,  0.00000000e+00]]],\n",
       "      dtype=float32)"
      ]
     },
     "execution_count": 24,
     "metadata": {},
     "output_type": "execute_result"
    }
   ],
   "source": [
    "X_train_ft"
   ]
  },
  {
   "cell_type": "code",
   "execution_count": null,
   "id": "9cca31f4-b3a5-492f-9f0f-02026169b258",
   "metadata": {},
   "outputs": [],
   "source": []
  },
  {
   "cell_type": "code",
   "execution_count": null,
   "id": "a81777aa-80f0-4f81-bdde-7ad145762340",
   "metadata": {
    "scrolled": true
   },
   "outputs": [],
   "source": []
  },
  {
   "cell_type": "code",
   "execution_count": 25,
   "id": "0423bece-0e32-4523-8b68-58ff291141a1",
   "metadata": {
    "scrolled": true
   },
   "outputs": [
    {
     "name": "stdout",
     "output_type": "stream",
     "text": [
      "Пример эмбеддинга FastText для первого текста: [[ 0.00213465 -0.00314592 -0.00929429  0.0334738   0.0228604   0.04059345\n",
      "  -0.00528134 -0.03792536 -0.04602993 -0.00695037]\n",
      " [ 0.05175637  0.009479    0.02022536  0.01808274  0.0296282   0.00295898\n",
      "   0.01422787 -0.02266838 -0.01581611  0.01027999]\n",
      " [ 0.01535605 -0.04270115 -0.01041317  0.10524878 -0.03188214 -0.08835521\n",
      "  -0.04817184  0.08577232 -0.05629525 -0.05624069]\n",
      " [ 0.          0.          0.          0.          0.          0.\n",
      "   0.          0.          0.          0.        ]\n",
      " [ 0.          0.          0.          0.          0.          0.\n",
      "   0.          0.          0.          0.        ]\n",
      " [ 0.          0.          0.          0.          0.          0.\n",
      "   0.          0.          0.          0.        ]\n",
      " [ 0.          0.          0.          0.          0.          0.\n",
      "   0.          0.          0.          0.        ]\n",
      " [ 0.          0.          0.          0.          0.          0.\n",
      "   0.          0.          0.          0.        ]\n",
      " [ 0.          0.          0.          0.          0.          0.\n",
      "   0.          0.          0.          0.        ]\n",
      " [ 0.          0.          0.          0.          0.          0.\n",
      "   0.          0.          0.          0.        ]]\n"
     ]
    }
   ],
   "source": [
    "X_test_ft = np.array([get_text_embedding(s, ft) for s in x_test])    # [M, max_len, 300]\n",
    "print(X_train_ft[0][:10, :10])  # Первые 10 слов, первые 10 элементов"
   ]
  },
  {
   "cell_type": "code",
   "execution_count": 26,
   "id": "b0c18f7f-4975-4eff-a1fd-d300cd731e6f",
   "metadata": {},
   "outputs": [],
   "source": [
    "# === TextDataset ===\n",
    "class TextDataset(Dataset):\n",
    "    def __init__(self, X, y):\n",
    "        self.X = torch.tensor(X, dtype=torch.float32)  # [N, max_len, 300]\n",
    "        self.y = torch.tensor(y, dtype=torch.long)\n",
    "    def __len__(self):\n",
    "        return len(self.X)\n",
    "    def __getitem__(self, idx):\n",
    "        return self.X[idx], self.y[idx]\n",
    "\n",
    "batch_size = 32\n",
    "train_dataset = TextDataset(X_train_ft, y_train)"
   ]
  },
  {
   "cell_type": "code",
   "execution_count": 27,
   "id": "e9fd42c2-0ee0-465e-be75-dab6958565cf",
   "metadata": {},
   "outputs": [],
   "source": [
    "test_dataset = TextDataset(X_test_ft, y_test)"
   ]
  },
  {
   "cell_type": "code",
   "execution_count": 28,
   "id": "834f17e1-0c39-40ba-b22d-d1e02e069d7b",
   "metadata": {},
   "outputs": [],
   "source": [
    "train_loader = DataLoader(train_dataset, batch_size=batch_size, shuffle=True)"
   ]
  },
  {
   "cell_type": "code",
   "execution_count": 29,
   "id": "a13931f8-f4a3-40da-992b-324a1eea2e2f",
   "metadata": {},
   "outputs": [],
   "source": [
    "test_loader = DataLoader(test_dataset, batch_size=batch_size)"
   ]
  },
  {
   "cell_type": "code",
   "execution_count": 30,
   "id": "03ca16a0-714b-4a70-8cad-0d7ac233bb70",
   "metadata": {},
   "outputs": [],
   "source": [
    "# === TextCNN_FT ===\n",
    "class TextCNN_FT(nn.Module):\n",
    "    def __init__(self, embed_dim=300, num_classes=3, kernel_sizes=[3,4,5], num_filters=100, dropout=0.5):\n",
    "        super().__init__()\n",
    "        self.convs = nn.ModuleList([nn.Conv1d(embed_dim, num_filters, k) for k in kernel_sizes])\n",
    "        self.dropout = nn.Dropout(dropout)\n",
    "        self.bn = nn.BatchNorm1d(num_filters * len(kernel_sizes) * 2)  # *2 для max+avg pooling\n",
    "        self.fc = nn.Linear(num_filters * len(kernel_sizes) * 2, num_classes)\n",
    "\n",
    "    def forward(self, x):\n",
    "        # x: [B, L, E]\n",
    "        x = x.permute(0, 2, 1)  # [B, E, L]\n",
    "        convs = [F.relu(conv(x)) for conv in self.convs]  # [B, F, L-k+1]\n",
    "        pools_max = [F.max_pool1d(c, c.size(2)).squeeze(2) for c in convs]  # [B, F]\n",
    "        pools_avg = [F.avg_pool1d(c, c.size(2)).squeeze(2) for c in convs]  # [B, F]\n",
    "        pools = [torch.cat([pm, pa], dim=1) for pm, pa in zip(pools_max, pools_avg)]  # [B, 2F]\n",
    "        x = torch.cat(pools, dim=1)  # [B, 2F * len(kernel_sizes)]\n",
    "        x = self.dropout(self.bn(x))\n",
    "        return self.fc(x)"
   ]
  },
  {
   "cell_type": "code",
   "execution_count": 31,
   "id": "ac6a9f3b-cbd5-4668-a061-00062cdac9db",
   "metadata": {},
   "outputs": [
    {
     "name": "stdout",
     "output_type": "stream",
     "text": [
      "TextCNN_FT(\n",
      "  (convs): ModuleList(\n",
      "    (0): Conv1d(300, 100, kernel_size=(3,), stride=(1,))\n",
      "    (1): Conv1d(300, 100, kernel_size=(4,), stride=(1,))\n",
      "    (2): Conv1d(300, 100, kernel_size=(5,), stride=(1,))\n",
      "  )\n",
      "  (dropout): Dropout(p=0.5, inplace=False)\n",
      "  (bn): BatchNorm1d(600, eps=1e-05, momentum=0.1, affine=True, track_running_stats=True)\n",
      "  (fc): Linear(in_features=600, out_features=3, bias=True)\n",
      ")\n"
     ]
    }
   ],
   "source": [
    "model = TextCNN_FT(embed_dim=300, num_classes=3)\n",
    "print(model)"
   ]
  },
  {
   "cell_type": "code",
   "execution_count": null,
   "id": "d666d9a3-75cd-45ac-b6ba-35ac71cbe49e",
   "metadata": {},
   "outputs": [],
   "source": []
  },
  {
   "cell_type": "code",
   "execution_count": null,
   "id": "096208ca-aeb9-423a-ad1a-fc1bcab0b553",
   "metadata": {},
   "outputs": [],
   "source": [
    "# === Функция обучения ===\n",
    "def train_model(model, train_loader, test_loader, epochs=5, lr=1e-3):\n",
    "    device = torch.device(\"cuda\" if torch.cuda.is_available() else \"cpu\")\n",
    "    model = model.to(device)\n",
    "    \n",
    "    optimizer = torch.optim.Adam(model.parameters(), lr=lr)\n",
    "    criterion = nn.CrossEntropyLoss()\n",
    "    \n",
    "    train_losses = []\n",
    "    test_accuracies = []\n",
    "    test_f1_scores = []  # Добавляем список для F1-score\n",
    "    \n",
    "    for epoch in range(1, epochs+1):\n",
    "        model.train()\n",
    "        running_loss = 0\n",
    "        pbar = tqdm(train_loader, desc=f\"Epoch {epoch}/{epochs}\")\n",
    "        \n",
    "        for X_batch, y_batch in pbar:\n",
    "            X_batch, y_batch = X_batch.to(device), y_batch.to(device)  # [B, max_len, 300], [B]\n",
    "            optimizer.zero_grad()\n",
    "            logits = model(X_batch)  # [B, num_classes]\n",
    "            loss = criterion(logits, y_batch)\n",
    "            loss.backward()\n",
    "            optimizer.step()\n",
    "            \n",
    "            running_loss += loss.item() * X_batch.size(0)\n",
    "            pbar.set_postfix({\"loss\": loss.item()})\n",
    "        \n",
    "        epoch_loss = running_loss / len(train_loader.dataset)\n",
    "        train_losses.append(epoch_loss)\n",
    "        \n",
    "        model.eval()\n",
    "        all_preds = []\n",
    "        all_labels = []\n",
    "        with torch.no_grad():\n",
    "            for X_batch, y_batch in test_loader:\n",
    "                X_batch, y_batch = X_batch.to(device), y_batch.to(device)\n",
    "                logits = model(X_batch)\n",
    "                preds = torch.argmax(logits, dim=1)\n",
    "                all_preds.extend(preds.cpu().numpy())\n",
    "                all_labels.extend(y_batch.cpu().numpy())\n",
    "        \n",
    "        acc = accuracy_score(all_labels, all_preds)\n",
    "        test_accuracies.append(acc)\n",
    "        \n",
    "        # Добавляем подсчет Macro-F1\n",
    "        f1 = f1_score(all_labels, all_preds, average='macro')\n",
    "        test_f1_scores.append(f1)\n",
    "        \n",
    "        print(f\"Epoch {epoch}: Train Loss = {epoch_loss:.4f}, Test Accuracy = {acc:.4f}, Test F1 = {f1:.4f}\")\n",
    "    \n",
    "    # График Loss, Accuracy и F1-score\n",
    "    fig, ax1 = plt.subplots(figsize=(10,5))\n",
    "    ax1.set_xlabel('Epoch')\n",
    "    ax1.set_ylabel('Train Loss', color='tab:red')\n",
    "    ax1.plot(range(1, epochs+1), train_losses, color='tab:red', marker='o', label='Train Loss')\n",
    "    ax1.tick_params(axis='y', labelcolor='tab:red')\n",
    "    \n",
    "    ax2 = ax1.twinx()\n",
    "    ax2.set_ylabel('Metrics', color='tab:blue')\n",
    "    ax2.plot(range(1, epochs+1), test_accuracies, color='tab:blue', marker='x', label='Test Accuracy')\n",
    "    ax2.plot(range(1, epochs+1), test_f1_scores, color='tab:green', marker='s', label='Test F1-score')\n",
    "    ax2.tick_params(axis='y', labelcolor='tab:blue')\n",
    "    \n",
    "    # Добавляем легенду\n",
    "    lines1, labels1 = ax1.get_legend_handles_labels()\n",
    "    lines2, labels2 = ax2.get_legend_handles_labels()\n",
    "    ax2.legend(lines1 + lines2, labels1 + labels2, loc='best')\n",
    "    \n",
    "    fig.tight_layout()\n",
    "    plt.title('Training Progress')\n",
    "    plt.show()\n",
    "    \n",
    "    # Confusion Matrix\n",
    "    final_cm = confusion_matrix(all_labels, all_preds)\n",
    "    ConfusionMatrixDisplay(final_cm).plot(cmap=\"Blues\")\n",
    "    plt.show()\n",
    "    \n",
    "    # Выводим финальные метрики\n",
    "    final_accuracy = test_accuracies[-1]\n",
    "    final_f1 = test_f1_scores[-1]\n",
    "    print(f\"\\nFinal Results:\")\n",
    "    print(f\"Accuracy: {final_accuracy:.4f}\")\n",
    "    print(f\"Macro-F1: {final_f1:.4f}\")\n",
    "    \n",
    "    return test_accuracies[-1], test_f1_scores[-1], final_cm"
   ]
  },
  {
   "cell_type": "code",
   "execution_count": 33,
   "id": "5cb3d554-8048-4905-aa86-6cf626dbb562",
   "metadata": {},
   "outputs": [],
   "source": [
    "def evaluate(model, test_loader):\n",
    "    device = torch.device(\"cuda\" if torch.cuda.is_available() else \"cpu\")\n",
    "    model = model.to(device)\n",
    "    model.eval()\n",
    "    \n",
    "    all_preds = []\n",
    "    all_labels = []\n",
    "    running_loss = 0\n",
    "    criterion = nn.CrossEntropyLoss()\n",
    "    \n",
    "    with torch.no_grad():\n",
    "        for X_batch, y_batch in tqdm(test_loader, desc=\"Evaluating\"):\n",
    "            X_batch, y_batch = X_batch.to(device), y_batch.to(device)  # [B, max_len, 300], [B]\n",
    "            logits = model(X_batch)  # [B, num_classes]\n",
    "            loss = criterion(logits, y_batch)\n",
    "            running_loss += loss.item() * X_batch.size(0)\n",
    "            preds = torch.argmax(logits, dim=1)\n",
    "            all_preds.extend(preds.cpu().numpy())\n",
    "            all_labels.extend(y_batch.cpu().numpy())\n",
    "    \n",
    "    test_loss = running_loss / len(test_loader.dataset)\n",
    "    test_accuracy = accuracy_score(all_labels, all_preds)\n",
    "    # Вычисление Macro-F1\n",
    "    macro_f1 = f1_score(all_labels, all_preds, average='macro')\n",
    "    \n",
    "    print(f\"Test Loss = {test_loss:.4f}, Test Accuracy = {test_accuracy:.4f}\")\n",
    "    \n",
    "    # Confusion Matrix\n",
    "    cm = confusion_matrix(all_labels, all_preds)\n",
    "    ConfusionMatrixDisplay(cm).plot(cmap=\"Blues\")\n",
    "    plt.show()\n",
    "    \n",
    "    return test_accuracy, macro_f1, cm"
   ]
  },
  {
   "cell_type": "code",
   "execution_count": 34,
   "id": "07e456f4-359d-4bd0-b509-a7e3627f8573",
   "metadata": {
    "scrolled": true
   },
   "outputs": [
    {
     "name": "stderr",
     "output_type": "stream",
     "text": [
      "Epoch 1/10: 100%|████████████████| 563/563 [00:02<00:00, 240.45it/s, loss=0.399]\n"
     ]
    },
    {
     "name": "stdout",
     "output_type": "stream",
     "text": [
      "Epoch 1: Train Loss = 0.5164, Test Accuracy = 0.8479\n"
     ]
    },
    {
     "name": "stderr",
     "output_type": "stream",
     "text": [
      "Epoch 2/10: 100%|████████████████| 563/563 [00:01<00:00, 309.17it/s, loss=0.511]\n"
     ]
    },
    {
     "name": "stdout",
     "output_type": "stream",
     "text": [
      "Epoch 2: Train Loss = 0.3605, Test Accuracy = 0.8869\n"
     ]
    },
    {
     "name": "stderr",
     "output_type": "stream",
     "text": [
      "Epoch 3/10: 100%|█████████████████| 563/563 [00:01<00:00, 326.14it/s, loss=0.41]\n"
     ]
    },
    {
     "name": "stdout",
     "output_type": "stream",
     "text": [
      "Epoch 3: Train Loss = 0.3155, Test Accuracy = 0.8735\n"
     ]
    },
    {
     "name": "stderr",
     "output_type": "stream",
     "text": [
      "Epoch 4/10: 100%|████████████████| 563/563 [00:01<00:00, 332.44it/s, loss=0.205]\n"
     ]
    },
    {
     "name": "stdout",
     "output_type": "stream",
     "text": [
      "Epoch 4: Train Loss = 0.2865, Test Accuracy = 0.8936\n"
     ]
    },
    {
     "name": "stderr",
     "output_type": "stream",
     "text": [
      "Epoch 5/10: 100%|████████████████| 563/563 [00:01<00:00, 310.53it/s, loss=0.127]\n"
     ]
    },
    {
     "name": "stdout",
     "output_type": "stream",
     "text": [
      "Epoch 5: Train Loss = 0.2533, Test Accuracy = 0.8931\n"
     ]
    },
    {
     "name": "stderr",
     "output_type": "stream",
     "text": [
      "Epoch 6/10: 100%|████████████████| 563/563 [00:01<00:00, 333.41it/s, loss=0.464]\n"
     ]
    },
    {
     "name": "stdout",
     "output_type": "stream",
     "text": [
      "Epoch 6: Train Loss = 0.2351, Test Accuracy = 0.8921\n"
     ]
    },
    {
     "name": "stderr",
     "output_type": "stream",
     "text": [
      "Epoch 7/10: 100%|████████████████| 563/563 [00:01<00:00, 321.57it/s, loss=0.199]\n"
     ]
    },
    {
     "name": "stdout",
     "output_type": "stream",
     "text": [
      "Epoch 7: Train Loss = 0.2108, Test Accuracy = 0.8913\n"
     ]
    },
    {
     "name": "stderr",
     "output_type": "stream",
     "text": [
      "Epoch 8/10: 100%|████████████████| 563/563 [00:01<00:00, 319.75it/s, loss=0.248]\n"
     ]
    },
    {
     "name": "stdout",
     "output_type": "stream",
     "text": [
      "Epoch 8: Train Loss = 0.1945, Test Accuracy = 0.8952\n"
     ]
    },
    {
     "name": "stderr",
     "output_type": "stream",
     "text": [
      "Epoch 9/10: 100%|████████████████| 563/563 [00:01<00:00, 326.74it/s, loss=0.419]\n"
     ]
    },
    {
     "name": "stdout",
     "output_type": "stream",
     "text": [
      "Epoch 9: Train Loss = 0.1831, Test Accuracy = 0.8969\n"
     ]
    },
    {
     "name": "stderr",
     "output_type": "stream",
     "text": [
      "Epoch 10/10: 100%|███████████████| 563/563 [00:01<00:00, 340.58it/s, loss=0.137]\n"
     ]
    },
    {
     "name": "stdout",
     "output_type": "stream",
     "text": [
      "Epoch 10: Train Loss = 0.1684, Test Accuracy = 0.8917\n"
     ]
    },
    {
     "data": {
      "image/png": "[encoded data removed]",
      "text/plain": [
       "<Figure size 800x400 with 2 Axes>"
      ]
     },
     "metadata": {},
     "output_type": "display_data"
    },
    {
     "data": {
      "image/png": "[encoded data removed]",
      "text/plain": [
       "<Figure size 640x480 with 2 Axes>"
      ]
     },
     "metadata": {},
     "output_type": "display_data"
    },
    {
     "name": "stdout",
     "output_type": "stream",
     "text": [
      "CNN Train Accuracy: 0.8917222222222222\n"
     ]
    }
   ],
   "source": [
    "cnn_acc, cnn_f1, cnn_cm = train_model(model, train_loader, test_loader, epochs=10, lr=1e-3)\n",
    "print(f\"CNN Train Accuracy: {cnn_acc:.4f}, Macro-F1: {cnn_f1:.4f}\")"
   ]
  },
  {
   "cell_type": "code",
   "execution_count": 35,
   "id": "abbe4152-3bf6-427d-b883-bf72ce38931e",
   "metadata": {},
   "outputs": [
    {
     "name": "stderr",
     "output_type": "stream",
     "text": [
      "Evaluating: 100%|████████████████████████████| 563/563 [00:00<00:00, 705.38it/s]\n"
     ]
    },
    {
     "name": "stdout",
     "output_type": "stream",
     "text": [
      "Test Loss = 0.3464, Test Accuracy = 0.8917\n"
     ]
    },
    {
     "data": {
      "image/png": "[encoded data removed]",
      "text/plain": [
       "<Figure size 640x480 with 2 Axes>"
      ]
     },
     "metadata": {},
     "output_type": "display_data"
    },
    {
     "name": "stdout",
     "output_type": "stream",
     "text": [
      "CNN Test Accuracy: 0.8917222222222222\n"
     ]
    }
   ],
   "source": [
    "test_acc, test_f1, test_cm = evaluate(model, test_loader)\n",
    "print(\"CNN Test Accuracy:\", test_acc)\n",
    "print(\"CNN Test Macro-F1:\", test_f1)"
   ]
  },
  {
   "cell_type": "code",
   "execution_count": null,
   "id": "01b82b7b-2e3a-44d1-8bbc-a7b652c7a394",
   "metadata": {},
   "outputs": [],
   "source": []
  },
  {
   "cell_type": "code",
   "execution_count": null,
   "id": "8f7d17f9-99d8-4aa6-a30e-e8d2817bcb96",
   "metadata": {},
   "outputs": [],
   "source": []
  },
  {
   "cell_type": "code",
   "execution_count": 39,
   "id": "3008b83c-c06d-4f87-87ed-e823755470a9",
   "metadata": {},
   "outputs": [
    {
     "name": "stderr",
     "output_type": "stream",
     "text": [
      "Epoch 1/10: 100%|████████████████| 563/563 [00:03<00:00, 181.09it/s, loss=0.815]\n"
     ]
    },
    {
     "name": "stdout",
     "output_type": "stream",
     "text": [
      "Epoch 1: Train Loss = 0.5364, Test Accuracy = 0.8721\n"
     ]
    },
    {
     "name": "stderr",
     "output_type": "stream",
     "text": [
      "Epoch 2/10: 100%|████████████████| 563/563 [00:03<00:00, 185.16it/s, loss=0.307]\n"
     ]
    },
    {
     "name": "stdout",
     "output_type": "stream",
     "text": [
      "Epoch 2: Train Loss = 0.3173, Test Accuracy = 0.8918\n"
     ]
    },
    {
     "name": "stderr",
     "output_type": "stream",
     "text": [
      "Epoch 3/10: 100%|█████████████████| 563/563 [00:03<00:00, 183.08it/s, loss=0.35]\n"
     ]
    },
    {
     "name": "stdout",
     "output_type": "stream",
     "text": [
      "Epoch 3: Train Loss = 0.2735, Test Accuracy = 0.8998\n"
     ]
    },
    {
     "name": "stderr",
     "output_type": "stream",
     "text": [
      "Epoch 4/10: 100%|███████████████| 563/563 [00:03<00:00, 185.02it/s, loss=0.0945]\n"
     ]
    },
    {
     "name": "stdout",
     "output_type": "stream",
     "text": [
      "Epoch 4: Train Loss = 0.2420, Test Accuracy = 0.9040\n"
     ]
    },
    {
     "name": "stderr",
     "output_type": "stream",
     "text": [
      "Epoch 5/10: 100%|█████████████████| 563/563 [00:03<00:00, 184.38it/s, loss=0.34]\n"
     ]
    },
    {
     "name": "stdout",
     "output_type": "stream",
     "text": [
      "Epoch 5: Train Loss = 0.2175, Test Accuracy = 0.9015\n"
     ]
    },
    {
     "name": "stderr",
     "output_type": "stream",
     "text": [
      "Epoch 6/10: 100%|████████████████| 563/563 [00:03<00:00, 183.00it/s, loss=0.049]\n"
     ]
    },
    {
     "name": "stdout",
     "output_type": "stream",
     "text": [
      "Epoch 6: Train Loss = 0.2003, Test Accuracy = 0.9087\n"
     ]
    },
    {
     "name": "stderr",
     "output_type": "stream",
     "text": [
      "Epoch 7/10: 100%|███████████████| 563/563 [00:03<00:00, 184.29it/s, loss=0.0752]\n"
     ]
    },
    {
     "name": "stdout",
     "output_type": "stream",
     "text": [
      "Epoch 7: Train Loss = 0.1827, Test Accuracy = 0.9069\n"
     ]
    },
    {
     "name": "stderr",
     "output_type": "stream",
     "text": [
      "Epoch 8/10: 100%|███████████████| 563/563 [00:03<00:00, 184.26it/s, loss=0.0338]\n"
     ]
    },
    {
     "name": "stdout",
     "output_type": "stream",
     "text": [
      "Epoch 8: Train Loss = 0.1661, Test Accuracy = 0.9101\n"
     ]
    },
    {
     "name": "stderr",
     "output_type": "stream",
     "text": [
      "Epoch 9/10: 100%|████████████████| 563/563 [00:03<00:00, 185.17it/s, loss=0.109]\n"
     ]
    },
    {
     "name": "stdout",
     "output_type": "stream",
     "text": [
      "Epoch 9: Train Loss = 0.1506, Test Accuracy = 0.9091\n"
     ]
    },
    {
     "name": "stderr",
     "output_type": "stream",
     "text": [
      "Epoch 10/10: 100%|██████████████| 563/563 [00:03<00:00, 184.79it/s, loss=0.0615]\n"
     ]
    },
    {
     "name": "stdout",
     "output_type": "stream",
     "text": [
      "Epoch 10: Train Loss = 0.1346, Test Accuracy = 0.9100\n"
     ]
    },
    {
     "data": {
      "image/png": "[encoded data removed]",
      "text/plain": [
       "<Figure size 800x400 with 2 Axes>"
      ]
     },
     "metadata": {},
     "output_type": "display_data"
    },
    {
     "data": {
      "image/png": "[encoded data removed]",
      "text/plain": [
       "<Figure size 640x480 with 2 Axes>"
      ]
     },
     "metadata": {},
     "output_type": "display_data"
    },
    {
     "name": "stdout",
     "output_type": "stream",
     "text": [
      "BiLSTM Train Accuracy: 0.91\n"
     ]
    }
   ],
   "source": [
    "lstm_acc, lstm_f1, lstm_cm = train_model(model_lstm, train_loader, test_loader, epochs=10, lr=1e-3)\n",
    "print(\"BiLSTM Train Accuracy:\", lstm_acc)\n",
    "print(\"BiLSTM Train Macro-F1:\", lstm_f1)"
   ]
  },
  {
   "cell_type": "code",
   "execution_count": 40,
   "id": "7b3abc13-4aa5-4f12-8065-f4fbc78ffd7b",
   "metadata": {},
   "outputs": [
    {
     "name": "stderr",
     "output_type": "stream",
     "text": [
      "Evaluating: 100%|████████████████████████████| 563/563 [00:01<00:00, 415.88it/s]"
     ]
    },
    {
     "name": "stdout",
     "output_type": "stream",
     "text": [
      "Test Loss = 0.2838, Test Accuracy = 0.9100\n"
     ]
    },
    {
     "name": "stderr",
     "output_type": "stream",
     "text": [
      "\n"
     ]
    },
    {
     "data": {
      "image/png": "[encoded data removed]",
      "text/plain": [
       "<Figure size 640x480 with 2 Axes>"
      ]
     },
     "metadata": {},
     "output_type": "display_data"
    },
    {
     "name": "stdout",
     "output_type": "stream",
     "text": [
      "BiLSTM Test Accuracy: 0.91\n"
     ]
    }
   ],
   "source": [
    "test_acc, test_f1, test_cm = evaluate(model_lstm, test_loader)\n",
    "print(\"BiLSTM Test Accuracy:\", test_acc)\n",
    "print(\"BiLSTM Test Macro-F1:\", test_f1)"
   ]
  },
  {
   "cell_type": "code",
   "execution_count": null,
   "id": "666d77b9-2db2-4556-8446-7434b200f43e",
   "metadata": {},
   "outputs": [],
   "source": []
  },
  {
   "cell_type": "markdown",
   "id": "04ef2363-218d-4f6b-9807-ecb9caff0004",
   "metadata": {},
   "source": [
    "**Таким образом, удалось достигнуть отметки accuracy > 90%**"
   ]
  },
  {
   "cell_type": "code",
   "execution_count": null,
   "id": "5972b05f-2fde-4056-b1f2-6c7961e5853b",
   "metadata": {},
   "outputs": [],
   "source": []
  },
  {
   "cell_type": "code",
   "execution_count": null,
   "id": "88e833e1-a4ce-4396-a956-b6969e6d66d0",
   "metadata": {},
   "outputs": [],
   "source": []
  },
  {
   "cell_type": "code",
   "execution_count": 41,
   "id": "517ed923-8396-4e63-82d3-c3a26513e938",
   "metadata": {
    "scrolled": true
   },
   "outputs": [
    {
     "name": "stderr",
     "output_type": "stream",
     "text": [
      "Epoch 1/20: 100%|████████████████| 563/563 [00:02<00:00, 199.82it/s, loss=0.275]\n"
     ]
    },
    {
     "name": "stdout",
     "output_type": "stream",
     "text": [
      "Epoch 1: Train Loss = 0.4738, Test Accuracy = 0.8849\n"
     ]
    },
    {
     "name": "stderr",
     "output_type": "stream",
     "text": [
      "Epoch 2/20: 100%|████████████████| 563/563 [00:02<00:00, 221.75it/s, loss=0.416]\n"
     ]
    },
    {
     "name": "stdout",
     "output_type": "stream",
     "text": [
      "Epoch 2: Train Loss = 0.2797, Test Accuracy = 0.9002\n"
     ]
    },
    {
     "name": "stderr",
     "output_type": "stream",
     "text": [
      "Epoch 3/20: 100%|███████████████| 563/563 [00:02<00:00, 222.08it/s, loss=0.0887]\n"
     ]
    },
    {
     "name": "stdout",
     "output_type": "stream",
     "text": [
      "Epoch 3: Train Loss = 0.2421, Test Accuracy = 0.9076\n"
     ]
    },
    {
     "name": "stderr",
     "output_type": "stream",
     "text": [
      "Epoch 4/20: 100%|████████████████| 563/563 [00:02<00:00, 217.84it/s, loss=0.293]\n"
     ]
    },
    {
     "name": "stdout",
     "output_type": "stream",
     "text": [
      "Epoch 4: Train Loss = 0.2178, Test Accuracy = 0.9099\n"
     ]
    },
    {
     "name": "stderr",
     "output_type": "stream",
     "text": [
      "Epoch 5/20: 100%|████████████████| 563/563 [00:02<00:00, 219.40it/s, loss=0.273]\n"
     ]
    },
    {
     "name": "stdout",
     "output_type": "stream",
     "text": [
      "Epoch 5: Train Loss = 0.2036, Test Accuracy = 0.9106\n"
     ]
    },
    {
     "name": "stderr",
     "output_type": "stream",
     "text": [
      "Epoch 6/20: 100%|████████████████| 563/563 [00:02<00:00, 216.87it/s, loss=0.318]\n"
     ]
    },
    {
     "name": "stdout",
     "output_type": "stream",
     "text": [
      "Epoch 6: Train Loss = 0.1849, Test Accuracy = 0.9130\n"
     ]
    },
    {
     "name": "stderr",
     "output_type": "stream",
     "text": [
      "Epoch 7/20: 100%|███████████████| 563/563 [00:02<00:00, 216.75it/s, loss=0.0503]\n"
     ]
    },
    {
     "name": "stdout",
     "output_type": "stream",
     "text": [
      "Epoch 7: Train Loss = 0.1695, Test Accuracy = 0.9145\n"
     ]
    },
    {
     "name": "stderr",
     "output_type": "stream",
     "text": [
      "Epoch 8/20: 100%|████████████████| 563/563 [00:02<00:00, 217.68it/s, loss=0.278]\n"
     ]
    },
    {
     "name": "stdout",
     "output_type": "stream",
     "text": [
      "Epoch 8: Train Loss = 0.1562, Test Accuracy = 0.9109\n"
     ]
    },
    {
     "name": "stderr",
     "output_type": "stream",
     "text": [
      "Epoch 9/20: 100%|█████████████████| 563/563 [00:02<00:00, 218.52it/s, loss=0.66]\n"
     ]
    },
    {
     "name": "stdout",
     "output_type": "stream",
     "text": [
      "Epoch 9: Train Loss = 0.1352, Test Accuracy = 0.9095\n"
     ]
    },
    {
     "name": "stderr",
     "output_type": "stream",
     "text": [
      "Epoch 10/20: 100%|███████████████| 563/563 [00:02<00:00, 218.19it/s, loss=0.273]\n"
     ]
    },
    {
     "name": "stdout",
     "output_type": "stream",
     "text": [
      "Epoch 10: Train Loss = 0.1244, Test Accuracy = 0.9075\n"
     ]
    },
    {
     "name": "stderr",
     "output_type": "stream",
     "text": [
      "Epoch 11/20: 100%|███████████████| 563/563 [00:02<00:00, 212.90it/s, loss=0.132]\n"
     ]
    },
    {
     "name": "stdout",
     "output_type": "stream",
     "text": [
      "Epoch 11: Train Loss = 0.1057, Test Accuracy = 0.9129\n"
     ]
    },
    {
     "name": "stderr",
     "output_type": "stream",
     "text": [
      "Epoch 12/20: 100%|██████████████| 563/563 [00:02<00:00, 216.22it/s, loss=0.0129]\n"
     ]
    },
    {
     "name": "stdout",
     "output_type": "stream",
     "text": [
      "Epoch 12: Train Loss = 0.0926, Test Accuracy = 0.9081\n"
     ]
    },
    {
     "name": "stderr",
     "output_type": "stream",
     "text": [
      "Epoch 13/20: 100%|█████████████| 563/563 [00:02<00:00, 217.78it/s, loss=0.00432]\n"
     ]
    },
    {
     "name": "stdout",
     "output_type": "stream",
     "text": [
      "Epoch 13: Train Loss = 0.0802, Test Accuracy = 0.9088\n"
     ]
    },
    {
     "name": "stderr",
     "output_type": "stream",
     "text": [
      "Epoch 14/20: 100%|██████████████| 563/563 [00:02<00:00, 217.33it/s, loss=0.0245]\n"
     ]
    },
    {
     "name": "stdout",
     "output_type": "stream",
     "text": [
      "Epoch 14: Train Loss = 0.0716, Test Accuracy = 0.9045\n"
     ]
    },
    {
     "name": "stderr",
     "output_type": "stream",
     "text": [
      "Epoch 15/20: 100%|███████████████| 563/563 [00:02<00:00, 217.03it/s, loss=0.276]\n"
     ]
    },
    {
     "name": "stdout",
     "output_type": "stream",
     "text": [
      "Epoch 15: Train Loss = 0.0632, Test Accuracy = 0.9067\n"
     ]
    },
    {
     "name": "stderr",
     "output_type": "stream",
     "text": [
      "Epoch 16/20: 100%|███████████████| 563/563 [00:02<00:00, 215.85it/s, loss=0.489]\n"
     ]
    },
    {
     "name": "stdout",
     "output_type": "stream",
     "text": [
      "Epoch 16: Train Loss = 0.0559, Test Accuracy = 0.9069\n"
     ]
    },
    {
     "name": "stderr",
     "output_type": "stream",
     "text": [
      "Epoch 17/20: 100%|█████████████| 563/563 [00:02<00:00, 210.84it/s, loss=0.00524]\n"
     ]
    },
    {
     "name": "stdout",
     "output_type": "stream",
     "text": [
      "Epoch 17: Train Loss = 0.0442, Test Accuracy = 0.9051\n"
     ]
    },
    {
     "name": "stderr",
     "output_type": "stream",
     "text": [
      "Epoch 18/20: 100%|██████████████| 563/563 [00:02<00:00, 213.07it/s, loss=0.0209]\n"
     ]
    },
    {
     "name": "stdout",
     "output_type": "stream",
     "text": [
      "Epoch 18: Train Loss = 0.0432, Test Accuracy = 0.9071\n"
     ]
    },
    {
     "name": "stderr",
     "output_type": "stream",
     "text": [
      "Epoch 19/20: 100%|██████████████| 563/563 [00:02<00:00, 220.39it/s, loss=0.0385]\n"
     ]
    },
    {
     "name": "stdout",
     "output_type": "stream",
     "text": [
      "Epoch 19: Train Loss = 0.0366, Test Accuracy = 0.9012\n"
     ]
    },
    {
     "name": "stderr",
     "output_type": "stream",
     "text": [
      "Epoch 20/20: 100%|██████████████| 563/563 [00:02<00:00, 221.44it/s, loss=0.0232]\n"
     ]
    },
    {
     "name": "stdout",
     "output_type": "stream",
     "text": [
      "Epoch 20: Train Loss = 0.0381, Test Accuracy = 0.9076\n"
     ]
    },
    {
     "data": {
      "image/png": "[encoded data removed]",
      "text/plain": [
       "<Figure size 800x400 with 2 Axes>"
      ]
     },
     "metadata": {},
     "output_type": "display_data"
    },
    {
     "data": {
      "image/png": "[encoded data removed]",
      "text/plain": [
       "<Figure size 640x480 with 2 Axes>"
      ]
     },
     "metadata": {},
     "output_type": "display_data"
    },
    {
     "name": "stdout",
     "output_type": "stream",
     "text": [
      "BiGRU Train Accuracy: 0.9076111111111111\n"
     ]
    }
   ],
   "source": [
    "gru_acc, gru_f1, gru_cm = train_model(model_gru, train_loader, test_loader, epochs=20, lr=1e-3)\n",
    "print(\"BiGRU Train Accuracy:\", gru_acc)\n",
    "print(\"BiGRU Train Macro-F1:\", gru_f1)"
   ]
  },
  {
   "cell_type": "code",
   "execution_count": 42,
   "id": "77cb76f3-d1be-41a9-88a7-d79fadd2d487",
   "metadata": {},
   "outputs": [
    {
     "name": "stderr",
     "output_type": "stream",
     "text": [
      "Evaluating: 100%|████████████████████████████| 563/563 [00:01<00:00, 544.29it/s]"
     ]
    },
    {
     "name": "stdout",
     "output_type": "stream",
     "text": [
      "Test Loss = 0.4937, Test Accuracy = 0.9076\n"
     ]
    },
    {
     "name": "stderr",
     "output_type": "stream",
     "text": [
      "\n"
     ]
    },
    {
     "data": {
      "image/png": "[encoded data removed]",
      "text/plain": [
       "<Figure size 640x480 with 2 Axes>"
      ]
     },
     "metadata": {},
     "output_type": "display_data"
    },
    {
     "name": "stdout",
     "output_type": "stream",
     "text": [
      "BiGRU Test Accuracy: 0.9076111111111111\n"
     ]
    }
   ],
   "source": [
    "test_acc, test_f1, test_cm = evaluate(model_gru, test_loader)\n",
    "print(\"BiGRU Test Accuracy:\", test_acc)\n",
    "print(\"BiGRU Test Macro-F1:\", test_f1)"
   ]
  },
  {
   "cell_type": "code",
   "execution_count": null,
   "id": "e702a2aa-eebf-4ecf-98af-a05d1f8a782b",
   "metadata": {},
   "outputs": [],
   "source": []
  },
  {
   "cell_type": "markdown",
   "id": "68d454fe-968c-4fcd-9e3d-71391bd5ee4a",
   "metadata": {},
   "source": [
    "**Оба варианта RNN, и LSTM, и GRU продемонстрировали метрики accuracy выше 90%.**"
   ]
  },
  {
   "cell_type": "code",
   "execution_count": null,
   "id": "b027fe2c-a493-4ab3-abbd-6e623b0dfa05",
   "metadata": {},
   "outputs": [],
   "source": []
  },
  {
   "cell_type": "code",
   "execution_count": null,
   "id": "24e110dd-1955-436c-ab39-6c1d862f798a",
   "metadata": {},
   "outputs": [],
   "source": []
  },
  {
   "cell_type": "code",
   "execution_count": null,
   "id": "4a2784bf-0502-4df0-9083-624c272f1772",
   "metadata": {},
   "outputs": [],
   "source": []
  },
  {
   "cell_type": "code",
   "execution_count": null,
   "id": "488bcebc-f35e-4d94-bbe4-d786041df5aa",
   "metadata": {},
   "outputs": [],
   "source": []
  }
 ],
 "metadata": {
  "kernelspec": {
   "display_name": "Python 3 (ipykernel)",
   "language": "python",
   "name": "python3"
  },
  "language_info": {
   "codemirror_mode": {
    "name": "ipython",
    "version": 3
   },
   "file_extension": ".py",
   "mimetype": "text/x-python",
   "name": "python",
   "nbconvert_exporter": "python",
   "pygments_lexer": "ipython3",
   "version": "3.12.3"
  }
 },
 "nbformat": 4,
 "nbformat_minor": 5
}
