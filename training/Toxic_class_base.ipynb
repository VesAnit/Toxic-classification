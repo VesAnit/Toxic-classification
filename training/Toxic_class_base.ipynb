{
 "cells": [
  {
   "cell_type": "code",
   "execution_count": 1,
   "id": "dd7d6e3c-436a-43be-95ce-1bd51e15bf32",
   "metadata": {},
   "outputs": [],
   "source": [
    "import random\n",
    "import numpy as np\n",
    "from datasets import load_dataset\n",
    "from sklearn.feature_extraction.text import CountVectorizer, TfidfVectorizer\n",
    "from sklearn.model_selection import train_test_split\n",
    "from sklearn.metrics import accuracy_score, confusion_matrix\n",
    "from sklearn.linear_model import LogisticRegression\n",
    "import fasttext.util\n",
    "from tqdm import tqdm\n",
    "import matplotlib.pyplot as plt\n",
    "from sklearn.metrics import accuracy_score, confusion_matrix, ConfusionMatrixDisplay\n",
    "import torch\n",
    "import torch.nn as nn\n",
    "from torch.utils.data import Dataset, DataLoader\n",
    "import torch.nn.functional as F\n",
    "import pandas as pd\n",
    "import re"
   ]
  },
  {
   "cell_type": "code",
   "execution_count": null,
   "id": "347ccbac-1cc2-4938-9ca4-13445c36a694",
   "metadata": {},
   "outputs": [],
   "source": []
  },
  {
   "cell_type": "code",
   "execution_count": 2,
   "id": "10e0e5ec-df1a-4bae-97c0-77e04c3d814c",
   "metadata": {},
   "outputs": [
    {
     "data": {
      "text/html": [
       "<div>\n",
       "<style scoped>\n",
       "    .dataframe tbody tr th:only-of-type {\n",
       "        vertical-align: middle;\n",
       "    }\n",
       "\n",
       "    .dataframe tbody tr th {\n",
       "        vertical-align: top;\n",
       "    }\n",
       "\n",
       "    .dataframe thead th {\n",
       "        text-align: right;\n",
       "    }\n",
       "</style>\n",
       "<table border=\"1\" class=\"dataframe\">\n",
       "  <thead>\n",
       "    <tr style=\"text-align: right;\">\n",
       "      <th></th>\n",
       "      <th>comment_text</th>\n",
       "      <th>neutral</th>\n",
       "      <th>toxic_not_threat</th>\n",
       "      <th>toxic_threat</th>\n",
       "    </tr>\n",
       "  </thead>\n",
       "  <tbody>\n",
       "    <tr>\n",
       "      <th>0</th>\n",
       "      <td>Explanation\\nWhy the edits made under my usern...</td>\n",
       "      <td>1</td>\n",
       "      <td>0</td>\n",
       "      <td>0</td>\n",
       "    </tr>\n",
       "    <tr>\n",
       "      <th>1</th>\n",
       "      <td>D'aww! He matches this background colour I'm s...</td>\n",
       "      <td>1</td>\n",
       "      <td>0</td>\n",
       "      <td>0</td>\n",
       "    </tr>\n",
       "    <tr>\n",
       "      <th>2</th>\n",
       "      <td>Hey man, I'm really not trying to edit war. It...</td>\n",
       "      <td>1</td>\n",
       "      <td>0</td>\n",
       "      <td>0</td>\n",
       "    </tr>\n",
       "    <tr>\n",
       "      <th>3</th>\n",
       "      <td>\"\\nMore\\nI can't make any real suggestions on ...</td>\n",
       "      <td>1</td>\n",
       "      <td>0</td>\n",
       "      <td>0</td>\n",
       "    </tr>\n",
       "    <tr>\n",
       "      <th>4</th>\n",
       "      <td>You, sir, are my hero. Any chance you remember...</td>\n",
       "      <td>1</td>\n",
       "      <td>0</td>\n",
       "      <td>0</td>\n",
       "    </tr>\n",
       "    <tr>\n",
       "      <th>...</th>\n",
       "      <td>...</td>\n",
       "      <td>...</td>\n",
       "      <td>...</td>\n",
       "      <td>...</td>\n",
       "    </tr>\n",
       "    <tr>\n",
       "      <th>159566</th>\n",
       "      <td>\":::::And for the second time of asking, when ...</td>\n",
       "      <td>1</td>\n",
       "      <td>0</td>\n",
       "      <td>0</td>\n",
       "    </tr>\n",
       "    <tr>\n",
       "      <th>159567</th>\n",
       "      <td>You should be ashamed of yourself \\n\\nThat is ...</td>\n",
       "      <td>1</td>\n",
       "      <td>0</td>\n",
       "      <td>0</td>\n",
       "    </tr>\n",
       "    <tr>\n",
       "      <th>159568</th>\n",
       "      <td>Spitzer \\n\\nUmm, theres no actual article for ...</td>\n",
       "      <td>1</td>\n",
       "      <td>0</td>\n",
       "      <td>0</td>\n",
       "    </tr>\n",
       "    <tr>\n",
       "      <th>159569</th>\n",
       "      <td>And it looks like it was actually you who put ...</td>\n",
       "      <td>1</td>\n",
       "      <td>0</td>\n",
       "      <td>0</td>\n",
       "    </tr>\n",
       "    <tr>\n",
       "      <th>159570</th>\n",
       "      <td>\"\\nAnd ... I really don't think you understand...</td>\n",
       "      <td>1</td>\n",
       "      <td>0</td>\n",
       "      <td>0</td>\n",
       "    </tr>\n",
       "  </tbody>\n",
       "</table>\n",
       "<p>159571 rows × 4 columns</p>\n",
       "</div>"
      ],
      "text/plain": [
       "                                             comment_text  neutral  \\\n",
       "0       Explanation\\nWhy the edits made under my usern...        1   \n",
       "1       D'aww! He matches this background colour I'm s...        1   \n",
       "2       Hey man, I'm really not trying to edit war. It...        1   \n",
       "3       \"\\nMore\\nI can't make any real suggestions on ...        1   \n",
       "4       You, sir, are my hero. Any chance you remember...        1   \n",
       "...                                                   ...      ...   \n",
       "159566  \":::::And for the second time of asking, when ...        1   \n",
       "159567  You should be ashamed of yourself \\n\\nThat is ...        1   \n",
       "159568  Spitzer \\n\\nUmm, theres no actual article for ...        1   \n",
       "159569  And it looks like it was actually you who put ...        1   \n",
       "159570  \"\\nAnd ... I really don't think you understand...        1   \n",
       "\n",
       "        toxic_not_threat  toxic_threat  \n",
       "0                      0             0  \n",
       "1                      0             0  \n",
       "2                      0             0  \n",
       "3                      0             0  \n",
       "4                      0             0  \n",
       "...                  ...           ...  \n",
       "159566                 0             0  \n",
       "159567                 0             0  \n",
       "159568                 0             0  \n",
       "159569                 0             0  \n",
       "159570                 0             0  \n",
       "\n",
       "[159571 rows x 4 columns]"
      ]
     },
     "execution_count": 2,
     "metadata": {},
     "output_type": "execute_result"
    }
   ],
   "source": [
    "dataset = pd.read_csv('/home/tina/Desktop/Семестр_3/NLP/eng_toxic_full_df.csv')\n",
    "columns = ['comment_text', 'neutral', 'toxic_not_threat', 'toxic_threat']\n",
    "dataset = dataset[columns]\n",
    "dataset\n"
   ]
  },
  {
   "cell_type": "code",
   "execution_count": 3,
   "id": "77a48097-055b-4057-b43d-a9fb0ce67105",
   "metadata": {},
   "outputs": [
    {
     "name": "stdout",
     "output_type": "stream",
     "text": [
      "neutral\n",
      "1    143346\n",
      "0     16225\n",
      "Name: count, dtype: int64\n",
      "toxic_not_threat\n",
      "0    143824\n",
      "1     15747\n",
      "Name: count, dtype: int64\n",
      "toxic_threat\n",
      "0    159093\n",
      "1       478\n",
      "Name: count, dtype: int64\n"
     ]
    }
   ],
   "source": [
    "x = dataset['comment_text']\n",
    "y = dataset[['neutral', 'toxic_not_threat', 'toxic_threat']]\n",
    "print(y['neutral'].value_counts())\n",
    "print(y['toxic_not_threat'].value_counts())\n",
    "print(y['toxic_threat'].value_counts())"
   ]
  },
  {
   "cell_type": "code",
   "execution_count": 4,
   "id": "ea496559-35a6-466f-b028-0c85a42451db",
   "metadata": {},
   "outputs": [
    {
     "data": {
      "text/html": [
       "<div>\n",
       "<style scoped>\n",
       "    .dataframe tbody tr th:only-of-type {\n",
       "        vertical-align: middle;\n",
       "    }\n",
       "\n",
       "    .dataframe tbody tr th {\n",
       "        vertical-align: top;\n",
       "    }\n",
       "\n",
       "    .dataframe thead th {\n",
       "        text-align: right;\n",
       "    }\n",
       "</style>\n",
       "<table border=\"1\" class=\"dataframe\">\n",
       "  <thead>\n",
       "    <tr style=\"text-align: right;\">\n",
       "      <th></th>\n",
       "      <th>comment_text</th>\n",
       "      <th>neutral</th>\n",
       "      <th>toxic_not_threat</th>\n",
       "      <th>toxic_threat</th>\n",
       "    </tr>\n",
       "  </thead>\n",
       "  <tbody>\n",
       "    <tr>\n",
       "      <th>0</th>\n",
       "      <td>\"\\n\\nThe dick who is editing with policy is al...</td>\n",
       "      <td>0</td>\n",
       "      <td>1</td>\n",
       "      <td>0</td>\n",
       "    </tr>\n",
       "    <tr>\n",
       "      <th>1</th>\n",
       "      <td>This is a stupid page. Please expand the artic...</td>\n",
       "      <td>0</td>\n",
       "      <td>1</td>\n",
       "      <td>0</td>\n",
       "    </tr>\n",
       "    <tr>\n",
       "      <th>2</th>\n",
       "      <td>\"Yes, second imposter in a few days. But what ...</td>\n",
       "      <td>1</td>\n",
       "      <td>0</td>\n",
       "      <td>0</td>\n",
       "    </tr>\n",
       "    <tr>\n",
       "      <th>3</th>\n",
       "      <td>I can't believe Wiki is stupid enough as to ma...</td>\n",
       "      <td>0</td>\n",
       "      <td>1</td>\n",
       "      <td>0</td>\n",
       "    </tr>\n",
       "    <tr>\n",
       "      <th>4</th>\n",
       "      <td>AHHHH THANKS! I was rackin my brain the whole ...</td>\n",
       "      <td>1</td>\n",
       "      <td>0</td>\n",
       "      <td>0</td>\n",
       "    </tr>\n",
       "    <tr>\n",
       "      <th>...</th>\n",
       "      <td>...</td>\n",
       "      <td>...</td>\n",
       "      <td>...</td>\n",
       "      <td>...</td>\n",
       "    </tr>\n",
       "    <tr>\n",
       "      <th>30473</th>\n",
       "      <td>Fuck off you ass!Fuck off you ass!Fuck off you...</td>\n",
       "      <td>0</td>\n",
       "      <td>1</td>\n",
       "      <td>0</td>\n",
       "    </tr>\n",
       "    <tr>\n",
       "      <th>30474</th>\n",
       "      <td>\"\\nThis is a Wikipedia page about engines (pow...</td>\n",
       "      <td>1</td>\n",
       "      <td>0</td>\n",
       "      <td>0</td>\n",
       "    </tr>\n",
       "    <tr>\n",
       "      <th>30475</th>\n",
       "      <td>I like it alot. Should we lose the guy standin...</td>\n",
       "      <td>1</td>\n",
       "      <td>0</td>\n",
       "      <td>0</td>\n",
       "    </tr>\n",
       "    <tr>\n",
       "      <th>30476</th>\n",
       "      <td>Hey Aaron Brennenman, Eat shit and Die, sincer...</td>\n",
       "      <td>0</td>\n",
       "      <td>1</td>\n",
       "      <td>0</td>\n",
       "    </tr>\n",
       "    <tr>\n",
       "      <th>30477</th>\n",
       "      <td>REDIRECT Talk:American Landrace pig</td>\n",
       "      <td>0</td>\n",
       "      <td>1</td>\n",
       "      <td>0</td>\n",
       "    </tr>\n",
       "  </tbody>\n",
       "</table>\n",
       "<p>30478 rows × 4 columns</p>\n",
       "</div>"
      ],
      "text/plain": [
       "                                            comment_text  neutral  \\\n",
       "0      \"\\n\\nThe dick who is editing with policy is al...        0   \n",
       "1      This is a stupid page. Please expand the artic...        0   \n",
       "2      \"Yes, second imposter in a few days. But what ...        1   \n",
       "3      I can't believe Wiki is stupid enough as to ma...        0   \n",
       "4      AHHHH THANKS! I was rackin my brain the whole ...        1   \n",
       "...                                                  ...      ...   \n",
       "30473  Fuck off you ass!Fuck off you ass!Fuck off you...        0   \n",
       "30474  \"\\nThis is a Wikipedia page about engines (pow...        1   \n",
       "30475  I like it alot. Should we lose the guy standin...        1   \n",
       "30476  Hey Aaron Brennenman, Eat shit and Die, sincer...        0   \n",
       "30477                REDIRECT Talk:American Landrace pig        0   \n",
       "\n",
       "       toxic_not_threat  toxic_threat  \n",
       "0                     1             0  \n",
       "1                     1             0  \n",
       "2                     0             0  \n",
       "3                     1             0  \n",
       "4                     0             0  \n",
       "...                 ...           ...  \n",
       "30473                 1             0  \n",
       "30474                 0             0  \n",
       "30475                 0             0  \n",
       "30476                 1             0  \n",
       "30477                 1             0  \n",
       "\n",
       "[30478 rows x 4 columns]"
      ]
     },
     "execution_count": 4,
     "metadata": {},
     "output_type": "execute_result"
    }
   ],
   "source": [
    "neutral_df = dataset[dataset['neutral'] == 1].sample(n=15000)\n",
    "toxic_not_threat_df = dataset[dataset['toxic_not_threat'] == 1].sample(n=15000)\n",
    "toxic_threat_df = dataset[dataset['toxic_threat'] == 1]\n",
    "balanced_dataset = pd.concat([neutral_df, toxic_not_threat_df, toxic_threat_df], axis=0)\n",
    "balanced_dataset = balanced_dataset.sample(frac=1, random_state=42).reset_index(drop=True)\n",
    "balanced_dataset"
   ]
  },
  {
   "cell_type": "code",
   "execution_count": null,
   "id": "59eb3f6d-4747-484c-aed7-c6815492dbd3",
   "metadata": {},
   "outputs": [],
   "source": []
  },
  {
   "cell_type": "code",
   "execution_count": 5,
   "id": "7fe926d3-8ccc-4c34-80c6-44ea6595527c",
   "metadata": {},
   "outputs": [
    {
     "name": "stdout",
     "output_type": "stream",
     "text": [
      "neutral\n",
      "0    15478\n",
      "1    15000\n",
      "Name: count, dtype: int64\n",
      "toxic_not_threat\n",
      "0    15478\n",
      "1    15000\n",
      "Name: count, dtype: int64\n",
      "toxic_threat\n",
      "0    30000\n",
      "1      478\n",
      "Name: count, dtype: int64\n"
     ]
    }
   ],
   "source": [
    "x = balanced_dataset['comment_text']\n",
    "y = balanced_dataset[['neutral', 'toxic_not_threat', 'toxic_threat']]\n",
    "print(y['neutral'].value_counts())\n",
    "print(y['toxic_not_threat'].value_counts())\n",
    "print(y['toxic_threat'].value_counts())"
   ]
  },
  {
   "cell_type": "code",
   "execution_count": null,
   "id": "ffc2ff15-990f-4e81-8005-4f09ab6abbfe",
   "metadata": {},
   "outputs": [],
   "source": []
  },
  {
   "cell_type": "markdown",
   "id": "19ed208d-96ca-4564-8f36-c03acaf7bc86",
   "metadata": {},
   "source": [
    "**Датасет несбалансированный, только 478 примеров на 3 класс. В то же время формирование датасета объемом в 1500-2000 демонстрирует менее удовлетворительные метрики качества, чем несбалансированный датасет, но большего объема**"
   ]
  },
  {
   "cell_type": "code",
   "execution_count": null,
   "id": "b13ccb4a-0f4b-4559-b589-1de9c8e04c4d",
   "metadata": {},
   "outputs": [],
   "source": []
  },
  {
   "cell_type": "code",
   "execution_count": 6,
   "id": "6b0f09cb-85a7-4536-8a9b-29326ac97290",
   "metadata": {},
   "outputs": [
    {
     "name": "stdout",
     "output_type": "stream",
     "text": [
      "labels shape: (30478,)\n",
      "Пример меток: [1 1 0 1 0]\n"
     ]
    }
   ],
   "source": [
    "y = y.idxmax(axis=1).map({'neutral': 0, 'toxic_not_threat': 1, 'toxic_threat': 2}).values\n",
    "print(\"labels shape:\", y.shape)\n",
    "print(\"Пример меток:\", y[:5])"
   ]
  },
  {
   "cell_type": "code",
   "execution_count": null,
   "id": "1b66b5d7-105b-4a58-9e52-42f29539d24b",
   "metadata": {},
   "outputs": [],
   "source": []
  },
  {
   "cell_type": "code",
   "execution_count": null,
   "id": "1e9b7f95-619d-44e9-a8e6-c5841d03b238",
   "metadata": {},
   "outputs": [],
   "source": []
  },
  {
   "cell_type": "code",
   "execution_count": 7,
   "id": "250c00dc-9e5c-4dfc-9126-f0acf9ec1afd",
   "metadata": {},
   "outputs": [],
   "source": [
    "x_train, x_test, y_train, y_test = train_test_split(x, y, test_size=0.2, shuffle=True)\n"
   ]
  },
  {
   "cell_type": "code",
   "execution_count": 8,
   "id": "8deebfea-4426-4f6d-92ff-e13cb9f69f97",
   "metadata": {},
   "outputs": [
    {
     "data": {
      "text/plain": [
       "(6096,)"
      ]
     },
     "execution_count": 8,
     "metadata": {},
     "output_type": "execute_result"
    }
   ],
   "source": [
    "y_test.shape"
   ]
  },
  {
   "cell_type": "code",
   "execution_count": 9,
   "id": "a8ca569e-cf58-4bfc-bd92-5304bdafcbf2",
   "metadata": {},
   "outputs": [
    {
     "data": {
      "text/plain": [
       "(6096,)"
      ]
     },
     "execution_count": 9,
     "metadata": {},
     "output_type": "execute_result"
    }
   ],
   "source": [
    "x_test.shape"
   ]
  },
  {
   "cell_type": "code",
   "execution_count": null,
   "id": "ee942705-71d7-41a7-8113-5068fbec0c40",
   "metadata": {},
   "outputs": [],
   "source": []
  },
  {
   "cell_type": "markdown",
   "id": "90fc5b7c-6eb3-47f8-89ef-04ca06ce134b",
   "metadata": {},
   "source": [
    "**Здесь мы вынуждены разбивать на чанки без из подачи в итеративную функцию, т.к. любой итератор зависает. Таким образом, будем трансформировать каждый чанк в эбеддинги через отдельный запуск**"
   ]
  },
  {
   "cell_type": "code",
   "execution_count": 10,
   "id": "316082e0-0445-4bf7-aa82-dc2348c523d9",
   "metadata": {},
   "outputs": [
    {
     "data": {
      "text/plain": [
       "20631    QED As long as we're tattling to the teacher, ...\n",
       "18878      Viridae you suck Mike's cunt nostril discharge!\n",
       "9278     Why the hell was this page deleted? Bloody van...\n",
       "11375    Hey Jac16888, how very chickenshit of you to t...\n",
       "29509    Sigh*\\n\\nSo you just went ahead and removed th...\n",
       "                               ...                        \n",
       "7972     Hey\\nGo fuck yourself, cunt. Lick your mother'...\n",
       "30391    \"\\n\\nWikipedia:Featured picture candidates/Fal...\n",
       "18813    \"\\n\\nHey\\nThe following is a message that I fo...\n",
       "2211     You must have a lot of kleenex by your compute...\n",
       "27388    \"\\n\\nwow you are dumb. and that is NOT an atta...\n",
       "Name: comment_text, Length: 24382, dtype: object"
      ]
     },
     "execution_count": 10,
     "metadata": {},
     "output_type": "execute_result"
    }
   ],
   "source": [
    "x_train"
   ]
  },
  {
   "cell_type": "markdown",
   "id": "fd597d72-25c5-4f97-8c85-ec07d6c605a5",
   "metadata": {},
   "source": [
    "<!-- # === FastText ===\n",
    "print(\"\\n=== FastText ===\")\n",
    "fasttext.util.download_model('en', if_exists='ignore')\n",
    "ft = fasttext.load_model('cc.en.300.bin')\n",
    "\n",
    "def get_text_embedding(text, model, max_len=500):\n",
    "    words = text.strip().split()[:max_len]  # Обрезаем до max_len слов\n",
    "    word_vectors = [model.get_word_vector(w) for w in words if w]\n",
    "    if len(word_vectors) == 0:\n",
    "        return np.zeros((max_len, model.get_dimension()))  # [max_len, 300]\n",
    "    word_vectors = np.array(word_vectors)  # [len(words), 300]\n",
    "    pad_len = max_len - len(word_vectors)\n",
    "    word_vectors = np.pad(word_vectors, ((0, pad_len), (0, 0)), mode='constant')  # [max_len, 300]\n",
    "    return word_vectors\n",
    "\n",
    "X_train_ft = np.array([get_text_embedding(s, ft) for s in x_train])  # [N, max_len, 300] -->\n"
   ]
  },
  {
   "cell_type": "code",
   "execution_count": 11,
   "id": "d85097b1-087d-4d01-9ca5-c0ad09e5f06a",
   "metadata": {},
   "outputs": [],
   "source": [
    "x_1 = x_train[:2000]\n",
    "x_2 = x_train[2000:4000]\n",
    "x_3 = x_train[4000:6000]\n",
    "x_4 = x_train[6000:8000]\n",
    "x_5 = x_train[8000:10000]\n",
    "x_6 = x_train[10000:12000]\n",
    "x_7 = x_train[12000:14000]\n",
    "x_8 = x_train[14000:16000]\n",
    "x_9 = x_train[16000:18000]\n",
    "x_10 = x_train[18000:20000]\n",
    "x_11 = x_train[20000:22000]\n",
    "x_12 = x_train[22000:24000]"
   ]
  },
  {
   "cell_type": "markdown",
   "id": "018ed5bf-b195-4873-8882-2476b16eb276",
   "metadata": {},
   "source": []
  },
  {
   "cell_type": "markdown",
   "id": "ad22b210-4d1a-4748-8bf1-f8df68975232",
   "metadata": {},
   "source": [
    "**Далее проводим предобработку датасета и преобразование чанков в эмбеддинги**"
   ]
  },
  {
   "cell_type": "code",
   "execution_count": null,
   "id": "b81c2e74-18de-4cd4-915d-86b1084e4950",
   "metadata": {},
   "outputs": [],
   "source": []
  },
  {
   "cell_type": "code",
   "execution_count": 12,
   "id": "c09c0605-9f5b-4a5f-8268-2dd1088c35aa",
   "metadata": {},
   "outputs": [
    {
     "name": "stdout",
     "output_type": "stream",
     "text": [
      "\n",
      "=== FastText ===\n"
     ]
    }
   ],
   "source": [
    "# === FastText ===\n",
    "print(\"\\n=== FastText ===\")\n",
    "fasttext.util.download_model('en', if_exists='ignore')\n",
    "ft = fasttext.load_model('cc.en.300.bin')\n",
    "\n",
    "def get_text_embedding(text, model, max_len=50):\n",
    "    text = text.lower()\n",
    "    text = re.sub(r\"[^а-яёa-z0-9\\s]\", \" \", text)\n",
    "    text = re.sub(r\"\\s+\", \" \", text).strip()\n",
    "    words = text.strip().split()[:max_len]  # Обрезаем до max_len слов\n",
    "    word_vectors = [model.get_word_vector(w) for w in words if w]\n",
    "    if len(word_vectors) == 0:\n",
    "        return np.zeros((max_len, model.get_dimension()))  # [max_len, 300]\n",
    "    word_vectors = np.array(word_vectors)  # [len(words), 300]\n",
    "    pad_len = max_len - len(word_vectors)\n",
    "    word_vectors = np.pad(word_vectors, ((0, pad_len), (0, 0)), mode='constant')  # [max_len, 300]\n",
    "    return word_vectors"
   ]
  },
  {
   "cell_type": "code",
   "execution_count": 13,
   "id": "3189e8fb-28df-4d06-81f3-9b54e77674b4",
   "metadata": {
    "scrolled": true
   },
   "outputs": [],
   "source": [
    "X_train_ft_1 = np.array([get_text_embedding(s, ft) for s in x_1])"
   ]
  },
  {
   "cell_type": "code",
   "execution_count": 14,
   "id": "f11d9838-2950-4d9b-bdc8-c07d99f308a6",
   "metadata": {},
   "outputs": [],
   "source": [
    "X_train_ft_2 = np.array([get_text_embedding(s, ft) for s in x_2])"
   ]
  },
  {
   "cell_type": "code",
   "execution_count": 15,
   "id": "c412a28f-30cf-4143-8b40-34d559d7b341",
   "metadata": {},
   "outputs": [],
   "source": [
    "X_train_ft_3 = np.array([get_text_embedding(s, ft) for s in x_3])"
   ]
  },
  {
   "cell_type": "code",
   "execution_count": 16,
   "id": "03f722b1-4937-47e9-8332-b0178efafcda",
   "metadata": {},
   "outputs": [],
   "source": [
    "X_train_ft_4 = np.array([get_text_embedding(s, ft) for s in x_4])"
   ]
  },
  {
   "cell_type": "code",
   "execution_count": 17,
   "id": "cb89b769-98f8-498a-8f13-f1716b074424",
   "metadata": {},
   "outputs": [],
   "source": [
    "X_train_ft_5 = np.array([get_text_embedding(s, ft) for s in x_5])"
   ]
  },
  {
   "cell_type": "code",
   "execution_count": 18,
   "id": "2df5a21c-1e28-4d68-bc54-266b29992aae",
   "metadata": {},
   "outputs": [],
   "source": [
    "X_train_ft_6 = np.array([get_text_embedding(s, ft) for s in x_6])"
   ]
  },
  {
   "cell_type": "code",
   "execution_count": 19,
   "id": "74b03cd2-e2d2-4d28-955b-e94208642175",
   "metadata": {},
   "outputs": [],
   "source": [
    "X_train_ft_7 = np.array([get_text_embedding(s, ft) for s in x_7])"
   ]
  },
  {
   "cell_type": "code",
   "execution_count": 20,
   "id": "59a64732-b8f1-4a9f-b03e-86f8890e9813",
   "metadata": {},
   "outputs": [],
   "source": [
    "X_train_ft_8 = np.array([get_text_embedding(s, ft) for s in x_8])"
   ]
  },
  {
   "cell_type": "code",
   "execution_count": 21,
   "id": "41e49f28-e8fb-454b-a7d9-4f2b33295044",
   "metadata": {},
   "outputs": [],
   "source": [
    "X_train_ft_9 = np.array([get_text_embedding(s, ft) for s in x_9])"
   ]
  },
  {
   "cell_type": "code",
   "execution_count": 22,
   "id": "c89ba643-7d1c-4439-ab32-e1cb2772ca86",
   "metadata": {},
   "outputs": [],
   "source": [
    "X_train_ft_10 = np.array([get_text_embedding(s, ft) for s in x_10])"
   ]
  },
  {
   "cell_type": "code",
   "execution_count": 23,
   "id": "9720ee2b-8c58-4b0e-b1f0-7202909624be",
   "metadata": {},
   "outputs": [],
   "source": [
    "X_train_ft_11 = np.array([get_text_embedding(s, ft) for s in x_11])"
   ]
  },
  {
   "cell_type": "code",
   "execution_count": 24,
   "id": "7c2a9b93-90c8-40e5-a5b8-93d6d2da9dba",
   "metadata": {},
   "outputs": [],
   "source": [
    "X_train_ft_12 = np.array([get_text_embedding(s, ft) for s in x_12])"
   ]
  },
  {
   "cell_type": "code",
   "execution_count": 26,
   "id": "9bf74152-97ea-40bd-8b6b-f6393d123502",
   "metadata": {},
   "outputs": [
    {
     "name": "stdout",
     "output_type": "stream",
     "text": [
      "[(50, 300), (50, 300), (50, 300), (50, 300), (50, 300)]\n"
     ]
    }
   ],
   "source": [
    "print([get_text_embedding(s, ft).shape for s in x_12[:5]])\n"
   ]
  },
  {
   "cell_type": "code",
   "execution_count": null,
   "id": "1f4c89ec-49fd-4baa-a06a-ef037b03a393",
   "metadata": {},
   "outputs": [],
   "source": []
  },
  {
   "cell_type": "code",
   "execution_count": 28,
   "id": "16b1ad5a-e1f8-47f9-a91a-e10d487f65e8",
   "metadata": {},
   "outputs": [],
   "source": [
    "X_train_ft = np.concatenate(\n",
    "    [X_train_ft_1, X_train_ft_2, X_train_ft_3, X_train_ft_4, \n",
    "     X_train_ft_5, X_train_ft_6, X_train_ft_7, X_train_ft_8, \n",
    "     X_train_ft_9, X_train_ft_10, X_train_ft_11, X_train_ft_12],\n",
    "    axis=0\n",
    ")"
   ]
  },
  {
   "cell_type": "code",
   "execution_count": 29,
   "id": "f837552d-3ef9-4773-ada9-cea21751ff88",
   "metadata": {
    "scrolled": true
   },
   "outputs": [
    {
     "data": {
      "text/plain": [
       "array([[[-1.37850475e-02,  4.49780524e-02, -1.02881029e-01, ...,\n",
       "          1.49011984e-01, -1.72202945e-01,  7.84196928e-02],\n",
       "        [-7.57918134e-03, -2.51861900e-01, -3.77689779e-01, ...,\n",
       "          2.45352730e-01, -9.30264369e-02,  1.02733530e-01],\n",
       "        [ 4.01744097e-02, -7.54821524e-02, -1.70764476e-01, ...,\n",
       "          1.28862560e-01, -2.55123265e-02, -9.08786338e-03],\n",
       "        ...,\n",
       "        [-6.37750775e-02,  1.62931904e-01,  8.19036290e-02, ...,\n",
       "          2.44460091e-01,  2.73179971e-02,  2.25536488e-02],\n",
       "        [ 1.07891530e-01, -4.41231616e-02,  1.34061828e-01, ...,\n",
       "          3.64399344e-01, -6.35679811e-02, -1.63635716e-01],\n",
       "        [ 2.20759623e-02,  4.97831553e-02,  8.75587389e-02, ...,\n",
       "         -8.18165243e-02, -3.10543254e-02, -4.62635756e-02]],\n",
       "\n",
       "       [[-2.50594448e-02, -1.29243582e-02,  2.16444731e-02, ...,\n",
       "          8.23112484e-03, -6.69747069e-02, -1.51969669e-02],\n",
       "        [ 1.07891530e-01, -4.41231616e-02,  1.34061828e-01, ...,\n",
       "          3.64399344e-01, -6.35679811e-02, -1.63635716e-01],\n",
       "        [-5.40139154e-02, -1.09919623e-01,  5.56861870e-02, ...,\n",
       "          6.29992113e-02, -7.94522837e-02, -2.55082130e-01],\n",
       "        ...,\n",
       "        [ 0.00000000e+00,  0.00000000e+00,  0.00000000e+00, ...,\n",
       "          0.00000000e+00,  0.00000000e+00,  0.00000000e+00],\n",
       "        [ 0.00000000e+00,  0.00000000e+00,  0.00000000e+00, ...,\n",
       "          0.00000000e+00,  0.00000000e+00,  0.00000000e+00],\n",
       "        [ 0.00000000e+00,  0.00000000e+00,  0.00000000e+00, ...,\n",
       "          0.00000000e+00,  0.00000000e+00,  0.00000000e+00]],\n",
       "\n",
       "       [[-4.46198806e-02, -1.82948783e-02,  2.31734701e-02, ...,\n",
       "          1.65305972e-01,  4.93637286e-02,  1.01039656e-01],\n",
       "        [-5.17441928e-02,  7.39639550e-02, -1.30568799e-02, ...,\n",
       "          2.37025172e-01,  4.47519124e-04, -4.19306662e-03],\n",
       "        [-3.89649868e-02, -1.63368165e-01,  4.70590517e-02, ...,\n",
       "          1.51731610e-01,  2.70991530e-02, -6.41828775e-02],\n",
       "        ...,\n",
       "        [ 0.00000000e+00,  0.00000000e+00,  0.00000000e+00, ...,\n",
       "          0.00000000e+00,  0.00000000e+00,  0.00000000e+00],\n",
       "        [ 0.00000000e+00,  0.00000000e+00,  0.00000000e+00, ...,\n",
       "          0.00000000e+00,  0.00000000e+00,  0.00000000e+00],\n",
       "        [ 0.00000000e+00,  0.00000000e+00,  0.00000000e+00, ...,\n",
       "          0.00000000e+00,  0.00000000e+00,  0.00000000e+00]],\n",
       "\n",
       "       ...,\n",
       "\n",
       "       [[ 8.42441320e-02, -8.88189003e-02,  2.64060758e-02, ...,\n",
       "          6.90046400e-02, -6.13290742e-02, -1.88400418e-01],\n",
       "        [-6.53289258e-02,  5.55383526e-02,  2.52409410e-02, ...,\n",
       "          7.22408891e-02, -4.96820640e-03, -1.09092202e-02],\n",
       "        [-5.37312515e-02,  9.17498861e-03, -4.73377369e-02, ...,\n",
       "          1.06558144e-01,  6.23371415e-02,  7.84287378e-02],\n",
       "        ...,\n",
       "        [ 0.00000000e+00,  0.00000000e+00,  0.00000000e+00, ...,\n",
       "          0.00000000e+00,  0.00000000e+00,  0.00000000e+00],\n",
       "        [ 0.00000000e+00,  0.00000000e+00,  0.00000000e+00, ...,\n",
       "          0.00000000e+00,  0.00000000e+00,  0.00000000e+00],\n",
       "        [ 0.00000000e+00,  0.00000000e+00,  0.00000000e+00, ...,\n",
       "          0.00000000e+00,  0.00000000e+00,  0.00000000e+00]],\n",
       "\n",
       "       [[-1.72353461e-02,  7.13065788e-02,  2.91141029e-02, ...,\n",
       "          1.67264313e-01, -7.72454888e-02,  3.34544946e-03],\n",
       "        [-6.11264780e-02,  3.94639261e-02,  1.04270056e-02, ...,\n",
       "          7.65185654e-02, -3.16183344e-02, -8.78005847e-03],\n",
       "        [-3.40629816e-02, -3.23097706e-02, -3.03013977e-02, ...,\n",
       "          1.80070344e-02,  1.00872880e-02, -3.22332941e-02],\n",
       "        ...,\n",
       "        [-2.06592977e-02, -2.38106683e-01, -3.43385696e-01, ...,\n",
       "         -2.14253455e-01,  1.49752319e-01,  1.36925101e-01],\n",
       "        [ 8.02244544e-02,  6.78096861e-02,  3.33664119e-02, ...,\n",
       "          3.17916274e-02, -1.13416454e-02,  3.22174616e-02],\n",
       "        [-5.68210557e-02,  5.49030602e-01,  1.31215438e-01, ...,\n",
       "         -3.34279984e-02, -6.33967221e-02, -6.05157577e-02]],\n",
       "\n",
       "       [[ 8.23911093e-03, -8.99027660e-02,  2.65252870e-02, ...,\n",
       "         -1.15913749e-02, -4.11286354e-02,  3.62522230e-02],\n",
       "        [-3.51461722e-03,  3.25691211e-03,  1.32000698e-02, ...,\n",
       "          8.69894177e-02,  5.04869968e-03,  2.60452144e-02],\n",
       "        [ 2.06014561e-03, -8.55103880e-03, -3.15419282e-04, ...,\n",
       "          8.38909019e-03, -1.83333345e-02,  8.93793628e-03],\n",
       "        ...,\n",
       "        [ 0.00000000e+00,  0.00000000e+00,  0.00000000e+00, ...,\n",
       "          0.00000000e+00,  0.00000000e+00,  0.00000000e+00],\n",
       "        [ 0.00000000e+00,  0.00000000e+00,  0.00000000e+00, ...,\n",
       "          0.00000000e+00,  0.00000000e+00,  0.00000000e+00],\n",
       "        [ 0.00000000e+00,  0.00000000e+00,  0.00000000e+00, ...,\n",
       "          0.00000000e+00,  0.00000000e+00,  0.00000000e+00]]],\n",
       "      dtype=float32)"
      ]
     },
     "execution_count": 29,
     "metadata": {},
     "output_type": "execute_result"
    }
   ],
   "source": [
    "X_train_ft"
   ]
  },
  {
   "cell_type": "code",
   "execution_count": null,
   "id": "21d0b110-cd28-41f5-b9ac-293bf8a0f0d1",
   "metadata": {},
   "outputs": [],
   "source": []
  },
  {
   "cell_type": "code",
   "execution_count": 30,
   "id": "171a7a7b-7c39-4e03-9d4f-42b21ba789c1",
   "metadata": {
    "scrolled": true
   },
   "outputs": [],
   "source": [
    "X_test_ft = np.array([get_text_embedding(s, ft) for s in x_test])    # [M, 500, 300]\n"
   ]
  },
  {
   "cell_type": "code",
   "execution_count": 31,
   "id": "2f7825c6-3499-457c-ae71-91721a0c03cf",
   "metadata": {},
   "outputs": [
    {
     "name": "stdout",
     "output_type": "stream",
     "text": [
      "[[-0.01378505  0.04497805 -0.10288103 -0.02506758  0.07986296  0.03554565\n",
      "  -0.06179228  0.05130907 -0.04978871 -0.00457895]\n",
      " [-0.00757918 -0.2518619  -0.37768978 -0.0577099  -0.05636054 -0.03647275\n",
      "  -0.0202911  -0.03977192 -0.01115279 -0.02524362]\n",
      " [ 0.04017441 -0.07548215 -0.17076448  0.09889671 -0.06959968 -0.03826058\n",
      "   0.14142025 -0.03885336  0.02082691 -0.02676404]\n",
      " [-0.00757918 -0.2518619  -0.37768978 -0.0577099  -0.05636054 -0.03647275\n",
      "  -0.0202911  -0.03977192 -0.01115279 -0.02524362]\n",
      " [-0.22641462 -0.02829784  0.03269786 -0.06704076 -0.3381909   0.10943558\n",
      "  -0.15156898 -0.14285415  0.03621052  0.09130385]\n",
      " [-0.0063294  -0.47312373  0.1201752  -0.09970269  0.18209514 -0.15243442\n",
      "  -0.32113984 -0.34530884  0.4031888   0.09720431]\n",
      " [-0.02046151  0.02256993  0.07257503  0.06947276 -0.04279188 -0.06888237\n",
      "   0.00296307 -0.06066    -0.02530357  0.02729249]\n",
      " [ 0.00468114  0.02812425 -0.02963145 -0.01081373 -0.06200187 -0.05324718\n",
      "  -0.09798437  0.09703769 -0.0863658  -0.04250967]\n",
      " [-0.05174419  0.07396396 -0.01305688  0.04472656 -0.03432037  0.02121688\n",
      "   0.00691149 -0.01632785 -0.01807486 -0.00199652]\n",
      " [-0.03371578  0.01860384 -0.02435695  0.02980064 -0.0541806  -0.07438655\n",
      "   0.09187847  0.05726558 -0.0324941  -0.00279743]]\n"
     ]
    }
   ],
   "source": [
    "print(X_train_ft[0][:10, :10])"
   ]
  },
  {
   "cell_type": "code",
   "execution_count": null,
   "id": "2aa66518-216b-4052-882c-c10205af93b4",
   "metadata": {},
   "outputs": [],
   "source": []
  },
  {
   "cell_type": "code",
   "execution_count": 32,
   "id": "516573fe-7b02-413e-9da9-41222a213b50",
   "metadata": {},
   "outputs": [],
   "source": [
    "# === TextDataset ===\n",
    "class TextDataset(Dataset):\n",
    "    def __init__(self, X, y):\n",
    "        self.X = torch.tensor(X, dtype=torch.float32)  # [N, max_len, 300]\n",
    "        self.y = torch.tensor(y, dtype=torch.long)\n",
    "    def __len__(self):\n",
    "        return len(self.X)\n",
    "    def __getitem__(self, idx):\n",
    "        return self.X[idx], self.y[idx]\n",
    "\n",
    "batch_size = 32\n",
    "train_dataset = TextDataset(X_train_ft, y_train)"
   ]
  },
  {
   "cell_type": "code",
   "execution_count": 33,
   "id": "edd0ed54-da1d-4cc4-91a5-e36727800eec",
   "metadata": {},
   "outputs": [],
   "source": [
    "test_dataset = TextDataset(X_test_ft, y_test)"
   ]
  },
  {
   "cell_type": "code",
   "execution_count": 34,
   "id": "3ebf2b61-1be2-48b6-931d-a3b71ab61469",
   "metadata": {},
   "outputs": [],
   "source": [
    "train_loader = DataLoader(train_dataset, batch_size=batch_size, shuffle=True)\n"
   ]
  },
  {
   "cell_type": "code",
   "execution_count": 35,
   "id": "6faae3b7-c51c-46d4-be38-e0ea9b111e5f",
   "metadata": {},
   "outputs": [],
   "source": [
    "test_loader = DataLoader(test_dataset, batch_size=batch_size)"
   ]
  },
  {
   "cell_type": "code",
   "execution_count": null,
   "id": "e0f68b71-3941-4bef-9f22-08a70ffe97f1",
   "metadata": {},
   "outputs": [],
   "source": []
  },
  {
   "cell_type": "code",
   "execution_count": null,
   "id": "e700bc03-34e8-41c4-85e4-ddf235cf6500",
   "metadata": {},
   "outputs": [],
   "source": []
  },
  {
   "cell_type": "markdown",
   "id": "0a27c17c-73c5-4664-b8b3-5803f5e2b1df",
   "metadata": {},
   "source": [
    "**Возьмем CNN модель. Будем использовать два вида пуллинга, которые потенциально извлекут значимые признаки из контекста на разных уровнях. Заметим здесь, что такая связка с пуллингами улучшает базовую свертку в части accuracy почти на 30%. Это объясняется высокой значимостью контекста для данного типа задач**"
   ]
  },
  {
   "cell_type": "code",
   "execution_count": 36,
   "id": "8840766d-ee4c-42ec-bea7-c0bd6b58b822",
   "metadata": {},
   "outputs": [],
   "source": [
    "# === TextCNN_FT ===\n",
    "class TextCNN_FT(nn.Module):\n",
    "    def __init__(self, embed_dim=300, num_classes=3, kernel_sizes=[3,4,5], num_filters=100, dropout=0.5):\n",
    "        super().__init__()\n",
    "        self.convs = nn.ModuleList([nn.Conv1d(embed_dim, num_filters, k) for k in kernel_sizes])\n",
    "        self.dropout = nn.Dropout(dropout)\n",
    "        self.bn = nn.BatchNorm1d(num_filters * len(kernel_sizes) * 2)  # *2 для max+avg pooling\n",
    "        self.fc = nn.Linear(num_filters * len(kernel_sizes) * 2, num_classes)\n",
    "\n",
    "    def forward(self, x):\n",
    "        # x: [B, L, E]\n",
    "        x = x.permute(0, 2, 1)  # [B, E, L]\n",
    "        convs = [F.relu(conv(x)) for conv in self.convs]  # [B, F, L-k+1]\n",
    "        pools_max = [F.max_pool1d(c, c.size(2)).squeeze(2) for c in convs]  # [B, F]\n",
    "        pools_avg = [F.avg_pool1d(c, c.size(2)).squeeze(2) for c in convs]  # [B, F]\n",
    "        pools = [torch.cat([pm, pa], dim=1) for pm, pa in zip(pools_max, pools_avg)]  # [B, 2F]\n",
    "        x = torch.cat(pools, dim=1)  # [B, 2F * len(kernel_sizes)]\n",
    "        x = self.dropout(self.bn(x))\n",
    "        return self.fc(x)"
   ]
  },
  {
   "cell_type": "code",
   "execution_count": 37,
   "id": "1c113e71-3222-4f32-9aae-abdf1dd8d019",
   "metadata": {},
   "outputs": [
    {
     "name": "stdout",
     "output_type": "stream",
     "text": [
      "TextCNN_FT(\n",
      "  (convs): ModuleList(\n",
      "    (0): Conv1d(300, 100, kernel_size=(3,), stride=(1,))\n",
      "    (1): Conv1d(300, 100, kernel_size=(4,), stride=(1,))\n",
      "    (2): Conv1d(300, 100, kernel_size=(5,), stride=(1,))\n",
      "  )\n",
      "  (dropout): Dropout(p=0.5, inplace=False)\n",
      "  (bn): BatchNorm1d(600, eps=1e-05, momentum=0.1, affine=True, track_running_stats=True)\n",
      "  (fc): Linear(in_features=600, out_features=3, bias=True)\n",
      ")\n"
     ]
    }
   ],
   "source": [
    "model = TextCNN_FT(embed_dim=300, num_classes=3)\n",
    "print(model)"
   ]
  },
  {
   "cell_type": "code",
   "execution_count": null,
   "id": "94f70182-d62d-4b8f-b838-ca61e4e326f3",
   "metadata": {},
   "outputs": [],
   "source": []
  },
  {
   "cell_type": "markdown",
   "id": "d5572612-c30a-49e7-85a1-3b6d158afa26",
   "metadata": {},
   "source": [
    "**v2 (расширенная версия с Residual connections, задействованная на других проектах в прошлом году), можно запустить на втором проходе, может дать небольшой прирост, но несущественный**"
   ]
  },
  {
   "cell_type": "code",
   "execution_count": 43,
   "id": "40a1e40b-2953-4dc6-9dd4-074e6c61de84",
   "metadata": {},
   "outputs": [],
   "source": [
    "class TextCNN_FT(nn.Module):\n",
    "    def __init__(self, embed_dim=300, num_classes=3, kernel_sizes=[3, 4, 5], num_filters=128, dropout=0.3):\n",
    "        super().__init__()\n",
    "        # Первый набор свёрточных слоёв\n",
    "        self.convs1 = nn.ModuleList([nn.Conv1d(embed_dim, num_filters, k) for k in kernel_sizes])\n",
    "        self.bn1 = nn.ModuleList([nn.BatchNorm1d(num_filters) for _ in kernel_sizes])\n",
    "        # Второй набор свёрточных слоёв\n",
    "        self.convs2 = nn.ModuleList([nn.Conv1d(num_filters, num_filters, k) for k in kernel_sizes])\n",
    "        self.bn2 = nn.ModuleList([nn.BatchNorm1d(num_filters) for _ in kernel_sizes])\n",
    "        # Dropout и BatchNorm для полносвязных слоёв\n",
    "        self.dropout = nn.Dropout(dropout)\n",
    "        self.bn_fc = nn.BatchNorm1d(num_filters * len(kernel_sizes) * 2)  # *2 для max+avg pooling\n",
    "        # Полносвязные слои\n",
    "        self.fc1 = nn.Linear(num_filters * len(kernel_sizes) * 2, 256)\n",
    "        self.fc2 = nn.Linear(256, num_classes)\n",
    "\n",
    "    def forward(self, x):\n",
    "        # x: [B, L, E]\n",
    "        x = x.permute(0, 2, 1)  # [B, E, L]\n",
    "        # Первый свёрточный слой\n",
    "        convs1 = [F.relu(self.bn1[i](conv(x))) for i, conv in enumerate(self.convs1)]  # [B, F, L-k+1]\n",
    "        # Второй свёрточный слой с остаточными связями\n",
    "        convs2 = []\n",
    "        for i, (c, conv) in enumerate(zip(convs1, self.convs2)):\n",
    "            c2 = F.relu(self.bn2[i](conv(c)))\n",
    "            # Остаточная связь (если размеры совпадают)\n",
    "            if c2.size(2) == c.size(2):\n",
    "                c2 = c2 + c  # Residual connection\n",
    "            convs2.append(c2)\n",
    "        # Max и Avg пулинг\n",
    "        pools_max = [F.max_pool1d(c, c.size(2)).squeeze(2) for c in convs2]  # [B, F]\n",
    "        pools_avg = [F.avg_pool1d(c, c.size(2)).squeeze(2) for c in convs2]  # [B, F]\n",
    "        pools = [torch.cat([pm, pa], dim=1) for pm, pa in zip(pools_max, pools_avg)]  # [B, 2F]\n",
    "        x = torch.cat(pools, dim=1)  # [B, 2F * len(kernel_sizes)]\n",
    "        # Полносвязные слои\n",
    "        x = self.dropout(self.bn_fc(x))\n",
    "        x = F.relu(self.fc1(x))\n",
    "        x = self.dropout(x)\n",
    "        x = self.fc2(x)\n",
    "        return x"
   ]
  },
  {
   "cell_type": "code",
   "execution_count": 44,
   "id": "e102370d-6c5b-46ff-98d0-7fcf82ed3a32",
   "metadata": {},
   "outputs": [
    {
     "name": "stdout",
     "output_type": "stream",
     "text": [
      "TextCNN_FT(\n",
      "  (convs1): ModuleList(\n",
      "    (0): Conv1d(300, 128, kernel_size=(3,), stride=(1,))\n",
      "    (1): Conv1d(300, 128, kernel_size=(4,), stride=(1,))\n",
      "    (2): Conv1d(300, 128, kernel_size=(5,), stride=(1,))\n",
      "  )\n",
      "  (bn1): ModuleList(\n",
      "    (0-2): 3 x BatchNorm1d(128, eps=1e-05, momentum=0.1, affine=True, track_running_stats=True)\n",
      "  )\n",
      "  (convs2): ModuleList(\n",
      "    (0): Conv1d(128, 128, kernel_size=(3,), stride=(1,))\n",
      "    (1): Conv1d(128, 128, kernel_size=(4,), stride=(1,))\n",
      "    (2): Conv1d(128, 128, kernel_size=(5,), stride=(1,))\n",
      "  )\n",
      "  (bn2): ModuleList(\n",
      "    (0-2): 3 x BatchNorm1d(128, eps=1e-05, momentum=0.1, affine=True, track_running_stats=True)\n",
      "  )\n",
      "  (dropout): Dropout(p=0.3, inplace=False)\n",
      "  (bn_fc): BatchNorm1d(768, eps=1e-05, momentum=0.1, affine=True, track_running_stats=True)\n",
      "  (fc1): Linear(in_features=768, out_features=256, bias=True)\n",
      "  (fc2): Linear(in_features=256, out_features=3, bias=True)\n",
      ")\n"
     ]
    }
   ],
   "source": [
    "model = TextCNN_FT(embed_dim=300, num_classes=3)\n",
    "print(model)"
   ]
  },
  {
   "cell_type": "code",
   "execution_count": 45,
   "id": "03f543c8-cf4b-4cb2-9375-026004849e28",
   "metadata": {},
   "outputs": [],
   "source": [
    "# === Функция обучения ===\n",
    "def train_model(model, train_loader, test_loader, epochs=5, lr=1e-3):\n",
    "    device = torch.device(\"cuda\" if torch.cuda.is_available() else \"cpu\")\n",
    "    model = model.to(device)\n",
    "    \n",
    "    optimizer = torch.optim.Adam(model.parameters(), lr=lr)\n",
    "    criterion = nn.CrossEntropyLoss()\n",
    "    \n",
    "    train_losses = []\n",
    "    test_accuracies = []\n",
    "    \n",
    "    for epoch in range(1, epochs+1):\n",
    "        model.train()\n",
    "        running_loss = 0\n",
    "        pbar = tqdm(train_loader, desc=f\"Epoch {epoch}/{epochs}\")\n",
    "        \n",
    "        for X_batch, y_batch in pbar:\n",
    "            X_batch, y_batch = X_batch.to(device), y_batch.to(device)  # [B, max_len, 300], [B]\n",
    "            optimizer.zero_grad()\n",
    "            logits = model(X_batch)  # [B, num_classes]\n",
    "            loss = criterion(logits, y_batch)\n",
    "            loss.backward()\n",
    "            optimizer.step()\n",
    "            \n",
    "            running_loss += loss.item() * X_batch.size(0)\n",
    "            pbar.set_postfix({\"loss\": loss.item()})\n",
    "        \n",
    "        epoch_loss = running_loss / len(train_loader.dataset)\n",
    "        train_losses.append(epoch_loss)\n",
    "        \n",
    "        model.eval()\n",
    "        all_preds = []\n",
    "        all_labels = []\n",
    "        with torch.no_grad():\n",
    "            for X_batch, y_batch in test_loader:\n",
    "                X_batch, y_batch = X_batch.to(device), y_batch.to(device)\n",
    "                logits = model(X_batch)\n",
    "                preds = torch.argmax(logits, dim=1)\n",
    "                all_preds.extend(preds.cpu().numpy())\n",
    "                all_labels.extend(y_batch.cpu().numpy())\n",
    "        acc = accuracy_score(all_labels, all_preds)\n",
    "        test_accuracies.append(acc)\n",
    "        \n",
    "        print(f\"Epoch {epoch}: Train Loss = {epoch_loss:.4f}, Test Accuracy = {acc:.4f}\")\n",
    "    \n",
    "    # График Loss и Accuracy\n",
    "    fig, ax1 = plt.subplots(figsize=(8,4))\n",
    "    ax1.set_xlabel('Epoch')\n",
    "    ax1.set_ylabel('Train Loss', color='tab:red')\n",
    "    ax1.plot(range(1, epochs+1), train_losses, color='tab:red', marker='o', label='Train Loss')\n",
    "    ax1.tick_params(axis='y', labelcolor='tab:red')\n",
    "    \n",
    "    ax2 = ax1.twinx()\n",
    "    ax2.set_ylabel('Test Accuracy', color='tab:blue')\n",
    "    ax2.plot(range(1, epochs+1), test_accuracies, color='tab:blue', marker='x', label='Test Accuracy')\n",
    "    ax2.tick_params(axis='y', labelcolor='tab:blue')\n",
    "    \n",
    "    fig.tight_layout()\n",
    "    plt.show()\n",
    "    \n",
    "    # Confusion Matrix\n",
    "    final_cm = confusion_matrix(all_labels, all_preds)\n",
    "    ConfusionMatrixDisplay(final_cm).plot(cmap=\"Blues\")\n",
    "    plt.show()\n",
    "    \n",
    "    return test_accuracies[-1], final_cm"
   ]
  },
  {
   "cell_type": "code",
   "execution_count": 46,
   "id": "e6749b30-5485-46ff-b027-1b1be4066433",
   "metadata": {},
   "outputs": [],
   "source": [
    "def evaluate(model, test_loader):\n",
    "    device = torch.device(\"cuda\" if torch.cuda.is_available() else \"cpu\")\n",
    "    model = model.to(device)\n",
    "    model.eval()\n",
    "    \n",
    "    all_preds = []\n",
    "    all_labels = []\n",
    "    running_loss = 0\n",
    "    criterion = nn.CrossEntropyLoss()\n",
    "    \n",
    "    with torch.no_grad():\n",
    "        for X_batch, y_batch in tqdm(test_loader, desc=\"Evaluating\"):\n",
    "            X_batch, y_batch = X_batch.to(device), y_batch.to(device)  # [B, max_len, 300], [B]\n",
    "            logits = model(X_batch)  # [B, num_classes]\n",
    "            loss = criterion(logits, y_batch)\n",
    "            running_loss += loss.item() * X_batch.size(0)\n",
    "            preds = torch.argmax(logits, dim=1)\n",
    "            all_preds.extend(preds.cpu().numpy())\n",
    "            all_labels.extend(y_batch.cpu().numpy())\n",
    "    \n",
    "    test_loss = running_loss / len(test_loader.dataset)\n",
    "    test_accuracy = accuracy_score(all_labels, all_preds)\n",
    "    \n",
    "    print(f\"Test Loss = {test_loss:.4f}, Test Accuracy = {test_accuracy:.4f}\")\n",
    "    \n",
    "    # Confusion Matrix\n",
    "    cm = confusion_matrix(all_labels, all_preds)\n",
    "    ConfusionMatrixDisplay(cm).plot(cmap=\"Blues\")\n",
    "    plt.show()\n",
    "    \n",
    "    return test_accuracy, cm"
   ]
  },
  {
   "cell_type": "code",
   "execution_count": 47,
   "id": "cf70f1c7-b8de-48ed-9894-6d0f1116ff65",
   "metadata": {
    "scrolled": true
   },
   "outputs": [
    {
     "name": "stderr",
     "output_type": "stream",
     "text": [
      "Epoch 1/10: 100%|████████████████| 750/750 [00:03<00:00, 205.96it/s, loss=0.134]\n"
     ]
    },
    {
     "name": "stdout",
     "output_type": "stream",
     "text": [
      "Epoch 1: Train Loss = 0.3871, Test Accuracy = 0.8870\n"
     ]
    },
    {
     "name": "stderr",
     "output_type": "stream",
     "text": [
      "Epoch 2/10: 100%|█████████████████| 750/750 [00:03<00:00, 218.74it/s, loss=0.19]\n"
     ]
    },
    {
     "name": "stdout",
     "output_type": "stream",
     "text": [
      "Epoch 2: Train Loss = 0.2973, Test Accuracy = 0.8924\n"
     ]
    },
    {
     "name": "stderr",
     "output_type": "stream",
     "text": [
      "Epoch 3/10: 100%|████████████████| 750/750 [00:03<00:00, 221.10it/s, loss=0.282]\n"
     ]
    },
    {
     "name": "stdout",
     "output_type": "stream",
     "text": [
      "Epoch 3: Train Loss = 0.2654, Test Accuracy = 0.8962\n"
     ]
    },
    {
     "name": "stderr",
     "output_type": "stream",
     "text": [
      "Epoch 4/10: 100%|████████████████| 750/750 [00:03<00:00, 225.42it/s, loss=0.208]\n"
     ]
    },
    {
     "name": "stdout",
     "output_type": "stream",
     "text": [
      "Epoch 4: Train Loss = 0.2471, Test Accuracy = 0.9024\n"
     ]
    },
    {
     "name": "stderr",
     "output_type": "stream",
     "text": [
      "Epoch 5/10: 100%|███████████████| 750/750 [00:03<00:00, 219.92it/s, loss=0.0926]\n"
     ]
    },
    {
     "name": "stdout",
     "output_type": "stream",
     "text": [
      "Epoch 5: Train Loss = 0.2249, Test Accuracy = 0.8880\n"
     ]
    },
    {
     "name": "stderr",
     "output_type": "stream",
     "text": [
      "Epoch 6/10: 100%|████████████████| 750/750 [00:03<00:00, 221.67it/s, loss=0.173]\n"
     ]
    },
    {
     "name": "stdout",
     "output_type": "stream",
     "text": [
      "Epoch 6: Train Loss = 0.2077, Test Accuracy = 0.9022\n"
     ]
    },
    {
     "name": "stderr",
     "output_type": "stream",
     "text": [
      "Epoch 7/10: 100%|███████████████| 750/750 [00:03<00:00, 224.83it/s, loss=0.0954]\n"
     ]
    },
    {
     "name": "stdout",
     "output_type": "stream",
     "text": [
      "Epoch 7: Train Loss = 0.1797, Test Accuracy = 0.8960\n"
     ]
    },
    {
     "name": "stderr",
     "output_type": "stream",
     "text": [
      "Epoch 8/10: 100%|████████████████| 750/750 [00:03<00:00, 224.40it/s, loss=0.128]\n"
     ]
    },
    {
     "name": "stdout",
     "output_type": "stream",
     "text": [
      "Epoch 8: Train Loss = 0.1615, Test Accuracy = 0.8975\n"
     ]
    },
    {
     "name": "stderr",
     "output_type": "stream",
     "text": [
      "Epoch 9/10: 100%|█████████████████| 750/750 [00:03<00:00, 231.64it/s, loss=0.15]\n"
     ]
    },
    {
     "name": "stdout",
     "output_type": "stream",
     "text": [
      "Epoch 9: Train Loss = 0.1475, Test Accuracy = 0.8998\n"
     ]
    },
    {
     "name": "stderr",
     "output_type": "stream",
     "text": [
      "Epoch 10/10: 100%|███████████████| 750/750 [00:03<00:00, 223.98it/s, loss=0.116]\n"
     ]
    },
    {
     "name": "stdout",
     "output_type": "stream",
     "text": [
      "Epoch 10: Train Loss = 0.1324, Test Accuracy = 0.8939\n"
     ]
    },
    {
     "data": {
      "image/png": "[encoded data removed]",
      "text/plain": [
       "<Figure size 800x400 with 2 Axes>"
      ]
     },
     "metadata": {},
     "output_type": "display_data"
    },
    {
     "data": {
      "image/png": "[encoded data removed]",
      "text/plain": [
       "<Figure size 640x480 with 2 Axes>"
      ]
     },
     "metadata": {},
     "output_type": "display_data"
    },
    {
     "name": "stdout",
     "output_type": "stream",
     "text": [
      "CNN Train Accuracy: 0.8938648293963255\n"
     ]
    }
   ],
   "source": [
    "cnn_acc, cnn_cm = train_model(model, train_loader, test_loader, epochs=10, lr=1e-3)\n",
    "print(\"CNN Train Accuracy:\", cnn_acc)"
   ]
  },
  {
   "cell_type": "code",
   "execution_count": 49,
   "id": "55dccc52-cc93-47fa-92ff-03562f8a0b5b",
   "metadata": {},
   "outputs": [
    {
     "name": "stderr",
     "output_type": "stream",
     "text": [
      "Evaluating: 100%|████████████████████████████| 191/191 [00:00<00:00, 508.56it/s]\n"
     ]
    },
    {
     "name": "stdout",
     "output_type": "stream",
     "text": [
      "Test Loss = 0.3471, Test Accuracy = 0.8939\n"
     ]
    },
    {
     "data": {
      "image/png": "[encoded data removed]",
      "text/plain": [
       "<Figure size 640x480 with 2 Axes>"
      ]
     },
     "metadata": {},
     "output_type": "display_data"
    },
    {
     "name": "stdout",
     "output_type": "stream",
     "text": [
      "CNN Test Accuracy: 0.8938648293963255\n"
     ]
    }
   ],
   "source": [
    "test_acc, test_cm = evaluate(model, test_loader)\n",
    "print(\"CNN Test Accuracy:\", test_acc)"
   ]
  },
  {
   "cell_type": "code",
   "execution_count": null,
   "id": "5690fe5c-c689-47e6-bdfb-b912798186ba",
   "metadata": {},
   "outputs": [],
   "source": []
  },
  {
   "cell_type": "markdown",
   "id": "0eac8165-b2de-4cc0-9db8-f893ca02ce9d",
   "metadata": {},
   "source": [
    "**Метрики очень близки к 90%, но возможно для контекстуальных задач RNN с hidden слоями продемонстрируют себя лучшим образом**"
   ]
  },
  {
   "cell_type": "code",
   "execution_count": null,
   "id": "d8735e0a-0314-44c5-942f-ec613d6f6d36",
   "metadata": {},
   "outputs": [],
   "source": []
  },
  {
   "cell_type": "markdown",
   "id": "0f3f4c3b-d67f-441a-a252-ccc5bb2d254c",
   "metadata": {},
   "source": [
    "**Попробуем двунаправленную RNN, чтобы лучше схватывать контекст. Здесь предварительно заметим, чтобы для лучшей перфомативности мы взяли не только выход последнего hidden слоя, поскольку в таком случае метрики были неудовлетворительными, а выходы со всех hidden слоев и затем пропускаем их через пуллинг. Так удалось качественно повысить метрики.**"
   ]
  },
  {
   "cell_type": "code",
   "execution_count": null,
   "id": "83deb6d9-9708-42f4-b290-f6764b05c084",
   "metadata": {},
   "outputs": [],
   "source": []
  },
  {
   "cell_type": "markdown",
   "id": "83abd142-1318-48c0-ab8e-51fb4a579ea9",
   "metadata": {},
   "source": [
    "**Сначала попробуем LSTM слои**"
   ]
  },
  {
   "cell_type": "code",
   "execution_count": null,
   "id": "3040622b-c76a-4d7a-8941-68ea3723dfbd",
   "metadata": {},
   "outputs": [],
   "source": []
  },
  {
   "cell_type": "code",
   "execution_count": 42,
   "id": "6b5181f0-da59-4880-b9c0-418040ad0688",
   "metadata": {},
   "outputs": [
    {
     "name": "stdout",
     "output_type": "stream",
     "text": [
      "BiLSTM_FT(\n",
      "  (lstm): LSTM(300, 128, num_layers=2, batch_first=True, dropout=0.5, bidirectional=True)\n",
      "  (dropout): Dropout(p=0.5, inplace=False)\n",
      "  (fc): Linear(in_features=256, out_features=3, bias=True)\n",
      ")\n"
     ]
    }
   ],
   "source": [
    "class BiLSTM_FT(nn.Module):\n",
    "    def __init__(self, embed_dim=300, hidden_size=128, num_layers=2, num_classes=3, dropout=0.5):\n",
    "        super().__init__()\n",
    "        self.lstm = nn.LSTM(embed_dim, hidden_size, num_layers=num_layers, \n",
    "                            bidirectional=True, batch_first=True, dropout=dropout if num_layers > 1 else 0)\n",
    "        self.dropout = nn.Dropout(dropout)\n",
    "        self.fc = nn.Linear(hidden_size * 2, num_classes)\n",
    "\n",
    "    def forward(self, x):\n",
    "        out, (h, c) = self.lstm(x)  # out: [B, L, hidden_size*2]\n",
    "        x = torch.max(out, dim=1)[0]  # Max pooling по длине: [B, hidden_size*2]\n",
    "        x = self.dropout(x)\n",
    "        return self.fc(x)\n",
    "\n",
    "model_lstm = BiLSTM_FT(embed_dim=300, hidden_size=128, num_layers=2, num_classes=len(set(y_train)))\n",
    "print(model_lstm)"
   ]
  },
  {
   "cell_type": "code",
   "execution_count": null,
   "id": "208bd9cf-504b-4ab6-9faf-9528259c5b92",
   "metadata": {},
   "outputs": [],
   "source": []
  },
  {
   "cell_type": "code",
   "execution_count": 43,
   "id": "d19d4372-fc69-4153-a9c5-9b4b96d51cdc",
   "metadata": {
    "scrolled": true
   },
   "outputs": [
    {
     "name": "stderr",
     "output_type": "stream",
     "text": [
      "Epoch 1/10: 100%|████████████████| 750/750 [00:04<00:00, 176.67it/s, loss=0.253]\n"
     ]
    },
    {
     "name": "stdout",
     "output_type": "stream",
     "text": [
      "Epoch 1: Train Loss = 0.4166, Test Accuracy = 0.8932\n"
     ]
    },
    {
     "name": "stderr",
     "output_type": "stream",
     "text": [
      "Epoch 2/10: 100%|████████████████| 750/750 [00:04<00:00, 183.82it/s, loss=0.176]\n"
     ]
    },
    {
     "name": "stdout",
     "output_type": "stream",
     "text": [
      "Epoch 2: Train Loss = 0.2897, Test Accuracy = 0.9006\n"
     ]
    },
    {
     "name": "stderr",
     "output_type": "stream",
     "text": [
      "Epoch 3/10: 100%|█████████████████| 750/750 [00:04<00:00, 184.96it/s, loss=0.33]\n"
     ]
    },
    {
     "name": "stdout",
     "output_type": "stream",
     "text": [
      "Epoch 3: Train Loss = 0.2623, Test Accuracy = 0.8950\n"
     ]
    },
    {
     "name": "stderr",
     "output_type": "stream",
     "text": [
      "Epoch 4/10: 100%|████████████████| 750/750 [00:04<00:00, 183.10it/s, loss=0.279]\n"
     ]
    },
    {
     "name": "stdout",
     "output_type": "stream",
     "text": [
      "Epoch 4: Train Loss = 0.2462, Test Accuracy = 0.9060\n"
     ]
    },
    {
     "name": "stderr",
     "output_type": "stream",
     "text": [
      "Epoch 5/10: 100%|████████████████| 750/750 [00:04<00:00, 185.30it/s, loss=0.224]\n"
     ]
    },
    {
     "name": "stdout",
     "output_type": "stream",
     "text": [
      "Epoch 5: Train Loss = 0.2319, Test Accuracy = 0.9031\n"
     ]
    },
    {
     "name": "stderr",
     "output_type": "stream",
     "text": [
      "Epoch 6/10: 100%|████████████████| 750/750 [00:04<00:00, 183.62it/s, loss=0.299]\n"
     ]
    },
    {
     "name": "stdout",
     "output_type": "stream",
     "text": [
      "Epoch 6: Train Loss = 0.2224, Test Accuracy = 0.9031\n"
     ]
    },
    {
     "name": "stderr",
     "output_type": "stream",
     "text": [
      "Epoch 7/10: 100%|███████████████| 750/750 [00:04<00:00, 182.96it/s, loss=0.0956]\n"
     ]
    },
    {
     "name": "stdout",
     "output_type": "stream",
     "text": [
      "Epoch 7: Train Loss = 0.2073, Test Accuracy = 0.8996\n"
     ]
    },
    {
     "name": "stderr",
     "output_type": "stream",
     "text": [
      "Epoch 8/10: 100%|███████████████| 750/750 [00:04<00:00, 181.94it/s, loss=0.0796]\n"
     ]
    },
    {
     "name": "stdout",
     "output_type": "stream",
     "text": [
      "Epoch 8: Train Loss = 0.1984, Test Accuracy = 0.8996\n"
     ]
    },
    {
     "name": "stderr",
     "output_type": "stream",
     "text": [
      "Epoch 9/10: 100%|████████████████| 750/750 [00:04<00:00, 182.70it/s, loss=0.177]\n"
     ]
    },
    {
     "name": "stdout",
     "output_type": "stream",
     "text": [
      "Epoch 9: Train Loss = 0.1808, Test Accuracy = 0.9058\n"
     ]
    },
    {
     "name": "stderr",
     "output_type": "stream",
     "text": [
      "Epoch 10/10: 100%|███████████████| 750/750 [00:04<00:00, 182.91it/s, loss=0.131]\n"
     ]
    },
    {
     "name": "stdout",
     "output_type": "stream",
     "text": [
      "Epoch 10: Train Loss = 0.1695, Test Accuracy = 0.9032\n"
     ]
    },
    {
     "data": {
      "image/png": "[encoded data removed]",
      "text/plain": [
       "<Figure size 800x400 with 2 Axes>"
      ]
     },
     "metadata": {},
     "output_type": "display_data"
    },
    {
     "data": {
      "image/png": "[encoded data removed]",
      "text/plain": [
       "<Figure size 640x480 with 2 Axes>"
      ]
     },
     "metadata": {},
     "output_type": "display_data"
    },
    {
     "name": "stdout",
     "output_type": "stream",
     "text": [
      "BiLSTM Train Accuracy: 0.9032152230971129\n"
     ]
    }
   ],
   "source": [
    "lstm_acc, lstm_cm = train_model(model_lstm, train_loader, test_loader, epochs=10, lr=1e-3)\n",
    "print(\"BiLSTM Train Accuracy:\", lstm_acc)"
   ]
  },
  {
   "cell_type": "markdown",
   "id": "1e5bf0a4-17df-4c67-bf5f-d77f5a92109a",
   "metadata": {},
   "source": [
    "test_acc, test_cm = evaluate(model_lstm, test_loader)\n",
    "print(\"BiLSTM Test Accuracy:\", test_acc)"
   ]
  },
  {
   "cell_type": "code",
   "execution_count": null,
   "id": "7387fdaf-7a14-4fca-989e-92e64e3bf3fd",
   "metadata": {},
   "outputs": [],
   "source": []
  },
  {
   "cell_type": "markdown",
   "id": "bd9646d9-ee0d-4222-aede-6d52f566b5ba",
   "metadata": {},
   "source": [
    "**Как видно, LSTM отрабатывает несколько лучше, чем CNN. Получили метрику > 90%**"
   ]
  },
  {
   "cell_type": "markdown",
   "id": "e3c1eb1d-ac2b-4b4a-85b2-66867b22a4b3",
   "metadata": {},
   "source": [
    "**Попробуем использовать GRU слои. Они \"проще\", но часто GRU отрабатывают лучше LSTM, вероятно, поскольку меньше запоминают шумовых данных, они более оптимизированные**"
   ]
  },
  {
   "cell_type": "code",
   "execution_count": null,
   "id": "c5807f3a-53be-46fc-a35f-ad14fe813b68",
   "metadata": {},
   "outputs": [],
   "source": []
  },
  {
   "cell_type": "code",
   "execution_count": 50,
   "id": "83eeda98-3407-47c5-8053-2b97b7e388a2",
   "metadata": {},
   "outputs": [
    {
     "name": "stdout",
     "output_type": "stream",
     "text": [
      "BiGRU_FT(\n",
      "  (gru): GRU(300, 128, num_layers=2, batch_first=True, dropout=0.5, bidirectional=True)\n",
      "  (attention): Linear(in_features=256, out_features=1, bias=True)\n",
      "  (dropout): Dropout(p=0.5, inplace=False)\n",
      "  (fc): Linear(in_features=256, out_features=3, bias=True)\n",
      ")\n"
     ]
    }
   ],
   "source": [
    "class BiGRU_FT(nn.Module):\n",
    "    def __init__(self, embed_dim=300, hidden_size=128, num_layers=2, num_classes=3, dropout=0.5):\n",
    "        super().__init__()\n",
    "        self.gru = nn.GRU(embed_dim, hidden_size, num_layers=num_layers, \n",
    "                          bidirectional=True, batch_first=True, dropout=dropout if num_layers > 1 else 0)\n",
    "        self.attention = nn.Linear(hidden_size * 2, 1)\n",
    "        self.dropout = nn.Dropout(dropout)\n",
    "        self.fc = nn.Linear(hidden_size * 2, num_classes)\n",
    "\n",
    "    def forward(self, x):\n",
    "        out, h = self.gru(x)  # out: [B, L, hidden_size*2]\n",
    "        attn_weights = F.softmax(self.attention(out), dim=1)  # [B, L, 1]\n",
    "        x = torch.sum(out * attn_weights, dim=1)  # [B, hidden_size*2]\n",
    "        x = self.dropout(x)\n",
    "        return self.fc(x)\n",
    "        \n",
    "model_gru = BiGRU_FT(embed_dim=300, hidden_size=128, num_layers=2, num_classes=len(set(y_train)))\n",
    "print(model_gru)"
   ]
  },
  {
   "cell_type": "code",
   "execution_count": 51,
   "id": "70735638-78b0-46e6-8bfc-b51ef0c62082",
   "metadata": {},
   "outputs": [
    {
     "name": "stderr",
     "output_type": "stream",
     "text": [
      "Epoch 1/10: 100%|█████████████████| 750/750 [00:03<00:00, 212.62it/s, loss=0.18]\n"
     ]
    },
    {
     "name": "stdout",
     "output_type": "stream",
     "text": [
      "Epoch 1: Train Loss = 0.3548, Test Accuracy = 0.9003\n"
     ]
    },
    {
     "name": "stderr",
     "output_type": "stream",
     "text": [
      "Epoch 2/10: 100%|█████████████████| 750/750 [00:03<00:00, 216.08it/s, loss=0.35]\n"
     ]
    },
    {
     "name": "stdout",
     "output_type": "stream",
     "text": [
      "Epoch 2: Train Loss = 0.2640, Test Accuracy = 0.9017\n"
     ]
    },
    {
     "name": "stderr",
     "output_type": "stream",
     "text": [
      "Epoch 3/10: 100%|████████████████| 750/750 [00:03<00:00, 220.08it/s, loss=0.294]\n"
     ]
    },
    {
     "name": "stdout",
     "output_type": "stream",
     "text": [
      "Epoch 3: Train Loss = 0.2435, Test Accuracy = 0.9067\n"
     ]
    },
    {
     "name": "stderr",
     "output_type": "stream",
     "text": [
      "Epoch 4/10: 100%|████████████████| 750/750 [00:03<00:00, 217.92it/s, loss=0.218]\n"
     ]
    },
    {
     "name": "stdout",
     "output_type": "stream",
     "text": [
      "Epoch 4: Train Loss = 0.2287, Test Accuracy = 0.8991\n"
     ]
    },
    {
     "name": "stderr",
     "output_type": "stream",
     "text": [
      "Epoch 5/10: 100%|████████████████| 750/750 [00:03<00:00, 218.72it/s, loss=0.174]\n"
     ]
    },
    {
     "name": "stdout",
     "output_type": "stream",
     "text": [
      "Epoch 5: Train Loss = 0.2179, Test Accuracy = 0.9094\n"
     ]
    },
    {
     "name": "stderr",
     "output_type": "stream",
     "text": [
      "Epoch 6/10: 100%|████████████████| 750/750 [00:03<00:00, 221.51it/s, loss=0.264]\n"
     ]
    },
    {
     "name": "stdout",
     "output_type": "stream",
     "text": [
      "Epoch 6: Train Loss = 0.2059, Test Accuracy = 0.9042\n"
     ]
    },
    {
     "name": "stderr",
     "output_type": "stream",
     "text": [
      "Epoch 7/10: 100%|████████████████| 750/750 [00:03<00:00, 220.09it/s, loss=0.121]\n"
     ]
    },
    {
     "name": "stdout",
     "output_type": "stream",
     "text": [
      "Epoch 7: Train Loss = 0.1927, Test Accuracy = 0.9055\n"
     ]
    },
    {
     "name": "stderr",
     "output_type": "stream",
     "text": [
      "Epoch 8/10: 100%|████████████████| 750/750 [00:03<00:00, 218.88it/s, loss=0.258]\n"
     ]
    },
    {
     "name": "stdout",
     "output_type": "stream",
     "text": [
      "Epoch 8: Train Loss = 0.1776, Test Accuracy = 0.8980\n"
     ]
    },
    {
     "name": "stderr",
     "output_type": "stream",
     "text": [
      "Epoch 9/10: 100%|████████████████| 750/750 [00:03<00:00, 220.36it/s, loss=0.137]\n"
     ]
    },
    {
     "name": "stdout",
     "output_type": "stream",
     "text": [
      "Epoch 9: Train Loss = 0.1635, Test Accuracy = 0.9011\n"
     ]
    },
    {
     "name": "stderr",
     "output_type": "stream",
     "text": [
      "Epoch 10/10: 100%|███████████████| 750/750 [00:03<00:00, 220.94it/s, loss=0.388]\n"
     ]
    },
    {
     "name": "stdout",
     "output_type": "stream",
     "text": [
      "Epoch 10: Train Loss = 0.1445, Test Accuracy = 0.9029\n"
     ]
    },
    {
     "data": {
      "image/png": "[encoded data removed]",
      "text/plain": [
       "<Figure size 800x400 with 2 Axes>"
      ]
     },
     "metadata": {},
     "output_type": "display_data"
    },
    {
     "data": {
      "image/png": "[encoded data removed]",
      "text/plain": [
       "<Figure size 640x480 with 2 Axes>"
      ]
     },
     "metadata": {},
     "output_type": "display_data"
    },
    {
     "name": "stdout",
     "output_type": "stream",
     "text": [
      "BiGRU Train Accuracy: 0.9028871391076115\n"
     ]
    }
   ],
   "source": [
    "# === Запуск обучения и оценки для GRU ===\n",
    "gru_acc, gru_cm = train_model(model_gru, train_loader, test_loader, epochs=10, lr=1e-3)\n",
    "print(\"BiGRU Train Accuracy:\", gru_acc)"
   ]
  },
  {
   "cell_type": "code",
   "execution_count": 52,
   "id": "0e2fbff4-3698-44a8-a5ad-875b18f51ac7",
   "metadata": {},
   "outputs": [
    {
     "name": "stderr",
     "output_type": "stream",
     "text": [
      "Evaluating: 100%|████████████████████████████| 191/191 [00:00<00:00, 505.25it/s]\n"
     ]
    },
    {
     "name": "stdout",
     "output_type": "stream",
     "text": [
      "Test Loss = 0.2792, Test Accuracy = 0.9029\n"
     ]
    },
    {
     "data": {
      "image/png": "[encoded data removed]",
      "text/plain": [
       "<Figure size 640x480 with 2 Axes>"
      ]
     },
     "metadata": {},
     "output_type": "display_data"
    },
    {
     "name": "stdout",
     "output_type": "stream",
     "text": [
      "BiGRU Test Accuracy: 0.9028871391076115\n"
     ]
    }
   ],
   "source": [
    "test_acc, test_cm = evaluate(model_gru, test_loader)\n",
    "print(\"BiGRU Test Accuracy:\", test_acc)"
   ]
  },
  {
   "cell_type": "code",
   "execution_count": null,
   "id": "af88cded-3c7e-4b49-bf33-9e1c2e08151f",
   "metadata": {},
   "outputs": [],
   "source": []
  },
  {
   "cell_type": "code",
   "execution_count": null,
   "id": "c6c10324-7331-46f1-8b02-88ad7b79456f",
   "metadata": {},
   "outputs": [],
   "source": []
  },
  {
   "cell_type": "markdown",
   "id": "baacdc37-614b-43d8-a4b9-5f5114c790a1",
   "metadata": {},
   "source": [
    "**Метрики, как минимум, не хуже, и также превышают 90%**"
   ]
  },
  {
   "cell_type": "code",
   "execution_count": null,
   "id": "3ccfc022-1da3-49e9-8db4-69abb2b438b5",
   "metadata": {},
   "outputs": [],
   "source": []
  },
  {
   "cell_type": "code",
   "execution_count": null,
   "id": "ff150f29-047e-4f10-809f-6199fa7760df",
   "metadata": {},
   "outputs": [],
   "source": []
  },
  {
   "cell_type": "markdown",
   "id": "2018ed74-43bf-40f6-ac5f-f47470ce5f22",
   "metadata": {},
   "source": [
    "**Russian language models**"
   ]
  },
  {
   "cell_type": "code",
   "execution_count": null,
   "id": "8169e6d5-b3d3-47b8-978c-65d93831c0f9",
   "metadata": {},
   "outputs": [],
   "source": []
  },
  {
   "cell_type": "markdown",
   "id": "dd5ce524-98a9-481f-8158-c430d2b005c4",
   "metadata": {},
   "source": [
    "**Попробуем натренировать модели на русскоязычных датасетах и посмотреть метрики**"
   ]
  },
  {
   "cell_type": "markdown",
   "id": "185f2b6a-d440-4d20-9948-2fc4e3405e55",
   "metadata": {},
   "source": [
    "**Далее будут использоваться те же функции и те же архитектуры, поэтому мотивировка использования тех или иных методов идентична и не дублируется**"
   ]
  },
  {
   "cell_type": "code",
   "execution_count": 1,
   "id": "89c30b6f-8b25-4b24-9efd-8248ed97aef5",
   "metadata": {},
   "outputs": [],
   "source": [
    "import random\n",
    "import numpy as np\n",
    "from datasets import load_dataset\n",
    "from sklearn.feature_extraction.text import CountVectorizer, TfidfVectorizer\n",
    "from sklearn.model_selection import train_test_split\n",
    "from sklearn.metrics import accuracy_score, confusion_matrix\n",
    "from sklearn.linear_model import LogisticRegression\n",
    "import fasttext.util\n",
    "from tqdm import tqdm\n",
    "import matplotlib.pyplot as plt\n",
    "from sklearn.metrics import accuracy_score, confusion_matrix, ConfusionMatrixDisplay\n",
    "import torch\n",
    "import torch.nn as nn\n",
    "from torch.utils.data import Dataset, DataLoader\n",
    "import torch.nn.functional as F\n",
    "import pandas as pd\n",
    "import re"
   ]
  },
  {
   "cell_type": "code",
   "execution_count": 2,
   "id": "3c5c83cb-de09-435e-aa3b-cc2e56cfc913",
   "metadata": {},
   "outputs": [
    {
     "data": {
      "text/html": [
       "<div>\n",
       "<style scoped>\n",
       "    .dataframe tbody tr th:only-of-type {\n",
       "        vertical-align: middle;\n",
       "    }\n",
       "\n",
       "    .dataframe tbody tr th {\n",
       "        vertical-align: top;\n",
       "    }\n",
       "\n",
       "    .dataframe thead th {\n",
       "        text-align: right;\n",
       "    }\n",
       "</style>\n",
       "<table border=\"1\" class=\"dataframe\">\n",
       "  <thead>\n",
       "    <tr style=\"text-align: right;\">\n",
       "      <th></th>\n",
       "      <th>text</th>\n",
       "      <th>neutral</th>\n",
       "      <th>toxic_threat</th>\n",
       "      <th>toxic_not_threat</th>\n",
       "    </tr>\n",
       "  </thead>\n",
       "  <tbody>\n",
       "    <tr>\n",
       "      <th>0</th>\n",
       "      <td>скотина! что сказать</td>\n",
       "      <td>0</td>\n",
       "      <td>0</td>\n",
       "      <td>1</td>\n",
       "    </tr>\n",
       "    <tr>\n",
       "      <th>1</th>\n",
       "      <td>я сегодня проезжала по рабочей и между домами ...</td>\n",
       "      <td>1</td>\n",
       "      <td>0</td>\n",
       "      <td>0</td>\n",
       "    </tr>\n",
       "    <tr>\n",
       "      <th>2</th>\n",
       "      <td>очередной лохотрон. зачем придумывать очередно...</td>\n",
       "      <td>1</td>\n",
       "      <td>0</td>\n",
       "      <td>0</td>\n",
       "    </tr>\n",
       "    <tr>\n",
       "      <th>3</th>\n",
       "      <td>ретро дежавю ... сложно понять чужое сердце , ...</td>\n",
       "      <td>1</td>\n",
       "      <td>0</td>\n",
       "      <td>0</td>\n",
       "    </tr>\n",
       "    <tr>\n",
       "      <th>4</th>\n",
       "      <td>а когда мы статус агрогородка получили?</td>\n",
       "      <td>1</td>\n",
       "      <td>0</td>\n",
       "      <td>0</td>\n",
       "    </tr>\n",
       "    <tr>\n",
       "      <th>...</th>\n",
       "      <td>...</td>\n",
       "      <td>...</td>\n",
       "      <td>...</td>\n",
       "      <td>...</td>\n",
       "    </tr>\n",
       "    <tr>\n",
       "      <th>248285</th>\n",
       "      <td>правильно всё по пять (5)...</td>\n",
       "      <td>1</td>\n",
       "      <td>0</td>\n",
       "      <td>0</td>\n",
       "    </tr>\n",
       "    <tr>\n",
       "      <th>248286</th>\n",
       "      <td>ёбанные нубы заходите на сервер мой ник _creep...</td>\n",
       "      <td>0</td>\n",
       "      <td>0</td>\n",
       "      <td>1</td>\n",
       "    </tr>\n",
       "    <tr>\n",
       "      <th>248287</th>\n",
       "      <td>а у меня наверное рекорд в 1962 году в училище...</td>\n",
       "      <td>1</td>\n",
       "      <td>0</td>\n",
       "      <td>0</td>\n",
       "    </tr>\n",
       "    <tr>\n",
       "      <th>248288</th>\n",
       "      <td>спасибо всем большое)</td>\n",
       "      <td>1</td>\n",
       "      <td>0</td>\n",
       "      <td>0</td>\n",
       "    </tr>\n",
       "    <tr>\n",
       "      <th>248289</th>\n",
       "      <td>нельзя ли увеличить хотя бы в два раза некотор...</td>\n",
       "      <td>1</td>\n",
       "      <td>0</td>\n",
       "      <td>0</td>\n",
       "    </tr>\n",
       "  </tbody>\n",
       "</table>\n",
       "<p>248290 rows × 4 columns</p>\n",
       "</div>"
      ],
      "text/plain": [
       "                                                     text  neutral  \\\n",
       "0                                    скотина! что сказать        0   \n",
       "1       я сегодня проезжала по рабочей и между домами ...        1   \n",
       "2       очередной лохотрон. зачем придумывать очередно...        1   \n",
       "3       ретро дежавю ... сложно понять чужое сердце , ...        1   \n",
       "4                 а когда мы статус агрогородка получили?        1   \n",
       "...                                                   ...      ...   \n",
       "248285                       правильно всё по пять (5)...        1   \n",
       "248286  ёбанные нубы заходите на сервер мой ник _creep...        0   \n",
       "248287  а у меня наверное рекорд в 1962 году в училище...        1   \n",
       "248288                              спасибо всем большое)        1   \n",
       "248289  нельзя ли увеличить хотя бы в два раза некотор...        1   \n",
       "\n",
       "        toxic_threat  toxic_not_threat  \n",
       "0                  0                 1  \n",
       "1                  0                 0  \n",
       "2                  0                 0  \n",
       "3                  0                 0  \n",
       "4                  0                 0  \n",
       "...              ...               ...  \n",
       "248285             0                 0  \n",
       "248286             0                 1  \n",
       "248287             0                 0  \n",
       "248288             0                 0  \n",
       "248289             0                 0  \n",
       "\n",
       "[248290 rows x 4 columns]"
      ]
     },
     "execution_count": 2,
     "metadata": {},
     "output_type": "execute_result"
    }
   ],
   "source": [
    "dataset = pd.read_csv('/home/tina/Desktop/Семестр_3/NLP/rus_toxic_full_df.csv')\n",
    "dataset\n"
   ]
  },
  {
   "cell_type": "code",
   "execution_count": 3,
   "id": "71dc8342-eac8-4ddc-9e39-08e80297cfbd",
   "metadata": {},
   "outputs": [
    {
     "name": "stdout",
     "output_type": "stream",
     "text": [
      "neutral\n",
      "1    203685\n",
      "0     44605\n",
      "Name: count, dtype: int64\n",
      "toxic_not_threat\n",
      "0    215712\n",
      "1     32578\n",
      "Name: count, dtype: int64\n",
      "toxic_threat\n",
      "0    236263\n",
      "1     12027\n",
      "Name: count, dtype: int64\n"
     ]
    }
   ],
   "source": [
    "x = dataset['text']\n",
    "y = dataset[['neutral', 'toxic_not_threat', 'toxic_threat']]\n",
    "\n",
    "print(y['neutral'].value_counts())\n",
    "print(y['toxic_not_threat'].value_counts())\n",
    "print(y['toxic_threat'].value_counts())\n"
   ]
  },
  {
   "cell_type": "code",
   "execution_count": null,
   "id": "9a83f85b-d6c2-4792-baef-f8086954c571",
   "metadata": {},
   "outputs": [],
   "source": []
  },
  {
   "cell_type": "markdown",
   "id": "007104c7-da9d-44dd-b8b7-153a2927e3ef",
   "metadata": {},
   "source": [
    "**Здесь датасет довольно сбалансированный, можно взять по 12 000 примеров на каждый класс**"
   ]
  },
  {
   "cell_type": "code",
   "execution_count": null,
   "id": "f4557985-7275-4539-869a-4fb941b891be",
   "metadata": {},
   "outputs": [],
   "source": []
  },
  {
   "cell_type": "code",
   "execution_count": 4,
   "id": "ee59d9e4-c65d-48b9-99a6-7ab970176952",
   "metadata": {},
   "outputs": [
    {
     "data": {
      "text/html": [
       "<div>\n",
       "<style scoped>\n",
       "    .dataframe tbody tr th:only-of-type {\n",
       "        vertical-align: middle;\n",
       "    }\n",
       "\n",
       "    .dataframe tbody tr th {\n",
       "        vertical-align: top;\n",
       "    }\n",
       "\n",
       "    .dataframe thead th {\n",
       "        text-align: right;\n",
       "    }\n",
       "</style>\n",
       "<table border=\"1\" class=\"dataframe\">\n",
       "  <thead>\n",
       "    <tr style=\"text-align: right;\">\n",
       "      <th></th>\n",
       "      <th>text</th>\n",
       "      <th>neutral</th>\n",
       "      <th>toxic_threat</th>\n",
       "      <th>toxic_not_threat</th>\n",
       "    </tr>\n",
       "  </thead>\n",
       "  <tbody>\n",
       "    <tr>\n",
       "      <th>0</th>\n",
       "      <td>пидараса уских рулят клиторы...!!! https://ok....</td>\n",
       "      <td>0</td>\n",
       "      <td>0</td>\n",
       "      <td>1</td>\n",
       "    </tr>\n",
       "    <tr>\n",
       "      <th>1</th>\n",
       "      <td>тут хоть ставь класс хоть не ставь! а все равн...</td>\n",
       "      <td>0</td>\n",
       "      <td>0</td>\n",
       "      <td>1</td>\n",
       "    </tr>\n",
       "    <tr>\n",
       "      <th>2</th>\n",
       "      <td>ты жопа чёрная к тому же ещё и тупой валенок</td>\n",
       "      <td>0</td>\n",
       "      <td>0</td>\n",
       "      <td>1</td>\n",
       "    </tr>\n",
       "    <tr>\n",
       "      <th>3</th>\n",
       "      <td>елена кпогг о оч была в возможно вы знакомы об...</td>\n",
       "      <td>0</td>\n",
       "      <td>1</td>\n",
       "      <td>0</td>\n",
       "    </tr>\n",
       "    <tr>\n",
       "      <th>4</th>\n",
       "      <td>всем большое спасибо！）</td>\n",
       "      <td>1</td>\n",
       "      <td>0</td>\n",
       "      <td>0</td>\n",
       "    </tr>\n",
       "    <tr>\n",
       "      <th>...</th>\n",
       "      <td>...</td>\n",
       "      <td>...</td>\n",
       "      <td>...</td>\n",
       "      <td>...</td>\n",
       "    </tr>\n",
       "    <tr>\n",
       "      <th>35995</th>\n",
       "      <td>и небольшую щепотку упс в долбоебы овцы деревья</td>\n",
       "      <td>0</td>\n",
       "      <td>0</td>\n",
       "      <td>1</td>\n",
       "    </tr>\n",
       "    <tr>\n",
       "      <th>35996</th>\n",
       "      <td>округление в пользу магазина, сколько денег на...</td>\n",
       "      <td>1</td>\n",
       "      <td>0</td>\n",
       "      <td>0</td>\n",
       "    </tr>\n",
       "    <tr>\n",
       "      <th>35997</th>\n",
       "      <td>ни всем идёт йод, у некоторых на него аллергия...</td>\n",
       "      <td>1</td>\n",
       "      <td>0</td>\n",
       "      <td>0</td>\n",
       "    </tr>\n",
       "    <tr>\n",
       "      <th>35998</th>\n",
       "      <td>согласна.люди озверели.</td>\n",
       "      <td>1</td>\n",
       "      <td>0</td>\n",
       "      <td>0</td>\n",
       "    </tr>\n",
       "    <tr>\n",
       "      <th>35999</th>\n",
       "      <td>ты саратов в глаза не видел, хохлоеботина фран...</td>\n",
       "      <td>0</td>\n",
       "      <td>0</td>\n",
       "      <td>1</td>\n",
       "    </tr>\n",
       "  </tbody>\n",
       "</table>\n",
       "<p>36000 rows × 4 columns</p>\n",
       "</div>"
      ],
      "text/plain": [
       "                                                    text  neutral  \\\n",
       "0      пидараса уских рулят клиторы...!!! https://ok....        0   \n",
       "1      тут хоть ставь класс хоть не ставь! а все равн...        0   \n",
       "2           ты жопа чёрная к тому же ещё и тупой валенок        0   \n",
       "3      елена кпогг о оч была в возможно вы знакомы об...        0   \n",
       "4                                 всем большое спасибо！）        1   \n",
       "...                                                  ...      ...   \n",
       "35995    и небольшую щепотку упс в долбоебы овцы деревья        0   \n",
       "35996  округление в пользу магазина, сколько денег на...        1   \n",
       "35997  ни всем идёт йод, у некоторых на него аллергия...        1   \n",
       "35998                            согласна.люди озверели.        1   \n",
       "35999  ты саратов в глаза не видел, хохлоеботина фран...        0   \n",
       "\n",
       "       toxic_threat  toxic_not_threat  \n",
       "0                 0                 1  \n",
       "1                 0                 1  \n",
       "2                 0                 1  \n",
       "3                 1                 0  \n",
       "4                 0                 0  \n",
       "...             ...               ...  \n",
       "35995             0                 1  \n",
       "35996             0                 0  \n",
       "35997             0                 0  \n",
       "35998             0                 0  \n",
       "35999             0                 1  \n",
       "\n",
       "[36000 rows x 4 columns]"
      ]
     },
     "execution_count": 4,
     "metadata": {},
     "output_type": "execute_result"
    }
   ],
   "source": [
    "neutral_df = dataset[dataset['neutral'] == 1].sample(n=12000)\n",
    "toxic_not_threat_df = dataset[dataset['toxic_not_threat'] == 1].sample(n=12000)\n",
    "toxic_threat_df = dataset[dataset['toxic_threat'] == 1].sample(n=12000)\n",
    "balanced_dataset = pd.concat([neutral_df, toxic_not_threat_df, toxic_threat_df], axis=0)\n",
    "balanced_dataset = balanced_dataset.sample(frac=1, random_state=42).reset_index(drop=True)\n",
    "balanced_dataset"
   ]
  },
  {
   "cell_type": "code",
   "execution_count": 5,
   "id": "8dd98467-9827-4696-a6c7-94d0fa1544e8",
   "metadata": {},
   "outputs": [
    {
     "name": "stdout",
     "output_type": "stream",
     "text": [
      "neutral\n",
      "0    24000\n",
      "1    12000\n",
      "Name: count, dtype: int64\n",
      "toxic_not_threat\n",
      "0    24000\n",
      "1    12000\n",
      "Name: count, dtype: int64\n",
      "toxic_threat\n",
      "0    24000\n",
      "1    12000\n",
      "Name: count, dtype: int64\n"
     ]
    }
   ],
   "source": [
    "x = balanced_dataset['text']\n",
    "y = balanced_dataset[['neutral', 'toxic_not_threat', 'toxic_threat']]\n",
    "print(y['neutral'].value_counts())\n",
    "print(y['toxic_not_threat'].value_counts())\n",
    "print(y['toxic_threat'].value_counts())"
   ]
  },
  {
   "cell_type": "code",
   "execution_count": 6,
   "id": "157553e7-bb94-4bfb-8739-bf75b2c429b5",
   "metadata": {},
   "outputs": [
    {
     "data": {
      "text/html": [
       "<div>\n",
       "<style scoped>\n",
       "    .dataframe tbody tr th:only-of-type {\n",
       "        vertical-align: middle;\n",
       "    }\n",
       "\n",
       "    .dataframe tbody tr th {\n",
       "        vertical-align: top;\n",
       "    }\n",
       "\n",
       "    .dataframe thead th {\n",
       "        text-align: right;\n",
       "    }\n",
       "</style>\n",
       "<table border=\"1\" class=\"dataframe\">\n",
       "  <thead>\n",
       "    <tr style=\"text-align: right;\">\n",
       "      <th></th>\n",
       "      <th>neutral</th>\n",
       "      <th>toxic_not_threat</th>\n",
       "      <th>toxic_threat</th>\n",
       "    </tr>\n",
       "  </thead>\n",
       "  <tbody>\n",
       "    <tr>\n",
       "      <th>0</th>\n",
       "      <td>0</td>\n",
       "      <td>1</td>\n",
       "      <td>0</td>\n",
       "    </tr>\n",
       "    <tr>\n",
       "      <th>1</th>\n",
       "      <td>0</td>\n",
       "      <td>1</td>\n",
       "      <td>0</td>\n",
       "    </tr>\n",
       "    <tr>\n",
       "      <th>2</th>\n",
       "      <td>0</td>\n",
       "      <td>1</td>\n",
       "      <td>0</td>\n",
       "    </tr>\n",
       "    <tr>\n",
       "      <th>3</th>\n",
       "      <td>0</td>\n",
       "      <td>0</td>\n",
       "      <td>1</td>\n",
       "    </tr>\n",
       "    <tr>\n",
       "      <th>4</th>\n",
       "      <td>1</td>\n",
       "      <td>0</td>\n",
       "      <td>0</td>\n",
       "    </tr>\n",
       "    <tr>\n",
       "      <th>...</th>\n",
       "      <td>...</td>\n",
       "      <td>...</td>\n",
       "      <td>...</td>\n",
       "    </tr>\n",
       "    <tr>\n",
       "      <th>35995</th>\n",
       "      <td>0</td>\n",
       "      <td>1</td>\n",
       "      <td>0</td>\n",
       "    </tr>\n",
       "    <tr>\n",
       "      <th>35996</th>\n",
       "      <td>1</td>\n",
       "      <td>0</td>\n",
       "      <td>0</td>\n",
       "    </tr>\n",
       "    <tr>\n",
       "      <th>35997</th>\n",
       "      <td>1</td>\n",
       "      <td>0</td>\n",
       "      <td>0</td>\n",
       "    </tr>\n",
       "    <tr>\n",
       "      <th>35998</th>\n",
       "      <td>1</td>\n",
       "      <td>0</td>\n",
       "      <td>0</td>\n",
       "    </tr>\n",
       "    <tr>\n",
       "      <th>35999</th>\n",
       "      <td>0</td>\n",
       "      <td>1</td>\n",
       "      <td>0</td>\n",
       "    </tr>\n",
       "  </tbody>\n",
       "</table>\n",
       "<p>36000 rows × 3 columns</p>\n",
       "</div>"
      ],
      "text/plain": [
       "       neutral  toxic_not_threat  toxic_threat\n",
       "0            0                 1             0\n",
       "1            0                 1             0\n",
       "2            0                 1             0\n",
       "3            0                 0             1\n",
       "4            1                 0             0\n",
       "...        ...               ...           ...\n",
       "35995        0                 1             0\n",
       "35996        1                 0             0\n",
       "35997        1                 0             0\n",
       "35998        1                 0             0\n",
       "35999        0                 1             0\n",
       "\n",
       "[36000 rows x 3 columns]"
      ]
     },
     "execution_count": 6,
     "metadata": {},
     "output_type": "execute_result"
    }
   ],
   "source": [
    "y"
   ]
  },
  {
   "cell_type": "code",
   "execution_count": 7,
   "id": "1d329ad1-39f5-429d-8135-211f155df5f5",
   "metadata": {},
   "outputs": [
    {
     "name": "stdout",
     "output_type": "stream",
     "text": [
      "labels shape: (36000,)\n",
      "Пример меток: [1 1 1 2 0]\n"
     ]
    }
   ],
   "source": [
    "y = y.idxmax(axis=1).map({'neutral': 0, 'toxic_not_threat': 1, 'toxic_threat': 2}).values\n",
    "print(\"labels shape:\", y.shape)\n",
    "print(\"Пример меток:\", y[:5])"
   ]
  },
  {
   "cell_type": "code",
   "execution_count": null,
   "id": "90895a0e-ac69-4efe-8945-08f04ab9f7c8",
   "metadata": {},
   "outputs": [],
   "source": []
  },
  {
   "cell_type": "markdown",
   "id": "7f9dcbbc-634e-4955-97cd-c9f4c76991ae",
   "metadata": {},
   "source": [
    "**Делим трейн и тест пополам, чтобы тестовая выборка была репрезентативной, в данном случае это 18000 примеров на тест**"
   ]
  },
  {
   "cell_type": "code",
   "execution_count": null,
   "id": "2bbb39ff-5468-4c18-bdc8-9a51488e3306",
   "metadata": {},
   "outputs": [],
   "source": []
  },
  {
   "cell_type": "code",
   "execution_count": 8,
   "id": "b3e42980-7ee3-4f01-a7d2-ce830b5e8d13",
   "metadata": {},
   "outputs": [],
   "source": [
    "x_train, x_test, y_train, y_test = train_test_split(x, y, test_size=0.5, shuffle=True)\n"
   ]
  },
  {
   "cell_type": "code",
   "execution_count": 9,
   "id": "9d2d94a0-0f6c-483d-9a1c-4fb9364a3c89",
   "metadata": {},
   "outputs": [
    {
     "data": {
      "text/plain": [
       "26970                                   убить такого мало!\n",
       "3942                         вас там чем ебланов опыляют ?\n",
       "9977                                   не от большого ума😂\n",
       "8619     вы вообще ебанулись...скоро точно ошейник оден...\n",
       "5594     нижняя дата, это дата выдачи свид ва. такчто с...\n",
       "                               ...                        \n",
       "1842            время раздачи так и остаётся. буду вовремя\n",
       "23067    гандон конечно я буду помнить это всю жизнь и ...\n",
       "6922     да этот путин совсем охуел... судить это нечто...\n",
       "12129    подлили керосину в огонь- теперь путинским овч...\n",
       "25886    экспериментальный иж планета 400 с движком 400...\n",
       "Name: text, Length: 18000, dtype: object"
      ]
     },
     "execution_count": 9,
     "metadata": {},
     "output_type": "execute_result"
    }
   ],
   "source": [
    "x_train"
   ]
  },
  {
   "cell_type": "code",
   "execution_count": null,
   "id": "6a953494-d823-4d5a-9876-5c03d0ccd403",
   "metadata": {},
   "outputs": [],
   "source": []
  },
  {
   "cell_type": "markdown",
   "id": "8d510f9d-80c7-494a-836e-293670fe67d9",
   "metadata": {},
   "source": [
    "**Здесь мы вынуждены разбивать на чанки без из подачи в итеративную функцию, т.к. любой итератор зависает. Таким образом, будем трансформировать каждый чанк в эбеддинги через отдельный запуск**"
   ]
  },
  {
   "cell_type": "code",
   "execution_count": 10,
   "id": "19f17a41-a735-4aa0-abcb-c14ee1a0340a",
   "metadata": {},
   "outputs": [],
   "source": [
    "x_1 = x_train[:2000]\n",
    "x_2 = x_train[2000:4000]\n",
    "x_3 = x_train[4000:6000]\n",
    "x_4 = x_train[6000:8000]\n",
    "x_5 = x_train[8000:10000]\n",
    "x_6 = x_train[10000:12000]\n",
    "x_7 = x_train[12000:14000]\n",
    "x_8 = x_train[14000:16000]\n",
    "x_9 = x_train[16000:18000]"
   ]
  },
  {
   "cell_type": "code",
   "execution_count": 11,
   "id": "bdd23a50-3002-4ae8-a743-70e257a1035f",
   "metadata": {},
   "outputs": [
    {
     "data": {
      "text/plain": [
       "23887        пиздить пора этих полицаев пора...давно пора.\n",
       "25459                  естественно во всем виновата среда.\n",
       "21867    она в украине.на 9 мая участвовала в автопробе...\n",
       "26820    когда ты сдохнеш шарлотан ёбаный .упырь от сат...\n",
       "6933     если это правда,я преклоняюсь перед такими люд...\n",
       "                               ...                        \n",
       "1842            время раздачи так и остаётся. буду вовремя\n",
       "23067    гандон конечно я буду помнить это всю жизнь и ...\n",
       "6922     да этот путин совсем охуел... судить это нечто...\n",
       "12129    подлили керосину в огонь- теперь путинским овч...\n",
       "25886    экспериментальный иж планета 400 с движком 400...\n",
       "Name: text, Length: 2000, dtype: object"
      ]
     },
     "execution_count": 11,
     "metadata": {},
     "output_type": "execute_result"
    }
   ],
   "source": [
    "x_9"
   ]
  },
  {
   "cell_type": "code",
   "execution_count": null,
   "id": "3e1961dc-2218-4401-aded-00e2b71dcbfe",
   "metadata": {},
   "outputs": [],
   "source": []
  },
  {
   "cell_type": "markdown",
   "id": "96ebaded-7026-438d-b4dc-fdbb6fc19453",
   "metadata": {},
   "source": [
    "**Далее проводим предобработку данных и преобразуем наши данные в эмбеддинги**"
   ]
  },
  {
   "cell_type": "code",
   "execution_count": null,
   "id": "b8b05fbb-4870-4f67-8aac-d0887142a66d",
   "metadata": {},
   "outputs": [],
   "source": []
  },
  {
   "cell_type": "code",
   "execution_count": 12,
   "id": "9a054a5f-c6e8-41dc-9436-7618e0f3a5a0",
   "metadata": {},
   "outputs": [
    {
     "name": "stdout",
     "output_type": "stream",
     "text": [
      "\n",
      "=== FastText ===\n"
     ]
    }
   ],
   "source": [
    "# === FastText ===\n",
    "print(\"\\n=== FastText ===\")\n",
    "fasttext.util.download_model('ru', if_exists='ignore')\n",
    "ft = fasttext.load_model('cc.ru.300.bin')\n",
    "\n",
    "def get_text_embedding(text, model, max_len=50):\n",
    "    text = text.lower()\n",
    "    text = re.sub(r\"[^а-яёa-z0-9\\s]\", \" \", text)\n",
    "    text = re.sub(r\"\\s+\", \" \", text).strip()\n",
    "    words = text.strip().split()[:max_len]\n",
    "    word_vectors = [model.get_word_vector(w) for w in words if w]\n",
    "    if len(word_vectors) == 0:\n",
    "        return np.zeros((max_len, model.get_dimension()))  # [max_len, 300]\n",
    "    word_vectors = np.array(word_vectors)  # [len(words), 300]\n",
    "    pad_len = max_len - len(word_vectors)\n",
    "    word_vectors = np.pad(word_vectors, ((0, pad_len), (0, 0)), mode='constant')  # [max_len, 300]\n",
    "    return word_vectors"
   ]
  },
  {
   "cell_type": "code",
   "execution_count": null,
   "id": "7fb643b9-db17-48bd-a9e4-e975e0e5c358",
   "metadata": {},
   "outputs": [],
   "source": []
  },
  {
   "cell_type": "code",
   "execution_count": null,
   "id": "5db15b7f-30d4-42aa-bd35-8326b43f4a9c",
   "metadata": {},
   "outputs": [],
   "source": []
  },
  {
   "cell_type": "code",
   "execution_count": 13,
   "id": "464c9574-9e0c-4690-b7d4-c15937cd4ba8",
   "metadata": {},
   "outputs": [],
   "source": [
    "X_train_ft_1 = np.array([get_text_embedding(s, ft) for s in x_1])"
   ]
  },
  {
   "cell_type": "code",
   "execution_count": 14,
   "id": "90adf517-3ed8-4120-a024-4d83ffc3a74b",
   "metadata": {},
   "outputs": [],
   "source": [
    "X_train_ft_2 = np.array([get_text_embedding(s, ft) for s in x_2])"
   ]
  },
  {
   "cell_type": "code",
   "execution_count": 15,
   "id": "c1f2a2d4-8885-48b6-a0e5-e37b4cf7dced",
   "metadata": {},
   "outputs": [],
   "source": [
    "X_train_ft_3 = np.array([get_text_embedding(s, ft) for s in x_3])"
   ]
  },
  {
   "cell_type": "code",
   "execution_count": 16,
   "id": "1b1adabd-e8a8-46c7-acee-94a6d752636a",
   "metadata": {},
   "outputs": [],
   "source": [
    "X_train_ft_4 = np.array([get_text_embedding(s, ft) for s in x_4])"
   ]
  },
  {
   "cell_type": "code",
   "execution_count": 17,
   "id": "53da0dd1-7d76-4045-b24c-462485e255bd",
   "metadata": {},
   "outputs": [],
   "source": [
    "X_train_ft_5 = np.array([get_text_embedding(s, ft) for s in x_5])"
   ]
  },
  {
   "cell_type": "code",
   "execution_count": 18,
   "id": "53e6d91e-19fb-4a1f-9d5e-5df9b9d15b53",
   "metadata": {},
   "outputs": [],
   "source": [
    "X_train_ft_6 = np.array([get_text_embedding(s, ft) for s in x_6])"
   ]
  },
  {
   "cell_type": "code",
   "execution_count": 19,
   "id": "2b78459f-0406-407b-b4ee-3566907dad0f",
   "metadata": {},
   "outputs": [],
   "source": [
    "X_train_ft_7 = np.array([get_text_embedding(s, ft) for s in x_7])"
   ]
  },
  {
   "cell_type": "code",
   "execution_count": 20,
   "id": "bfd53f03-f9fc-424b-afbc-de0045a6b98e",
   "metadata": {},
   "outputs": [],
   "source": [
    "X_train_ft_8 = np.array([get_text_embedding(s, ft) for s in x_8])"
   ]
  },
  {
   "cell_type": "code",
   "execution_count": 21,
   "id": "bf87700e-4fe9-40d4-972e-2ef65a674aef",
   "metadata": {},
   "outputs": [],
   "source": [
    "X_train_ft_9 = np.array([get_text_embedding(s, ft) for s in x_9])"
   ]
  },
  {
   "cell_type": "code",
   "execution_count": null,
   "id": "4ec07bd0-8224-4ea5-b22e-0d8e035a72f5",
   "metadata": {},
   "outputs": [],
   "source": []
  },
  {
   "cell_type": "code",
   "execution_count": 22,
   "id": "81bcad97-9406-47ce-84ff-3b9ea5def1c3",
   "metadata": {},
   "outputs": [
    {
     "name": "stdout",
     "output_type": "stream",
     "text": [
      "[(50, 300), (50, 300), (50, 300), (50, 300), (50, 300)]\n"
     ]
    }
   ],
   "source": [
    "print([get_text_embedding(s, ft).shape for s in x_9[:5]])"
   ]
  },
  {
   "cell_type": "code",
   "execution_count": 23,
   "id": "a11c05ad-dc22-4497-96ce-5f598ccf8ca4",
   "metadata": {},
   "outputs": [],
   "source": [
    "X_train_ft = np.concatenate(\n",
    "    [X_train_ft_1, X_train_ft_2, X_train_ft_3, X_train_ft_4, \n",
    "     X_train_ft_5, X_train_ft_6, X_train_ft_7, X_train_ft_8, \n",
    "     X_train_ft_9],\n",
    "    axis=0\n",
    ")"
   ]
  },
  {
   "cell_type": "code",
   "execution_count": 24,
   "id": "a127c2e6-b29d-45c1-95bd-351f0c82dc4b",
   "metadata": {
    "scrolled": true
   },
   "outputs": [
    {
     "data": {
      "text/plain": [
       "array([[[ 2.13465490e-03, -3.14592011e-03, -9.29429103e-03, ...,\n",
       "         -1.94670446e-02,  3.40633057e-02, -3.30008939e-03],\n",
       "        [ 5.17563708e-02,  9.47899558e-03,  2.02253647e-02, ...,\n",
       "          2.75836121e-02, -5.26788048e-02, -3.58344205e-02],\n",
       "        [ 1.53560471e-02, -4.27011475e-02, -1.04131699e-02, ...,\n",
       "         -4.96229902e-02, -6.60395771e-02, -1.99417874e-01],\n",
       "        ...,\n",
       "        [ 0.00000000e+00,  0.00000000e+00,  0.00000000e+00, ...,\n",
       "          0.00000000e+00,  0.00000000e+00,  0.00000000e+00],\n",
       "        [ 0.00000000e+00,  0.00000000e+00,  0.00000000e+00, ...,\n",
       "          0.00000000e+00,  0.00000000e+00,  0.00000000e+00],\n",
       "        [ 0.00000000e+00,  0.00000000e+00,  0.00000000e+00, ...,\n",
       "          0.00000000e+00,  0.00000000e+00,  0.00000000e+00]],\n",
       "\n",
       "       [[ 1.29841775e-01, -6.50196522e-03, -7.11609945e-02, ...,\n",
       "         -4.42091897e-02, -2.45059550e-01, -8.00090730e-02],\n",
       "        [ 2.05443315e-02, -1.71633363e-01, -7.19676018e-02, ...,\n",
       "          2.53604688e-02, -6.78354502e-02, -1.38706654e-01],\n",
       "        [ 7.63590634e-02, -1.27222240e-01, -1.07774511e-03, ...,\n",
       "          3.06202061e-02,  6.86461255e-02, -6.72911406e-02],\n",
       "        ...,\n",
       "        [ 0.00000000e+00,  0.00000000e+00,  0.00000000e+00, ...,\n",
       "          0.00000000e+00,  0.00000000e+00,  0.00000000e+00],\n",
       "        [ 0.00000000e+00,  0.00000000e+00,  0.00000000e+00, ...,\n",
       "          0.00000000e+00,  0.00000000e+00,  0.00000000e+00],\n",
       "        [ 0.00000000e+00,  0.00000000e+00,  0.00000000e+00, ...,\n",
       "          0.00000000e+00,  0.00000000e+00,  0.00000000e+00]],\n",
       "\n",
       "       [[-2.38207802e-02,  1.74449701e-02, -4.31189947e-02, ...,\n",
       "          1.37528598e-01, -1.22328535e-01, -2.80585736e-01],\n",
       "        [-9.90317538e-02,  6.66214824e-02, -9.98375416e-02, ...,\n",
       "          1.27144143e-01, -1.51716014e-02,  3.74435008e-01],\n",
       "        [ 2.94233896e-02,  4.44219261e-03,  4.92438935e-02, ...,\n",
       "          1.60918869e-02, -6.95679933e-02, -4.96939607e-02],\n",
       "        ...,\n",
       "        [ 0.00000000e+00,  0.00000000e+00,  0.00000000e+00, ...,\n",
       "          0.00000000e+00,  0.00000000e+00,  0.00000000e+00],\n",
       "        [ 0.00000000e+00,  0.00000000e+00,  0.00000000e+00, ...,\n",
       "          0.00000000e+00,  0.00000000e+00,  0.00000000e+00],\n",
       "        [ 0.00000000e+00,  0.00000000e+00,  0.00000000e+00, ...,\n",
       "          0.00000000e+00,  0.00000000e+00,  0.00000000e+00]],\n",
       "\n",
       "       ...,\n",
       "\n",
       "       [[ 1.58554001e-03, -1.43794507e-01,  1.15492363e-02, ...,\n",
       "         -9.53549147e-02, -1.16467670e-01, -2.47388646e-01],\n",
       "        [-2.99645215e-03,  2.83834301e-02, -6.33016741e-03, ...,\n",
       "          2.66209990e-02,  3.38747948e-02, -4.55161631e-02],\n",
       "        [ 1.19832382e-01, -7.37264799e-03, -1.01117097e-01, ...,\n",
       "         -4.18679453e-02,  2.22750530e-02, -7.32475705e-03],\n",
       "        ...,\n",
       "        [ 0.00000000e+00,  0.00000000e+00,  0.00000000e+00, ...,\n",
       "          0.00000000e+00,  0.00000000e+00,  0.00000000e+00],\n",
       "        [ 0.00000000e+00,  0.00000000e+00,  0.00000000e+00, ...,\n",
       "          0.00000000e+00,  0.00000000e+00,  0.00000000e+00],\n",
       "        [ 0.00000000e+00,  0.00000000e+00,  0.00000000e+00, ...,\n",
       "          0.00000000e+00,  0.00000000e+00,  0.00000000e+00]],\n",
       "\n",
       "       [[-1.84422056e-03,  1.30088359e-01,  1.01291612e-01, ...,\n",
       "         -1.32377684e-01,  5.49560152e-02, -5.28947730e-03],\n",
       "        [ 7.76699791e-03,  1.06122503e-02,  1.47768864e-02, ...,\n",
       "         -6.32758588e-02, -3.89207527e-02, -2.61392687e-02],\n",
       "        [ 2.05117501e-02,  4.38224226e-02,  2.53709089e-02, ...,\n",
       "          1.73747744e-02,  3.09441000e-01,  3.46320689e-01],\n",
       "        ...,\n",
       "        [ 0.00000000e+00,  0.00000000e+00,  0.00000000e+00, ...,\n",
       "          0.00000000e+00,  0.00000000e+00,  0.00000000e+00],\n",
       "        [ 0.00000000e+00,  0.00000000e+00,  0.00000000e+00, ...,\n",
       "          0.00000000e+00,  0.00000000e+00,  0.00000000e+00],\n",
       "        [ 0.00000000e+00,  0.00000000e+00,  0.00000000e+00, ...,\n",
       "          0.00000000e+00,  0.00000000e+00,  0.00000000e+00]],\n",
       "\n",
       "       [[-8.11691768e-03,  2.08312161e-02,  1.94884092e-03, ...,\n",
       "          2.77161337e-02, -8.38835724e-03,  7.66246999e-03],\n",
       "        [ 2.73065507e-01, -5.22605419e-01, -7.23806322e-02, ...,\n",
       "          9.30663422e-02,  3.21239948e-01,  4.38167542e-01],\n",
       "        [ 3.19648832e-02, -3.99825796e-02, -5.05753309e-02, ...,\n",
       "         -2.65125505e-04,  1.13423206e-02, -4.37794030e-02],\n",
       "        ...,\n",
       "        [ 0.00000000e+00,  0.00000000e+00,  0.00000000e+00, ...,\n",
       "          0.00000000e+00,  0.00000000e+00,  0.00000000e+00],\n",
       "        [ 0.00000000e+00,  0.00000000e+00,  0.00000000e+00, ...,\n",
       "          0.00000000e+00,  0.00000000e+00,  0.00000000e+00],\n",
       "        [ 0.00000000e+00,  0.00000000e+00,  0.00000000e+00, ...,\n",
       "          0.00000000e+00,  0.00000000e+00,  0.00000000e+00]]],\n",
       "      dtype=float32)"
      ]
     },
     "execution_count": 24,
     "metadata": {},
     "output_type": "execute_result"
    }
   ],
   "source": [
    "X_train_ft"
   ]
  },
  {
   "cell_type": "code",
   "execution_count": null,
   "id": "9cca31f4-b3a5-492f-9f0f-02026169b258",
   "metadata": {},
   "outputs": [],
   "source": []
  },
  {
   "cell_type": "code",
   "execution_count": null,
   "id": "a81777aa-80f0-4f81-bdde-7ad145762340",
   "metadata": {
    "scrolled": true
   },
   "outputs": [],
   "source": []
  },
  {
   "cell_type": "code",
   "execution_count": 25,
   "id": "0423bece-0e32-4523-8b68-58ff291141a1",
   "metadata": {
    "scrolled": true
   },
   "outputs": [
    {
     "name": "stdout",
     "output_type": "stream",
     "text": [
      "Пример эмбеддинга FastText для первого текста: [[ 0.00213465 -0.00314592 -0.00929429  0.0334738   0.0228604   0.04059345\n",
      "  -0.00528134 -0.03792536 -0.04602993 -0.00695037]\n",
      " [ 0.05175637  0.009479    0.02022536  0.01808274  0.0296282   0.00295898\n",
      "   0.01422787 -0.02266838 -0.01581611  0.01027999]\n",
      " [ 0.01535605 -0.04270115 -0.01041317  0.10524878 -0.03188214 -0.08835521\n",
      "  -0.04817184  0.08577232 -0.05629525 -0.05624069]\n",
      " [ 0.          0.          0.          0.          0.          0.\n",
      "   0.          0.          0.          0.        ]\n",
      " [ 0.          0.          0.          0.          0.          0.\n",
      "   0.          0.          0.          0.        ]\n",
      " [ 0.          0.          0.          0.          0.          0.\n",
      "   0.          0.          0.          0.        ]\n",
      " [ 0.          0.          0.          0.          0.          0.\n",
      "   0.          0.          0.          0.        ]\n",
      " [ 0.          0.          0.          0.          0.          0.\n",
      "   0.          0.          0.          0.        ]\n",
      " [ 0.          0.          0.          0.          0.          0.\n",
      "   0.          0.          0.          0.        ]\n",
      " [ 0.          0.          0.          0.          0.          0.\n",
      "   0.          0.          0.          0.        ]]\n"
     ]
    }
   ],
   "source": [
    "X_test_ft = np.array([get_text_embedding(s, ft) for s in x_test])    # [M, max_len, 300]\n",
    "print(X_train_ft[0][:10, :10])  # Первые 10 слов, первые 10 элементов"
   ]
  },
  {
   "cell_type": "code",
   "execution_count": 26,
   "id": "b0c18f7f-4975-4eff-a1fd-d300cd731e6f",
   "metadata": {},
   "outputs": [],
   "source": [
    "# === TextDataset ===\n",
    "class TextDataset(Dataset):\n",
    "    def __init__(self, X, y):\n",
    "        self.X = torch.tensor(X, dtype=torch.float32)  # [N, max_len, 300]\n",
    "        self.y = torch.tensor(y, dtype=torch.long)\n",
    "    def __len__(self):\n",
    "        return len(self.X)\n",
    "    def __getitem__(self, idx):\n",
    "        return self.X[idx], self.y[idx]\n",
    "\n",
    "batch_size = 32\n",
    "train_dataset = TextDataset(X_train_ft, y_train)"
   ]
  },
  {
   "cell_type": "code",
   "execution_count": 27,
   "id": "e9fd42c2-0ee0-465e-be75-dab6958565cf",
   "metadata": {},
   "outputs": [],
   "source": [
    "test_dataset = TextDataset(X_test_ft, y_test)"
   ]
  },
  {
   "cell_type": "code",
   "execution_count": 28,
   "id": "834f17e1-0c39-40ba-b22d-d1e02e069d7b",
   "metadata": {},
   "outputs": [],
   "source": [
    "train_loader = DataLoader(train_dataset, batch_size=batch_size, shuffle=True)"
   ]
  },
  {
   "cell_type": "code",
   "execution_count": 29,
   "id": "a13931f8-f4a3-40da-992b-324a1eea2e2f",
   "metadata": {},
   "outputs": [],
   "source": [
    "test_loader = DataLoader(test_dataset, batch_size=batch_size)"
   ]
  },
  {
   "cell_type": "code",
   "execution_count": 30,
   "id": "03ca16a0-714b-4a70-8cad-0d7ac233bb70",
   "metadata": {},
   "outputs": [],
   "source": [
    "# === TextCNN_FT ===\n",
    "class TextCNN_FT(nn.Module):\n",
    "    def __init__(self, embed_dim=300, num_classes=3, kernel_sizes=[3,4,5], num_filters=100, dropout=0.5):\n",
    "        super().__init__()\n",
    "        self.convs = nn.ModuleList([nn.Conv1d(embed_dim, num_filters, k) for k in kernel_sizes])\n",
    "        self.dropout = nn.Dropout(dropout)\n",
    "        self.bn = nn.BatchNorm1d(num_filters * len(kernel_sizes) * 2)  # *2 для max+avg pooling\n",
    "        self.fc = nn.Linear(num_filters * len(kernel_sizes) * 2, num_classes)\n",
    "\n",
    "    def forward(self, x):\n",
    "        # x: [B, L, E]\n",
    "        x = x.permute(0, 2, 1)  # [B, E, L]\n",
    "        convs = [F.relu(conv(x)) for conv in self.convs]  # [B, F, L-k+1]\n",
    "        pools_max = [F.max_pool1d(c, c.size(2)).squeeze(2) for c in convs]  # [B, F]\n",
    "        pools_avg = [F.avg_pool1d(c, c.size(2)).squeeze(2) for c in convs]  # [B, F]\n",
    "        pools = [torch.cat([pm, pa], dim=1) for pm, pa in zip(pools_max, pools_avg)]  # [B, 2F]\n",
    "        x = torch.cat(pools, dim=1)  # [B, 2F * len(kernel_sizes)]\n",
    "        x = self.dropout(self.bn(x))\n",
    "        return self.fc(x)"
   ]
  },
  {
   "cell_type": "code",
   "execution_count": 31,
   "id": "ac6a9f3b-cbd5-4668-a061-00062cdac9db",
   "metadata": {},
   "outputs": [
    {
     "name": "stdout",
     "output_type": "stream",
     "text": [
      "TextCNN_FT(\n",
      "  (convs): ModuleList(\n",
      "    (0): Conv1d(300, 100, kernel_size=(3,), stride=(1,))\n",
      "    (1): Conv1d(300, 100, kernel_size=(4,), stride=(1,))\n",
      "    (2): Conv1d(300, 100, kernel_size=(5,), stride=(1,))\n",
      "  )\n",
      "  (dropout): Dropout(p=0.5, inplace=False)\n",
      "  (bn): BatchNorm1d(600, eps=1e-05, momentum=0.1, affine=True, track_running_stats=True)\n",
      "  (fc): Linear(in_features=600, out_features=3, bias=True)\n",
      ")\n"
     ]
    }
   ],
   "source": [
    "model = TextCNN_FT(embed_dim=300, num_classes=3)\n",
    "print(model)"
   ]
  },
  {
   "cell_type": "code",
   "execution_count": null,
   "id": "d666d9a3-75cd-45ac-b6ba-35ac71cbe49e",
   "metadata": {},
   "outputs": [],
   "source": []
  },
  {
   "cell_type": "code",
   "execution_count": 32,
   "id": "65ffa7f5-c0e9-4ad4-b68c-7a3d093580c8",
   "metadata": {},
   "outputs": [],
   "source": [
    "# === Функция обучения ===\n",
    "def train_model(model, train_loader, test_loader, epochs=5, lr=1e-3):\n",
    "    device = torch.device(\"cuda\" if torch.cuda.is_available() else \"cpu\")\n",
    "    model = model.to(device)\n",
    "    \n",
    "    optimizer = torch.optim.Adam(model.parameters(), lr=lr)\n",
    "    criterion = nn.CrossEntropyLoss()\n",
    "    \n",
    "    train_losses = []\n",
    "    test_accuracies = []\n",
    "    \n",
    "    for epoch in range(1, epochs+1):\n",
    "        model.train()\n",
    "        running_loss = 0\n",
    "        pbar = tqdm(train_loader, desc=f\"Epoch {epoch}/{epochs}\")\n",
    "        \n",
    "        for X_batch, y_batch in pbar:\n",
    "            X_batch, y_batch = X_batch.to(device), y_batch.to(device)  # [B, max_len, 300], [B]\n",
    "            optimizer.zero_grad()\n",
    "            logits = model(X_batch)  # [B, num_classes]\n",
    "            loss = criterion(logits, y_batch)\n",
    "            loss.backward()\n",
    "            optimizer.step()\n",
    "            \n",
    "            running_loss += loss.item() * X_batch.size(0)\n",
    "            pbar.set_postfix({\"loss\": loss.item()})\n",
    "        \n",
    "        epoch_loss = running_loss / len(train_loader.dataset)\n",
    "        train_losses.append(epoch_loss)\n",
    "        \n",
    "        model.eval()\n",
    "        all_preds = []\n",
    "        all_labels = []\n",
    "        with torch.no_grad():\n",
    "            for X_batch, y_batch in test_loader:\n",
    "                X_batch, y_batch = X_batch.to(device), y_batch.to(device)\n",
    "                logits = model(X_batch)\n",
    "                preds = torch.argmax(logits, dim=1)\n",
    "                all_preds.extend(preds.cpu().numpy())\n",
    "                all_labels.extend(y_batch.cpu().numpy())\n",
    "        acc = accuracy_score(all_labels, all_preds)\n",
    "        test_accuracies.append(acc)\n",
    "        \n",
    "        print(f\"Epoch {epoch}: Train Loss = {epoch_loss:.4f}, Test Accuracy = {acc:.4f}\")\n",
    "    \n",
    "    # График Loss и Accuracy\n",
    "    fig, ax1 = plt.subplots(figsize=(8,4))\n",
    "    ax1.set_xlabel('Epoch')\n",
    "    ax1.set_ylabel('Train Loss', color='tab:red')\n",
    "    ax1.plot(range(1, epochs+1), train_losses, color='tab:red', marker='o', label='Train Loss')\n",
    "    ax1.tick_params(axis='y', labelcolor='tab:red')\n",
    "    \n",
    "    ax2 = ax1.twinx()\n",
    "    ax2.set_ylabel('Test Accuracy', color='tab:blue')\n",
    "    ax2.plot(range(1, epochs+1), test_accuracies, color='tab:blue', marker='x', label='Test Accuracy')\n",
    "    ax2.tick_params(axis='y', labelcolor='tab:blue')\n",
    "    \n",
    "    fig.tight_layout()\n",
    "    plt.show()\n",
    "    \n",
    "    # Confusion Matrix\n",
    "    final_cm = confusion_matrix(all_labels, all_preds)\n",
    "    ConfusionMatrixDisplay(final_cm).plot(cmap=\"Blues\")\n",
    "    plt.show()\n",
    "    \n",
    "    return test_accuracies[-1], final_cm"
   ]
  },
  {
   "cell_type": "code",
   "execution_count": 33,
   "id": "5cb3d554-8048-4905-aa86-6cf626dbb562",
   "metadata": {},
   "outputs": [],
   "source": [
    "def evaluate(model, test_loader):\n",
    "    device = torch.device(\"cuda\" if torch.cuda.is_available() else \"cpu\")\n",
    "    model = model.to(device)\n",
    "    model.eval()\n",
    "    \n",
    "    all_preds = []\n",
    "    all_labels = []\n",
    "    running_loss = 0\n",
    "    criterion = nn.CrossEntropyLoss()\n",
    "    \n",
    "    with torch.no_grad():\n",
    "        for X_batch, y_batch in tqdm(test_loader, desc=\"Evaluating\"):\n",
    "            X_batch, y_batch = X_batch.to(device), y_batch.to(device)  # [B, max_len, 300], [B]\n",
    "            logits = model(X_batch)  # [B, num_classes]\n",
    "            loss = criterion(logits, y_batch)\n",
    "            running_loss += loss.item() * X_batch.size(0)\n",
    "            preds = torch.argmax(logits, dim=1)\n",
    "            all_preds.extend(preds.cpu().numpy())\n",
    "            all_labels.extend(y_batch.cpu().numpy())\n",
    "    \n",
    "    test_loss = running_loss / len(test_loader.dataset)\n",
    "    test_accuracy = accuracy_score(all_labels, all_preds)\n",
    "    \n",
    "    print(f\"Test Loss = {test_loss:.4f}, Test Accuracy = {test_accuracy:.4f}\")\n",
    "    \n",
    "    # Confusion Matrix\n",
    "    cm = confusion_matrix(all_labels, all_preds)\n",
    "    ConfusionMatrixDisplay(cm).plot(cmap=\"Blues\")\n",
    "    plt.show()\n",
    "    \n",
    "    return test_accuracy, cm"
   ]
  },
  {
   "cell_type": "code",
   "execution_count": 34,
   "id": "07e456f4-359d-4bd0-b509-a7e3627f8573",
   "metadata": {
    "scrolled": true
   },
   "outputs": [
    {
     "name": "stderr",
     "output_type": "stream",
     "text": [
      "Epoch 1/10: 100%|████████████████| 563/563 [00:02<00:00, 240.45it/s, loss=0.399]\n"
     ]
    },
    {
     "name": "stdout",
     "output_type": "stream",
     "text": [
      "Epoch 1: Train Loss = 0.5164, Test Accuracy = 0.8479\n"
     ]
    },
    {
     "name": "stderr",
     "output_type": "stream",
     "text": [
      "Epoch 2/10: 100%|████████████████| 563/563 [00:01<00:00, 309.17it/s, loss=0.511]\n"
     ]
    },
    {
     "name": "stdout",
     "output_type": "stream",
     "text": [
      "Epoch 2: Train Loss = 0.3605, Test Accuracy = 0.8869\n"
     ]
    },
    {
     "name": "stderr",
     "output_type": "stream",
     "text": [
      "Epoch 3/10: 100%|█████████████████| 563/563 [00:01<00:00, 326.14it/s, loss=0.41]\n"
     ]
    },
    {
     "name": "stdout",
     "output_type": "stream",
     "text": [
      "Epoch 3: Train Loss = 0.3155, Test Accuracy = 0.8735\n"
     ]
    },
    {
     "name": "stderr",
     "output_type": "stream",
     "text": [
      "Epoch 4/10: 100%|████████████████| 563/563 [00:01<00:00, 332.44it/s, loss=0.205]\n"
     ]
    },
    {
     "name": "stdout",
     "output_type": "stream",
     "text": [
      "Epoch 4: Train Loss = 0.2865, Test Accuracy = 0.8936\n"
     ]
    },
    {
     "name": "stderr",
     "output_type": "stream",
     "text": [
      "Epoch 5/10: 100%|████████████████| 563/563 [00:01<00:00, 310.53it/s, loss=0.127]\n"
     ]
    },
    {
     "name": "stdout",
     "output_type": "stream",
     "text": [
      "Epoch 5: Train Loss = 0.2533, Test Accuracy = 0.8931\n"
     ]
    },
    {
     "name": "stderr",
     "output_type": "stream",
     "text": [
      "Epoch 6/10: 100%|████████████████| 563/563 [00:01<00:00, 333.41it/s, loss=0.464]\n"
     ]
    },
    {
     "name": "stdout",
     "output_type": "stream",
     "text": [
      "Epoch 6: Train Loss = 0.2351, Test Accuracy = 0.8921\n"
     ]
    },
    {
     "name": "stderr",
     "output_type": "stream",
     "text": [
      "Epoch 7/10: 100%|████████████████| 563/563 [00:01<00:00, 321.57it/s, loss=0.199]\n"
     ]
    },
    {
     "name": "stdout",
     "output_type": "stream",
     "text": [
      "Epoch 7: Train Loss = 0.2108, Test Accuracy = 0.8913\n"
     ]
    },
    {
     "name": "stderr",
     "output_type": "stream",
     "text": [
      "Epoch 8/10: 100%|████████████████| 563/563 [00:01<00:00, 319.75it/s, loss=0.248]\n"
     ]
    },
    {
     "name": "stdout",
     "output_type": "stream",
     "text": [
      "Epoch 8: Train Loss = 0.1945, Test Accuracy = 0.8952\n"
     ]
    },
    {
     "name": "stderr",
     "output_type": "stream",
     "text": [
      "Epoch 9/10: 100%|████████████████| 563/563 [00:01<00:00, 326.74it/s, loss=0.419]\n"
     ]
    },
    {
     "name": "stdout",
     "output_type": "stream",
     "text": [
      "Epoch 9: Train Loss = 0.1831, Test Accuracy = 0.8969\n"
     ]
    },
    {
     "name": "stderr",
     "output_type": "stream",
     "text": [
      "Epoch 10/10: 100%|███████████████| 563/563 [00:01<00:00, 340.58it/s, loss=0.137]\n"
     ]
    },
    {
     "name": "stdout",
     "output_type": "stream",
     "text": [
      "Epoch 10: Train Loss = 0.1684, Test Accuracy = 0.8917\n"
     ]
    },
    {
     "data": {
      "image/png": "[encoded data removed]",
      "text/plain": [
       "<Figure size 800x400 with 2 Axes>"
      ]
     },
     "metadata": {},
     "output_type": "display_data"
    },
    {
     "data": {
      "image/png": "[encoded data removed]",
      "text/plain": [
       "<Figure size 640x480 with 2 Axes>"
      ]
     },
     "metadata": {},
     "output_type": "display_data"
    },
    {
     "name": "stdout",
     "output_type": "stream",
     "text": [
      "CNN Train Accuracy: 0.8917222222222222\n"
     ]
    }
   ],
   "source": [
    "cnn_acc, cnn_cm = train_model(model, train_loader, test_loader, epochs=10, lr=1e-3)\n",
    "print(\"CNN Train Accuracy:\", cnn_acc)"
   ]
  },
  {
   "cell_type": "code",
   "execution_count": 35,
   "id": "abbe4152-3bf6-427d-b883-bf72ce38931e",
   "metadata": {},
   "outputs": [
    {
     "name": "stderr",
     "output_type": "stream",
     "text": [
      "Evaluating: 100%|████████████████████████████| 563/563 [00:00<00:00, 705.38it/s]\n"
     ]
    },
    {
     "name": "stdout",
     "output_type": "stream",
     "text": [
      "Test Loss = 0.3464, Test Accuracy = 0.8917\n"
     ]
    },
    {
     "data": {
      "image/png": "[encoded data removed]",
      "text/plain": [
       "<Figure size 640x480 with 2 Axes>"
      ]
     },
     "metadata": {},
     "output_type": "display_data"
    },
    {
     "name": "stdout",
     "output_type": "stream",
     "text": [
      "CNN Test Accuracy: 0.8917222222222222\n"
     ]
    }
   ],
   "source": [
    "test_acc, test_cm = evaluate(model, test_loader)\n",
    "print(\"CNN Test Accuracy:\", test_acc)"
   ]
  },
  {
   "cell_type": "code",
   "execution_count": null,
   "id": "01b82b7b-2e3a-44d1-8bbc-a7b652c7a394",
   "metadata": {},
   "outputs": [],
   "source": []
  },
  {
   "cell_type": "code",
   "execution_count": null,
   "id": "8f7d17f9-99d8-4aa6-a30e-e8d2817bcb96",
   "metadata": {},
   "outputs": [],
   "source": []
  },
  {
   "cell_type": "code",
   "execution_count": 39,
   "id": "3008b83c-c06d-4f87-87ed-e823755470a9",
   "metadata": {},
   "outputs": [
    {
     "name": "stderr",
     "output_type": "stream",
     "text": [
      "Epoch 1/10: 100%|████████████████| 563/563 [00:03<00:00, 181.09it/s, loss=0.815]\n"
     ]
    },
    {
     "name": "stdout",
     "output_type": "stream",
     "text": [
      "Epoch 1: Train Loss = 0.5364, Test Accuracy = 0.8721\n"
     ]
    },
    {
     "name": "stderr",
     "output_type": "stream",
     "text": [
      "Epoch 2/10: 100%|████████████████| 563/563 [00:03<00:00, 185.16it/s, loss=0.307]\n"
     ]
    },
    {
     "name": "stdout",
     "output_type": "stream",
     "text": [
      "Epoch 2: Train Loss = 0.3173, Test Accuracy = 0.8918\n"
     ]
    },
    {
     "name": "stderr",
     "output_type": "stream",
     "text": [
      "Epoch 3/10: 100%|█████████████████| 563/563 [00:03<00:00, 183.08it/s, loss=0.35]\n"
     ]
    },
    {
     "name": "stdout",
     "output_type": "stream",
     "text": [
      "Epoch 3: Train Loss = 0.2735, Test Accuracy = 0.8998\n"
     ]
    },
    {
     "name": "stderr",
     "output_type": "stream",
     "text": [
      "Epoch 4/10: 100%|███████████████| 563/563 [00:03<00:00, 185.02it/s, loss=0.0945]\n"
     ]
    },
    {
     "name": "stdout",
     "output_type": "stream",
     "text": [
      "Epoch 4: Train Loss = 0.2420, Test Accuracy = 0.9040\n"
     ]
    },
    {
     "name": "stderr",
     "output_type": "stream",
     "text": [
      "Epoch 5/10: 100%|█████████████████| 563/563 [00:03<00:00, 184.38it/s, loss=0.34]\n"
     ]
    },
    {
     "name": "stdout",
     "output_type": "stream",
     "text": [
      "Epoch 5: Train Loss = 0.2175, Test Accuracy = 0.9015\n"
     ]
    },
    {
     "name": "stderr",
     "output_type": "stream",
     "text": [
      "Epoch 6/10: 100%|████████████████| 563/563 [00:03<00:00, 183.00it/s, loss=0.049]\n"
     ]
    },
    {
     "name": "stdout",
     "output_type": "stream",
     "text": [
      "Epoch 6: Train Loss = 0.2003, Test Accuracy = 0.9087\n"
     ]
    },
    {
     "name": "stderr",
     "output_type": "stream",
     "text": [
      "Epoch 7/10: 100%|███████████████| 563/563 [00:03<00:00, 184.29it/s, loss=0.0752]\n"
     ]
    },
    {
     "name": "stdout",
     "output_type": "stream",
     "text": [
      "Epoch 7: Train Loss = 0.1827, Test Accuracy = 0.9069\n"
     ]
    },
    {
     "name": "stderr",
     "output_type": "stream",
     "text": [
      "Epoch 8/10: 100%|███████████████| 563/563 [00:03<00:00, 184.26it/s, loss=0.0338]\n"
     ]
    },
    {
     "name": "stdout",
     "output_type": "stream",
     "text": [
      "Epoch 8: Train Loss = 0.1661, Test Accuracy = 0.9101\n"
     ]
    },
    {
     "name": "stderr",
     "output_type": "stream",
     "text": [
      "Epoch 9/10: 100%|████████████████| 563/563 [00:03<00:00, 185.17it/s, loss=0.109]\n"
     ]
    },
    {
     "name": "stdout",
     "output_type": "stream",
     "text": [
      "Epoch 9: Train Loss = 0.1506, Test Accuracy = 0.9091\n"
     ]
    },
    {
     "name": "stderr",
     "output_type": "stream",
     "text": [
      "Epoch 10/10: 100%|██████████████| 563/563 [00:03<00:00, 184.79it/s, loss=0.0615]\n"
     ]
    },
    {
     "name": "stdout",
     "output_type": "stream",
     "text": [
      "Epoch 10: Train Loss = 0.1346, Test Accuracy = 0.9100\n"
     ]
    },
    {
     "data": {
      "image/png": "[encoded data removed]",
      "text/plain": [
       "<Figure size 800x400 with 2 Axes>"
      ]
     },
     "metadata": {},
     "output_type": "display_data"
    },
    {
     "data": {
      "image/png": "[encoded data removed]",
      "text/plain": [
       "<Figure size 640x480 with 2 Axes>"
      ]
     },
     "metadata": {},
     "output_type": "display_data"
    },
    {
     "name": "stdout",
     "output_type": "stream",
     "text": [
      "BiLSTM Train Accuracy: 0.91\n"
     ]
    }
   ],
   "source": [
    "lstm_acc, lstm_cm = train_model(model_lstm, train_loader, test_loader, epochs=10, lr=1e-3)\n",
    "print(\"BiLSTM Train Accuracy:\", lstm_acc)"
   ]
  },
  {
   "cell_type": "code",
   "execution_count": 40,
   "id": "7b3abc13-4aa5-4f12-8065-f4fbc78ffd7b",
   "metadata": {},
   "outputs": [
    {
     "name": "stderr",
     "output_type": "stream",
     "text": [
      "Evaluating: 100%|████████████████████████████| 563/563 [00:01<00:00, 415.88it/s]"
     ]
    },
    {
     "name": "stdout",
     "output_type": "stream",
     "text": [
      "Test Loss = 0.2838, Test Accuracy = 0.9100\n"
     ]
    },
    {
     "name": "stderr",
     "output_type": "stream",
     "text": [
      "\n"
     ]
    },
    {
     "data": {
      "image/png": "[encoded data removed]",
      "text/plain": [
       "<Figure size 640x480 with 2 Axes>"
      ]
     },
     "metadata": {},
     "output_type": "display_data"
    },
    {
     "name": "stdout",
     "output_type": "stream",
     "text": [
      "BiLSTM Test Accuracy: 0.91\n"
     ]
    }
   ],
   "source": [
    "test_acc, test_cm = evaluate(model_lstm, test_loader)\n",
    "print(\"BiLSTM Test Accuracy:\", test_acc)"
   ]
  },
  {
   "cell_type": "code",
   "execution_count": null,
   "id": "666d77b9-2db2-4556-8446-7434b200f43e",
   "metadata": {},
   "outputs": [],
   "source": []
  },
  {
   "cell_type": "markdown",
   "id": "04ef2363-218d-4f6b-9807-ecb9caff0004",
   "metadata": {},
   "source": [
    "**Таким образом, удалось достигнуть отметки accuracy > 90%**"
   ]
  },
  {
   "cell_type": "code",
   "execution_count": null,
   "id": "5972b05f-2fde-4056-b1f2-6c7961e5853b",
   "metadata": {},
   "outputs": [],
   "source": []
  },
  {
   "cell_type": "code",
   "execution_count": null,
   "id": "88e833e1-a4ce-4396-a956-b6969e6d66d0",
   "metadata": {},
   "outputs": [],
   "source": []
  },
  {
   "cell_type": "code",
   "execution_count": 41,
   "id": "517ed923-8396-4e63-82d3-c3a26513e938",
   "metadata": {
    "scrolled": true
   },
   "outputs": [
    {
     "name": "stderr",
     "output_type": "stream",
     "text": [
      "Epoch 1/20: 100%|████████████████| 563/563 [00:02<00:00, 199.82it/s, loss=0.275]\n"
     ]
    },
    {
     "name": "stdout",
     "output_type": "stream",
     "text": [
      "Epoch 1: Train Loss = 0.4738, Test Accuracy = 0.8849\n"
     ]
    },
    {
     "name": "stderr",
     "output_type": "stream",
     "text": [
      "Epoch 2/20: 100%|████████████████| 563/563 [00:02<00:00, 221.75it/s, loss=0.416]\n"
     ]
    },
    {
     "name": "stdout",
     "output_type": "stream",
     "text": [
      "Epoch 2: Train Loss = 0.2797, Test Accuracy = 0.9002\n"
     ]
    },
    {
     "name": "stderr",
     "output_type": "stream",
     "text": [
      "Epoch 3/20: 100%|███████████████| 563/563 [00:02<00:00, 222.08it/s, loss=0.0887]\n"
     ]
    },
    {
     "name": "stdout",
     "output_type": "stream",
     "text": [
      "Epoch 3: Train Loss = 0.2421, Test Accuracy = 0.9076\n"
     ]
    },
    {
     "name": "stderr",
     "output_type": "stream",
     "text": [
      "Epoch 4/20: 100%|████████████████| 563/563 [00:02<00:00, 217.84it/s, loss=0.293]\n"
     ]
    },
    {
     "name": "stdout",
     "output_type": "stream",
     "text": [
      "Epoch 4: Train Loss = 0.2178, Test Accuracy = 0.9099\n"
     ]
    },
    {
     "name": "stderr",
     "output_type": "stream",
     "text": [
      "Epoch 5/20: 100%|████████████████| 563/563 [00:02<00:00, 219.40it/s, loss=0.273]\n"
     ]
    },
    {
     "name": "stdout",
     "output_type": "stream",
     "text": [
      "Epoch 5: Train Loss = 0.2036, Test Accuracy = 0.9106\n"
     ]
    },
    {
     "name": "stderr",
     "output_type": "stream",
     "text": [
      "Epoch 6/20: 100%|████████████████| 563/563 [00:02<00:00, 216.87it/s, loss=0.318]\n"
     ]
    },
    {
     "name": "stdout",
     "output_type": "stream",
     "text": [
      "Epoch 6: Train Loss = 0.1849, Test Accuracy = 0.9130\n"
     ]
    },
    {
     "name": "stderr",
     "output_type": "stream",
     "text": [
      "Epoch 7/20: 100%|███████████████| 563/563 [00:02<00:00, 216.75it/s, loss=0.0503]\n"
     ]
    },
    {
     "name": "stdout",
     "output_type": "stream",
     "text": [
      "Epoch 7: Train Loss = 0.1695, Test Accuracy = 0.9145\n"
     ]
    },
    {
     "name": "stderr",
     "output_type": "stream",
     "text": [
      "Epoch 8/20: 100%|████████████████| 563/563 [00:02<00:00, 217.68it/s, loss=0.278]\n"
     ]
    },
    {
     "name": "stdout",
     "output_type": "stream",
     "text": [
      "Epoch 8: Train Loss = 0.1562, Test Accuracy = 0.9109\n"
     ]
    },
    {
     "name": "stderr",
     "output_type": "stream",
     "text": [
      "Epoch 9/20: 100%|█████████████████| 563/563 [00:02<00:00, 218.52it/s, loss=0.66]\n"
     ]
    },
    {
     "name": "stdout",
     "output_type": "stream",
     "text": [
      "Epoch 9: Train Loss = 0.1352, Test Accuracy = 0.9095\n"
     ]
    },
    {
     "name": "stderr",
     "output_type": "stream",
     "text": [
      "Epoch 10/20: 100%|███████████████| 563/563 [00:02<00:00, 218.19it/s, loss=0.273]\n"
     ]
    },
    {
     "name": "stdout",
     "output_type": "stream",
     "text": [
      "Epoch 10: Train Loss = 0.1244, Test Accuracy = 0.9075\n"
     ]
    },
    {
     "name": "stderr",
     "output_type": "stream",
     "text": [
      "Epoch 11/20: 100%|███████████████| 563/563 [00:02<00:00, 212.90it/s, loss=0.132]\n"
     ]
    },
    {
     "name": "stdout",
     "output_type": "stream",
     "text": [
      "Epoch 11: Train Loss = 0.1057, Test Accuracy = 0.9129\n"
     ]
    },
    {
     "name": "stderr",
     "output_type": "stream",
     "text": [
      "Epoch 12/20: 100%|██████████████| 563/563 [00:02<00:00, 216.22it/s, loss=0.0129]\n"
     ]
    },
    {
     "name": "stdout",
     "output_type": "stream",
     "text": [
      "Epoch 12: Train Loss = 0.0926, Test Accuracy = 0.9081\n"
     ]
    },
    {
     "name": "stderr",
     "output_type": "stream",
     "text": [
      "Epoch 13/20: 100%|█████████████| 563/563 [00:02<00:00, 217.78it/s, loss=0.00432]\n"
     ]
    },
    {
     "name": "stdout",
     "output_type": "stream",
     "text": [
      "Epoch 13: Train Loss = 0.0802, Test Accuracy = 0.9088\n"
     ]
    },
    {
     "name": "stderr",
     "output_type": "stream",
     "text": [
      "Epoch 14/20: 100%|██████████████| 563/563 [00:02<00:00, 217.33it/s, loss=0.0245]\n"
     ]
    },
    {
     "name": "stdout",
     "output_type": "stream",
     "text": [
      "Epoch 14: Train Loss = 0.0716, Test Accuracy = 0.9045\n"
     ]
    },
    {
     "name": "stderr",
     "output_type": "stream",
     "text": [
      "Epoch 15/20: 100%|███████████████| 563/563 [00:02<00:00, 217.03it/s, loss=0.276]\n"
     ]
    },
    {
     "name": "stdout",
     "output_type": "stream",
     "text": [
      "Epoch 15: Train Loss = 0.0632, Test Accuracy = 0.9067\n"
     ]
    },
    {
     "name": "stderr",
     "output_type": "stream",
     "text": [
      "Epoch 16/20: 100%|███████████████| 563/563 [00:02<00:00, 215.85it/s, loss=0.489]\n"
     ]
    },
    {
     "name": "stdout",
     "output_type": "stream",
     "text": [
      "Epoch 16: Train Loss = 0.0559, Test Accuracy = 0.9069\n"
     ]
    },
    {
     "name": "stderr",
     "output_type": "stream",
     "text": [
      "Epoch 17/20: 100%|█████████████| 563/563 [00:02<00:00, 210.84it/s, loss=0.00524]\n"
     ]
    },
    {
     "name": "stdout",
     "output_type": "stream",
     "text": [
      "Epoch 17: Train Loss = 0.0442, Test Accuracy = 0.9051\n"
     ]
    },
    {
     "name": "stderr",
     "output_type": "stream",
     "text": [
      "Epoch 18/20: 100%|██████████████| 563/563 [00:02<00:00, 213.07it/s, loss=0.0209]\n"
     ]
    },
    {
     "name": "stdout",
     "output_type": "stream",
     "text": [
      "Epoch 18: Train Loss = 0.0432, Test Accuracy = 0.9071\n"
     ]
    },
    {
     "name": "stderr",
     "output_type": "stream",
     "text": [
      "Epoch 19/20: 100%|██████████████| 563/563 [00:02<00:00, 220.39it/s, loss=0.0385]\n"
     ]
    },
    {
     "name": "stdout",
     "output_type": "stream",
     "text": [
      "Epoch 19: Train Loss = 0.0366, Test Accuracy = 0.9012\n"
     ]
    },
    {
     "name": "stderr",
     "output_type": "stream",
     "text": [
      "Epoch 20/20: 100%|██████████████| 563/563 [00:02<00:00, 221.44it/s, loss=0.0232]\n"
     ]
    },
    {
     "name": "stdout",
     "output_type": "stream",
     "text": [
      "Epoch 20: Train Loss = 0.0381, Test Accuracy = 0.9076\n"
     ]
    },
    {
     "data": {
      "image/png": "[encoded data removed]",
      "text/plain": [
       "<Figure size 800x400 with 2 Axes>"
      ]
     },
     "metadata": {},
     "output_type": "display_data"
    },
    {
     "data": {
      "image/png": "[encoded data removed]",
      "text/plain": [
       "<Figure size 640x480 with 2 Axes>"
      ]
     },
     "metadata": {},
     "output_type": "display_data"
    },
    {
     "name": "stdout",
     "output_type": "stream",
     "text": [
      "BiGRU Train Accuracy: 0.9076111111111111\n"
     ]
    }
   ],
   "source": [
    "gru_acc, gru_cm = train_model(model_gru, train_loader, test_loader, epochs=20, lr=1e-3)\n",
    "print(\"BiGRU Train Accuracy:\", gru_acc)"
   ]
  },
  {
   "cell_type": "code",
   "execution_count": 42,
   "id": "77cb76f3-d1be-41a9-88a7-d79fadd2d487",
   "metadata": {},
   "outputs": [
    {
     "name": "stderr",
     "output_type": "stream",
     "text": [
      "Evaluating: 100%|████████████████████████████| 563/563 [00:01<00:00, 544.29it/s]"
     ]
    },
    {
     "name": "stdout",
     "output_type": "stream",
     "text": [
      "Test Loss = 0.4937, Test Accuracy = 0.9076\n"
     ]
    },
    {
     "name": "stderr",
     "output_type": "stream",
     "text": [
      "\n"
     ]
    },
    {
     "data": {
      "image/png": "[encoded data removed]",
      "text/plain": [
       "<Figure size 640x480 with 2 Axes>"
      ]
     },
     "metadata": {},
     "output_type": "display_data"
    },
    {
     "name": "stdout",
     "output_type": "stream",
     "text": [
      "BiGRU Test Accuracy: 0.9076111111111111\n"
     ]
    }
   ],
   "source": [
    "test_acc, test_cm = evaluate(model_gru, test_loader)\n",
    "print(\"BiGRU Test Accuracy:\", test_acc)"
   ]
  },
  {
   "cell_type": "code",
   "execution_count": null,
   "id": "e702a2aa-eebf-4ecf-98af-a05d1f8a782b",
   "metadata": {},
   "outputs": [],
   "source": []
  },
  {
   "cell_type": "markdown",
   "id": "68d454fe-968c-4fcd-9e3d-71391bd5ee4a",
   "metadata": {},
   "source": [
    "**Оба варианта RNN, и LSTM, и GRU продемонстрировали метрики accuracy выше 90%.**"
   ]
  },
  {
   "cell_type": "code",
   "execution_count": null,
   "id": "b027fe2c-a493-4ab3-abbd-6e623b0dfa05",
   "metadata": {},
   "outputs": [],
   "source": []
  },
  {
   "cell_type": "code",
   "execution_count": null,
   "id": "24e110dd-1955-436c-ab39-6c1d862f798a",
   "metadata": {},
   "outputs": [],
   "source": []
  },
  {
   "cell_type": "code",
   "execution_count": null,
   "id": "4a2784bf-0502-4df0-9083-624c272f1772",
   "metadata": {},
   "outputs": [],
   "source": []
  },
  {
   "cell_type": "code",
   "execution_count": null,
   "id": "488bcebc-f35e-4d94-bbe4-d786041df5aa",
   "metadata": {},
   "outputs": [],
   "source": []
  }
 ],
 "metadata": {
  "kernelspec": {
   "display_name": "Python 3 (ipykernel)",
   "language": "python",
   "name": "python3"
  },
  "language_info": {
   "codemirror_mode": {
    "name": "ipython",
    "version": 3
   },
   "file_extension": ".py",
   "mimetype": "text/x-python",
   "name": "python",
   "nbconvert_exporter": "python",
   "pygments_lexer": "ipython3",
   "version": "3.12.3"
  }
 },
 "nbformat": 4,
 "nbformat_minor": 5
}
