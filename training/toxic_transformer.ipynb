{
 "cells": [
  {
   "cell_type": "code",
   "execution_count": 1,
   "metadata": {
    "execution": {
     "iopub.execute_input": "2025-10-16T07:04:56.881880Z",
     "iopub.status.busy": "2025-10-16T07:04:56.881683Z",
     "iopub.status.idle": "2025-10-16T07:05:28.375352Z",
     "shell.execute_reply": "2025-10-16T07:05:28.374731Z",
     "shell.execute_reply.started": "2025-10-16T07:04:56.881862Z"
    }
   },
   "outputs": [
    {
     "name": "stderr",
     "output_type": "stream",
     "text": [
      "2025-10-16 07:05:09.838421: E external/local_xla/xla/stream_executor/cuda/cuda_fft.cc:477] Unable to register cuFFT factory: Attempting to register factory for plugin cuFFT when one has already been registered\n",
      "WARNING: All log messages before absl::InitializeLog() is called are written to STDERR\n",
      "E0000 00:00:1760598310.068500      36 cuda_dnn.cc:8310] Unable to register cuDNN factory: Attempting to register factory for plugin cuDNN when one has already been registered\n",
      "E0000 00:00:1760598310.132400      36 cuda_blas.cc:1418] Unable to register cuBLAS factory: Attempting to register factory for plugin cuBLAS when one has already been registered\n"
     ]
    }
   ],
   "source": [
    "import os\n",
    "os.environ['WANDB_DISABLED'] = 'true'\n",
    "import pandas as pd\n",
    "import numpy as np\n",
    "import torch\n",
    "import random\n",
    "import torch.nn as nn\n",
    "import matplotlib.pyplot as plt\n",
    "import seaborn as sns\n",
    "\n",
    "from sklearn.model_selection import train_test_split\n",
    "\n",
    "from datasets import Dataset\n",
    "from sklearn import metrics\n",
    "from sklearn.metrics import confusion_matrix\n",
    "from sklearn.utils.class_weight import compute_class_weight\n",
    "\n",
    "from transformers import (\n",
    "    AutoConfig,\n",
    "    AutoModelForSequenceClassification,\n",
    "    AutoTokenizer,\n",
    "    DataCollatorWithPadding,\n",
    "    Trainer,\n",
    "    TrainingArguments,\n",
    "    set_seed)"
   ]
  },
  {
   "cell_type": "code",
   "execution_count": 2,
   "metadata": {
    "execution": {
     "iopub.execute_input": "2025-10-16T07:05:28.377581Z",
     "iopub.status.busy": "2025-10-16T07:05:28.377084Z",
     "iopub.status.idle": "2025-10-16T07:05:28.388302Z",
     "shell.execute_reply": "2025-10-16T07:05:28.387781Z",
     "shell.execute_reply.started": "2025-10-16T07:05:28.377564Z"
    }
   },
   "outputs": [],
   "source": [
    "RS = 42\n",
    "\n",
    "os.environ['PYTHONHASHSEED'] = str(RS)\n",
    "random.seed(RS)\n",
    "np.random.seed(RS)\n",
    "\n",
    "torch.manual_seed(RS)\n",
    "if torch.cuda.is_available():\n",
    "    torch.cuda.manual_seed_all(RS)\n",
    "    torch.backends.cudnn.deterministic = True\n",
    "    torch.backends.cudnn.benchmark = False\n",
    "\n",
    "set_seed(RS)"
   ]
  },
  {
   "cell_type": "markdown",
   "metadata": {},
   "source": [
    "## Сборка одного датасета + предобработка данных"
   ]
  },
  {
   "cell_type": "markdown",
   "metadata": {},
   "source": [
    "У нас есть два датасета: датасет с комментариями на русском языке и датасет с комментариями на английском языке. Мы объединяем их в один датасет и будем обучать модель на объединенном датасете, поскольку нам удобнее обучать и использовать на выходе одну модель, а не две (в первую очередь в силу ограниченности наших ресурсов).\n",
    "\n",
    "Исследовательский анализ датасетов находится в другом ноутбуке (здесь представлена только краткая информация).\n",
    "Важно отметить, что по заданию мы должны предсказывать 3 типа комментариев, а в датасетах было представлено от 4 до 6 меток. Мы вручную преобразовали исходные метки в датасетах в нужные нам типы комментариев согласно их смыслу."
   ]
  },
  {
   "cell_type": "code",
   "execution_count": 3,
   "metadata": {
    "execution": {
     "iopub.execute_input": "2025-10-16T07:05:28.389129Z",
     "iopub.status.busy": "2025-10-16T07:05:28.388904Z",
     "iopub.status.idle": "2025-10-16T07:05:30.493334Z",
     "shell.execute_reply": "2025-10-16T07:05:30.492734Z",
     "shell.execute_reply.started": "2025-10-16T07:05:28.389102Z"
    }
   },
   "outputs": [],
   "source": [
    "eng_df = pd.read_csv('/kaggle/input/raw-datasets/toxic_train_df.csv')\n",
    "cols = ['toxic', 'severe_toxic', 'obscene', 'threat', 'insult', 'identity_hate']\n",
    "eng_df['neutral'] = (eng_df[cols].sum(axis=1) == 0).astype(int)\n",
    "\n",
    "# оскорбительные, но без угрозы\n",
    "insult_cols = ['insult', 'toxic', 'obscene', 'identity_hate', 'severe_toxic']\n",
    "\n",
    "# с угрозой\n",
    "toxic_cols = ['threat']"
   ]
  },
  {
   "cell_type": "code",
   "execution_count": 4,
   "metadata": {
    "execution": {
     "iopub.execute_input": "2025-10-16T07:05:30.494300Z",
     "iopub.status.busy": "2025-10-16T07:05:30.494078Z",
     "iopub.status.idle": "2025-10-16T07:05:30.507635Z",
     "shell.execute_reply": "2025-10-16T07:05:30.507126Z",
     "shell.execute_reply.started": "2025-10-16T07:05:30.494282Z"
    }
   },
   "outputs": [],
   "source": [
    "eng_df['toxic_threat'] = (eng_df[toxic_cols].any(axis=1)).astype(int)\n",
    "eng_df['toxic_not_threat'] = (\n",
    "    (eng_df[insult_cols].any(axis=1)) & (eng_df['toxic_threat'] == 0)).astype(int)"
   ]
  },
  {
   "cell_type": "code",
   "execution_count": 5,
   "metadata": {
    "execution": {
     "iopub.execute_input": "2025-10-16T07:05:30.508634Z",
     "iopub.status.busy": "2025-10-16T07:05:30.508364Z",
     "iopub.status.idle": "2025-10-16T07:05:30.544150Z",
     "shell.execute_reply": "2025-10-16T07:05:30.543469Z",
     "shell.execute_reply.started": "2025-10-16T07:05:30.508608Z"
    }
   },
   "outputs": [
    {
     "data": {
      "text/html": [
       "<div>\n",
       "<style scoped>\n",
       "    .dataframe tbody tr th:only-of-type {\n",
       "        vertical-align: middle;\n",
       "    }\n",
       "\n",
       "    .dataframe tbody tr th {\n",
       "        vertical-align: top;\n",
       "    }\n",
       "\n",
       "    .dataframe thead th {\n",
       "        text-align: right;\n",
       "    }\n",
       "</style>\n",
       "<table border=\"1\" class=\"dataframe\">\n",
       "  <thead>\n",
       "    <tr style=\"text-align: right;\">\n",
       "      <th></th>\n",
       "      <th>id</th>\n",
       "      <th>comment_text</th>\n",
       "      <th>toxic</th>\n",
       "      <th>severe_toxic</th>\n",
       "      <th>obscene</th>\n",
       "      <th>threat</th>\n",
       "      <th>insult</th>\n",
       "      <th>identity_hate</th>\n",
       "      <th>neutral</th>\n",
       "      <th>toxic_threat</th>\n",
       "      <th>toxic_not_threat</th>\n",
       "    </tr>\n",
       "  </thead>\n",
       "  <tbody>\n",
       "  </tbody>\n",
       "</table>\n",
       "</div>"
      ],
      "text/plain": [
       "Empty DataFrame\n",
       "Columns: [id, comment_text, toxic, severe_toxic, obscene, threat, insult, identity_hate, neutral, toxic_threat, toxic_not_threat]\n",
       "Index: []"
      ]
     },
     "execution_count": 5,
     "metadata": {},
     "output_type": "execute_result"
    }
   ],
   "source": [
    "eng_df[(eng_df['toxic_not_threat'] == 1) & (eng_df['threat'] == 1)]"
   ]
  },
  {
   "cell_type": "code",
   "execution_count": 6,
   "metadata": {
    "execution": {
     "iopub.execute_input": "2025-10-16T07:05:30.545021Z",
     "iopub.status.busy": "2025-10-16T07:05:30.544811Z",
     "iopub.status.idle": "2025-10-16T07:05:30.550882Z",
     "shell.execute_reply": "2025-10-16T07:05:30.550383Z",
     "shell.execute_reply.started": "2025-10-16T07:05:30.545004Z"
    }
   },
   "outputs": [],
   "source": [
    "eng_df['labels'] = (\n",
    "    eng_df['neutral'] * 0 + eng_df['toxic_threat'] * 1 + eng_df['toxic_not_threat'] * 2)\n",
    "eng_df.rename(columns={'comment_text': 'text'}, inplace=True)"
   ]
  },
  {
   "cell_type": "code",
   "execution_count": 7,
   "metadata": {
    "execution": {
     "iopub.execute_input": "2025-10-16T07:05:30.553191Z",
     "iopub.status.busy": "2025-10-16T07:05:30.553014Z",
     "iopub.status.idle": "2025-10-16T07:05:32.181565Z",
     "shell.execute_reply": "2025-10-16T07:05:32.180996Z",
     "shell.execute_reply.started": "2025-10-16T07:05:30.553177Z"
    }
   },
   "outputs": [],
   "source": [
    "rus_df = pd.read_csv('/kaggle/input/raw-datasets/toxic_dataset_df.txt', sep='\\t', header=None)\n",
    "rus_df.columns = ['text']\n",
    "rus_df['neutral'] = rus_df['text'].str.contains('NORMAL').astype(int)\n",
    "rus_df['toxic_threat'] = rus_df['text'].str.contains('THREAT').astype(int)\n",
    "rus_df['toxic_not_threat'] = (\n",
    "    rus_df[['neutral', 'toxic_threat']].sum(axis=1) == 0).astype(int)"
   ]
  },
  {
   "cell_type": "code",
   "execution_count": 8,
   "metadata": {
    "execution": {
     "iopub.execute_input": "2025-10-16T07:05:32.182431Z",
     "iopub.status.busy": "2025-10-16T07:05:32.182233Z",
     "iopub.status.idle": "2025-10-16T07:05:32.190372Z",
     "shell.execute_reply": "2025-10-16T07:05:32.189813Z",
     "shell.execute_reply.started": "2025-10-16T07:05:32.182414Z"
    }
   },
   "outputs": [
    {
     "data": {
      "text/html": [
       "<div>\n",
       "<style scoped>\n",
       "    .dataframe tbody tr th:only-of-type {\n",
       "        vertical-align: middle;\n",
       "    }\n",
       "\n",
       "    .dataframe tbody tr th {\n",
       "        vertical-align: top;\n",
       "    }\n",
       "\n",
       "    .dataframe thead th {\n",
       "        text-align: right;\n",
       "    }\n",
       "</style>\n",
       "<table border=\"1\" class=\"dataframe\">\n",
       "  <thead>\n",
       "    <tr style=\"text-align: right;\">\n",
       "      <th></th>\n",
       "      <th>text</th>\n",
       "      <th>neutral</th>\n",
       "      <th>toxic_threat</th>\n",
       "      <th>toxic_not_threat</th>\n",
       "    </tr>\n",
       "  </thead>\n",
       "  <tbody>\n",
       "  </tbody>\n",
       "</table>\n",
       "</div>"
      ],
      "text/plain": [
       "Empty DataFrame\n",
       "Columns: [text, neutral, toxic_threat, toxic_not_threat]\n",
       "Index: []"
      ]
     },
     "execution_count": 8,
     "metadata": {},
     "output_type": "execute_result"
    }
   ],
   "source": [
    "rus_df[(rus_df['toxic_threat'] == 1) & (rus_df['toxic_not_threat'] == 1)]"
   ]
  },
  {
   "cell_type": "code",
   "execution_count": 9,
   "metadata": {
    "execution": {
     "iopub.execute_input": "2025-10-16T07:05:32.191478Z",
     "iopub.status.busy": "2025-10-16T07:05:32.191139Z",
     "iopub.status.idle": "2025-10-16T07:05:34.361761Z",
     "shell.execute_reply": "2025-10-16T07:05:34.360966Z",
     "shell.execute_reply.started": "2025-10-16T07:05:32.191455Z"
    }
   },
   "outputs": [],
   "source": [
    "labels_to_remove = ['__label__NORMAL', '__label__INSULT', '__label__THREAT', '__label__OBSCENITY']\n",
    "\n",
    "for lbl in labels_to_remove:\n",
    "    rus_df['text'] = rus_df['text'].str.replace(lbl + ',', '', regex=False)\n",
    "    rus_df['text'] = rus_df['text'].str.replace(lbl, '', regex=False)\n",
    "\n",
    "rus_df['text'] = rus_df['text'].str.replace(r'\\s+', ' ', regex=True)\n",
    "rus_df['text'] = rus_df['text'].str.strip(' ,')"
   ]
  },
  {
   "cell_type": "code",
   "execution_count": 10,
   "metadata": {
    "execution": {
     "iopub.execute_input": "2025-10-16T07:05:34.362934Z",
     "iopub.status.busy": "2025-10-16T07:05:34.362654Z",
     "iopub.status.idle": "2025-10-16T07:05:34.372219Z",
     "shell.execute_reply": "2025-10-16T07:05:34.371489Z",
     "shell.execute_reply.started": "2025-10-16T07:05:34.362906Z"
    }
   },
   "outputs": [],
   "source": [
    "rus_df['labels'] = (\n",
    "    rus_df['neutral'] * 0 + rus_df['toxic_threat'] * 1 + rus_df['toxic_not_threat'] * 2)"
   ]
  },
  {
   "cell_type": "markdown",
   "metadata": {},
   "source": [
    "Поскольку у нашей команды нет локальных GPU, модель мы будем обучать на Kaggle. Обучение на полном датасете (русский + английский) занимает более 8 часов, тогда как время одной непрерывной сессии должно быть менее 8 часов, иначе сессия принудительно прерывается, вследствие чего мы пришли к необходимости брать в обучение и тестирование только половину датасета."
   ]
  },
  {
   "cell_type": "code",
   "execution_count": 11,
   "metadata": {
    "execution": {
     "iopub.execute_input": "2025-10-16T07:05:34.373206Z",
     "iopub.status.busy": "2025-10-16T07:05:34.372969Z",
     "iopub.status.idle": "2025-10-16T07:05:41.823981Z",
     "shell.execute_reply": "2025-10-16T07:05:41.823439Z",
     "shell.execute_reply.started": "2025-10-16T07:05:34.373186Z"
    }
   },
   "outputs": [],
   "source": [
    "rus_df['lang'] = 'ru'\n",
    "eng_df['lang'] = 'en'\n",
    "full_df = pd.concat(\n",
    "    [rus_df[['text', 'labels', 'lang']], eng_df[['text', 'labels', 'lang']]],\n",
    "    ignore_index=True)\n",
    "\n",
    "full_df['text'] = full_df['text'].str.replace(r'[\\n\\r\\t]+', ' ', regex=True)\n",
    "full_df['text'] = full_df['text'].str.replace(r'\\s+', ' ', regex=True).str.strip()\n",
    "\n",
    "strata = full_df['labels'].astype(str) + '_' + full_df['lang']\n",
    "\n",
    "X = full_df['text']\n",
    "y = full_df['labels']\n",
    "\n",
    "X_train, X_test, y_train, y_test, train_idx, test_idx = train_test_split(\n",
    "    X, y, full_df.index,\n",
    "    train_size=0.4,\n",
    "    test_size=0.1,\n",
    "    random_state=42,\n",
    "    stratify=strata)\n",
    "\n",
    "train_df = full_df.loc[train_idx].reset_index(drop=True)\n",
    "test_df = full_df.loc[test_idx].reset_index(drop=True)"
   ]
  },
  {
   "cell_type": "markdown",
   "metadata": {},
   "source": [
    "## Обучение трансформера с huggingface\n",
    "\n",
    "Берем модель с huggingface на базе дистиллированного берта, обученную на определении токсичности в разговорной речи, и будем обучать ее на своем датасете.\n",
    "Было протестировано несколько моделей, в настоящем ноутбуке представлена информация по модели, которая показала наилучшие метрики на наших данных."
   ]
  },
  {
   "cell_type": "code",
   "execution_count": 12,
   "metadata": {
    "execution": {
     "iopub.execute_input": "2025-10-16T07:05:41.825045Z",
     "iopub.status.busy": "2025-10-16T07:05:41.824798Z",
     "iopub.status.idle": "2025-10-16T07:05:41.828835Z",
     "shell.execute_reply": "2025-10-16T07:05:41.828195Z",
     "shell.execute_reply.started": "2025-10-16T07:05:41.825027Z"
    }
   },
   "outputs": [],
   "source": [
    "PATH = '/kaggle/working/results'\n",
    "MODEL = 'citizenlab/distilbert-base-multilingual-cased-toxicity'\n",
    "\n",
    "# обрезаем так, потому что комменты чаще всего недлинные + чтоб быстрее обучалось\n",
    "TRUNC = 256"
   ]
  },
  {
   "cell_type": "code",
   "execution_count": 13,
   "metadata": {
    "execution": {
     "iopub.execute_input": "2025-10-16T07:05:41.829846Z",
     "iopub.status.busy": "2025-10-16T07:05:41.829632Z",
     "iopub.status.idle": "2025-10-16T07:05:42.336474Z",
     "shell.execute_reply": "2025-10-16T07:05:42.335882Z",
     "shell.execute_reply.started": "2025-10-16T07:05:41.829831Z"
    }
   },
   "outputs": [],
   "source": [
    "train_dataset = Dataset.from_pandas(train_df)\n",
    "test_dataset = Dataset.from_pandas(test_df)\n",
    "\n",
    "device = 'cuda' if torch.cuda.is_available() else 'cpu'"
   ]
  },
  {
   "cell_type": "markdown",
   "metadata": {},
   "source": [
    "Проводим токенизацию."
   ]
  },
  {
   "cell_type": "code",
   "execution_count": 14,
   "metadata": {
    "execution": {
     "iopub.execute_input": "2025-10-16T07:05:42.337847Z",
     "iopub.status.busy": "2025-10-16T07:05:42.337577Z",
     "iopub.status.idle": "2025-10-16T07:06:01.425939Z",
     "shell.execute_reply": "2025-10-16T07:06:01.425096Z",
     "shell.execute_reply.started": "2025-10-16T07:05:42.337816Z"
    }
   },
   "outputs": [
    {
     "data": {
      "application/vnd.jupyter.widget-view+json": {
       "model_id": "4dd34ef7435d48e9b114d1df02e6ee3d",
       "version_major": 2,
       "version_minor": 0
      },
      "text/plain": [
       "tokenizer_config.json:   0%|          | 0.00/345 [00:00<?, ?B/s]"
      ]
     },
     "metadata": {},
     "output_type": "display_data"
    },
    {
     "data": {
      "application/vnd.jupyter.widget-view+json": {
       "model_id": "1b0507801a3a48e3891c6e6687395159",
       "version_major": 2,
       "version_minor": 0
      },
      "text/plain": [
       "vocab.txt: 0.00B [00:00, ?B/s]"
      ]
     },
     "metadata": {},
     "output_type": "display_data"
    },
    {
     "data": {
      "application/vnd.jupyter.widget-view+json": {
       "model_id": "8ed653ebd6794031b0cc6168ec5c2f35",
       "version_major": 2,
       "version_minor": 0
      },
      "text/plain": [
       "tokenizer.json: 0.00B [00:00, ?B/s]"
      ]
     },
     "metadata": {},
     "output_type": "display_data"
    },
    {
     "data": {
      "application/vnd.jupyter.widget-view+json": {
       "model_id": "1813d841ba6749e785dab867bba58726",
       "version_major": 2,
       "version_minor": 0
      },
      "text/plain": [
       "special_tokens_map.json:   0%|          | 0.00/112 [00:00<?, ?B/s]"
      ]
     },
     "metadata": {},
     "output_type": "display_data"
    },
    {
     "data": {
      "application/vnd.jupyter.widget-view+json": {
       "model_id": "e178a5fbec494947b92cf95412b5d2de",
       "version_major": 2,
       "version_minor": 0
      },
      "text/plain": [
       "Map:   0%|          | 0/163144 [00:00<?, ? examples/s]"
      ]
     },
     "metadata": {},
     "output_type": "display_data"
    },
    {
     "data": {
      "application/vnd.jupyter.widget-view+json": {
       "model_id": "5edb2b71df5c4026a3c670bd55ff70d3",
       "version_major": 2,
       "version_minor": 0
      },
      "text/plain": [
       "Map:   0%|          | 0/40787 [00:00<?, ? examples/s]"
      ]
     },
     "metadata": {},
     "output_type": "display_data"
    }
   ],
   "source": [
    "tokenizer = AutoTokenizer.from_pretrained(MODEL, model_max_length=TRUNC)\n",
    "\n",
    "def tokenize_fn(batch):\n",
    "    return tokenizer(batch['text'], truncation=True)\n",
    "\n",
    "train_dataset = train_dataset.map(tokenize_fn, batched=True)\n",
    "test_dataset = test_dataset.map(tokenize_fn, batched=True)\n",
    "\n",
    "train_dataset.set_format('torch', columns=['input_ids', 'attention_mask', 'labels'])\n",
    "test_dataset.set_format('torch', columns=['input_ids', 'attention_mask', 'labels'])\n",
    "\n",
    "data_collator = DataCollatorWithPadding(tokenizer=tokenizer)"
   ]
  },
  {
   "cell_type": "markdown",
   "metadata": {},
   "source": [
    "Определяем словари, конфигурацию и модель, меняем классификационную голову на 3 класса, которые у нас по заданию. Обучать будем все слои модели, поскольку при замораживании слоев метрики получаются хуже."
   ]
  },
  {
   "cell_type": "code",
   "execution_count": 15,
   "metadata": {
    "execution": {
     "iopub.execute_input": "2025-10-16T07:06:01.426969Z",
     "iopub.status.busy": "2025-10-16T07:06:01.426685Z",
     "iopub.status.idle": "2025-10-16T07:06:06.338550Z",
     "shell.execute_reply": "2025-10-16T07:06:06.337996Z",
     "shell.execute_reply.started": "2025-10-16T07:06:01.426932Z"
    }
   },
   "outputs": [
    {
     "data": {
      "application/vnd.jupyter.widget-view+json": {
       "model_id": "51c698e643ef48e8993b4de34339db90",
       "version_major": 2,
       "version_minor": 0
      },
      "text/plain": [
       "config.json:   0%|          | 0.00/774 [00:00<?, ?B/s]"
      ]
     },
     "metadata": {},
     "output_type": "display_data"
    },
    {
     "data": {
      "application/vnd.jupyter.widget-view+json": {
       "model_id": "4a05dc2fb0ea43679dc5f52cd93c9ffb",
       "version_major": 2,
       "version_minor": 0
      },
      "text/plain": [
       "pytorch_model.bin:   0%|          | 0.00/541M [00:00<?, ?B/s]"
      ]
     },
     "metadata": {},
     "output_type": "display_data"
    },
    {
     "data": {
      "application/vnd.jupyter.widget-view+json": {
       "model_id": "248d623eacc541e69c3dad29f1c13e1c",
       "version_major": 2,
       "version_minor": 0
      },
      "text/plain": [
       "model.safetensors:   0%|          | 0.00/541M [00:00<?, ?B/s]"
      ]
     },
     "metadata": {},
     "output_type": "display_data"
    },
    {
     "name": "stderr",
     "output_type": "stream",
     "text": [
      "Some weights of DistilBertForSequenceClassification were not initialized from the model checkpoint at citizenlab/distilbert-base-multilingual-cased-toxicity and are newly initialized because the shapes did not match:\n",
      "- classifier.weight: found shape torch.Size([2, 768]) in the checkpoint and torch.Size([3, 768]) in the model instantiated\n",
      "- classifier.bias: found shape torch.Size([2]) in the checkpoint and torch.Size([3]) in the model instantiated\n",
      "You should probably TRAIN this model on a down-stream task to be able to use it for predictions and inference.\n"
     ]
    }
   ],
   "source": [
    "n_classes = int(train_df['labels'].nunique())\n",
    "id2label = {i: str(i) for i in range(n_classes)}\n",
    "label2id = {v: k for k, v in id2label.items()}\n",
    "\n",
    "config = AutoConfig.from_pretrained(\n",
    "    MODEL,\n",
    "    num_labels=n_classes,\n",
    "    id2label=id2label,\n",
    "    label2id=label2id,\n",
    "    problem_type='single_label_classification')\n",
    "\n",
    "model = AutoModelForSequenceClassification.from_pretrained(\n",
    "    MODEL,\n",
    "    config=config,\n",
    "    ignore_mismatched_sizes=True).to(device)"
   ]
  },
  {
   "cell_type": "markdown",
   "metadata": {},
   "source": [
    "Для обучения в результате ручного подбора выбраны такие гиперпараметры для того, чтобы код успел выполниться за менее чем 8 часов (т.к. это максимальное время непрерывной сессии на kaggle)."
   ]
  },
  {
   "cell_type": "code",
   "execution_count": 16,
   "metadata": {
    "execution": {
     "iopub.execute_input": "2025-10-16T07:06:06.339485Z",
     "iopub.status.busy": "2025-10-16T07:06:06.339246Z",
     "iopub.status.idle": "2025-10-16T07:06:06.374452Z",
     "shell.execute_reply": "2025-10-16T07:06:06.373944Z",
     "shell.execute_reply.started": "2025-10-16T07:06:06.339459Z"
    }
   },
   "outputs": [
    {
     "name": "stderr",
     "output_type": "stream",
     "text": [
      "Using the `WANDB_DISABLED` environment variable is deprecated and will be removed in v5. Use the --report_to flag to control the integrations used for logging result (for instance --report_to none).\n"
     ]
    }
   ],
   "source": [
    "params = TrainingArguments(\n",
    "    output_dir=PATH,\n",
    "    learning_rate=1.5e-5,\n",
    "    num_train_epochs=4,\n",
    "    weight_decay=0.12,\n",
    "    per_device_train_batch_size=8,\n",
    "    per_device_eval_batch_size=8,\n",
    "    seed=RS,\n",
    "    report_to=None,\n",
    "    save_strategy='no',\n",
    "    disable_tqdm=False)"
   ]
  },
  {
   "cell_type": "markdown",
   "metadata": {},
   "source": [
    "Определяем веса для классов. Т.к. у нас значительный дисбаланс, берем 'balanced'."
   ]
  },
  {
   "cell_type": "code",
   "execution_count": 17,
   "metadata": {
    "execution": {
     "iopub.execute_input": "2025-10-16T07:06:06.375277Z",
     "iopub.status.busy": "2025-10-16T07:06:06.375076Z",
     "iopub.status.idle": "2025-10-16T07:06:06.404923Z",
     "shell.execute_reply": "2025-10-16T07:06:06.404403Z",
     "shell.execute_reply.started": "2025-10-16T07:06:06.375262Z"
    }
   },
   "outputs": [],
   "source": [
    "classes_for_weights = np.arange(n_classes)\n",
    "class_weights = torch.tensor(\n",
    "    compute_class_weight(\n",
    "        class_weight='balanced',\n",
    "        classes=classes_for_weights,\n",
    "        y=train_df['labels'].values),\n",
    "    dtype=torch.float32,\n",
    "    device=device)"
   ]
  },
  {
   "cell_type": "markdown",
   "metadata": {},
   "source": [
    "Пишем класс для обучения."
   ]
  },
  {
   "cell_type": "code",
   "execution_count": 18,
   "metadata": {
    "execution": {
     "iopub.execute_input": "2025-10-16T07:06:06.405801Z",
     "iopub.status.busy": "2025-10-16T07:06:06.405585Z",
     "iopub.status.idle": "2025-10-16T07:06:06.411000Z",
     "shell.execute_reply": "2025-10-16T07:06:06.410257Z",
     "shell.execute_reply.started": "2025-10-16T07:06:06.405784Z"
    }
   },
   "outputs": [],
   "source": [
    "class WeightedTrainer(Trainer):\n",
    "    def __init__(self, class_weights, *args, **kwargs):\n",
    "        super().__init__(*args, **kwargs)\n",
    "        self.class_weights = class_weights\n",
    "        self.criterion = nn.CrossEntropyLoss(weight=self.class_weights)\n",
    "\n",
    "    def compute_loss(\n",
    "        self,\n",
    "        model,\n",
    "        inputs,\n",
    "        return_outputs: bool = False,\n",
    "        num_items_in_batch: int | None = None,\n",
    "        **kwargs):\n",
    "        labels = inputs.pop('labels')\n",
    "        if labels.dtype != torch.long:\n",
    "            labels = labels.long()\n",
    "\n",
    "        outputs = model(**inputs)\n",
    "        logits = outputs.logits\n",
    "        loss = self.criterion(logits, labels)\n",
    "        return (loss, outputs) if return_outputs else loss"
   ]
  },
  {
   "cell_type": "markdown",
   "metadata": {},
   "source": [
    "Обучаем модель."
   ]
  },
  {
   "cell_type": "code",
   "execution_count": 19,
   "metadata": {
    "execution": {
     "iopub.execute_input": "2025-10-16T07:06:06.412183Z",
     "iopub.status.busy": "2025-10-16T07:06:06.411682Z",
     "iopub.status.idle": "2025-10-16T10:24:21.972865Z",
     "shell.execute_reply": "2025-10-16T10:24:21.972273Z",
     "shell.execute_reply.started": "2025-10-16T07:06:06.412165Z"
    }
   },
   "outputs": [
    {
     "name": "stderr",
     "output_type": "stream",
     "text": [
      "/tmp/ipykernel_36/410964477.py:3: FutureWarning: `tokenizer` is deprecated and will be removed in version 5.0.0 for `WeightedTrainer.__init__`. Use `processing_class` instead.\n",
      "  super().__init__(*args, **kwargs)\n"
     ]
    },
    {
     "data": {
      "text/html": [
       "\n",
       "    <div>\n",
       "      \n",
       "      <progress value='40788' max='40788' style='width:300px; height:20px; vertical-align: middle;'></progress>\n",
       "      [40788/40788 3:18:10, Epoch 4/4]\n",
       "    </div>\n",
       "    <table border=\"1\" class=\"dataframe\">\n",
       "  <thead>\n",
       " <tr style=\"text-align: left;\">\n",
       "      <th>Step</th>\n",
       "      <th>Training Loss</th>\n",
       "    </tr>\n",
       "  </thead>\n",
       "  <tbody>\n",
       "    <tr>\n",
       "      <td>500</td>\n",
       "      <td>0.676000</td>\n",
       "    </tr>\n",
       "    <tr>\n",
       "      <td>1000</td>\n",
       "      <td>0.554200</td>\n",
       "    </tr>\n",
       "    <tr>\n",
       "      <td>1500</td>\n",
       "      <td>0.518700</td>\n",
       "    </tr>\n",
       "    <tr>\n",
       "      <td>2000</td>\n",
       "      <td>0.498600</td>\n",
       "    </tr>\n",
       "    <tr>\n",
       "      <td>2500</td>\n",
       "      <td>0.494300</td>\n",
       "    </tr>\n",
       "    <tr>\n",
       "      <td>3000</td>\n",
       "      <td>0.465800</td>\n",
       "    </tr>\n",
       "    <tr>\n",
       "      <td>3500</td>\n",
       "      <td>0.458900</td>\n",
       "    </tr>\n",
       "    <tr>\n",
       "      <td>4000</td>\n",
       "      <td>0.439400</td>\n",
       "    </tr>\n",
       "    <tr>\n",
       "      <td>4500</td>\n",
       "      <td>0.481400</td>\n",
       "    </tr>\n",
       "    <tr>\n",
       "      <td>5000</td>\n",
       "      <td>0.463800</td>\n",
       "    </tr>\n",
       "    <tr>\n",
       "      <td>5500</td>\n",
       "      <td>0.408600</td>\n",
       "    </tr>\n",
       "    <tr>\n",
       "      <td>6000</td>\n",
       "      <td>0.421600</td>\n",
       "    </tr>\n",
       "    <tr>\n",
       "      <td>6500</td>\n",
       "      <td>0.395000</td>\n",
       "    </tr>\n",
       "    <tr>\n",
       "      <td>7000</td>\n",
       "      <td>0.426700</td>\n",
       "    </tr>\n",
       "    <tr>\n",
       "      <td>7500</td>\n",
       "      <td>0.445500</td>\n",
       "    </tr>\n",
       "    <tr>\n",
       "      <td>8000</td>\n",
       "      <td>0.344900</td>\n",
       "    </tr>\n",
       "    <tr>\n",
       "      <td>8500</td>\n",
       "      <td>0.392000</td>\n",
       "    </tr>\n",
       "    <tr>\n",
       "      <td>9000</td>\n",
       "      <td>0.379000</td>\n",
       "    </tr>\n",
       "    <tr>\n",
       "      <td>9500</td>\n",
       "      <td>0.412000</td>\n",
       "    </tr>\n",
       "    <tr>\n",
       "      <td>10000</td>\n",
       "      <td>0.394900</td>\n",
       "    </tr>\n",
       "    <tr>\n",
       "      <td>10500</td>\n",
       "      <td>0.341800</td>\n",
       "    </tr>\n",
       "    <tr>\n",
       "      <td>11000</td>\n",
       "      <td>0.280900</td>\n",
       "    </tr>\n",
       "    <tr>\n",
       "      <td>11500</td>\n",
       "      <td>0.298400</td>\n",
       "    </tr>\n",
       "    <tr>\n",
       "      <td>12000</td>\n",
       "      <td>0.285800</td>\n",
       "    </tr>\n",
       "    <tr>\n",
       "      <td>12500</td>\n",
       "      <td>0.294500</td>\n",
       "    </tr>\n",
       "    <tr>\n",
       "      <td>13000</td>\n",
       "      <td>0.316200</td>\n",
       "    </tr>\n",
       "    <tr>\n",
       "      <td>13500</td>\n",
       "      <td>0.350000</td>\n",
       "    </tr>\n",
       "    <tr>\n",
       "      <td>14000</td>\n",
       "      <td>0.280800</td>\n",
       "    </tr>\n",
       "    <tr>\n",
       "      <td>14500</td>\n",
       "      <td>0.315500</td>\n",
       "    </tr>\n",
       "    <tr>\n",
       "      <td>15000</td>\n",
       "      <td>0.338600</td>\n",
       "    </tr>\n",
       "    <tr>\n",
       "      <td>15500</td>\n",
       "      <td>0.299900</td>\n",
       "    </tr>\n",
       "    <tr>\n",
       "      <td>16000</td>\n",
       "      <td>0.312200</td>\n",
       "    </tr>\n",
       "    <tr>\n",
       "      <td>16500</td>\n",
       "      <td>0.291900</td>\n",
       "    </tr>\n",
       "    <tr>\n",
       "      <td>17000</td>\n",
       "      <td>0.298900</td>\n",
       "    </tr>\n",
       "    <tr>\n",
       "      <td>17500</td>\n",
       "      <td>0.291200</td>\n",
       "    </tr>\n",
       "    <tr>\n",
       "      <td>18000</td>\n",
       "      <td>0.305500</td>\n",
       "    </tr>\n",
       "    <tr>\n",
       "      <td>18500</td>\n",
       "      <td>0.356700</td>\n",
       "    </tr>\n",
       "    <tr>\n",
       "      <td>19000</td>\n",
       "      <td>0.273000</td>\n",
       "    </tr>\n",
       "    <tr>\n",
       "      <td>19500</td>\n",
       "      <td>0.310500</td>\n",
       "    </tr>\n",
       "    <tr>\n",
       "      <td>20000</td>\n",
       "      <td>0.302900</td>\n",
       "    </tr>\n",
       "    <tr>\n",
       "      <td>20500</td>\n",
       "      <td>0.266300</td>\n",
       "    </tr>\n",
       "    <tr>\n",
       "      <td>21000</td>\n",
       "      <td>0.209000</td>\n",
       "    </tr>\n",
       "    <tr>\n",
       "      <td>21500</td>\n",
       "      <td>0.197600</td>\n",
       "    </tr>\n",
       "    <tr>\n",
       "      <td>22000</td>\n",
       "      <td>0.215800</td>\n",
       "    </tr>\n",
       "    <tr>\n",
       "      <td>22500</td>\n",
       "      <td>0.201800</td>\n",
       "    </tr>\n",
       "    <tr>\n",
       "      <td>23000</td>\n",
       "      <td>0.170200</td>\n",
       "    </tr>\n",
       "    <tr>\n",
       "      <td>23500</td>\n",
       "      <td>0.199000</td>\n",
       "    </tr>\n",
       "    <tr>\n",
       "      <td>24000</td>\n",
       "      <td>0.187900</td>\n",
       "    </tr>\n",
       "    <tr>\n",
       "      <td>24500</td>\n",
       "      <td>0.193700</td>\n",
       "    </tr>\n",
       "    <tr>\n",
       "      <td>25000</td>\n",
       "      <td>0.153300</td>\n",
       "    </tr>\n",
       "    <tr>\n",
       "      <td>25500</td>\n",
       "      <td>0.217800</td>\n",
       "    </tr>\n",
       "    <tr>\n",
       "      <td>26000</td>\n",
       "      <td>0.212700</td>\n",
       "    </tr>\n",
       "    <tr>\n",
       "      <td>26500</td>\n",
       "      <td>0.213900</td>\n",
       "    </tr>\n",
       "    <tr>\n",
       "      <td>27000</td>\n",
       "      <td>0.182300</td>\n",
       "    </tr>\n",
       "    <tr>\n",
       "      <td>27500</td>\n",
       "      <td>0.200700</td>\n",
       "    </tr>\n",
       "    <tr>\n",
       "      <td>28000</td>\n",
       "      <td>0.183300</td>\n",
       "    </tr>\n",
       "    <tr>\n",
       "      <td>28500</td>\n",
       "      <td>0.223000</td>\n",
       "    </tr>\n",
       "    <tr>\n",
       "      <td>29000</td>\n",
       "      <td>0.211600</td>\n",
       "    </tr>\n",
       "    <tr>\n",
       "      <td>29500</td>\n",
       "      <td>0.230300</td>\n",
       "    </tr>\n",
       "    <tr>\n",
       "      <td>30000</td>\n",
       "      <td>0.218500</td>\n",
       "    </tr>\n",
       "    <tr>\n",
       "      <td>30500</td>\n",
       "      <td>0.220200</td>\n",
       "    </tr>\n",
       "    <tr>\n",
       "      <td>31000</td>\n",
       "      <td>0.105700</td>\n",
       "    </tr>\n",
       "    <tr>\n",
       "      <td>31500</td>\n",
       "      <td>0.125800</td>\n",
       "    </tr>\n",
       "    <tr>\n",
       "      <td>32000</td>\n",
       "      <td>0.113000</td>\n",
       "    </tr>\n",
       "    <tr>\n",
       "      <td>32500</td>\n",
       "      <td>0.129600</td>\n",
       "    </tr>\n",
       "    <tr>\n",
       "      <td>33000</td>\n",
       "      <td>0.094500</td>\n",
       "    </tr>\n",
       "    <tr>\n",
       "      <td>33500</td>\n",
       "      <td>0.106900</td>\n",
       "    </tr>\n",
       "    <tr>\n",
       "      <td>34000</td>\n",
       "      <td>0.159900</td>\n",
       "    </tr>\n",
       "    <tr>\n",
       "      <td>34500</td>\n",
       "      <td>0.139500</td>\n",
       "    </tr>\n",
       "    <tr>\n",
       "      <td>35000</td>\n",
       "      <td>0.123000</td>\n",
       "    </tr>\n",
       "    <tr>\n",
       "      <td>35500</td>\n",
       "      <td>0.102300</td>\n",
       "    </tr>\n",
       "    <tr>\n",
       "      <td>36000</td>\n",
       "      <td>0.122400</td>\n",
       "    </tr>\n",
       "    <tr>\n",
       "      <td>36500</td>\n",
       "      <td>0.135900</td>\n",
       "    </tr>\n",
       "    <tr>\n",
       "      <td>37000</td>\n",
       "      <td>0.119300</td>\n",
       "    </tr>\n",
       "    <tr>\n",
       "      <td>37500</td>\n",
       "      <td>0.131900</td>\n",
       "    </tr>\n",
       "    <tr>\n",
       "      <td>38000</td>\n",
       "      <td>0.133300</td>\n",
       "    </tr>\n",
       "    <tr>\n",
       "      <td>38500</td>\n",
       "      <td>0.114600</td>\n",
       "    </tr>\n",
       "    <tr>\n",
       "      <td>39000</td>\n",
       "      <td>0.122500</td>\n",
       "    </tr>\n",
       "    <tr>\n",
       "      <td>39500</td>\n",
       "      <td>0.139500</td>\n",
       "    </tr>\n",
       "    <tr>\n",
       "      <td>40000</td>\n",
       "      <td>0.139500</td>\n",
       "    </tr>\n",
       "    <tr>\n",
       "      <td>40500</td>\n",
       "      <td>0.128200</td>\n",
       "    </tr>\n",
       "  </tbody>\n",
       "</table><p>"
      ],
      "text/plain": [
       "<IPython.core.display.HTML object>"
      ]
     },
     "metadata": {},
     "output_type": "display_data"
    }
   ],
   "source": [
    "trainer = WeightedTrainer(\n",
    "    class_weights=class_weights,\n",
    "    model=model,\n",
    "    args=params,\n",
    "    train_dataset=train_dataset,\n",
    "    eval_dataset=test_dataset,\n",
    "    tokenizer=tokenizer,\n",
    "    data_collator=data_collator)\n",
    "\n",
    "trainer.train()\n",
    "\n",
    "os.makedirs(PATH, exist_ok=True)\n",
    "trainer.save_model(PATH)"
   ]
  },
  {
   "cell_type": "markdown",
   "metadata": {},
   "source": [
    "Получаем предсказания и смотрим основные метрики."
   ]
  },
  {
   "cell_type": "code",
   "execution_count": 20,
   "metadata": {
    "execution": {
     "iopub.execute_input": "2025-10-16T10:24:21.973756Z",
     "iopub.status.busy": "2025-10-16T10:24:21.973551Z",
     "iopub.status.idle": "2025-10-16T10:28:13.173336Z",
     "shell.execute_reply": "2025-10-16T10:28:13.172758Z",
     "shell.execute_reply.started": "2025-10-16T10:24:21.973740Z"
    }
   },
   "outputs": [
    {
     "data": {
      "text/html": [],
      "text/plain": [
       "<IPython.core.display.HTML object>"
      ]
     },
     "metadata": {},
     "output_type": "display_data"
    },
    {
     "name": "stdout",
     "output_type": "stream",
     "text": [
      "Weighted F1 on test: 0.9636\n",
      "Accuracy on test: 0.9636\n"
     ]
    }
   ],
   "source": [
    "pred = trainer.predict(test_dataset)\n",
    "probs = torch.softmax(torch.tensor(pred.predictions), dim=-1).cpu().numpy()\n",
    "pred_labels = probs.argmax(axis=1)\n",
    "\n",
    "w_f1 = metrics.f1_score(test_df['labels'], pred_labels, average='weighted')\n",
    "acc = metrics.accuracy_score(test_df['labels'], pred_labels)\n",
    "print(f'Weighted F1 on test: {w_f1:.4f}')\n",
    "print(f'Accuracy on test: {acc:.4f}')"
   ]
  },
  {
   "cell_type": "markdown",
   "metadata": {},
   "source": [
    "Сохраняем предсказания на случай, если захотим их проанализировать отдельно."
   ]
  },
  {
   "cell_type": "code",
   "execution_count": 21,
   "metadata": {
    "execution": {
     "iopub.execute_input": "2025-10-16T10:28:13.174201Z",
     "iopub.status.busy": "2025-10-16T10:28:13.173982Z",
     "iopub.status.idle": "2025-10-16T10:28:13.335007Z",
     "shell.execute_reply": "2025-10-16T10:28:13.334445Z",
     "shell.execute_reply.started": "2025-10-16T10:28:13.174177Z"
    }
   },
   "outputs": [],
   "source": [
    "pd.DataFrame(\n",
    "    probs, index=test_df.index, columns=[id2label[i] for i in range(n_classes)]\n",
    ").to_csv(f'{PATH}/predict.csv', index=False)\n",
    "pd.Series(pred_labels, index=test_df.index, name='predict').to_csv(f'{PATH}/predict_labels.csv')"
   ]
  },
  {
   "cell_type": "markdown",
   "metadata": {},
   "source": [
    "Строим матрицу ошибок, чтобы посмотреть, на чем модель ошибается и как сильно."
   ]
  },
  {
   "cell_type": "code",
   "execution_count": 22,
   "metadata": {
    "execution": {
     "iopub.execute_input": "2025-10-16T10:28:13.337595Z",
     "iopub.status.busy": "2025-10-16T10:28:13.337411Z",
     "iopub.status.idle": "2025-10-16T10:28:13.704888Z",
     "shell.execute_reply": "2025-10-16T10:28:13.704163Z",
     "shell.execute_reply.started": "2025-10-16T10:28:13.337580Z"
    }
   },
   "outputs": [
    {
     "data": {
      "image/png": "[encoded data removed]",
      "text/plain": [
       "<Figure size 2400x1400 with 2 Axes>"
      ]
     },
     "metadata": {},
     "output_type": "display_data"
    }
   ],
   "source": [
    "def plot_confusion_matrix(y_true, y_pred, id2label, title='Confusion Matrix', line=False, font_size=11):\n",
    "    y_true = np.asarray(y_true)\n",
    "    y_pred = np.asarray(y_pred)\n",
    "    numeric_labels = sorted(np.unique(y_true))\n",
    "    category_names = [id2label[i] for i in numeric_labels]\n",
    "\n",
    "    cfm = confusion_matrix(y_true, y_pred, labels=numeric_labels).astype(float)\n",
    "    cfm = cfm / cfm.sum(axis=1, keepdims=True)\n",
    "\n",
    "    plt.figure(figsize=(24, 4) if line is not False else (24, 14))\n",
    "    if line is not False:\n",
    "        acc = np.diag(cfm).reshape(1, -1)\n",
    "        g = sns.heatmap(\n",
    "            acc, annot=True, fmt='.2f', linewidths=.5, cmap='Blues', linecolor='grey',\n",
    "            annot_kws={'size': font_size}, vmin=line, vmax=1.0,\n",
    "            xticklabels=category_names, yticklabels=['Accuracy'])\n",
    "        plt.xlabel('Category', size=font_size+4)\n",
    "        plt.ylabel('', size=font_size+4)\n",
    "    else:\n",
    "        g = sns.heatmap(\n",
    "            cfm, annot=True, fmt='.2f', linewidths=.5, square=True, cmap='Blues', linecolor='grey',\n",
    "            annot_kws={'size': font_size}, xticklabels=category_names, yticklabels=category_names)\n",
    "        plt.xlabel('Predicted', size=font_size+4)\n",
    "        plt.ylabel('True', size=font_size+4)\n",
    "\n",
    "    g.set_xticklabels(g.get_xmajorticklabels(), fontsize=font_size, rotation=45, ha='right')\n",
    "    g.set_yticklabels(g.get_ymajorticklabels(), fontsize=font_size, rotation=0)\n",
    "    plt.title(title, size=font_size+9)\n",
    "    plt.tight_layout()\n",
    "    plt.show()\n",
    "\n",
    "plot_confusion_matrix(test_df['labels'], pred_labels, id2label, title='Confusion Matrix')"
   ]
  },
  {
   "cell_type": "markdown",
   "metadata": {},
   "source": [
    "##### neutral = 0, toxic_threat = 1, toxic_not_threat = 2\n",
    "Видим, что лучше всего модель предсказывает нейтральные комментарии, что логично, ведь комментариев такого типа в датасете больше всего. Комментариев типа toxic_threat и toxic_not_threat гораздо меньше, и их модель предсказывает хуже (иногда путает toxic_threat и toxic_not_threat, а также toxic_not_threat и neutral), однако метрика точности по-прежнему довольно высокая."
   ]
  },
  {
   "cell_type": "code",
   "execution_count": 23,
   "metadata": {
    "execution": {
     "iopub.execute_input": "2025-10-16T10:28:13.705947Z",
     "iopub.status.busy": "2025-10-16T10:28:13.705689Z",
     "iopub.status.idle": "2025-10-16T10:28:13.709232Z",
     "shell.execute_reply": "2025-10-16T10:28:13.708596Z",
     "shell.execute_reply.started": "2025-10-16T10:28:13.705924Z"
    }
   },
   "outputs": [],
   "source": []
  },
  {
   "cell_type": "code",
   "execution_count": null,
   "metadata": {},
   "outputs": [],
   "source": []
  }
 ],
 "metadata": {
  "kaggle": {
   "accelerator": "nvidiaTeslaT4",
   "dataSources": [
    {
     "datasetId": 8497699,
     "sourceId": 13391781,
     "sourceType": "datasetVersion"
    }
   ],
   "dockerImageVersionId": 31090,
   "isGpuEnabled": true,
   "isInternetEnabled": true,
   "language": "python",
   "sourceType": "notebook"
  },
  "kernelspec": {
   "display_name": "Python 3 (ipykernel)",
   "language": "python",
   "name": "python3"
  },
  "language_info": {
   "codemirror_mode": {
    "name": "ipython",
    "version": 3
   },
   "file_extension": ".py",
   "mimetype": "text/x-python",
   "name": "python",
   "nbconvert_exporter": "python",
   "pygments_lexer": "ipython3",
   "version": "3.12.7"
  }
 },
 "nbformat": 4,
 "nbformat_minor": 4
}
